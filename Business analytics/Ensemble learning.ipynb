{
 "cells": [
  {
   "cell_type": "markdown",
   "metadata": {},
   "source": [
    "## ※ Business analytics tutorial- Ensemble learning\n",
    "---\n",
    "본 튜토리얼은 고려대학교 강필성 교수님의 Business analytics 수업의 내용을 정리한 튜토리얼 코드 입니다.  \n",
    "튜토리얼에서는 Ensemble learning의 대표적인 방법론인 **XGBoost** 에 대한 코드와 간단한 설명을 다룹니다.  \n",
    "\n",
    "출처1: https://www.kaggle.com/code/lifesailor/xgboost"
   ]
  },
  {
   "cell_type": "code",
   "execution_count": 1,
   "metadata": {},
   "outputs": [
    {
     "name": "stdout",
     "output_type": "stream",
     "text": [
      "Requirement already satisfied: xgboost in /home/seonggye/anaconda3/lib/python3.7/site-packages (1.6.2)\n",
      "Requirement already satisfied: scipy in /home/seonggye/anaconda3/lib/python3.7/site-packages (from xgboost) (1.7.3)\n",
      "Requirement already satisfied: numpy in /home/seonggye/anaconda3/lib/python3.7/site-packages (from xgboost) (1.21.6)\n",
      "\n",
      "\u001b[1m[\u001b[0m\u001b[34;49mnotice\u001b[0m\u001b[1;39;49m]\u001b[0m\u001b[39;49m A new release of pip available: \u001b[0m\u001b[31;49m22.2.2\u001b[0m\u001b[39;49m -> \u001b[0m\u001b[32;49m22.3.1\u001b[0m\n",
      "\u001b[1m[\u001b[0m\u001b[34;49mnotice\u001b[0m\u001b[1;39;49m]\u001b[0m\u001b[39;49m To update, run: \u001b[0m\u001b[32;49mpip install --upgrade pip\u001b[0m\n"
     ]
    }
   ],
   "source": [
    "!pip install xgboost"
   ]
  },
  {
   "cell_type": "code",
   "execution_count": 62,
   "metadata": {},
   "outputs": [],
   "source": [
    "# library 호출\n",
    "import pandas as pd\n",
    "import numpy as np\n",
    "from xgboost import XGBClassifier\n",
    "import matplotlib.pyplot as plt\n",
    "%matplotlib inline"
   ]
  },
  {
   "cell_type": "markdown",
   "metadata": {},
   "source": [
    "### loan_data를 활용한 실습 XGBoost 실습\n",
    "본 실험에서는 대출 연체 여부를 예측하기 위해 구성된 데이터셋인 loan_data를 활용하여 실습을 진행합니다.  \n",
    "각 변수에 대한 설명은 다음과 같습니다.  \n",
    "  \n",
    "<img src=\"images/loan_data_description.png\" width=\"750px\" height=\"777px\" title=\"loan_data\"/>  \n",
    "\n",
    "본 데이터셋을 활용하여 XGBoost를 통해 성능을 평가하도록 하겠습니다."
   ]
  },
  {
   "cell_type": "code",
   "execution_count": 63,
   "metadata": {},
   "outputs": [],
   "source": [
    "# load loan data\n",
    "loan_data = pd.read_csv('dataset/loan_data.csv')"
   ]
  },
  {
   "cell_type": "code",
   "execution_count": 64,
   "metadata": {},
   "outputs": [
    {
     "data": {
      "text/html": [
       "<div>\n",
       "<style scoped>\n",
       "    .dataframe tbody tr th:only-of-type {\n",
       "        vertical-align: middle;\n",
       "    }\n",
       "\n",
       "    .dataframe tbody tr th {\n",
       "        vertical-align: top;\n",
       "    }\n",
       "\n",
       "    .dataframe thead th {\n",
       "        text-align: right;\n",
       "    }\n",
       "</style>\n",
       "<table border=\"1\" class=\"dataframe\">\n",
       "  <thead>\n",
       "    <tr style=\"text-align: right;\">\n",
       "      <th></th>\n",
       "      <th>AGE</th>\n",
       "      <th>TOT_LOAN</th>\n",
       "      <th>TOT_LOAN_CRD</th>\n",
       "      <th>LOAN_BNK</th>\n",
       "      <th>LOAN_CPT</th>\n",
       "      <th>CRDT_CNT</th>\n",
       "      <th>GUARN_CNT</th>\n",
       "      <th>INCOME</th>\n",
       "      <th>LOAN_CRD_CNT</th>\n",
       "      <th>LATE_RATE</th>\n",
       "      <th>...</th>\n",
       "      <th>CALL_TIME</th>\n",
       "      <th>TEL_COST_MON</th>\n",
       "      <th>MOBILE_PRICE</th>\n",
       "      <th>SUSP_DAY</th>\n",
       "      <th>LATE_TEL</th>\n",
       "      <th>COMB_COMM</th>\n",
       "      <th>SEX</th>\n",
       "      <th>PAY_METHOD</th>\n",
       "      <th>JOB</th>\n",
       "      <th>TARGET</th>\n",
       "    </tr>\n",
       "  </thead>\n",
       "  <tbody>\n",
       "    <tr>\n",
       "      <th>0</th>\n",
       "      <td>40</td>\n",
       "      <td>6</td>\n",
       "      <td>6</td>\n",
       "      <td>6</td>\n",
       "      <td>0</td>\n",
       "      <td>0</td>\n",
       "      <td>0</td>\n",
       "      <td>4500</td>\n",
       "      <td>0</td>\n",
       "      <td>16</td>\n",
       "      <td>...</td>\n",
       "      <td>1.52</td>\n",
       "      <td>120</td>\n",
       "      <td>500</td>\n",
       "      <td>0</td>\n",
       "      <td>120</td>\n",
       "      <td>0</td>\n",
       "      <td>M</td>\n",
       "      <td>A</td>\n",
       "      <td>A</td>\n",
       "      <td>0</td>\n",
       "    </tr>\n",
       "    <tr>\n",
       "      <th>1</th>\n",
       "      <td>35</td>\n",
       "      <td>9</td>\n",
       "      <td>9</td>\n",
       "      <td>0</td>\n",
       "      <td>0</td>\n",
       "      <td>1</td>\n",
       "      <td>0</td>\n",
       "      <td>3700</td>\n",
       "      <td>0</td>\n",
       "      <td>9</td>\n",
       "      <td>...</td>\n",
       "      <td>2.14</td>\n",
       "      <td>100</td>\n",
       "      <td>800</td>\n",
       "      <td>0</td>\n",
       "      <td>0</td>\n",
       "      <td>0</td>\n",
       "      <td>M</td>\n",
       "      <td>C</td>\n",
       "      <td>B</td>\n",
       "      <td>0</td>\n",
       "    </tr>\n",
       "    <tr>\n",
       "      <th>2</th>\n",
       "      <td>55</td>\n",
       "      <td>9</td>\n",
       "      <td>9</td>\n",
       "      <td>0</td>\n",
       "      <td>0</td>\n",
       "      <td>0</td>\n",
       "      <td>0</td>\n",
       "      <td>6400</td>\n",
       "      <td>0</td>\n",
       "      <td>1</td>\n",
       "      <td>...</td>\n",
       "      <td>0.50</td>\n",
       "      <td>50</td>\n",
       "      <td>700</td>\n",
       "      <td>0</td>\n",
       "      <td>0</td>\n",
       "      <td>0</td>\n",
       "      <td>M</td>\n",
       "      <td>C</td>\n",
       "      <td>B</td>\n",
       "      <td>0</td>\n",
       "    </tr>\n",
       "    <tr>\n",
       "      <th>3</th>\n",
       "      <td>55</td>\n",
       "      <td>42</td>\n",
       "      <td>0</td>\n",
       "      <td>42</td>\n",
       "      <td>0</td>\n",
       "      <td>5</td>\n",
       "      <td>0</td>\n",
       "      <td>8900</td>\n",
       "      <td>0</td>\n",
       "      <td>13</td>\n",
       "      <td>...</td>\n",
       "      <td>2.61</td>\n",
       "      <td>80</td>\n",
       "      <td>900</td>\n",
       "      <td>0</td>\n",
       "      <td>0</td>\n",
       "      <td>0</td>\n",
       "      <td>M</td>\n",
       "      <td>B</td>\n",
       "      <td>C</td>\n",
       "      <td>0</td>\n",
       "    </tr>\n",
       "    <tr>\n",
       "      <th>4</th>\n",
       "      <td>40</td>\n",
       "      <td>36</td>\n",
       "      <td>36</td>\n",
       "      <td>36</td>\n",
       "      <td>0</td>\n",
       "      <td>3</td>\n",
       "      <td>1</td>\n",
       "      <td>0</td>\n",
       "      <td>0</td>\n",
       "      <td>2</td>\n",
       "      <td>...</td>\n",
       "      <td>2.11</td>\n",
       "      <td>10</td>\n",
       "      <td>900</td>\n",
       "      <td>0</td>\n",
       "      <td>0</td>\n",
       "      <td>1</td>\n",
       "      <td>F</td>\n",
       "      <td>B</td>\n",
       "      <td>B</td>\n",
       "      <td>0</td>\n",
       "    </tr>\n",
       "  </tbody>\n",
       "</table>\n",
       "<p>5 rows × 23 columns</p>\n",
       "</div>"
      ],
      "text/plain": [
       "   AGE  TOT_LOAN  TOT_LOAN_CRD  LOAN_BNK  LOAN_CPT  CRDT_CNT  GUARN_CNT  \\\n",
       "0   40         6             6         6         0         0          0   \n",
       "1   35         9             9         0         0         1          0   \n",
       "2   55         9             9         0         0         0          0   \n",
       "3   55        42             0        42         0         5          0   \n",
       "4   40        36            36        36         0         3          1   \n",
       "\n",
       "   INCOME  LOAN_CRD_CNT  LATE_RATE  ...    CALL_TIME  TEL_COST_MON  \\\n",
       "0    4500             0         16  ...         1.52           120   \n",
       "1    3700             0          9  ...         2.14           100   \n",
       "2    6400             0          1  ...         0.50            50   \n",
       "3    8900             0         13  ...         2.61            80   \n",
       "4       0             0          2  ...         2.11            10   \n",
       "\n",
       "   MOBILE_PRICE  SUSP_DAY  LATE_TEL  COMB_COMM  SEX  PAY_METHOD  JOB TARGET  \n",
       "0           500         0       120          0    M           A    A      0  \n",
       "1           800         0         0          0    M           C    B      0  \n",
       "2           700         0         0          0    M           C    B      0  \n",
       "3           900         0         0          0    M           B    C      0  \n",
       "4           900         0         0          1    F           B    B      0  \n",
       "\n",
       "[5 rows x 23 columns]"
      ]
     },
     "execution_count": 64,
     "metadata": {},
     "output_type": "execute_result"
    }
   ],
   "source": [
    "loan_data.head()"
   ]
  },
  {
   "cell_type": "code",
   "execution_count": 65,
   "metadata": {},
   "outputs": [
    {
     "name": "stdout",
     "output_type": "stream",
     "text": [
      "AGE              0\n",
      "TOT_LOAN         0\n",
      "TOT_LOAN_CRD     0\n",
      "LOAN_BNK         0\n",
      "LOAN_CPT         0\n",
      "CRDT_CNT         0\n",
      "GUARN_CNT        0\n",
      "INCOME           0\n",
      "LOAN_CRD_CNT     0\n",
      "LATE_RATE        0\n",
      "LATE_RATE_1Y     0\n",
      "INS_MON_MAX      0\n",
      "CANCEL_CNT_1Y    0\n",
      "CALL_TIME        0\n",
      "TEL_COST_MON     0\n",
      "MOBILE_PRICE     0\n",
      "SUSP_DAY         0\n",
      "LATE_TEL         0\n",
      "COMB_COMM        0\n",
      "SEX              0\n",
      "PAY_METHOD       0\n",
      "JOB              0\n",
      "TARGET           0\n",
      "dtype: int64\n"
     ]
    }
   ],
   "source": [
    "# 결측치 확인 -> 결측치가 없으므로 바로 사용\n",
    "\n",
    "print(loan_data.isnull().sum())"
   ]
  },
  {
   "cell_type": "code",
   "execution_count": 66,
   "metadata": {},
   "outputs": [],
   "source": [
    "# 명목형 변수 one-hot encoding\n",
    "loan_data_one_hot = pd.get_dummies(loan_data, columns=['SEX', 'PAY_METHOD', 'JOB'])"
   ]
  },
  {
   "cell_type": "code",
   "execution_count": 67,
   "metadata": {},
   "outputs": [
    {
     "data": {
      "text/html": [
       "<div>\n",
       "<style scoped>\n",
       "    .dataframe tbody tr th:only-of-type {\n",
       "        vertical-align: middle;\n",
       "    }\n",
       "\n",
       "    .dataframe tbody tr th {\n",
       "        vertical-align: top;\n",
       "    }\n",
       "\n",
       "    .dataframe thead th {\n",
       "        text-align: right;\n",
       "    }\n",
       "</style>\n",
       "<table border=\"1\" class=\"dataframe\">\n",
       "  <thead>\n",
       "    <tr style=\"text-align: right;\">\n",
       "      <th></th>\n",
       "      <th>AGE</th>\n",
       "      <th>TOT_LOAN</th>\n",
       "      <th>TOT_LOAN_CRD</th>\n",
       "      <th>LOAN_BNK</th>\n",
       "      <th>LOAN_CPT</th>\n",
       "      <th>CRDT_CNT</th>\n",
       "      <th>GUARN_CNT</th>\n",
       "      <th>INCOME</th>\n",
       "      <th>LOAN_CRD_CNT</th>\n",
       "      <th>LATE_RATE</th>\n",
       "      <th>...</th>\n",
       "      <th>SEX_F</th>\n",
       "      <th>SEX_M</th>\n",
       "      <th>PAY_METHOD_A</th>\n",
       "      <th>PAY_METHOD_B</th>\n",
       "      <th>PAY_METHOD_C</th>\n",
       "      <th>PAY_METHOD_D</th>\n",
       "      <th>JOB_A</th>\n",
       "      <th>JOB_B</th>\n",
       "      <th>JOB_C</th>\n",
       "      <th>JOB_D</th>\n",
       "    </tr>\n",
       "  </thead>\n",
       "  <tbody>\n",
       "    <tr>\n",
       "      <th>0</th>\n",
       "      <td>40</td>\n",
       "      <td>6</td>\n",
       "      <td>6</td>\n",
       "      <td>6</td>\n",
       "      <td>0</td>\n",
       "      <td>0</td>\n",
       "      <td>0</td>\n",
       "      <td>4500</td>\n",
       "      <td>0</td>\n",
       "      <td>16</td>\n",
       "      <td>...</td>\n",
       "      <td>0</td>\n",
       "      <td>1</td>\n",
       "      <td>1</td>\n",
       "      <td>0</td>\n",
       "      <td>0</td>\n",
       "      <td>0</td>\n",
       "      <td>1</td>\n",
       "      <td>0</td>\n",
       "      <td>0</td>\n",
       "      <td>0</td>\n",
       "    </tr>\n",
       "    <tr>\n",
       "      <th>1</th>\n",
       "      <td>35</td>\n",
       "      <td>9</td>\n",
       "      <td>9</td>\n",
       "      <td>0</td>\n",
       "      <td>0</td>\n",
       "      <td>1</td>\n",
       "      <td>0</td>\n",
       "      <td>3700</td>\n",
       "      <td>0</td>\n",
       "      <td>9</td>\n",
       "      <td>...</td>\n",
       "      <td>0</td>\n",
       "      <td>1</td>\n",
       "      <td>0</td>\n",
       "      <td>0</td>\n",
       "      <td>1</td>\n",
       "      <td>0</td>\n",
       "      <td>0</td>\n",
       "      <td>1</td>\n",
       "      <td>0</td>\n",
       "      <td>0</td>\n",
       "    </tr>\n",
       "    <tr>\n",
       "      <th>2</th>\n",
       "      <td>55</td>\n",
       "      <td>9</td>\n",
       "      <td>9</td>\n",
       "      <td>0</td>\n",
       "      <td>0</td>\n",
       "      <td>0</td>\n",
       "      <td>0</td>\n",
       "      <td>6400</td>\n",
       "      <td>0</td>\n",
       "      <td>1</td>\n",
       "      <td>...</td>\n",
       "      <td>0</td>\n",
       "      <td>1</td>\n",
       "      <td>0</td>\n",
       "      <td>0</td>\n",
       "      <td>1</td>\n",
       "      <td>0</td>\n",
       "      <td>0</td>\n",
       "      <td>1</td>\n",
       "      <td>0</td>\n",
       "      <td>0</td>\n",
       "    </tr>\n",
       "    <tr>\n",
       "      <th>3</th>\n",
       "      <td>55</td>\n",
       "      <td>42</td>\n",
       "      <td>0</td>\n",
       "      <td>42</td>\n",
       "      <td>0</td>\n",
       "      <td>5</td>\n",
       "      <td>0</td>\n",
       "      <td>8900</td>\n",
       "      <td>0</td>\n",
       "      <td>13</td>\n",
       "      <td>...</td>\n",
       "      <td>0</td>\n",
       "      <td>1</td>\n",
       "      <td>0</td>\n",
       "      <td>1</td>\n",
       "      <td>0</td>\n",
       "      <td>0</td>\n",
       "      <td>0</td>\n",
       "      <td>0</td>\n",
       "      <td>1</td>\n",
       "      <td>0</td>\n",
       "    </tr>\n",
       "    <tr>\n",
       "      <th>4</th>\n",
       "      <td>40</td>\n",
       "      <td>36</td>\n",
       "      <td>36</td>\n",
       "      <td>36</td>\n",
       "      <td>0</td>\n",
       "      <td>3</td>\n",
       "      <td>1</td>\n",
       "      <td>0</td>\n",
       "      <td>0</td>\n",
       "      <td>2</td>\n",
       "      <td>...</td>\n",
       "      <td>1</td>\n",
       "      <td>0</td>\n",
       "      <td>0</td>\n",
       "      <td>1</td>\n",
       "      <td>0</td>\n",
       "      <td>0</td>\n",
       "      <td>0</td>\n",
       "      <td>1</td>\n",
       "      <td>0</td>\n",
       "      <td>0</td>\n",
       "    </tr>\n",
       "  </tbody>\n",
       "</table>\n",
       "<p>5 rows × 30 columns</p>\n",
       "</div>"
      ],
      "text/plain": [
       "   AGE  TOT_LOAN  TOT_LOAN_CRD  LOAN_BNK  LOAN_CPT  CRDT_CNT  GUARN_CNT  \\\n",
       "0   40         6             6         6         0         0          0   \n",
       "1   35         9             9         0         0         1          0   \n",
       "2   55         9             9         0         0         0          0   \n",
       "3   55        42             0        42         0         5          0   \n",
       "4   40        36            36        36         0         3          1   \n",
       "\n",
       "   INCOME  LOAN_CRD_CNT  LATE_RATE  ...    SEX_F  SEX_M  PAY_METHOD_A  \\\n",
       "0    4500             0         16  ...        0      1             1   \n",
       "1    3700             0          9  ...        0      1             0   \n",
       "2    6400             0          1  ...        0      1             0   \n",
       "3    8900             0         13  ...        0      1             0   \n",
       "4       0             0          2  ...        1      0             0   \n",
       "\n",
       "   PAY_METHOD_B  PAY_METHOD_C  PAY_METHOD_D  JOB_A  JOB_B  JOB_C  JOB_D  \n",
       "0             0             0             0      1      0      0      0  \n",
       "1             0             1             0      0      1      0      0  \n",
       "2             0             1             0      0      1      0      0  \n",
       "3             1             0             0      0      0      1      0  \n",
       "4             1             0             0      0      1      0      0  \n",
       "\n",
       "[5 rows x 30 columns]"
      ]
     },
     "execution_count": 67,
     "metadata": {},
     "output_type": "execute_result"
    }
   ],
   "source": [
    "loan_data_one_hot.head()"
   ]
  },
  {
   "cell_type": "code",
   "execution_count": 68,
   "metadata": {},
   "outputs": [],
   "source": [
    "# 연속형 변수 normalization -> Standard scaler를 활용하여 normalization 진행\n",
    "\n",
    "continuous_variable = ['AGE', 'TOT_LOAN', 'TOT_LOAN_CRD', 'LOAN_BNK', 'LOAN_CPT', \n",
    "'CRDT_CNT','GUARN_CNT', 'INCOME', 'LOAN_CRD_CNT', 'LATE_RATE', 'LATE_RATE_1Y',\n",
    "'INS_MON_MAX', 'CANCEL_CNT_1Y', 'CALL_TIME', 'TEL_COST_MON','MOBILE_PRICE', \n",
    "'SUSP_DAY', 'LATE_TEL']\n",
    "\n",
    "loan_data_continuos = loan_data_one_hot[continuous_variable]\n",
    "\n",
    "from sklearn.preprocessing import StandardScaler\n",
    "scaler = StandardScaler()\n",
    "scaler = scaler.fit(loan_data_continuos)\n",
    "loan_data_continuos_scaled = scaler.transform(loan_data_continuos)\n",
    "\n",
    "#scale 연속형 변수 dataframe화\n",
    "dataframe_continuous = pd.DataFrame(loan_data_continuos_scaled,\n",
    " columns= continuous_variable)\n",
    "\n",
    "# scale 연속형 변수와 명목형 변수 합치기\n",
    "dataframe_scaled = pd.concat([dataframe_continuous, loan_data_one_hot.drop(columns=continuous_variable)], axis =1)"
   ]
  },
  {
   "cell_type": "markdown",
   "metadata": {},
   "source": [
    "### XGBoost hyperparameter 탐색  \n",
    "**XGBoost**는 매우 다양한 종류의 hyperparameter를 갖고 있습니다. 크게 **General parmeter, Boost Parameter, Learning Task Parameter** 3가지로 XGBoost의 하이퍼파라미터를 분류할 수 있습니다. 각각에 대한 설명과 각 하이퍼파라미터 군집에 구체적으로 어떠한 하이퍼파라미터가 있는지에 대한 설명은 아래와 같습니다.\n",
    "\n",
    "- **General parmeter**: 전체적인 기능에 대한 가이드를 주는 하이퍼파라미터\n",
    "\n",
    "    <img src=\"images/general_para.png\" width=\"765px\" height=\"169px\" title=\"general_para\">  \n",
    "      \n",
    "\n",
    "- **Boost Parameter**: 모델 성능에 가장 큰 영향을 주는 하이퍼파라미터로 모델의 과적합 등의 이슈 발생시 조절하는 하이퍼파라미터\n",
    "  \n",
    "    <img src=\"images/boost_para.png\" width=\"765px\" height=\"576px\" title=\"boost_para\">  \n",
    "      \n",
    "  \n",
    "- **train Parameter**: 학습에 활용되는 objective function, eval metric등을 포함하는 하이퍼파라미터  \n",
    "  \n",
    "    <img src=\"images/train_para.png\" width=\"765px\" height=\"125px\" title=\"train_para\">  \n",
    "\n",
    "\n",
    "위에서 설명한 hyperparameter들에 대하여 kfold validation을 통해 최적의 hyperparameter 조합을 찾고 성능을 산출합니다.\n"
   ]
  },
  {
   "cell_type": "markdown",
   "metadata": {},
   "source": [
    "### Optuna를 활용한 XGBoost hyperparameter 탐색  \n",
    "**XGBoost**는 위에서 언급한 것과 같이 매우 다양한 종류의 하이퍼파라미터를 갖습니다. 따라서 모든 하이퍼파라미터에 대해 최적화를 진행하는 것은 굉장히 많은 시간과 노력이 필요하면 이는 비효율적입니다. 본 튜토리얼에서는 **optuna** 라는 라이브러리를 활용하여 효율적인 하이퍼파라미터 탐색을 진행하고자 합니다. optuna는 하이퍼파라미터 탐색에 가장 많이 사용되는 라이브러리 중 하나로 지정한 범위 내의 하이퍼파라미터를 바탕으로 효율적인 탐색을 가능하도록 구현되어 있습니다. 또한 다양한 시각화 기능이 있는점도 매우 유용합니다. 본 튜토리얼에서는 optuna를 활용하여 하이퍼파라미터 탐색을 진행하겠습니다."
   ]
  },
  {
   "cell_type": "code",
   "execution_count": 69,
   "metadata": {},
   "outputs": [],
   "source": [
    "# train dataset, test dataset 분리\n",
    "from sklearn.model_selection import train_test_split\n",
    "test_size = 0.2\n",
    "test_num = int(dataframe_scaled.shape[0] * test_size)\n",
    "train_num = dataframe_scaled.shape[0] - test_num\n",
    "train_idx = np.random.choice(dataframe_scaled.shape[0], train_num, replace=False)\n",
    "test_idx = np.setdiff1d(range(dataframe_scaled.shape[0]), train_idx)\n",
    "\n",
    "train_dataset = dataframe_scaled.iloc[train_idx]\n",
    "test_dataset = dataframe_scaled.iloc[test_idx]"
   ]
  },
  {
   "cell_type": "code",
   "execution_count": 70,
   "metadata": {},
   "outputs": [
    {
     "data": {
      "text/plain": [
       "(34709, 8677)"
      ]
     },
     "execution_count": 70,
     "metadata": {},
     "output_type": "execute_result"
    }
   ],
   "source": [
    "len(train_dataset) , len(test_dataset)"
   ]
  },
  {
   "cell_type": "code",
   "execution_count": 71,
   "metadata": {},
   "outputs": [],
   "source": [
    "# target 설정\n",
    "X=train_dataset.drop('TARGET',axis=1)\n",
    "y=train_dataset['TARGET']"
   ]
  },
  {
   "cell_type": "code",
   "execution_count": 72,
   "metadata": {},
   "outputs": [],
   "source": [
    "import warnings\n",
    "warnings.filterwarnings(action='ignore') "
   ]
  },
  {
   "cell_type": "code",
   "execution_count": 73,
   "metadata": {},
   "outputs": [],
   "source": [
    "# optuna 설정\n",
    "from sklearn.metrics import log_loss\n",
    "\n",
    "def objective(trial,train=train_dataset,target=y):\n",
    "\n",
    "  X_train,X_test,y_train,y_test=train_test_split(X,y,test_size=0.2,random_state=2)\n",
    "\n",
    "  param={\n",
    "      'max_depth':trial.suggest_int('max_depth',5,20),\n",
    "      'learning_rate':trial.suggest_uniform('learning_rate',0.0001,0.99),\n",
    "      'subsample':trial.suggest_discrete_uniform('subsample', 0.6,1.0,0.1),\n",
    "      'colsample_bytree':trial.suggest_discrete_uniform('colsample_bytree',0.3,0.9,0.1),\n",
    "      'n_estimators': trial.suggest_int(\"n_estimators\", 1000, 10000, 100),\n",
    "      'eval_metric': 'logloss',\n",
    "      'objective' : 'binary:logistic',\n",
    "      'random_state': 2,\n",
    "      'n_estimators': 1000\n",
    "  }\n",
    "\n",
    "  model=XGBClassifier(**param)\n",
    "\n",
    "  bst = model.fit(X_train,y_train,eval_set=[(X_test,y_test)],verbose=False)\n",
    "\n",
    "  predictions=bst.predict_proba(X_test)\n",
    "\n",
    "  logloss = log_loss(y_test,predictions)\n",
    "  return logloss"
   ]
  },
  {
   "cell_type": "code",
   "execution_count": 74,
   "metadata": {},
   "outputs": [],
   "source": [
    "import optuna"
   ]
  },
  {
   "cell_type": "code",
   "execution_count": 75,
   "metadata": {},
   "outputs": [
    {
     "name": "stderr",
     "output_type": "stream",
     "text": [
      "\u001b[32m[I 2022-11-28 14:29:43,696]\u001b[0m A new study created in memory with name: no-name-49534732-1d19-4cf6-9478-3bbd54b495ee\u001b[0m\n",
      "\u001b[32m[I 2022-11-28 14:29:49,015]\u001b[0m Trial 0 finished with value: 0.40506236182221156 and parameters: {'max_depth': 14, 'learning_rate': 0.6425917597372677, 'subsample': 0.6, 'colsample_bytree': 0.8, 'n_estimators': 3000}. Best is trial 0 with value: 0.40506236182221156.\u001b[0m\n",
      "\u001b[32m[I 2022-11-28 14:29:54,619]\u001b[0m Trial 1 finished with value: 0.37840166122876906 and parameters: {'max_depth': 17, 'learning_rate': 0.5088011291610081, 'subsample': 0.6, 'colsample_bytree': 0.8, 'n_estimators': 9500}. Best is trial 1 with value: 0.37840166122876906.\u001b[0m\n",
      "\u001b[32m[I 2022-11-28 14:29:57,980]\u001b[0m Trial 2 finished with value: 0.3978309917654947 and parameters: {'max_depth': 12, 'learning_rate': 0.9158228503559029, 'subsample': 1.0, 'colsample_bytree': 0.4, 'n_estimators': 3700}. Best is trial 1 with value: 0.37840166122876906.\u001b[0m\n",
      "\u001b[32m[I 2022-11-28 14:30:04,036]\u001b[0m Trial 3 finished with value: 0.2960315315826381 and parameters: {'max_depth': 20, 'learning_rate': 0.19326430782621862, 'subsample': 0.9, 'colsample_bytree': 0.5, 'n_estimators': 5600}. Best is trial 3 with value: 0.2960315315826381.\u001b[0m\n",
      "\u001b[32m[I 2022-11-28 14:30:07,393]\u001b[0m Trial 4 finished with value: 0.36471985153478353 and parameters: {'max_depth': 5, 'learning_rate': 0.569960803985599, 'subsample': 0.9, 'colsample_bytree': 0.9, 'n_estimators': 8300}. Best is trial 3 with value: 0.2960315315826381.\u001b[0m\n",
      "\u001b[32m[I 2022-11-28 14:30:12,562]\u001b[0m Trial 5 finished with value: 0.3575791122521195 and parameters: {'max_depth': 9, 'learning_rate': 0.39189801835049004, 'subsample': 0.6, 'colsample_bytree': 0.6000000000000001, 'n_estimators': 6700}. Best is trial 3 with value: 0.2960315315826381.\u001b[0m\n",
      "\u001b[32m[I 2022-11-28 14:30:17,971]\u001b[0m Trial 6 finished with value: 0.3162086397596254 and parameters: {'max_depth': 19, 'learning_rate': 0.3373604408648376, 'subsample': 0.9, 'colsample_bytree': 0.3, 'n_estimators': 10000}. Best is trial 3 with value: 0.2960315315826381.\u001b[0m\n",
      "\u001b[32m[I 2022-11-28 14:30:21,446]\u001b[0m Trial 7 finished with value: 0.4257377607517457 and parameters: {'max_depth': 6, 'learning_rate': 0.6970708491570402, 'subsample': 0.6, 'colsample_bytree': 0.3, 'n_estimators': 7300}. Best is trial 3 with value: 0.2960315315826381.\u001b[0m\n",
      "\u001b[32m[I 2022-11-28 14:30:25,904]\u001b[0m Trial 8 finished with value: 0.37610357949560347 and parameters: {'max_depth': 16, 'learning_rate': 0.5965841692881014, 'subsample': 0.6, 'colsample_bytree': 0.4, 'n_estimators': 7500}. Best is trial 3 with value: 0.2960315315826381.\u001b[0m\n",
      "\u001b[32m[I 2022-11-28 14:30:32,164]\u001b[0m Trial 9 finished with value: 0.31223430092118315 and parameters: {'max_depth': 16, 'learning_rate': 0.2691502556071732, 'subsample': 0.6, 'colsample_bytree': 0.6000000000000001, 'n_estimators': 4300}. Best is trial 3 with value: 0.2960315315826381.\u001b[0m\n",
      "\u001b[32m[I 2022-11-28 14:30:40,945]\u001b[0m Trial 10 finished with value: 0.24589439257315213 and parameters: {'max_depth': 20, 'learning_rate': 0.0559296930115703, 'subsample': 0.8, 'colsample_bytree': 0.5, 'n_estimators': 5500}. Best is trial 10 with value: 0.24589439257315213.\u001b[0m\n",
      "\u001b[32m[I 2022-11-28 14:30:54,746]\u001b[0m Trial 11 finished with value: 0.2187236244150324 and parameters: {'max_depth': 20, 'learning_rate': 0.0027048387052820144, 'subsample': 0.8, 'colsample_bytree': 0.5, 'n_estimators': 5200}. Best is trial 11 with value: 0.2187236244150324.\u001b[0m\n",
      "\u001b[32m[I 2022-11-28 14:31:06,431]\u001b[0m Trial 12 finished with value: 0.2109418695266479 and parameters: {'max_depth': 20, 'learning_rate': 0.019407373163022053, 'subsample': 0.8, 'colsample_bytree': 0.5, 'n_estimators': 1200}. Best is trial 12 with value: 0.2109418695266479.\u001b[0m\n",
      "\u001b[32m[I 2022-11-28 14:31:21,543]\u001b[0m Trial 13 finished with value: 0.19279999763032907 and parameters: {'max_depth': 18, 'learning_rate': 0.006784373456199803, 'subsample': 0.8, 'colsample_bytree': 0.7, 'n_estimators': 2300}. Best is trial 13 with value: 0.19279999763032907.\u001b[0m\n",
      "\u001b[32m[I 2022-11-28 14:31:29,062]\u001b[0m Trial 14 finished with value: 0.2915549227896154 and parameters: {'max_depth': 13, 'learning_rate': 0.1496372870776918, 'subsample': 0.7, 'colsample_bytree': 0.7, 'n_estimators': 1000}. Best is trial 13 with value: 0.19279999763032907.\u001b[0m\n",
      "\u001b[32m[I 2022-11-28 14:31:37,789]\u001b[0m Trial 15 finished with value: 0.27237897413990625 and parameters: {'max_depth': 18, 'learning_rate': 0.10071763036673914, 'subsample': 0.7, 'colsample_bytree': 0.7, 'n_estimators': 1100}. Best is trial 13 with value: 0.19279999763032907.\u001b[0m\n",
      "\u001b[32m[I 2022-11-28 14:31:44,587]\u001b[0m Trial 16 finished with value: 0.30788878016598853 and parameters: {'max_depth': 15, 'learning_rate': 0.23053068607707883, 'subsample': 0.7, 'colsample_bytree': 0.7, 'n_estimators': 2400}. Best is trial 13 with value: 0.19279999763032907.\u001b[0m\n",
      "\u001b[32m[I 2022-11-28 14:31:49,474]\u001b[0m Trial 17 finished with value: 0.40211224511549276 and parameters: {'max_depth': 11, 'learning_rate': 0.7752589039147743, 'subsample': 0.8, 'colsample_bytree': 0.9, 'n_estimators': 2100}. Best is trial 13 with value: 0.19279999763032907.\u001b[0m\n",
      "\u001b[32m[I 2022-11-28 14:31:54,834]\u001b[0m Trial 18 finished with value: 0.3387011044193931 and parameters: {'max_depth': 18, 'learning_rate': 0.38751931874040624, 'subsample': 1.0, 'colsample_bytree': 0.6000000000000001, 'n_estimators': 2000}. Best is trial 13 with value: 0.19279999763032907.\u001b[0m\n",
      "\u001b[32m[I 2022-11-28 14:32:02,057]\u001b[0m Trial 19 finished with value: 0.21826068280427038 and parameters: {'max_depth': 10, 'learning_rate': 0.036671472906128544, 'subsample': 0.9, 'colsample_bytree': 0.8, 'n_estimators': 3400}. Best is trial 13 with value: 0.19279999763032907.\u001b[0m\n",
      "\u001b[32m[I 2022-11-28 14:32:05,914]\u001b[0m Trial 20 finished with value: 0.4489234926849992 and parameters: {'max_depth': 18, 'learning_rate': 0.98131286358819, 'subsample': 0.7, 'colsample_bytree': 0.4, 'n_estimators': 4100}. Best is trial 13 with value: 0.19279999763032907.\u001b[0m\n",
      "\u001b[32m[I 2022-11-28 14:32:13,151]\u001b[0m Trial 21 finished with value: 0.22764261417601767 and parameters: {'max_depth': 9, 'learning_rate': 0.0022709776765992007, 'subsample': 0.9, 'colsample_bytree': 0.8, 'n_estimators': 3100}. Best is trial 13 with value: 0.19279999763032907.\u001b[0m\n",
      "\u001b[32m[I 2022-11-28 14:32:19,220]\u001b[0m Trial 22 finished with value: 0.26256040732211977 and parameters: {'max_depth': 9, 'learning_rate': 0.10793054379617742, 'subsample': 0.8, 'colsample_bytree': 0.7, 'n_estimators': 1900}. Best is trial 13 with value: 0.19279999763032907.\u001b[0m\n",
      "\u001b[32m[I 2022-11-28 14:32:25,318]\u001b[0m Trial 23 finished with value: 0.3260452102601739 and parameters: {'max_depth': 11, 'learning_rate': 0.28015589697256077, 'subsample': 0.9, 'colsample_bytree': 0.8, 'n_estimators': 1400}. Best is trial 13 with value: 0.19279999763032907.\u001b[0m\n",
      "\u001b[32m[I 2022-11-28 14:32:29,827]\u001b[0m Trial 24 finished with value: 0.2624309196046048 and parameters: {'max_depth': 7, 'learning_rate': 0.14601140623890493, 'subsample': 0.8, 'colsample_bytree': 0.6000000000000001, 'n_estimators': 2800}. Best is trial 13 with value: 0.19279999763032907.\u001b[0m\n",
      "\u001b[32m[I 2022-11-28 14:32:38,411]\u001b[0m Trial 25 finished with value: 0.257406539277944 and parameters: {'max_depth': 14, 'learning_rate': 0.06053047141721587, 'subsample': 1.0, 'colsample_bytree': 0.9, 'n_estimators': 3600}. Best is trial 13 with value: 0.19279999763032907.\u001b[0m\n",
      "\u001b[32m[I 2022-11-28 14:32:46,223]\u001b[0m Trial 26 finished with value: 0.1908765621152795 and parameters: {'max_depth': 10, 'learning_rate': 0.00910353717079116, 'subsample': 0.9, 'colsample_bytree': 0.7, 'n_estimators': 4700}. Best is trial 26 with value: 0.1908765621152795.\u001b[0m\n",
      "\u001b[32m[I 2022-11-28 14:32:50,092]\u001b[0m Trial 27 finished with value: 0.26654168791995286 and parameters: {'max_depth': 7, 'learning_rate': 0.17119789798556434, 'subsample': 0.8, 'colsample_bytree': 0.5, 'n_estimators': 4800}. Best is trial 26 with value: 0.1908765621152795.\u001b[0m\n",
      "\u001b[32m[I 2022-11-28 14:32:55,806]\u001b[0m Trial 28 finished with value: 0.350925575668194 and parameters: {'max_depth': 17, 'learning_rate': 0.4486910784093264, 'subsample': 0.7, 'colsample_bytree': 0.7, 'n_estimators': 6200}. Best is trial 26 with value: 0.1908765621152795.\u001b[0m\n",
      "\u001b[32m[I 2022-11-28 14:33:03,898]\u001b[0m Trial 29 finished with value: 0.27797151357996625 and parameters: {'max_depth': 14, 'learning_rate': 0.10540828145845466, 'subsample': 0.9, 'colsample_bytree': 0.7, 'n_estimators': 2500}. Best is trial 26 with value: 0.1908765621152795.\u001b[0m\n",
      "\u001b[32m[I 2022-11-28 14:33:10,483]\u001b[0m Trial 30 finished with value: 0.30733013370088075 and parameters: {'max_depth': 19, 'learning_rate': 0.22681518487710634, 'subsample': 0.8, 'colsample_bytree': 0.6000000000000001, 'n_estimators': 1700}. Best is trial 26 with value: 0.1908765621152795.\u001b[0m\n",
      "\u001b[32m[I 2022-11-28 14:33:20,103]\u001b[0m Trial 31 finished with value: 0.19101412062908105 and parameters: {'max_depth': 11, 'learning_rate': 0.00646474179260959, 'subsample': 0.9, 'colsample_bytree': 0.8, 'n_estimators': 3200}. Best is trial 26 with value: 0.1908765621152795.\u001b[0m\n",
      "\u001b[32m[I 2022-11-28 14:33:27,469]\u001b[0m Trial 32 finished with value: 0.25000929100939384 and parameters: {'max_depth': 12, 'learning_rate': 0.06107658169215896, 'subsample': 1.0, 'colsample_bytree': 0.8, 'n_estimators': 4600}. Best is trial 26 with value: 0.1908765621152795.\u001b[0m\n",
      "\u001b[32m[I 2022-11-28 14:33:37,146]\u001b[0m Trial 33 finished with value: 0.4590353782403301 and parameters: {'max_depth': 11, 'learning_rate': 0.00046260604100795133, 'subsample': 0.9, 'colsample_bytree': 0.8, 'n_estimators': 3000}. Best is trial 26 with value: 0.1908765621152795.\u001b[0m\n",
      "\u001b[32m[I 2022-11-28 14:33:44,962]\u001b[0m Trial 34 finished with value: 0.28305713433484664 and parameters: {'max_depth': 13, 'learning_rate': 0.11192825387472147, 'subsample': 0.9, 'colsample_bytree': 0.8, 'n_estimators': 4100}. Best is trial 26 with value: 0.1908765621152795.\u001b[0m\n",
      "\u001b[32m[I 2022-11-28 14:33:50,286]\u001b[0m Trial 35 finished with value: 0.29057957127685907 and parameters: {'max_depth': 8, 'learning_rate': 0.16779552003734594, 'subsample': 0.8, 'colsample_bytree': 0.7, 'n_estimators': 2500}. Best is trial 26 with value: 0.1908765621152795.\u001b[0m\n",
      "\u001b[32m[I 2022-11-28 14:33:56,293]\u001b[0m Trial 36 finished with value: 0.24372302240647364 and parameters: {'max_depth': 10, 'learning_rate': 0.06771424009966429, 'subsample': 1.0, 'colsample_bytree': 0.9, 'n_estimators': 3500}. Best is trial 26 with value: 0.1908765621152795.\u001b[0m\n",
      "\u001b[32m[I 2022-11-28 14:34:03,123]\u001b[0m Trial 37 finished with value: 0.3034749283705333 and parameters: {'max_depth': 19, 'learning_rate': 0.21340509156540838, 'subsample': 0.9, 'colsample_bytree': 0.6000000000000001, 'n_estimators': 1500}. Best is trial 26 with value: 0.1908765621152795.\u001b[0m\n",
      "\u001b[32m[I 2022-11-28 14:34:08,162]\u001b[0m Trial 38 finished with value: 0.32126936896119074 and parameters: {'max_depth': 15, 'learning_rate': 0.30814062936466385, 'subsample': 0.8, 'colsample_bytree': 0.5, 'n_estimators': 5900}. Best is trial 26 with value: 0.1908765621152795.\u001b[0m\n",
      "\u001b[32m[I 2022-11-28 14:34:11,987]\u001b[0m Trial 39 finished with value: 0.3909535165790905 and parameters: {'max_depth': 10, 'learning_rate': 0.8142637459776421, 'subsample': 0.9, 'colsample_bytree': 0.4, 'n_estimators': 5000}. Best is trial 26 with value: 0.1908765621152795.\u001b[0m\n",
      "\u001b[32m[I 2022-11-28 14:34:17,116]\u001b[0m Trial 40 finished with value: 0.34936788054089446 and parameters: {'max_depth': 17, 'learning_rate': 0.5170139192924156, 'subsample': 0.8, 'colsample_bytree': 0.6000000000000001, 'n_estimators': 9000}. Best is trial 26 with value: 0.1908765621152795.\u001b[0m\n",
      "\u001b[32m[I 2022-11-28 14:34:24,134]\u001b[0m Trial 41 finished with value: 0.2208964055521821 and parameters: {'max_depth': 10, 'learning_rate': 0.04016699314530922, 'subsample': 0.9, 'colsample_bytree': 0.8, 'n_estimators': 3400}. Best is trial 26 with value: 0.1908765621152795.\u001b[0m\n",
      "\u001b[32m[I 2022-11-28 14:34:33,285]\u001b[0m Trial 42 finished with value: 0.21877750878481186 and parameters: {'max_depth': 12, 'learning_rate': 0.028364474758622082, 'subsample': 0.9, 'colsample_bytree': 0.8, 'n_estimators': 4000}. Best is trial 26 with value: 0.1908765621152795.\u001b[0m\n",
      "\u001b[32m[I 2022-11-28 14:34:38,700]\u001b[0m Trial 43 finished with value: 0.24872841252627803 and parameters: {'max_depth': 8, 'learning_rate': 0.09135652220933743, 'subsample': 0.9, 'colsample_bytree': 0.9, 'n_estimators': 3100}. Best is trial 26 with value: 0.1908765621152795.\u001b[0m\n",
      "\u001b[32m[I 2022-11-28 14:34:44,740]\u001b[0m Trial 44 finished with value: 0.2783221735748815 and parameters: {'max_depth': 11, 'learning_rate': 0.1301275700064339, 'subsample': 1.0, 'colsample_bytree': 0.7, 'n_estimators': 4500}. Best is trial 26 with value: 0.1908765621152795.\u001b[0m\n",
      "\u001b[32m[I 2022-11-28 14:34:54,509]\u001b[0m Trial 45 finished with value: 0.22586245995472237 and parameters: {'max_depth': 13, 'learning_rate': 0.03257061348076434, 'subsample': 0.8, 'colsample_bytree': 0.8, 'n_estimators': 2300}. Best is trial 26 with value: 0.1908765621152795.\u001b[0m\n",
      "\u001b[32m[I 2022-11-28 14:35:04,605]\u001b[0m Trial 46 finished with value: 0.26220738213977773 and parameters: {'max_depth': 20, 'learning_rate': 0.06804377930681457, 'subsample': 0.9, 'colsample_bytree': 0.7, 'n_estimators': 2700}. Best is trial 26 with value: 0.1908765621152795.\u001b[0m\n",
      "\u001b[32m[I 2022-11-28 14:35:12,856]\u001b[0m Trial 47 finished with value: 0.1905143148073615 and parameters: {'max_depth': 10, 'learning_rate': 0.007610762302910637, 'subsample': 0.7, 'colsample_bytree': 0.7, 'n_estimators': 3900}. Best is trial 47 with value: 0.1905143148073615.\u001b[0m\n",
      "\u001b[32m[I 2022-11-28 14:35:15,789]\u001b[0m Trial 48 finished with value: 0.22596483730676395 and parameters: {'max_depth': 5, 'learning_rate': 0.16066662946378696, 'subsample': 0.7, 'colsample_bytree': 0.5, 'n_estimators': 1100}. Best is trial 47 with value: 0.1905143148073615.\u001b[0m\n",
      "\u001b[32m[I 2022-11-28 14:35:20,547]\u001b[0m Trial 49 finished with value: 0.404829842803737 and parameters: {'max_depth': 8, 'learning_rate': 0.6602795554728352, 'subsample': 0.7, 'colsample_bytree': 0.7, 'n_estimators': 5400}. Best is trial 47 with value: 0.1905143148073615.\u001b[0m\n"
     ]
    },
    {
     "data": {
      "text/plain": [
       "{'max_depth': 10,\n",
       " 'learning_rate': 0.007610762302910637,\n",
       " 'subsample': 0.7,\n",
       " 'colsample_bytree': 0.7,\n",
       " 'n_estimators': 3900}"
      ]
     },
     "execution_count": 75,
     "metadata": {},
     "output_type": "execute_result"
    }
   ],
   "source": [
    "study = optuna.create_study(direction='minimize')\n",
    "study.optimize(objective, n_trials=50)\n",
    "study.best_params"
   ]
  },
  {
   "cell_type": "code",
   "execution_count": 83,
   "metadata": {},
   "outputs": [],
   "source": [
    "# Accuracy 함수 구현\n",
    "from sklearn.metrics import accuracy_score\n",
    "\n",
    "def calculate_accuracy(model, x_test, y_test):\n",
    "    # make predictions\n",
    "    y_pred = model.predict(x_test)\n",
    "    predictions = [round(value) for value in y_pred]\n",
    "    \n",
    "    # evaluations\n",
    "    accuracy = accuracy_score(y_test, predictions)\n",
    "    print('Accuracy: %.2f%%' % (accuracy * 100.0))\n",
    "    return accuracy"
   ]
  },
  {
   "cell_type": "code",
   "execution_count": 84,
   "metadata": {},
   "outputs": [],
   "source": [
    "# target 설정\n",
    "X_test=test_dataset.drop('TARGET',axis=1)\n",
    "y_test=test_dataset['TARGET']"
   ]
  },
  {
   "cell_type": "code",
   "execution_count": 86,
   "metadata": {},
   "outputs": [
    {
     "name": "stdout",
     "output_type": "stream",
     "text": [
      "Accuracy: 93.06%\n"
     ]
    },
    {
     "data": {
      "text/plain": [
       "0.930621182436326"
      ]
     },
     "execution_count": 86,
     "metadata": {},
     "output_type": "execute_result"
    }
   ],
   "source": [
    "# test 진행\n",
    "model=XGBClassifier(**study.best_params)\n",
    "model.fit(X,y)\n",
    "# print(model.evals_result)\n",
    "calculate_accuracy(model, X_test, y_test)"
   ]
  },
  {
   "cell_type": "code",
   "execution_count": 111,
   "metadata": {},
   "outputs": [],
   "source": [
    "y_pred = model.predict_proba(X_test)[:,1]"
   ]
  },
  {
   "cell_type": "code",
   "execution_count": 113,
   "metadata": {},
   "outputs": [],
   "source": [
    "false_positive_rate, true_positive_rate, threshold = roc_curve(y_test, y_pred)\n"
   ]
  },
  {
   "cell_type": "code",
   "execution_count": 117,
   "metadata": {},
   "outputs": [
    {
     "data": {
      "image/png": "[encoded data removed]",
      "text/plain": [
       "<Figure size 720x720 with 1 Axes>"
      ]
     },
     "metadata": {
      "needs_background": "light"
     },
     "output_type": "display_data"
    },
    {
     "name": "stdout",
     "output_type": "stream",
     "text": [
      "roc_auc_score for XGBoost:  0.9129710810247044\n"
     ]
    }
   ],
   "source": [
    "plt.subplots(1, figsize=(10,10))\n",
    "plt.title('Receiver Operating Characteristic - XGBoost')\n",
    "plt.plot(false_positive_rate, true_positive_rate)\n",
    "plt.plot([0, 1], ls=\"--\")\n",
    "plt.plot([0, 0], [1, 0] , c=\".7\"), plt.plot([1, 1] , c=\".7\")\n",
    "plt.ylabel('True Positive Rate')\n",
    "plt.xlabel('False Positive Rate')\n",
    "plt.show()\n",
    "print('roc_auc_score for XGBoost: ', roc_auc_score(y_test, y_pred))"
   ]
  },
  {
   "cell_type": "markdown",
   "metadata": {},
   "source": [
    "# 실험결과\n",
    "\n",
    "optuna library를 활용하여 max_depth, learning_rate, subsample, colsample_bytree, n_estimators에 대한 최적화를 진행하였습니다. 각각의 하이퍼파라미터에 대한 최적화 결과는 {'max_depth': 10, 'learning_rate': 0.007610762302910637 'subsample': 0.7, 'colsample_bytree': 0.7, 'n_estimators': 3900} 입니다. 해당 하이퍼파라미터 집합을 통해 test result를 산출한 결과 93.06%의 정확도를 달성하였습니다. 또한 AUC score 역시 0.91을 기록하여 상당히 높은 값을 산출한 것을 알 수 있었습니다. 즉 주어진 loan dataset은 XGBoost가 굉장히 높은 수준의 예측을 진행하고 있음을 알 수 있었습니다.  \n",
    "이러한 XGBoost의 가장 큰 장점 중 하나는 XAI 즉 어떤 부분으로 인해 model이 이러한 결과를 산출했는지에 대한 시각적인 지표를 제공한다는 점 입니다.  \n",
    "XGBoost가 제공하는 feature importance, shaply 변수를 통해 사후분석을 진행하도록 하겠습니다.  "
   ]
  },
  {
   "cell_type": "code",
   "execution_count": 96,
   "metadata": {},
   "outputs": [
    {
     "data": {
      "text/plain": [
       "<matplotlib.axes._subplots.AxesSubplot at 0x7f5893d05208>"
      ]
     },
     "execution_count": 96,
     "metadata": {},
     "output_type": "execute_result"
    },
    {
     "data": {
      "image/png": "[encoded data removed]",
      "text/plain": [
       "<Figure size 720x864 with 1 Axes>"
      ]
     },
     "metadata": {
      "needs_background": "light"
     },
     "output_type": "display_data"
    }
   ],
   "source": [
    "from xgboost import plot_importance\n",
    "fig, ax=plt.subplots(figsize=(10,12))\n",
    "plot_importance(model, ax=ax)"
   ]
  },
  {
   "cell_type": "markdown",
   "metadata": {},
   "source": [
    "### Feature importance 분석\n",
    "Feature importance 산출 결과 CALL_TIME(월별 통화시간), INS_MON_MAX(월납입보험료), LATE_RATE(보험료 연체율)이 높은 importance를 기록하였습니다. 다만 XGBoost에서 제공하는 feature importance의 경우 각 feature가 양의 방향으로 영향을 주었는지, 음의 방향으로 영향을 주었는지에 대한 부분은 정보를 제공하지 못합니다. "
   ]
  },
  {
   "cell_type": "code",
   "execution_count": 9,
   "metadata": {},
   "outputs": [
    {
     "name": "stdout",
     "output_type": "stream",
     "text": [
      "Requirement already satisfied: shap in /home/seonggye/anaconda3/lib/python3.7/site-packages (0.41.0)\n",
      "Requirement already satisfied: cloudpickle in /home/seonggye/anaconda3/lib/python3.7/site-packages (from shap) (0.5.5)\n",
      "Requirement already satisfied: scipy in /home/seonggye/anaconda3/lib/python3.7/site-packages (from shap) (1.7.3)\n",
      "Requirement already satisfied: slicer==0.0.7 in /home/seonggye/anaconda3/lib/python3.7/site-packages (from shap) (0.0.7)\n",
      "Requirement already satisfied: scikit-learn in /home/seonggye/anaconda3/lib/python3.7/site-packages (from shap) (0.19.2)\n",
      "Requirement already satisfied: numba in /home/seonggye/anaconda3/lib/python3.7/site-packages (from shap) (0.39.0)\n",
      "Requirement already satisfied: tqdm>4.25.0 in /home/seonggye/anaconda3/lib/python3.7/site-packages (from shap) (4.62.3)\n",
      "Requirement already satisfied: numpy in /home/seonggye/anaconda3/lib/python3.7/site-packages (from shap) (1.21.6)\n",
      "Requirement already satisfied: packaging>20.9 in /home/seonggye/anaconda3/lib/python3.7/site-packages (from shap) (21.3)\n",
      "Requirement already satisfied: pandas in /home/seonggye/anaconda3/lib/python3.7/site-packages (from shap) (0.23.4)\n",
      "Requirement already satisfied: pyparsing!=3.0.5,>=2.0.2 in /home/seonggye/anaconda3/lib/python3.7/site-packages (from packaging>20.9->shap) (2.2.0)\n",
      "Requirement already satisfied: llvmlite>=0.24.0dev0 in /home/seonggye/anaconda3/lib/python3.7/site-packages (from numba->shap) (0.24.0)\n",
      "Requirement already satisfied: python-dateutil>=2.5.0 in /home/seonggye/anaconda3/lib/python3.7/site-packages (from pandas->shap) (2.7.3)\n",
      "Requirement already satisfied: pytz>=2011k in /home/seonggye/anaconda3/lib/python3.7/site-packages (from pandas->shap) (2018.5)\n",
      "Requirement already satisfied: six>=1.5 in /home/seonggye/anaconda3/lib/python3.7/site-packages (from python-dateutil>=2.5.0->pandas->shap) (1.11.0)\n",
      "\n",
      "\u001b[1m[\u001b[0m\u001b[34;49mnotice\u001b[0m\u001b[1;39;49m]\u001b[0m\u001b[39;49m A new release of pip available: \u001b[0m\u001b[31;49m22.2.2\u001b[0m\u001b[39;49m -> \u001b[0m\u001b[32;49m22.3.1\u001b[0m\n",
      "\u001b[1m[\u001b[0m\u001b[34;49mnotice\u001b[0m\u001b[1;39;49m]\u001b[0m\u001b[39;49m To update, run: \u001b[0m\u001b[32;49mpip install --upgrade pip\u001b[0m\n"
     ]
    }
   ],
   "source": [
    "!pip install shap"
   ]
  },
  {
   "cell_type": "code",
   "execution_count": 10,
   "metadata": {},
   "outputs": [
    {
     "ename": "ModuleNotFoundError",
     "evalue": "No module named 'numba.core'",
     "output_type": "error",
     "traceback": [
      "\u001b[0;31m---------------------------------------------------------------------------\u001b[0m",
      "\u001b[0;31mModuleNotFoundError\u001b[0m                       Traceback (most recent call last)",
      "\u001b[0;32m<ipython-input-10-efbb001a1501>\u001b[0m in \u001b[0;36m<module>\u001b[0;34m()\u001b[0m\n\u001b[0;32m----> 1\u001b[0;31m \u001b[0;32mimport\u001b[0m \u001b[0mshap\u001b[0m\u001b[0;34m\u001b[0m\u001b[0m\n\u001b[0m",
      "\u001b[0;32m~/anaconda3/lib/python3.7/site-packages/shap/__init__.py\u001b[0m in \u001b[0;36m<module>\u001b[0;34m()\u001b[0m\n\u001b[1;32m     13\u001b[0m \u001b[0;34m\u001b[0m\u001b[0m\n\u001b[1;32m     14\u001b[0m \u001b[0;31m# explainers\u001b[0m\u001b[0;34m\u001b[0m\u001b[0;34m\u001b[0m\u001b[0m\n\u001b[0;32m---> 15\u001b[0;31m \u001b[0;32mfrom\u001b[0m \u001b[0;34m.\u001b[0m\u001b[0mexplainers\u001b[0m\u001b[0;34m.\u001b[0m\u001b[0m_explainer\u001b[0m \u001b[0;32mimport\u001b[0m \u001b[0mExplainer\u001b[0m\u001b[0;34m\u001b[0m\u001b[0m\n\u001b[0m\u001b[1;32m     16\u001b[0m \u001b[0;32mfrom\u001b[0m \u001b[0;34m.\u001b[0m\u001b[0mexplainers\u001b[0m\u001b[0;34m.\u001b[0m\u001b[0m_kernel\u001b[0m \u001b[0;32mimport\u001b[0m \u001b[0mKernel\u001b[0m \u001b[0;32mas\u001b[0m \u001b[0mKernelExplainer\u001b[0m\u001b[0;34m\u001b[0m\u001b[0m\n\u001b[1;32m     17\u001b[0m \u001b[0;32mfrom\u001b[0m \u001b[0;34m.\u001b[0m\u001b[0mexplainers\u001b[0m\u001b[0;34m.\u001b[0m\u001b[0m_sampling\u001b[0m \u001b[0;32mimport\u001b[0m \u001b[0mSampling\u001b[0m \u001b[0;32mas\u001b[0m \u001b[0mSamplingExplainer\u001b[0m\u001b[0;34m\u001b[0m\u001b[0m\n",
      "\u001b[0;32m~/anaconda3/lib/python3.7/site-packages/shap/explainers/__init__.py\u001b[0m in \u001b[0;36m<module>\u001b[0;34m()\u001b[0m\n\u001b[0;32m----> 1\u001b[0;31m \u001b[0;32mfrom\u001b[0m \u001b[0;34m.\u001b[0m\u001b[0m_permutation\u001b[0m \u001b[0;32mimport\u001b[0m \u001b[0mPermutation\u001b[0m\u001b[0;34m\u001b[0m\u001b[0m\n\u001b[0m\u001b[1;32m      2\u001b[0m \u001b[0;32mfrom\u001b[0m \u001b[0;34m.\u001b[0m\u001b[0m_partition\u001b[0m \u001b[0;32mimport\u001b[0m \u001b[0mPartition\u001b[0m\u001b[0;34m\u001b[0m\u001b[0m\n\u001b[1;32m      3\u001b[0m \u001b[0;32mfrom\u001b[0m \u001b[0;34m.\u001b[0m\u001b[0m_tree\u001b[0m \u001b[0;32mimport\u001b[0m \u001b[0mTree\u001b[0m\u001b[0;34m\u001b[0m\u001b[0m\n\u001b[1;32m      4\u001b[0m \u001b[0;32mfrom\u001b[0m \u001b[0;34m.\u001b[0m\u001b[0m_gpu_tree\u001b[0m \u001b[0;32mimport\u001b[0m \u001b[0mGPUTree\u001b[0m\u001b[0;34m\u001b[0m\u001b[0m\n\u001b[1;32m      5\u001b[0m \u001b[0;32mfrom\u001b[0m \u001b[0;34m.\u001b[0m\u001b[0m_exact\u001b[0m \u001b[0;32mimport\u001b[0m \u001b[0mExact\u001b[0m\u001b[0;34m\u001b[0m\u001b[0m\n",
      "\u001b[0;32m~/anaconda3/lib/python3.7/site-packages/shap/explainers/_permutation.py\u001b[0m in \u001b[0;36m<module>\u001b[0;34m()\u001b[0m\n\u001b[1;32m      3\u001b[0m \u001b[0;32mfrom\u001b[0m \u001b[0;34m.\u001b[0m\u001b[0;34m.\u001b[0m\u001b[0mutils\u001b[0m \u001b[0;32mimport\u001b[0m \u001b[0mpartition_tree_shuffle\u001b[0m\u001b[0;34m,\u001b[0m \u001b[0mMaskedModel\u001b[0m\u001b[0;34m\u001b[0m\u001b[0m\n\u001b[1;32m      4\u001b[0m \u001b[0;32mfrom\u001b[0m \u001b[0;34m.\u001b[0m\u001b[0;34m.\u001b[0m\u001b[0m_explanation\u001b[0m \u001b[0;32mimport\u001b[0m \u001b[0mExplanation\u001b[0m\u001b[0;34m\u001b[0m\u001b[0m\n\u001b[0;32m----> 5\u001b[0;31m \u001b[0;32mfrom\u001b[0m \u001b[0;34m.\u001b[0m\u001b[0m_explainer\u001b[0m \u001b[0;32mimport\u001b[0m \u001b[0mExplainer\u001b[0m\u001b[0;34m\u001b[0m\u001b[0m\n\u001b[0m\u001b[1;32m      6\u001b[0m \u001b[0;32mimport\u001b[0m \u001b[0mnumpy\u001b[0m \u001b[0;32mas\u001b[0m \u001b[0mnp\u001b[0m\u001b[0;34m\u001b[0m\u001b[0m\n\u001b[1;32m      7\u001b[0m \u001b[0;32mimport\u001b[0m \u001b[0mpandas\u001b[0m \u001b[0;32mas\u001b[0m \u001b[0mpd\u001b[0m\u001b[0;34m\u001b[0m\u001b[0m\n",
      "\u001b[0;32m~/anaconda3/lib/python3.7/site-packages/shap/explainers/_explainer.py\u001b[0m in \u001b[0;36m<module>\u001b[0;34m()\u001b[0m\n\u001b[1;32m      3\u001b[0m \u001b[0;32mimport\u001b[0m \u001b[0mnumpy\u001b[0m \u001b[0;32mas\u001b[0m \u001b[0mnp\u001b[0m\u001b[0;34m\u001b[0m\u001b[0m\n\u001b[1;32m      4\u001b[0m \u001b[0;32mimport\u001b[0m \u001b[0mscipy\u001b[0m \u001b[0;32mas\u001b[0m \u001b[0msp\u001b[0m\u001b[0;34m\u001b[0m\u001b[0m\n\u001b[0;32m----> 5\u001b[0;31m \u001b[0;32mfrom\u001b[0m \u001b[0;34m.\u001b[0m\u001b[0;34m.\u001b[0m \u001b[0;32mimport\u001b[0m \u001b[0mmaskers\u001b[0m\u001b[0;34m\u001b[0m\u001b[0m\n\u001b[0m\u001b[1;32m      6\u001b[0m \u001b[0;32mfrom\u001b[0m \u001b[0;34m.\u001b[0m\u001b[0;34m.\u001b[0m \u001b[0;32mimport\u001b[0m \u001b[0mlinks\u001b[0m\u001b[0;34m\u001b[0m\u001b[0m\n\u001b[1;32m      7\u001b[0m \u001b[0;32mfrom\u001b[0m \u001b[0;34m.\u001b[0m\u001b[0;34m.\u001b[0m\u001b[0mutils\u001b[0m \u001b[0;32mimport\u001b[0m \u001b[0msafe_isinstance\u001b[0m\u001b[0;34m,\u001b[0m \u001b[0mshow_progress\u001b[0m\u001b[0;34m\u001b[0m\u001b[0m\n",
      "\u001b[0;32m~/anaconda3/lib/python3.7/site-packages/shap/maskers/__init__.py\u001b[0m in \u001b[0;36m<module>\u001b[0;34m()\u001b[0m\n\u001b[1;32m      1\u001b[0m \u001b[0;32mfrom\u001b[0m \u001b[0;34m.\u001b[0m\u001b[0m_masker\u001b[0m \u001b[0;32mimport\u001b[0m \u001b[0mMasker\u001b[0m\u001b[0;34m\u001b[0m\u001b[0m\n\u001b[1;32m      2\u001b[0m \u001b[0;32mfrom\u001b[0m \u001b[0;34m.\u001b[0m\u001b[0m_tabular\u001b[0m \u001b[0;32mimport\u001b[0m \u001b[0mIndependent\u001b[0m\u001b[0;34m,\u001b[0m \u001b[0mPartition\u001b[0m\u001b[0;34m,\u001b[0m \u001b[0mImpute\u001b[0m\u001b[0;34m\u001b[0m\u001b[0m\n\u001b[0;32m----> 3\u001b[0;31m \u001b[0;32mfrom\u001b[0m \u001b[0;34m.\u001b[0m\u001b[0m_image\u001b[0m \u001b[0;32mimport\u001b[0m \u001b[0mImage\u001b[0m\u001b[0;34m\u001b[0m\u001b[0m\n\u001b[0m\u001b[1;32m      4\u001b[0m \u001b[0;32mfrom\u001b[0m \u001b[0;34m.\u001b[0m\u001b[0m_text\u001b[0m \u001b[0;32mimport\u001b[0m \u001b[0mText\u001b[0m\u001b[0;34m\u001b[0m\u001b[0m\n\u001b[1;32m      5\u001b[0m \u001b[0;32mfrom\u001b[0m \u001b[0;34m.\u001b[0m\u001b[0m_fixed\u001b[0m \u001b[0;32mimport\u001b[0m \u001b[0mFixed\u001b[0m\u001b[0;34m\u001b[0m\u001b[0m\n",
      "\u001b[0;32m~/anaconda3/lib/python3.7/site-packages/shap/maskers/_image.py\u001b[0m in \u001b[0;36m<module>\u001b[0;34m()\u001b[0m\n\u001b[1;32m     12\u001b[0m \u001b[0;34m\u001b[0m\u001b[0m\n\u001b[1;32m     13\u001b[0m \u001b[0;31m# TODO: heapq in numba does not yet support Typed Lists so we can move to them yet...\u001b[0m\u001b[0;34m\u001b[0m\u001b[0;34m\u001b[0m\u001b[0m\n\u001b[0;32m---> 14\u001b[0;31m \u001b[0;32mfrom\u001b[0m \u001b[0mnumba\u001b[0m\u001b[0;34m.\u001b[0m\u001b[0mcore\u001b[0m\u001b[0;34m.\u001b[0m\u001b[0merrors\u001b[0m \u001b[0;32mimport\u001b[0m \u001b[0mNumbaPendingDeprecationWarning\u001b[0m\u001b[0;34m\u001b[0m\u001b[0m\n\u001b[0m\u001b[1;32m     15\u001b[0m \u001b[0;32mimport\u001b[0m \u001b[0mwarnings\u001b[0m\u001b[0;34m\u001b[0m\u001b[0m\n\u001b[1;32m     16\u001b[0m \u001b[0mwarnings\u001b[0m\u001b[0;34m.\u001b[0m\u001b[0msimplefilter\u001b[0m\u001b[0;34m(\u001b[0m\u001b[0;34m'ignore'\u001b[0m\u001b[0;34m,\u001b[0m \u001b[0mcategory\u001b[0m\u001b[0;34m=\u001b[0m\u001b[0mNumbaPendingDeprecationWarning\u001b[0m\u001b[0;34m)\u001b[0m\u001b[0;34m\u001b[0m\u001b[0m\n",
      "\u001b[0;31mModuleNotFoundError\u001b[0m: No module named 'numba.core'"
     ]
    }
   ],
   "source": [
    "import shap"
   ]
  },
  {
   "cell_type": "code",
   "execution_count": 11,
   "metadata": {},
   "outputs": [],
   "source": [
    "import numpy"
   ]
  },
  {
   "cell_type": "code",
   "execution_count": 18,
   "metadata": {},
   "outputs": [
    {
     "ename": "ModuleNotFoundError",
     "evalue": "No module named 'numba.core'",
     "output_type": "error",
     "traceback": [
      "\u001b[0;31m---------------------------------------------------------------------------\u001b[0m",
      "\u001b[0;31mModuleNotFoundError\u001b[0m                       Traceback (most recent call last)",
      "\u001b[0;32m<ipython-input-18-efbb001a1501>\u001b[0m in \u001b[0;36m<module>\u001b[0;34m()\u001b[0m\n\u001b[0;32m----> 1\u001b[0;31m \u001b[0;32mimport\u001b[0m \u001b[0mshap\u001b[0m\u001b[0;34m\u001b[0m\u001b[0m\n\u001b[0m",
      "\u001b[0;32m~/anaconda3/lib/python3.7/site-packages/shap/__init__.py\u001b[0m in \u001b[0;36m<module>\u001b[0;34m()\u001b[0m\n\u001b[1;32m     13\u001b[0m \u001b[0;34m\u001b[0m\u001b[0m\n\u001b[1;32m     14\u001b[0m \u001b[0;31m# explainers\u001b[0m\u001b[0;34m\u001b[0m\u001b[0;34m\u001b[0m\u001b[0m\n\u001b[0;32m---> 15\u001b[0;31m \u001b[0;32mfrom\u001b[0m \u001b[0;34m.\u001b[0m\u001b[0mexplainers\u001b[0m\u001b[0;34m.\u001b[0m\u001b[0m_explainer\u001b[0m \u001b[0;32mimport\u001b[0m \u001b[0mExplainer\u001b[0m\u001b[0;34m\u001b[0m\u001b[0m\n\u001b[0m\u001b[1;32m     16\u001b[0m \u001b[0;32mfrom\u001b[0m \u001b[0;34m.\u001b[0m\u001b[0mexplainers\u001b[0m\u001b[0;34m.\u001b[0m\u001b[0m_kernel\u001b[0m \u001b[0;32mimport\u001b[0m \u001b[0mKernel\u001b[0m \u001b[0;32mas\u001b[0m \u001b[0mKernelExplainer\u001b[0m\u001b[0;34m\u001b[0m\u001b[0m\n\u001b[1;32m     17\u001b[0m \u001b[0;32mfrom\u001b[0m \u001b[0;34m.\u001b[0m\u001b[0mexplainers\u001b[0m\u001b[0;34m.\u001b[0m\u001b[0m_sampling\u001b[0m \u001b[0;32mimport\u001b[0m \u001b[0mSampling\u001b[0m \u001b[0;32mas\u001b[0m \u001b[0mSamplingExplainer\u001b[0m\u001b[0;34m\u001b[0m\u001b[0m\n",
      "\u001b[0;32m~/anaconda3/lib/python3.7/site-packages/shap/explainers/__init__.py\u001b[0m in \u001b[0;36m<module>\u001b[0;34m()\u001b[0m\n\u001b[0;32m----> 1\u001b[0;31m \u001b[0;32mfrom\u001b[0m \u001b[0;34m.\u001b[0m\u001b[0m_permutation\u001b[0m \u001b[0;32mimport\u001b[0m \u001b[0mPermutation\u001b[0m\u001b[0;34m\u001b[0m\u001b[0m\n\u001b[0m\u001b[1;32m      2\u001b[0m \u001b[0;32mfrom\u001b[0m \u001b[0;34m.\u001b[0m\u001b[0m_partition\u001b[0m \u001b[0;32mimport\u001b[0m \u001b[0mPartition\u001b[0m\u001b[0;34m\u001b[0m\u001b[0m\n\u001b[1;32m      3\u001b[0m \u001b[0;32mfrom\u001b[0m \u001b[0;34m.\u001b[0m\u001b[0m_tree\u001b[0m \u001b[0;32mimport\u001b[0m \u001b[0mTree\u001b[0m\u001b[0;34m\u001b[0m\u001b[0m\n\u001b[1;32m      4\u001b[0m \u001b[0;32mfrom\u001b[0m \u001b[0;34m.\u001b[0m\u001b[0m_gpu_tree\u001b[0m \u001b[0;32mimport\u001b[0m \u001b[0mGPUTree\u001b[0m\u001b[0;34m\u001b[0m\u001b[0m\n\u001b[1;32m      5\u001b[0m \u001b[0;32mfrom\u001b[0m \u001b[0;34m.\u001b[0m\u001b[0m_exact\u001b[0m \u001b[0;32mimport\u001b[0m \u001b[0mExact\u001b[0m\u001b[0;34m\u001b[0m\u001b[0m\n",
      "\u001b[0;32m~/anaconda3/lib/python3.7/site-packages/shap/explainers/_permutation.py\u001b[0m in \u001b[0;36m<module>\u001b[0;34m()\u001b[0m\n\u001b[1;32m      3\u001b[0m \u001b[0;32mfrom\u001b[0m \u001b[0;34m.\u001b[0m\u001b[0;34m.\u001b[0m\u001b[0mutils\u001b[0m \u001b[0;32mimport\u001b[0m \u001b[0mpartition_tree_shuffle\u001b[0m\u001b[0;34m,\u001b[0m \u001b[0mMaskedModel\u001b[0m\u001b[0;34m\u001b[0m\u001b[0m\n\u001b[1;32m      4\u001b[0m \u001b[0;32mfrom\u001b[0m \u001b[0;34m.\u001b[0m\u001b[0;34m.\u001b[0m\u001b[0m_explanation\u001b[0m \u001b[0;32mimport\u001b[0m \u001b[0mExplanation\u001b[0m\u001b[0;34m\u001b[0m\u001b[0m\n\u001b[0;32m----> 5\u001b[0;31m \u001b[0;32mfrom\u001b[0m \u001b[0;34m.\u001b[0m\u001b[0m_explainer\u001b[0m \u001b[0;32mimport\u001b[0m \u001b[0mExplainer\u001b[0m\u001b[0;34m\u001b[0m\u001b[0m\n\u001b[0m\u001b[1;32m      6\u001b[0m \u001b[0;32mimport\u001b[0m \u001b[0mnumpy\u001b[0m \u001b[0;32mas\u001b[0m \u001b[0mnp\u001b[0m\u001b[0;34m\u001b[0m\u001b[0m\n\u001b[1;32m      7\u001b[0m \u001b[0;32mimport\u001b[0m \u001b[0mpandas\u001b[0m \u001b[0;32mas\u001b[0m \u001b[0mpd\u001b[0m\u001b[0;34m\u001b[0m\u001b[0m\n",
      "\u001b[0;32m~/anaconda3/lib/python3.7/site-packages/shap/explainers/_explainer.py\u001b[0m in \u001b[0;36m<module>\u001b[0;34m()\u001b[0m\n\u001b[1;32m      3\u001b[0m \u001b[0;32mimport\u001b[0m \u001b[0mnumpy\u001b[0m \u001b[0;32mas\u001b[0m \u001b[0mnp\u001b[0m\u001b[0;34m\u001b[0m\u001b[0m\n\u001b[1;32m      4\u001b[0m \u001b[0;32mimport\u001b[0m \u001b[0mscipy\u001b[0m \u001b[0;32mas\u001b[0m \u001b[0msp\u001b[0m\u001b[0;34m\u001b[0m\u001b[0m\n\u001b[0;32m----> 5\u001b[0;31m \u001b[0;32mfrom\u001b[0m \u001b[0;34m.\u001b[0m\u001b[0;34m.\u001b[0m \u001b[0;32mimport\u001b[0m \u001b[0mmaskers\u001b[0m\u001b[0;34m\u001b[0m\u001b[0m\n\u001b[0m\u001b[1;32m      6\u001b[0m \u001b[0;32mfrom\u001b[0m \u001b[0;34m.\u001b[0m\u001b[0;34m.\u001b[0m \u001b[0;32mimport\u001b[0m \u001b[0mlinks\u001b[0m\u001b[0;34m\u001b[0m\u001b[0m\n\u001b[1;32m      7\u001b[0m \u001b[0;32mfrom\u001b[0m \u001b[0;34m.\u001b[0m\u001b[0;34m.\u001b[0m\u001b[0mutils\u001b[0m \u001b[0;32mimport\u001b[0m \u001b[0msafe_isinstance\u001b[0m\u001b[0;34m,\u001b[0m \u001b[0mshow_progress\u001b[0m\u001b[0;34m\u001b[0m\u001b[0m\n",
      "\u001b[0;32m~/anaconda3/lib/python3.7/site-packages/shap/maskers/__init__.py\u001b[0m in \u001b[0;36m<module>\u001b[0;34m()\u001b[0m\n\u001b[1;32m      1\u001b[0m \u001b[0;32mfrom\u001b[0m \u001b[0;34m.\u001b[0m\u001b[0m_masker\u001b[0m \u001b[0;32mimport\u001b[0m \u001b[0mMasker\u001b[0m\u001b[0;34m\u001b[0m\u001b[0m\n\u001b[1;32m      2\u001b[0m \u001b[0;32mfrom\u001b[0m \u001b[0;34m.\u001b[0m\u001b[0m_tabular\u001b[0m \u001b[0;32mimport\u001b[0m \u001b[0mIndependent\u001b[0m\u001b[0;34m,\u001b[0m \u001b[0mPartition\u001b[0m\u001b[0;34m,\u001b[0m \u001b[0mImpute\u001b[0m\u001b[0;34m\u001b[0m\u001b[0m\n\u001b[0;32m----> 3\u001b[0;31m \u001b[0;32mfrom\u001b[0m \u001b[0;34m.\u001b[0m\u001b[0m_image\u001b[0m \u001b[0;32mimport\u001b[0m \u001b[0mImage\u001b[0m\u001b[0;34m\u001b[0m\u001b[0m\n\u001b[0m\u001b[1;32m      4\u001b[0m \u001b[0;32mfrom\u001b[0m \u001b[0;34m.\u001b[0m\u001b[0m_text\u001b[0m \u001b[0;32mimport\u001b[0m \u001b[0mText\u001b[0m\u001b[0;34m\u001b[0m\u001b[0m\n\u001b[1;32m      5\u001b[0m \u001b[0;32mfrom\u001b[0m \u001b[0;34m.\u001b[0m\u001b[0m_fixed\u001b[0m \u001b[0;32mimport\u001b[0m \u001b[0mFixed\u001b[0m\u001b[0;34m\u001b[0m\u001b[0m\n",
      "\u001b[0;32m~/anaconda3/lib/python3.7/site-packages/shap/maskers/_image.py\u001b[0m in \u001b[0;36m<module>\u001b[0;34m()\u001b[0m\n\u001b[1;32m     12\u001b[0m \u001b[0;34m\u001b[0m\u001b[0m\n\u001b[1;32m     13\u001b[0m \u001b[0;31m# TODO: heapq in numba does not yet support Typed Lists so we can move to them yet...\u001b[0m\u001b[0;34m\u001b[0m\u001b[0;34m\u001b[0m\u001b[0m\n\u001b[0;32m---> 14\u001b[0;31m \u001b[0;32mfrom\u001b[0m \u001b[0mnumba\u001b[0m\u001b[0;34m.\u001b[0m\u001b[0mcore\u001b[0m\u001b[0;34m.\u001b[0m\u001b[0merrors\u001b[0m \u001b[0;32mimport\u001b[0m \u001b[0mNumbaPendingDeprecationWarning\u001b[0m\u001b[0;34m\u001b[0m\u001b[0m\n\u001b[0m\u001b[1;32m     15\u001b[0m \u001b[0;32mimport\u001b[0m \u001b[0mwarnings\u001b[0m\u001b[0;34m\u001b[0m\u001b[0m\n\u001b[1;32m     16\u001b[0m \u001b[0mwarnings\u001b[0m\u001b[0;34m.\u001b[0m\u001b[0msimplefilter\u001b[0m\u001b[0;34m(\u001b[0m\u001b[0;34m'ignore'\u001b[0m\u001b[0;34m,\u001b[0m \u001b[0mcategory\u001b[0m\u001b[0;34m=\u001b[0m\u001b[0mNumbaPendingDeprecationWarning\u001b[0m\u001b[0;34m)\u001b[0m\u001b[0;34m\u001b[0m\u001b[0m\n",
      "\u001b[0;31mModuleNotFoundError\u001b[0m: No module named 'numba.core'"
     ]
    }
   ],
   "source": [
    "import shap"
   ]
  },
  {
   "cell_type": "code",
   "execution_count": 17,
   "metadata": {},
   "outputs": [
    {
     "name": "stdout",
     "output_type": "stream",
     "text": [
      "alabaster==0.7.11\n",
      "alembic==1.8.1\n",
      "anaconda-client==1.7.2\n",
      "anaconda-navigator==1.9.2\n",
      "anaconda-project==0.8.2\n",
      "antlr4-python3-runtime==4.8\n",
      "appdirs==1.4.3\n",
      "asn1crypto==0.24.0\n",
      "astroid==2.0.4\n",
      "astropy==3.0.4\n",
      "async-generator==1.10\n",
      "atomicwrites==1.2.1\n",
      "attrs==22.1.0\n",
      "Automat==0.7.0\n",
      "autopage==0.5.1\n",
      "Babel==2.6.0\n",
      "backcall==0.1.0\n",
      "backports.shutil-get-terminal-size==1.0.0\n",
      "beautifulsoup4==4.8.2\n",
      "bitarray==0.8.3\n",
      "bkcharts==0.2\n",
      "blaze==0.11.3\n",
      "bleach==2.1.4\n",
      "bokeh==0.13.0\n",
      "boto==2.49.0\n",
      "Bottleneck==1.2.1\n",
      "certifi==2018.8.24\n",
      "cffi==1.11.5\n",
      "chardet==3.0.4\n",
      "charset-normalizer==2.1.0\n",
      "click==6.7\n",
      "cliff==3.10.1\n",
      "cloudpickle==0.5.5\n",
      "clyent==1.2.2\n",
      "cmaes==0.8.2\n",
      "cmd2==2.4.2\n",
      "colorama==0.3.9\n",
      "colorlog==6.7.0\n",
      "conda==4.5.11\n",
      "conda-build==3.15.1\n",
      "constantly==15.1.0\n",
      "contextlib2==0.5.5\n",
      "cryptography==2.3.1\n",
      "cycler==0.10.0\n",
      "Cython==0.28.5\n",
      "cytoolz==0.9.0.1\n",
      "dask==0.19.1\n",
      "datashape==0.5.4\n",
      "decorator==4.3.0\n",
      "defusedxml==0.5.0\n",
      "distlib==0.3.5\n",
      "distributed==1.23.1\n",
      "docutils==0.14\n",
      "entrypoints==0.2.3\n",
      "et-xmlfile==1.0.1\n",
      "fastcache==1.0.2\n",
      "filelock==3.8.0\n",
      "Flask==1.0.2\n",
      "Flask-Cors==3.0.6\n",
      "gevent==1.3.6\n",
      "glob2==0.6\n",
      "gmpy2==2.0.8\n",
      "greenlet==0.4.15\n",
      "h11==0.13.0\n",
      "h5py==2.8.0\n",
      "heapdict==1.0.0\n",
      "html5lib==1.0.1\n",
      "hyperlink==18.0.0\n",
      "idna==2.7\n",
      "igraph==0.10.2\n",
      "imageio==2.4.1\n",
      "imagesize==1.1.0\n",
      "importlib-metadata==4.12.0\n",
      "importlib-resources==5.10.0\n",
      "incremental==17.5.0\n",
      "iniconfig==1.1.1\n",
      "install==1.3.5\n",
      "ipykernel==4.9.0\n",
      "ipython==6.5.0\n",
      "ipython_genutils==0.2.0\n",
      "ipywidgets==7.4.1\n",
      "isort==4.3.4\n",
      "itsdangerous==0.24\n",
      "jdcal==1.4\n",
      "jedi==0.12.1\n",
      "jeepney==0.3.1\n",
      "Jinja2==2.10\n",
      "jsonlines==3.1.0\n",
      "jsonschema==2.6.0\n",
      "jupyter==1.0.0\n",
      "jupyter-client==5.2.3\n",
      "jupyter-console==5.2.0\n",
      "jupyter-core==4.4.0\n",
      "jupyterlab==0.34.9\n",
      "jupyterlab-launcher==0.13.1\n",
      "keyring==13.2.1\n",
      "kiwisolver==1.0.1\n",
      "lazy-object-proxy==1.3.1\n",
      "llvmlite==0.24.0\n",
      "locket==0.2.0\n",
      "lxml==4.2.5\n",
      "Mako==1.2.3\n",
      "MarkupSafe==1.0\n",
      "matplotlib==2.2.3\n",
      "mccabe==0.6.1\n",
      "mistune==0.8.3\n",
      "mkl-fft==1.0.4\n",
      "mkl-random==1.0.1\n",
      "more-itertools==4.3.0\n",
      "mpmath==1.0.0\n",
      "msgpack==0.5.6\n",
      "multipledispatch==0.6.0\n",
      "navigator-updater==0.2.1\n",
      "nbconvert==5.4.0\n",
      "nbformat==4.4.0\n",
      "networkx==2.1\n",
      "nltk==3.3\n",
      "nose==1.3.7\n",
      "notebook==5.6.0\n",
      "numba==0.39.0\n",
      "numexpr==2.6.8\n",
      "numpy==1.21.6\n",
      "numpydoc==0.8.0\n",
      "odo==0.5.1\n",
      "olefile==0.46\n",
      "openpyxl==2.5.6\n",
      "optuna==3.0.3\n",
      "outcome==1.2.0\n",
      "packaging==21.3\n",
      "pandas==0.23.4\n",
      "pandocfilters==1.4.2\n",
      "parso==0.3.1\n",
      "partd==0.3.8\n",
      "path.py==11.1.0\n",
      "pathlib2==2.3.2\n",
      "patsy==0.5.0\n",
      "pbr==5.11.0\n",
      "pep8==1.7.1\n",
      "pexpect==4.6.0\n",
      "pickleshare==0.7.4\n",
      "Pillow==9.2.0\n",
      "pkginfo==1.4.2\n",
      "platformdirs==2.5.2\n",
      "plotly==5.11.0\n",
      "pluggy==0.7.1\n",
      "ply==3.11\n",
      "prettytable==3.5.0\n",
      "prometheus-client==0.3.1\n",
      "prompt-toolkit==1.0.15\n",
      "psutil==5.4.7\n",
      "ptyprocess==0.6.0\n",
      "py==1.6.0\n",
      "py-rouge==1.1\n",
      "py2cytoscape==0.7.1\n",
      "pyasn1==0.4.4\n",
      "pyasn1-modules==0.2.2\n",
      "pycodestyle==2.4.0\n",
      "pycosat==0.6.3\n",
      "pycparser==2.18\n",
      "pycrypto==2.6.1\n",
      "pycurl==7.43.0.2\n",
      "pydot==1.4.2\n",
      "pydotplus==2.0.2\n",
      "pyflakes==2.0.0\n",
      "Pygments==2.2.0\n",
      "pylint==2.1.1\n",
      "pyodbc==4.0.24\n",
      "pyOpenSSL==18.0.0\n",
      "pyparsing==2.2.0\n",
      "pyperclip==1.8.2\n",
      "PySocks==1.6.8\n",
      "pytest==3.8.0\n",
      "pytest-arraydiff==0.2\n",
      "pytest-astropy==0.4.0\n",
      "pytest-doctestplus==0.1.3\n",
      "pytest-openfiles==0.3.0\n",
      "pytest-remotedata==0.3.0\n",
      "python-dateutil==2.7.3\n",
      "python-dotenv==0.20.0\n",
      "python-igraph==0.10.2\n",
      "pytz==2018.5\n",
      "PyWavelets==1.0.0\n",
      "PyYAML==3.13\n",
      "pyzmq==17.1.2\n",
      "QtAwesome==0.4.4\n",
      "qtconsole==4.4.1\n",
      "QtPy==1.5.0\n",
      "regex==2022.9.13\n",
      "requests==2.28.1\n",
      "rope==0.11.0\n",
      "rsa==4.9\n",
      "ruamel_yaml==0.15.46\n",
      "scikit-image==0.14.0\n",
      "scikit-learn==0.19.2\n",
      "scipy==1.7.3\n",
      "seaborn==0.9.0\n",
      "SecretStorage==3.1.0\n",
      "selenium==4.4.0\n",
      "Send2Trash==1.5.0\n",
      "service-identity==17.0.0\n",
      "sh==1.14.3\n",
      "shap==0.41.0\n",
      "simplegeneric==0.8.1\n",
      "singledispatch==3.4.0.3\n",
      "six==1.11.0\n",
      "sklearn==0.0\n",
      "slicer==0.0.7\n",
      "smmap==5.0.0\n",
      "sniffio==1.2.0\n",
      "snowballstemmer==1.2.1\n",
      "sortedcollections==1.0.1\n",
      "sortedcontainers==2.0.5\n",
      "soupsieve==2.3.2.post1\n",
      "Sphinx==1.7.9\n",
      "sphinxcontrib-applehelp==1.0.2\n",
      "sphinxcontrib-devhelp==1.0.2\n",
      "sphinxcontrib-htmlhelp==2.0.0\n",
      "sphinxcontrib-jsmath==1.0.1\n",
      "sphinxcontrib-qthelp==1.0.3\n",
      "sphinxcontrib-serializinghtml==1.1.5\n",
      "sphinxcontrib-websupport==1.1.0\n",
      "spyder==3.3.1\n",
      "spyder-kernels==0.2.6\n",
      "SQLAlchemy==1.4.42\n",
      "statsmodels==0.9.0\n",
      "stevedore==3.5.2\n",
      "sympy==1.2\n",
      "tables==3.4.4\n",
      "tblib==1.3.2\n",
      "tenacity==8.1.0\n",
      "tensorboard-data-server==0.6.1\n",
      "tensorboard-plugin-wit==1.8.1\n",
      "terminado==0.8.1\n",
      "testpath==0.3.1\n",
      "texttable==1.6.4\n",
      "tokenizers==0.13.1\n",
      "tomli==1.2.3\n",
      "toolz==0.9.0\n",
      "torch==1.12.1\n",
      "torchvision==0.13.1\n",
      "tornado==5.1\n",
      "tqdm==4.62.3\n",
      "traitlets==4.3.2\n",
      "trio==0.21.0\n",
      "trio-websocket==0.9.2\n",
      "Twisted==18.7.0\n",
      "typing_extensions==4.3.0\n",
      "unicodecsv==0.14.1\n",
      "Unidecode==1.3.6\n",
      "untokenize==0.1.1\n",
      "urllib3==1.26.11\n",
      "virtualenv==20.16.3\n",
      "wcwidth==0.1.7\n",
      "webdriver-manager==3.8.3\n",
      "webencodings==0.5.1\n",
      "websocket-client==1.4.1\n",
      "websocket-server==0.6.4\n",
      "Werkzeug==0.14.1\n",
      "widgetsnbextension==3.4.1\n",
      "wrapt==1.10.11\n",
      "wsproto==1.1.0\n",
      "xgboost==1.6.2\n",
      "xlrd==1.1.0\n",
      "XlsxWriter==1.1.0\n",
      "xlwt==1.3.0\n",
      "xxhash==3.0.0\n",
      "zict==0.1.3\n",
      "zipp==3.8.1\n",
      "zope.interface==4.5.0\n"
     ]
    }
   ],
   "source": [
    "!pip freeze"
   ]
  },
  {
   "cell_type": "code",
   "execution_count": 13,
   "metadata": {},
   "outputs": [
    {
     "name": "stdout",
     "output_type": "stream",
     "text": [
      "Requirement already satisfied: numba in /home/seonggye/anaconda3/lib/python3.7/site-packages (0.39.0)\n",
      "Collecting numba\n",
      "  Downloading numba-0.56.4-cp37-cp37m-manylinux2014_x86_64.manylinux_2_17_x86_64.whl (3.5 MB)\n",
      "\u001b[2K     \u001b[90m━━━━━━━━━━━━━━━━━━━━━━━━━━━━━━━━━━━━━━━━\u001b[0m \u001b[32m3.5/3.5 MB\u001b[0m \u001b[31m24.8 MB/s\u001b[0m eta \u001b[36m0:00:00\u001b[0m00:01\u001b[0m00:01\u001b[0m\n",
      "\u001b[?25hRequirement already satisfied: importlib-metadata in /home/seonggye/anaconda3/lib/python3.7/site-packages (from numba) (4.12.0)\n",
      "Requirement already satisfied: setuptools in /home/seonggye/anaconda3/lib/python3.7/site-packages (from numba) (65.4.1)\n",
      "Collecting llvmlite<0.40,>=0.39.0dev0\n",
      "  Downloading llvmlite-0.39.1-cp37-cp37m-manylinux_2_17_x86_64.manylinux2014_x86_64.whl (34.6 MB)\n",
      "\u001b[2K     \u001b[90m━━━━━━━━━━━━━━━━━━━━━━━━━━━━━━━━━━━━━━━━\u001b[0m \u001b[32m34.6/34.6 MB\u001b[0m \u001b[31m37.0 MB/s\u001b[0m eta \u001b[36m0:00:00\u001b[0m00:01\u001b[0m00:01\u001b[0m\n",
      "\u001b[?25hRequirement already satisfied: numpy<1.24,>=1.18 in /home/seonggye/anaconda3/lib/python3.7/site-packages (from numba) (1.21.6)\n",
      "Requirement already satisfied: zipp>=0.5 in /home/seonggye/anaconda3/lib/python3.7/site-packages (from importlib-metadata->numba) (3.8.1)\n",
      "Requirement already satisfied: typing-extensions>=3.6.4 in /home/seonggye/anaconda3/lib/python3.7/site-packages (from importlib-metadata->numba) (4.3.0)\n",
      "Installing collected packages: llvmlite, numba\n",
      "  Attempting uninstall: llvmlite\n",
      "    Found existing installation: llvmlite 0.24.0\n",
      "\u001b[31mERROR: Cannot uninstall 'llvmlite'. It is a distutils installed project and thus we cannot accurately determine which files belong to it which would lead to only a partial uninstall.\u001b[0m\u001b[31m\n",
      "\u001b[0m\n",
      "\u001b[1m[\u001b[0m\u001b[34;49mnotice\u001b[0m\u001b[1;39;49m]\u001b[0m\u001b[39;49m A new release of pip available: \u001b[0m\u001b[31;49m22.2.2\u001b[0m\u001b[39;49m -> \u001b[0m\u001b[32;49m22.3.1\u001b[0m\n",
      "\u001b[1m[\u001b[0m\u001b[34;49mnotice\u001b[0m\u001b[1;39;49m]\u001b[0m\u001b[39;49m To update, run: \u001b[0m\u001b[32;49mpip install --upgrade pip\u001b[0m\n"
     ]
    }
   ],
   "source": [
    "! pip install numba --upgrade"
   ]
  },
  {
   "cell_type": "code",
   "execution_count": 15,
   "metadata": {},
   "outputs": [
    {
     "name": "stdout",
     "output_type": "stream",
     "text": [
      "ERROR: unknown command \"freezee\" - maybe you meant \"freeze\"\n"
     ]
    }
   ],
   "source": []
  },
  {
   "cell_type": "code",
   "execution_count": 8,
   "metadata": {},
   "outputs": [
    {
     "ename": "ModuleNotFoundError",
     "evalue": "No module named 'numba.core'",
     "output_type": "error",
     "traceback": [
      "\u001b[0;31m---------------------------------------------------------------------------\u001b[0m",
      "\u001b[0;31mModuleNotFoundError\u001b[0m                       Traceback (most recent call last)",
      "\u001b[0;32m<ipython-input-8-efbb001a1501>\u001b[0m in \u001b[0;36m<module>\u001b[0;34m()\u001b[0m\n\u001b[0;32m----> 1\u001b[0;31m \u001b[0;32mimport\u001b[0m \u001b[0mshap\u001b[0m\u001b[0;34m\u001b[0m\u001b[0m\n\u001b[0m",
      "\u001b[0;32m~/anaconda3/lib/python3.7/site-packages/shap/__init__.py\u001b[0m in \u001b[0;36m<module>\u001b[0;34m()\u001b[0m\n\u001b[1;32m     13\u001b[0m \u001b[0;34m\u001b[0m\u001b[0m\n\u001b[1;32m     14\u001b[0m \u001b[0;31m# explainers\u001b[0m\u001b[0;34m\u001b[0m\u001b[0;34m\u001b[0m\u001b[0m\n\u001b[0;32m---> 15\u001b[0;31m \u001b[0;32mfrom\u001b[0m \u001b[0;34m.\u001b[0m\u001b[0mexplainers\u001b[0m\u001b[0;34m.\u001b[0m\u001b[0m_explainer\u001b[0m \u001b[0;32mimport\u001b[0m \u001b[0mExplainer\u001b[0m\u001b[0;34m\u001b[0m\u001b[0m\n\u001b[0m\u001b[1;32m     16\u001b[0m \u001b[0;32mfrom\u001b[0m \u001b[0;34m.\u001b[0m\u001b[0mexplainers\u001b[0m\u001b[0;34m.\u001b[0m\u001b[0m_kernel\u001b[0m \u001b[0;32mimport\u001b[0m \u001b[0mKernel\u001b[0m \u001b[0;32mas\u001b[0m \u001b[0mKernelExplainer\u001b[0m\u001b[0;34m\u001b[0m\u001b[0m\n\u001b[1;32m     17\u001b[0m \u001b[0;32mfrom\u001b[0m \u001b[0;34m.\u001b[0m\u001b[0mexplainers\u001b[0m\u001b[0;34m.\u001b[0m\u001b[0m_sampling\u001b[0m \u001b[0;32mimport\u001b[0m \u001b[0mSampling\u001b[0m \u001b[0;32mas\u001b[0m \u001b[0mSamplingExplainer\u001b[0m\u001b[0;34m\u001b[0m\u001b[0m\n",
      "\u001b[0;32m~/anaconda3/lib/python3.7/site-packages/shap/explainers/__init__.py\u001b[0m in \u001b[0;36m<module>\u001b[0;34m()\u001b[0m\n\u001b[0;32m----> 1\u001b[0;31m \u001b[0;32mfrom\u001b[0m \u001b[0;34m.\u001b[0m\u001b[0m_permutation\u001b[0m \u001b[0;32mimport\u001b[0m \u001b[0mPermutation\u001b[0m\u001b[0;34m\u001b[0m\u001b[0m\n\u001b[0m\u001b[1;32m      2\u001b[0m \u001b[0;32mfrom\u001b[0m \u001b[0;34m.\u001b[0m\u001b[0m_partition\u001b[0m \u001b[0;32mimport\u001b[0m \u001b[0mPartition\u001b[0m\u001b[0;34m\u001b[0m\u001b[0m\n\u001b[1;32m      3\u001b[0m \u001b[0;32mfrom\u001b[0m \u001b[0;34m.\u001b[0m\u001b[0m_tree\u001b[0m \u001b[0;32mimport\u001b[0m \u001b[0mTree\u001b[0m\u001b[0;34m\u001b[0m\u001b[0m\n\u001b[1;32m      4\u001b[0m \u001b[0;32mfrom\u001b[0m \u001b[0;34m.\u001b[0m\u001b[0m_gpu_tree\u001b[0m \u001b[0;32mimport\u001b[0m \u001b[0mGPUTree\u001b[0m\u001b[0;34m\u001b[0m\u001b[0m\n\u001b[1;32m      5\u001b[0m \u001b[0;32mfrom\u001b[0m \u001b[0;34m.\u001b[0m\u001b[0m_exact\u001b[0m \u001b[0;32mimport\u001b[0m \u001b[0mExact\u001b[0m\u001b[0;34m\u001b[0m\u001b[0m\n",
      "\u001b[0;32m~/anaconda3/lib/python3.7/site-packages/shap/explainers/_permutation.py\u001b[0m in \u001b[0;36m<module>\u001b[0;34m()\u001b[0m\n\u001b[1;32m      3\u001b[0m \u001b[0;32mfrom\u001b[0m \u001b[0;34m.\u001b[0m\u001b[0;34m.\u001b[0m\u001b[0mutils\u001b[0m \u001b[0;32mimport\u001b[0m \u001b[0mpartition_tree_shuffle\u001b[0m\u001b[0;34m,\u001b[0m \u001b[0mMaskedModel\u001b[0m\u001b[0;34m\u001b[0m\u001b[0m\n\u001b[1;32m      4\u001b[0m \u001b[0;32mfrom\u001b[0m \u001b[0;34m.\u001b[0m\u001b[0;34m.\u001b[0m\u001b[0m_explanation\u001b[0m \u001b[0;32mimport\u001b[0m \u001b[0mExplanation\u001b[0m\u001b[0;34m\u001b[0m\u001b[0m\n\u001b[0;32m----> 5\u001b[0;31m \u001b[0;32mfrom\u001b[0m \u001b[0;34m.\u001b[0m\u001b[0m_explainer\u001b[0m \u001b[0;32mimport\u001b[0m \u001b[0mExplainer\u001b[0m\u001b[0;34m\u001b[0m\u001b[0m\n\u001b[0m\u001b[1;32m      6\u001b[0m \u001b[0;32mimport\u001b[0m \u001b[0mnumpy\u001b[0m \u001b[0;32mas\u001b[0m \u001b[0mnp\u001b[0m\u001b[0;34m\u001b[0m\u001b[0m\n\u001b[1;32m      7\u001b[0m \u001b[0;32mimport\u001b[0m \u001b[0mpandas\u001b[0m \u001b[0;32mas\u001b[0m \u001b[0mpd\u001b[0m\u001b[0;34m\u001b[0m\u001b[0m\n",
      "\u001b[0;32m~/anaconda3/lib/python3.7/site-packages/shap/explainers/_explainer.py\u001b[0m in \u001b[0;36m<module>\u001b[0;34m()\u001b[0m\n\u001b[1;32m      3\u001b[0m \u001b[0;32mimport\u001b[0m \u001b[0mnumpy\u001b[0m \u001b[0;32mas\u001b[0m \u001b[0mnp\u001b[0m\u001b[0;34m\u001b[0m\u001b[0m\n\u001b[1;32m      4\u001b[0m \u001b[0;32mimport\u001b[0m \u001b[0mscipy\u001b[0m \u001b[0;32mas\u001b[0m \u001b[0msp\u001b[0m\u001b[0;34m\u001b[0m\u001b[0m\n\u001b[0;32m----> 5\u001b[0;31m \u001b[0;32mfrom\u001b[0m \u001b[0;34m.\u001b[0m\u001b[0;34m.\u001b[0m \u001b[0;32mimport\u001b[0m \u001b[0mmaskers\u001b[0m\u001b[0;34m\u001b[0m\u001b[0m\n\u001b[0m\u001b[1;32m      6\u001b[0m \u001b[0;32mfrom\u001b[0m \u001b[0;34m.\u001b[0m\u001b[0;34m.\u001b[0m \u001b[0;32mimport\u001b[0m \u001b[0mlinks\u001b[0m\u001b[0;34m\u001b[0m\u001b[0m\n\u001b[1;32m      7\u001b[0m \u001b[0;32mfrom\u001b[0m \u001b[0;34m.\u001b[0m\u001b[0;34m.\u001b[0m\u001b[0mutils\u001b[0m \u001b[0;32mimport\u001b[0m \u001b[0msafe_isinstance\u001b[0m\u001b[0;34m,\u001b[0m \u001b[0mshow_progress\u001b[0m\u001b[0;34m\u001b[0m\u001b[0m\n",
      "\u001b[0;32m~/anaconda3/lib/python3.7/site-packages/shap/maskers/__init__.py\u001b[0m in \u001b[0;36m<module>\u001b[0;34m()\u001b[0m\n\u001b[1;32m      1\u001b[0m \u001b[0;32mfrom\u001b[0m \u001b[0;34m.\u001b[0m\u001b[0m_masker\u001b[0m \u001b[0;32mimport\u001b[0m \u001b[0mMasker\u001b[0m\u001b[0;34m\u001b[0m\u001b[0m\n\u001b[1;32m      2\u001b[0m \u001b[0;32mfrom\u001b[0m \u001b[0;34m.\u001b[0m\u001b[0m_tabular\u001b[0m \u001b[0;32mimport\u001b[0m \u001b[0mIndependent\u001b[0m\u001b[0;34m,\u001b[0m \u001b[0mPartition\u001b[0m\u001b[0;34m,\u001b[0m \u001b[0mImpute\u001b[0m\u001b[0;34m\u001b[0m\u001b[0m\n\u001b[0;32m----> 3\u001b[0;31m \u001b[0;32mfrom\u001b[0m \u001b[0;34m.\u001b[0m\u001b[0m_image\u001b[0m \u001b[0;32mimport\u001b[0m \u001b[0mImage\u001b[0m\u001b[0;34m\u001b[0m\u001b[0m\n\u001b[0m\u001b[1;32m      4\u001b[0m \u001b[0;32mfrom\u001b[0m \u001b[0;34m.\u001b[0m\u001b[0m_text\u001b[0m \u001b[0;32mimport\u001b[0m \u001b[0mText\u001b[0m\u001b[0;34m\u001b[0m\u001b[0m\n\u001b[1;32m      5\u001b[0m \u001b[0;32mfrom\u001b[0m \u001b[0;34m.\u001b[0m\u001b[0m_fixed\u001b[0m \u001b[0;32mimport\u001b[0m \u001b[0mFixed\u001b[0m\u001b[0;34m\u001b[0m\u001b[0m\n",
      "\u001b[0;32m~/anaconda3/lib/python3.7/site-packages/shap/maskers/_image.py\u001b[0m in \u001b[0;36m<module>\u001b[0;34m()\u001b[0m\n\u001b[1;32m     12\u001b[0m \u001b[0;34m\u001b[0m\u001b[0m\n\u001b[1;32m     13\u001b[0m \u001b[0;31m# TODO: heapq in numba does not yet support Typed Lists so we can move to them yet...\u001b[0m\u001b[0;34m\u001b[0m\u001b[0;34m\u001b[0m\u001b[0m\n\u001b[0;32m---> 14\u001b[0;31m \u001b[0;32mfrom\u001b[0m \u001b[0mnumba\u001b[0m\u001b[0;34m.\u001b[0m\u001b[0mcore\u001b[0m\u001b[0;34m.\u001b[0m\u001b[0merrors\u001b[0m \u001b[0;32mimport\u001b[0m \u001b[0mNumbaPendingDeprecationWarning\u001b[0m\u001b[0;34m\u001b[0m\u001b[0m\n\u001b[0m\u001b[1;32m     15\u001b[0m \u001b[0;32mimport\u001b[0m \u001b[0mwarnings\u001b[0m\u001b[0;34m\u001b[0m\u001b[0m\n\u001b[1;32m     16\u001b[0m \u001b[0mwarnings\u001b[0m\u001b[0;34m.\u001b[0m\u001b[0msimplefilter\u001b[0m\u001b[0;34m(\u001b[0m\u001b[0;34m'ignore'\u001b[0m\u001b[0;34m,\u001b[0m \u001b[0mcategory\u001b[0m\u001b[0;34m=\u001b[0m\u001b[0mNumbaPendingDeprecationWarning\u001b[0m\u001b[0;34m)\u001b[0m\u001b[0;34m\u001b[0m\u001b[0m\n",
      "\u001b[0;31mModuleNotFoundError\u001b[0m: No module named 'numba.core'"
     ]
    }
   ],
   "source": [
    "import shap"
   ]
  },
  {
   "cell_type": "code",
   "execution_count": null,
   "metadata": {},
   "outputs": [],
   "source": []
  }
 ],
 "metadata": {
  "kernelspec": {
   "display_name": "Python 3.7.0 ('base': conda)",
   "language": "python",
   "name": "python3"
  },
  "language_info": {
   "codemirror_mode": {
    "name": "ipython",
    "version": 3
   },
   "file_extension": ".py",
   "mimetype": "text/x-python",
   "name": "python",
   "nbconvert_exporter": "python",
   "pygments_lexer": "ipython3",
   "version": "3.7.0"
  },
  "orig_nbformat": 4,
  "vscode": {
   "interpreter": {
    "hash": "b45ecbb8e80b355e3deef69ddcdcfb2bbb117fcb11cd7d389b99c49babd160c0"
   }
  }
 },
 "nbformat": 4,
 "nbformat_minor": 2
}
