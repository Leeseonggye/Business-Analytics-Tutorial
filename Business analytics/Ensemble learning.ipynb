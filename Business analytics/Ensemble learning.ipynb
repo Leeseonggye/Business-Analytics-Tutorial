{
 "cells": [
  {
   "cell_type": "markdown",
   "metadata": {},
   "source": [
    "## ※ Business analytics tutorial- Ensemble learning\n",
    "---\n",
    "본 튜토리얼은 고려대학교 강필성 교수님의 Business analytics 수업의 내용을 정리한 튜토리얼 코드 입니다.  \n",
    "튜토리얼에서는 Ensemble learning의 대표적인 방법론인 **XGBoost** 에 대한 코드와 간단한 설명을 다룹니다.  \n",
    "\n",
    "출처1: https://www.kaggle.com/code/lifesailor/xgboost"
   ]
  },
  {
   "cell_type": "code",
   "execution_count": 1,
   "metadata": {},
   "outputs": [
    {
     "name": "stdout",
     "output_type": "stream",
     "text": [
      "Collecting xgboost\n",
      "  Downloading xgboost-1.7.1-py3-none-manylinux2014_x86_64.whl (193.6 MB)\n",
      "\u001b[K     |████████████████████████████████| 193.6 MB 53.9 MB/s eta 0:00:01\n",
      "\u001b[?25hRequirement already satisfied: scipy in /usr/local/lib/python3.8/dist-packages (from xgboost) (1.8.1)\n",
      "Requirement already satisfied: numpy in /usr/local/lib/python3.8/dist-packages (from xgboost) (1.22.4)\n",
      "Installing collected packages: xgboost\n",
      "Successfully installed xgboost-1.7.1\n"
     ]
    }
   ],
   "source": [
    "!pip install xgboost"
   ]
  },
  {
   "cell_type": "code",
   "execution_count": 2,
   "metadata": {},
   "outputs": [],
   "source": [
    "# library 호출\n",
    "import pandas as pd\n",
    "import numpy as np\n",
    "from xgboost import XGBClassifier\n",
    "import matplotlib.pyplot as plt\n",
    "%matplotlib inline"
   ]
  },
  {
   "cell_type": "markdown",
   "metadata": {},
   "source": [
    "### loan_data를 활용한 실습 XGBoost 실습\n",
    "본 실험에서는 대출 연체 여부를 예측하기 위해 구성된 데이터셋인 loan_data를 활용하여 실습을 진행합니다.  \n",
    "각 변수에 대한 설명은 다음과 같습니다.  \n",
    "  \n",
    "<img src=\"images/loan_data_description.png\" width=\"750px\" height=\"777px\" title=\"loan_data\"/>  \n",
    "\n",
    "본 데이터셋을 활용하여 XGBoost를 통해 성능을 평가하도록 하겠습니다."
   ]
  },
  {
   "cell_type": "code",
   "execution_count": 3,
   "metadata": {},
   "outputs": [],
   "source": [
    "# load loan data\n",
    "loan_data = pd.read_csv('dataset/loan_data.csv')"
   ]
  },
  {
   "cell_type": "code",
   "execution_count": 4,
   "metadata": {},
   "outputs": [
    {
     "data": {
      "text/html": [
       "<div>\n",
       "<style scoped>\n",
       "    .dataframe tbody tr th:only-of-type {\n",
       "        vertical-align: middle;\n",
       "    }\n",
       "\n",
       "    .dataframe tbody tr th {\n",
       "        vertical-align: top;\n",
       "    }\n",
       "\n",
       "    .dataframe thead th {\n",
       "        text-align: right;\n",
       "    }\n",
       "</style>\n",
       "<table border=\"1\" class=\"dataframe\">\n",
       "  <thead>\n",
       "    <tr style=\"text-align: right;\">\n",
       "      <th></th>\n",
       "      <th>AGE</th>\n",
       "      <th>TOT_LOAN</th>\n",
       "      <th>TOT_LOAN_CRD</th>\n",
       "      <th>LOAN_BNK</th>\n",
       "      <th>LOAN_CPT</th>\n",
       "      <th>CRDT_CNT</th>\n",
       "      <th>GUARN_CNT</th>\n",
       "      <th>INCOME</th>\n",
       "      <th>LOAN_CRD_CNT</th>\n",
       "      <th>LATE_RATE</th>\n",
       "      <th>...</th>\n",
       "      <th>CALL_TIME</th>\n",
       "      <th>TEL_COST_MON</th>\n",
       "      <th>MOBILE_PRICE</th>\n",
       "      <th>SUSP_DAY</th>\n",
       "      <th>LATE_TEL</th>\n",
       "      <th>COMB_COMM</th>\n",
       "      <th>SEX</th>\n",
       "      <th>PAY_METHOD</th>\n",
       "      <th>JOB</th>\n",
       "      <th>TARGET</th>\n",
       "    </tr>\n",
       "  </thead>\n",
       "  <tbody>\n",
       "    <tr>\n",
       "      <th>0</th>\n",
       "      <td>40</td>\n",
       "      <td>6</td>\n",
       "      <td>6</td>\n",
       "      <td>6</td>\n",
       "      <td>0</td>\n",
       "      <td>0</td>\n",
       "      <td>0</td>\n",
       "      <td>4500</td>\n",
       "      <td>0</td>\n",
       "      <td>16</td>\n",
       "      <td>...</td>\n",
       "      <td>1.52</td>\n",
       "      <td>120</td>\n",
       "      <td>500</td>\n",
       "      <td>0</td>\n",
       "      <td>120</td>\n",
       "      <td>0</td>\n",
       "      <td>M</td>\n",
       "      <td>A</td>\n",
       "      <td>A</td>\n",
       "      <td>0</td>\n",
       "    </tr>\n",
       "    <tr>\n",
       "      <th>1</th>\n",
       "      <td>35</td>\n",
       "      <td>9</td>\n",
       "      <td>9</td>\n",
       "      <td>0</td>\n",
       "      <td>0</td>\n",
       "      <td>1</td>\n",
       "      <td>0</td>\n",
       "      <td>3700</td>\n",
       "      <td>0</td>\n",
       "      <td>9</td>\n",
       "      <td>...</td>\n",
       "      <td>2.14</td>\n",
       "      <td>100</td>\n",
       "      <td>800</td>\n",
       "      <td>0</td>\n",
       "      <td>0</td>\n",
       "      <td>0</td>\n",
       "      <td>M</td>\n",
       "      <td>C</td>\n",
       "      <td>B</td>\n",
       "      <td>0</td>\n",
       "    </tr>\n",
       "    <tr>\n",
       "      <th>2</th>\n",
       "      <td>55</td>\n",
       "      <td>9</td>\n",
       "      <td>9</td>\n",
       "      <td>0</td>\n",
       "      <td>0</td>\n",
       "      <td>0</td>\n",
       "      <td>0</td>\n",
       "      <td>6400</td>\n",
       "      <td>0</td>\n",
       "      <td>1</td>\n",
       "      <td>...</td>\n",
       "      <td>0.50</td>\n",
       "      <td>50</td>\n",
       "      <td>700</td>\n",
       "      <td>0</td>\n",
       "      <td>0</td>\n",
       "      <td>0</td>\n",
       "      <td>M</td>\n",
       "      <td>C</td>\n",
       "      <td>B</td>\n",
       "      <td>0</td>\n",
       "    </tr>\n",
       "    <tr>\n",
       "      <th>3</th>\n",
       "      <td>55</td>\n",
       "      <td>42</td>\n",
       "      <td>0</td>\n",
       "      <td>42</td>\n",
       "      <td>0</td>\n",
       "      <td>5</td>\n",
       "      <td>0</td>\n",
       "      <td>8900</td>\n",
       "      <td>0</td>\n",
       "      <td>13</td>\n",
       "      <td>...</td>\n",
       "      <td>2.61</td>\n",
       "      <td>80</td>\n",
       "      <td>900</td>\n",
       "      <td>0</td>\n",
       "      <td>0</td>\n",
       "      <td>0</td>\n",
       "      <td>M</td>\n",
       "      <td>B</td>\n",
       "      <td>C</td>\n",
       "      <td>0</td>\n",
       "    </tr>\n",
       "    <tr>\n",
       "      <th>4</th>\n",
       "      <td>40</td>\n",
       "      <td>36</td>\n",
       "      <td>36</td>\n",
       "      <td>36</td>\n",
       "      <td>0</td>\n",
       "      <td>3</td>\n",
       "      <td>1</td>\n",
       "      <td>0</td>\n",
       "      <td>0</td>\n",
       "      <td>2</td>\n",
       "      <td>...</td>\n",
       "      <td>2.11</td>\n",
       "      <td>10</td>\n",
       "      <td>900</td>\n",
       "      <td>0</td>\n",
       "      <td>0</td>\n",
       "      <td>1</td>\n",
       "      <td>F</td>\n",
       "      <td>B</td>\n",
       "      <td>B</td>\n",
       "      <td>0</td>\n",
       "    </tr>\n",
       "  </tbody>\n",
       "</table>\n",
       "<p>5 rows × 23 columns</p>\n",
       "</div>"
      ],
      "text/plain": [
       "   AGE  TOT_LOAN  TOT_LOAN_CRD  LOAN_BNK  LOAN_CPT  CRDT_CNT  GUARN_CNT  \\\n",
       "0   40         6             6         6         0         0          0   \n",
       "1   35         9             9         0         0         1          0   \n",
       "2   55         9             9         0         0         0          0   \n",
       "3   55        42             0        42         0         5          0   \n",
       "4   40        36            36        36         0         3          1   \n",
       "\n",
       "   INCOME  LOAN_CRD_CNT  LATE_RATE  ...  CALL_TIME  TEL_COST_MON  \\\n",
       "0    4500             0         16  ...       1.52           120   \n",
       "1    3700             0          9  ...       2.14           100   \n",
       "2    6400             0          1  ...       0.50            50   \n",
       "3    8900             0         13  ...       2.61            80   \n",
       "4       0             0          2  ...       2.11            10   \n",
       "\n",
       "   MOBILE_PRICE  SUSP_DAY  LATE_TEL  COMB_COMM  SEX  PAY_METHOD  JOB TARGET  \n",
       "0           500         0       120          0    M           A    A      0  \n",
       "1           800         0         0          0    M           C    B      0  \n",
       "2           700         0         0          0    M           C    B      0  \n",
       "3           900         0         0          0    M           B    C      0  \n",
       "4           900         0         0          1    F           B    B      0  \n",
       "\n",
       "[5 rows x 23 columns]"
      ]
     },
     "execution_count": 4,
     "metadata": {},
     "output_type": "execute_result"
    }
   ],
   "source": [
    "loan_data.head()"
   ]
  },
  {
   "cell_type": "code",
   "execution_count": 5,
   "metadata": {},
   "outputs": [
    {
     "name": "stdout",
     "output_type": "stream",
     "text": [
      "AGE              0\n",
      "TOT_LOAN         0\n",
      "TOT_LOAN_CRD     0\n",
      "LOAN_BNK         0\n",
      "LOAN_CPT         0\n",
      "CRDT_CNT         0\n",
      "GUARN_CNT        0\n",
      "INCOME           0\n",
      "LOAN_CRD_CNT     0\n",
      "LATE_RATE        0\n",
      "LATE_RATE_1Y     0\n",
      "INS_MON_MAX      0\n",
      "CANCEL_CNT_1Y    0\n",
      "CALL_TIME        0\n",
      "TEL_COST_MON     0\n",
      "MOBILE_PRICE     0\n",
      "SUSP_DAY         0\n",
      "LATE_TEL         0\n",
      "COMB_COMM        0\n",
      "SEX              0\n",
      "PAY_METHOD       0\n",
      "JOB              0\n",
      "TARGET           0\n",
      "dtype: int64\n"
     ]
    }
   ],
   "source": [
    "# 결측치 확인 -> 결측치가 없으므로 바로 사용\n",
    "\n",
    "print(loan_data.isnull().sum())"
   ]
  },
  {
   "cell_type": "code",
   "execution_count": 6,
   "metadata": {},
   "outputs": [],
   "source": [
    "# 명목형 변수 one-hot encoding\n",
    "loan_data_one_hot = pd.get_dummies(loan_data, columns=['SEX', 'PAY_METHOD', 'JOB'])"
   ]
  },
  {
   "cell_type": "code",
   "execution_count": 7,
   "metadata": {},
   "outputs": [
    {
     "data": {
      "text/html": [
       "<div>\n",
       "<style scoped>\n",
       "    .dataframe tbody tr th:only-of-type {\n",
       "        vertical-align: middle;\n",
       "    }\n",
       "\n",
       "    .dataframe tbody tr th {\n",
       "        vertical-align: top;\n",
       "    }\n",
       "\n",
       "    .dataframe thead th {\n",
       "        text-align: right;\n",
       "    }\n",
       "</style>\n",
       "<table border=\"1\" class=\"dataframe\">\n",
       "  <thead>\n",
       "    <tr style=\"text-align: right;\">\n",
       "      <th></th>\n",
       "      <th>AGE</th>\n",
       "      <th>TOT_LOAN</th>\n",
       "      <th>TOT_LOAN_CRD</th>\n",
       "      <th>LOAN_BNK</th>\n",
       "      <th>LOAN_CPT</th>\n",
       "      <th>CRDT_CNT</th>\n",
       "      <th>GUARN_CNT</th>\n",
       "      <th>INCOME</th>\n",
       "      <th>LOAN_CRD_CNT</th>\n",
       "      <th>LATE_RATE</th>\n",
       "      <th>...</th>\n",
       "      <th>SEX_F</th>\n",
       "      <th>SEX_M</th>\n",
       "      <th>PAY_METHOD_A</th>\n",
       "      <th>PAY_METHOD_B</th>\n",
       "      <th>PAY_METHOD_C</th>\n",
       "      <th>PAY_METHOD_D</th>\n",
       "      <th>JOB_A</th>\n",
       "      <th>JOB_B</th>\n",
       "      <th>JOB_C</th>\n",
       "      <th>JOB_D</th>\n",
       "    </tr>\n",
       "  </thead>\n",
       "  <tbody>\n",
       "    <tr>\n",
       "      <th>0</th>\n",
       "      <td>40</td>\n",
       "      <td>6</td>\n",
       "      <td>6</td>\n",
       "      <td>6</td>\n",
       "      <td>0</td>\n",
       "      <td>0</td>\n",
       "      <td>0</td>\n",
       "      <td>4500</td>\n",
       "      <td>0</td>\n",
       "      <td>16</td>\n",
       "      <td>...</td>\n",
       "      <td>0</td>\n",
       "      <td>1</td>\n",
       "      <td>1</td>\n",
       "      <td>0</td>\n",
       "      <td>0</td>\n",
       "      <td>0</td>\n",
       "      <td>1</td>\n",
       "      <td>0</td>\n",
       "      <td>0</td>\n",
       "      <td>0</td>\n",
       "    </tr>\n",
       "    <tr>\n",
       "      <th>1</th>\n",
       "      <td>35</td>\n",
       "      <td>9</td>\n",
       "      <td>9</td>\n",
       "      <td>0</td>\n",
       "      <td>0</td>\n",
       "      <td>1</td>\n",
       "      <td>0</td>\n",
       "      <td>3700</td>\n",
       "      <td>0</td>\n",
       "      <td>9</td>\n",
       "      <td>...</td>\n",
       "      <td>0</td>\n",
       "      <td>1</td>\n",
       "      <td>0</td>\n",
       "      <td>0</td>\n",
       "      <td>1</td>\n",
       "      <td>0</td>\n",
       "      <td>0</td>\n",
       "      <td>1</td>\n",
       "      <td>0</td>\n",
       "      <td>0</td>\n",
       "    </tr>\n",
       "    <tr>\n",
       "      <th>2</th>\n",
       "      <td>55</td>\n",
       "      <td>9</td>\n",
       "      <td>9</td>\n",
       "      <td>0</td>\n",
       "      <td>0</td>\n",
       "      <td>0</td>\n",
       "      <td>0</td>\n",
       "      <td>6400</td>\n",
       "      <td>0</td>\n",
       "      <td>1</td>\n",
       "      <td>...</td>\n",
       "      <td>0</td>\n",
       "      <td>1</td>\n",
       "      <td>0</td>\n",
       "      <td>0</td>\n",
       "      <td>1</td>\n",
       "      <td>0</td>\n",
       "      <td>0</td>\n",
       "      <td>1</td>\n",
       "      <td>0</td>\n",
       "      <td>0</td>\n",
       "    </tr>\n",
       "    <tr>\n",
       "      <th>3</th>\n",
       "      <td>55</td>\n",
       "      <td>42</td>\n",
       "      <td>0</td>\n",
       "      <td>42</td>\n",
       "      <td>0</td>\n",
       "      <td>5</td>\n",
       "      <td>0</td>\n",
       "      <td>8900</td>\n",
       "      <td>0</td>\n",
       "      <td>13</td>\n",
       "      <td>...</td>\n",
       "      <td>0</td>\n",
       "      <td>1</td>\n",
       "      <td>0</td>\n",
       "      <td>1</td>\n",
       "      <td>0</td>\n",
       "      <td>0</td>\n",
       "      <td>0</td>\n",
       "      <td>0</td>\n",
       "      <td>1</td>\n",
       "      <td>0</td>\n",
       "    </tr>\n",
       "    <tr>\n",
       "      <th>4</th>\n",
       "      <td>40</td>\n",
       "      <td>36</td>\n",
       "      <td>36</td>\n",
       "      <td>36</td>\n",
       "      <td>0</td>\n",
       "      <td>3</td>\n",
       "      <td>1</td>\n",
       "      <td>0</td>\n",
       "      <td>0</td>\n",
       "      <td>2</td>\n",
       "      <td>...</td>\n",
       "      <td>1</td>\n",
       "      <td>0</td>\n",
       "      <td>0</td>\n",
       "      <td>1</td>\n",
       "      <td>0</td>\n",
       "      <td>0</td>\n",
       "      <td>0</td>\n",
       "      <td>1</td>\n",
       "      <td>0</td>\n",
       "      <td>0</td>\n",
       "    </tr>\n",
       "  </tbody>\n",
       "</table>\n",
       "<p>5 rows × 30 columns</p>\n",
       "</div>"
      ],
      "text/plain": [
       "   AGE  TOT_LOAN  TOT_LOAN_CRD  LOAN_BNK  LOAN_CPT  CRDT_CNT  GUARN_CNT  \\\n",
       "0   40         6             6         6         0         0          0   \n",
       "1   35         9             9         0         0         1          0   \n",
       "2   55         9             9         0         0         0          0   \n",
       "3   55        42             0        42         0         5          0   \n",
       "4   40        36            36        36         0         3          1   \n",
       "\n",
       "   INCOME  LOAN_CRD_CNT  LATE_RATE  ...  SEX_F  SEX_M  PAY_METHOD_A  \\\n",
       "0    4500             0         16  ...      0      1             1   \n",
       "1    3700             0          9  ...      0      1             0   \n",
       "2    6400             0          1  ...      0      1             0   \n",
       "3    8900             0         13  ...      0      1             0   \n",
       "4       0             0          2  ...      1      0             0   \n",
       "\n",
       "   PAY_METHOD_B  PAY_METHOD_C  PAY_METHOD_D  JOB_A  JOB_B  JOB_C  JOB_D  \n",
       "0             0             0             0      1      0      0      0  \n",
       "1             0             1             0      0      1      0      0  \n",
       "2             0             1             0      0      1      0      0  \n",
       "3             1             0             0      0      0      1      0  \n",
       "4             1             0             0      0      1      0      0  \n",
       "\n",
       "[5 rows x 30 columns]"
      ]
     },
     "execution_count": 7,
     "metadata": {},
     "output_type": "execute_result"
    }
   ],
   "source": [
    "loan_data_one_hot.head()"
   ]
  },
  {
   "cell_type": "code",
   "execution_count": 8,
   "metadata": {},
   "outputs": [],
   "source": [
    "# 연속형 변수 normalization -> Standard scaler를 활용하여 normalization 진행\n",
    "\n",
    "continuous_variable = ['AGE', 'TOT_LOAN', 'TOT_LOAN_CRD', 'LOAN_BNK', 'LOAN_CPT', \n",
    "'CRDT_CNT','GUARN_CNT', 'INCOME', 'LOAN_CRD_CNT', 'LATE_RATE', 'LATE_RATE_1Y',\n",
    "'INS_MON_MAX', 'CANCEL_CNT_1Y', 'CALL_TIME', 'TEL_COST_MON','MOBILE_PRICE', \n",
    "'SUSP_DAY', 'LATE_TEL']\n",
    "\n",
    "loan_data_continuos = loan_data_one_hot[continuous_variable]\n",
    "\n",
    "from sklearn.preprocessing import StandardScaler\n",
    "scaler = StandardScaler()\n",
    "scaler = scaler.fit(loan_data_continuos)\n",
    "loan_data_continuos_scaled = scaler.transform(loan_data_continuos)\n",
    "\n",
    "#scale 연속형 변수 dataframe화\n",
    "dataframe_continuous = pd.DataFrame(loan_data_continuos_scaled,\n",
    " columns= continuous_variable)\n",
    "\n",
    "# scale 연속형 변수와 명목형 변수 합치기\n",
    "dataframe_scaled = pd.concat([dataframe_continuous, loan_data_one_hot.drop(columns=continuous_variable)], axis =1)"
   ]
  },
  {
   "cell_type": "markdown",
   "metadata": {},
   "source": [
    "### XGBoost hyperparameter 탐색  \n",
    "**XGBoost**는 매우 다양한 종류의 hyperparameter를 갖고 있습니다. 크게 **General parmeter, Boost Parameter, Learning Task Parameter** 3가지로 XGBoost의 하이퍼파라미터를 분류할 수 있습니다. 각각에 대한 설명과 각 하이퍼파라미터 군집에 구체적으로 어떠한 하이퍼파라미터가 있는지에 대한 설명은 아래와 같습니다.\n",
    "\n",
    "- **General parmeter**: 전체적인 기능에 대한 가이드를 주는 하이퍼파라미터\n",
    "\n",
    "    <img src=\"images/general_para.png\" width=\"765px\" height=\"169px\" title=\"general_para\">  \n",
    "      \n",
    "\n",
    "- **Boost Parameter**: 모델 성능에 가장 큰 영향을 주는 하이퍼파라미터로 모델의 과적합 등의 이슈 발생시 조절하는 하이퍼파라미터\n",
    "  \n",
    "    <img src=\"images/boost_para.png\" width=\"765px\" height=\"576px\" title=\"boost_para\">  \n",
    "      \n",
    "  \n",
    "- **train Parameter**: 학습에 활용되는 objective function, eval metric등을 포함하는 하이퍼파라미터  \n",
    "  \n",
    "    <img src=\"images/train_para.png\" width=\"765px\" height=\"125px\" title=\"train_para\">  \n",
    "\n",
    "\n",
    "위에서 설명한 hyperparameter들에 대하여 kfold validation을 통해 최적의 hyperparameter 조합을 찾고 성능을 산출합니다.\n"
   ]
  },
  {
   "cell_type": "markdown",
   "metadata": {},
   "source": [
    "### Optuna를 활용한 XGBoost hyperparameter 탐색  \n",
    "**XGBoost**는 위에서 언급한 것과 같이 매우 다양한 종류의 하이퍼파라미터를 갖습니다. 따라서 모든 하이퍼파라미터에 대해 최적화를 진행하는 것은 굉장히 많은 시간과 노력이 필요하면 이는 비효율적입니다. 본 튜토리얼에서는 **optuna** 라는 라이브러리를 활용하여 효율적인 하이퍼파라미터 탐색을 진행하고자 합니다. optuna는 하이퍼파라미터 탐색에 가장 많이 사용되는 라이브러리 중 하나로 지정한 범위 내의 하이퍼파라미터를 바탕으로 효율적인 탐색을 가능하도록 구현되어 있습니다. 또한 다양한 시각화 기능이 있는점도 매우 유용합니다. 본 튜토리얼에서는 optuna를 활용하여 하이퍼파라미터 탐색을 진행하겠습니다."
   ]
  },
  {
   "cell_type": "code",
   "execution_count": 9,
   "metadata": {},
   "outputs": [],
   "source": [
    "# train dataset, test dataset 분리\n",
    "from sklearn.model_selection import train_test_split\n",
    "test_size = 0.2\n",
    "test_num = int(dataframe_scaled.shape[0] * test_size)\n",
    "train_num = dataframe_scaled.shape[0] - test_num\n",
    "train_idx = np.random.choice(dataframe_scaled.shape[0], train_num, replace=False)\n",
    "test_idx = np.setdiff1d(range(dataframe_scaled.shape[0]), train_idx)\n",
    "\n",
    "train_dataset = dataframe_scaled.iloc[train_idx]\n",
    "test_dataset = dataframe_scaled.iloc[test_idx]"
   ]
  },
  {
   "cell_type": "code",
   "execution_count": 10,
   "metadata": {},
   "outputs": [
    {
     "data": {
      "text/plain": [
       "(34709, 8677)"
      ]
     },
     "execution_count": 10,
     "metadata": {},
     "output_type": "execute_result"
    }
   ],
   "source": [
    "len(train_dataset) , len(test_dataset)"
   ]
  },
  {
   "cell_type": "code",
   "execution_count": 11,
   "metadata": {},
   "outputs": [],
   "source": [
    "# target 설정\n",
    "X=train_dataset.drop('TARGET',axis=1)\n",
    "y=train_dataset['TARGET']"
   ]
  },
  {
   "cell_type": "code",
   "execution_count": 12,
   "metadata": {},
   "outputs": [],
   "source": [
    "import warnings\n",
    "warnings.filterwarnings(action='ignore') "
   ]
  },
  {
   "cell_type": "code",
   "execution_count": 13,
   "metadata": {},
   "outputs": [],
   "source": [
    "# optuna 설정\n",
    "from sklearn.metrics import log_loss\n",
    "\n",
    "def objective(trial,train=train_dataset,target=y):\n",
    "\n",
    "  X_train,X_test,y_train,y_test=train_test_split(X,y,test_size=0.2,random_state=2)\n",
    "\n",
    "  param={\n",
    "      'max_depth':trial.suggest_int('max_depth',5,20),\n",
    "      'learning_rate':trial.suggest_uniform('learning_rate',0.0001,0.99),\n",
    "      'subsample':trial.suggest_discrete_uniform('subsample', 0.6,1.0,0.1),\n",
    "      'colsample_bytree':trial.suggest_discrete_uniform('colsample_bytree',0.3,0.9,0.1),\n",
    "      'n_estimators': trial.suggest_int(\"n_estimators\", 1000, 10000, 100),\n",
    "      'eval_metric': 'logloss',\n",
    "      'objective' : 'binary:logistic',\n",
    "      'random_state': 2,\n",
    "      'n_estimators': 1000\n",
    "  }\n",
    "\n",
    "  model=XGBClassifier(**param)\n",
    "\n",
    "  bst = model.fit(X_train,y_train,eval_set=[(X_test,y_test)],verbose=False)\n",
    "\n",
    "  predictions=bst.predict_proba(X_test)\n",
    "\n",
    "  logloss = log_loss(y_test,predictions)\n",
    "  return logloss"
   ]
  },
  {
   "cell_type": "code",
   "execution_count": 14,
   "metadata": {},
   "outputs": [],
   "source": [
    "import optuna"
   ]
  },
  {
   "cell_type": "code",
   "execution_count": 20,
   "metadata": {},
   "outputs": [
    {
     "name": "stderr",
     "output_type": "stream",
     "text": [
      "\u001b[32m[I 2022-11-29 02:38:55,084]\u001b[0m A new study created in memory with name: no-name-f5e33b7d-ba82-4056-997d-de23a4f8566e\u001b[0m\n",
      "\u001b[32m[I 2022-11-29 02:41:32,987]\u001b[0m Trial 0 finished with value: 0.3142680193171218 and parameters: {'max_depth': 13, 'learning_rate': 0.19995021815553893, 'subsample': 0.9, 'colsample_bytree': 0.8, 'n_estimators': 1600}. Best is trial 0 with value: 0.3142680193171218.\u001b[0m\n",
      "\u001b[32m[I 2022-11-29 02:44:49,688]\u001b[0m Trial 1 finished with value: 0.34318947925856563 and parameters: {'max_depth': 19, 'learning_rate': 0.3697700761020934, 'subsample': 1.0, 'colsample_bytree': 0.7, 'n_estimators': 7700}. Best is trial 0 with value: 0.3142680193171218.\u001b[0m\n",
      "\u001b[32m[I 2022-11-29 02:48:05,980]\u001b[0m Trial 2 finished with value: 0.30164600940558295 and parameters: {'max_depth': 13, 'learning_rate': 0.16240788742073617, 'subsample': 0.7, 'colsample_bytree': 0.8, 'n_estimators': 5600}. Best is trial 2 with value: 0.30164600940558295.\u001b[0m\n",
      "\u001b[32m[I 2022-11-29 02:49:46,055]\u001b[0m Trial 3 finished with value: 0.41740286794344506 and parameters: {'max_depth': 15, 'learning_rate': 0.7555914548081678, 'subsample': 0.7, 'colsample_bytree': 0.3, 'n_estimators': 9800}. Best is trial 2 with value: 0.30164600940558295.\u001b[0m\n",
      "\u001b[32m[I 2022-11-29 02:53:01,333]\u001b[0m Trial 4 finished with value: 0.2752456548420816 and parameters: {'max_depth': 14, 'learning_rate': 0.10933966327467638, 'subsample': 0.6, 'colsample_bytree': 0.4, 'n_estimators': 7800}. Best is trial 4 with value: 0.2752456548420816.\u001b[0m\n",
      "\u001b[32m[I 2022-11-29 02:54:42,368]\u001b[0m Trial 5 finished with value: 0.3957070012027354 and parameters: {'max_depth': 17, 'learning_rate': 0.6604545539292487, 'subsample': 0.7, 'colsample_bytree': 0.3, 'n_estimators': 4000}. Best is trial 4 with value: 0.2752456548420816.\u001b[0m\n",
      "\u001b[32m[I 2022-11-29 02:56:21,595]\u001b[0m Trial 6 finished with value: 0.40743947476601944 and parameters: {'max_depth': 7, 'learning_rate': 0.7083777774279792, 'subsample': 0.9, 'colsample_bytree': 0.7, 'n_estimators': 8500}. Best is trial 4 with value: 0.2752456548420816.\u001b[0m\n",
      "\u001b[32m[I 2022-11-29 02:59:40,727]\u001b[0m Trial 7 finished with value: 0.24484618684528248 and parameters: {'max_depth': 13, 'learning_rate': 0.05139898853069725, 'subsample': 0.7, 'colsample_bytree': 0.5, 'n_estimators': 9800}. Best is trial 7 with value: 0.24484618684528248.\u001b[0m\n",
      "\u001b[32m[I 2022-11-29 03:01:19,235]\u001b[0m Trial 8 finished with value: 0.4273281879533366 and parameters: {'max_depth': 5, 'learning_rate': 0.7328058914185203, 'subsample': 0.8, 'colsample_bytree': 0.8, 'n_estimators': 3600}. Best is trial 7 with value: 0.24484618684528248.\u001b[0m\n",
      "\u001b[32m[I 2022-11-29 03:02:37,814]\u001b[0m Trial 9 finished with value: 0.5136433920079804 and parameters: {'max_depth': 10, 'learning_rate': 0.8917755770811825, 'subsample': 0.6, 'colsample_bytree': 0.9, 'n_estimators': 8600}. Best is trial 7 with value: 0.24484618684528248.\u001b[0m\n",
      "\u001b[32m[I 2022-11-29 03:02:45,505]\u001b[0m Trial 10 finished with value: 0.35256508777741047 and parameters: {'max_depth': 10, 'learning_rate': 0.38108848829833886, 'subsample': 0.8, 'colsample_bytree': 0.5, 'n_estimators': 6000}. Best is trial 7 with value: 0.24484618684528248.\u001b[0m\n",
      "\u001b[32m[I 2022-11-29 03:02:59,926]\u001b[0m Trial 11 finished with value: 0.21206809523362732 and parameters: {'max_depth': 16, 'learning_rate': 0.0032499435060669435, 'subsample': 0.6, 'colsample_bytree': 0.5, 'n_estimators': 10000}. Best is trial 11 with value: 0.21206809523362732.\u001b[0m\n",
      "\u001b[32m[I 2022-11-29 03:04:07,635]\u001b[0m Trial 12 finished with value: 0.21889683231334922 and parameters: {'max_depth': 20, 'learning_rate': 0.024766313597683498, 'subsample': 0.6, 'colsample_bytree': 0.5, 'n_estimators': 9700}. Best is trial 11 with value: 0.21206809523362732.\u001b[0m\n",
      "\u001b[32m[I 2022-11-29 03:06:50,030]\u001b[0m Trial 13 finished with value: 0.32772402673559214 and parameters: {'max_depth': 20, 'learning_rate': 0.28439159356586996, 'subsample': 0.6, 'colsample_bytree': 0.5, 'n_estimators': 9900}. Best is trial 11 with value: 0.21206809523362732.\u001b[0m\n",
      "\u001b[32m[I 2022-11-29 03:11:59,138]\u001b[0m Trial 14 finished with value: 0.19731123450093316 and parameters: {'max_depth': 17, 'learning_rate': 0.005347693647565231, 'subsample': 0.6, 'colsample_bytree': 0.6000000000000001, 'n_estimators': 7200}. Best is trial 14 with value: 0.19731123450093316.\u001b[0m\n",
      "\u001b[32m[I 2022-11-29 03:13:37,139]\u001b[0m Trial 15 finished with value: 0.3763542117979908 and parameters: {'max_depth': 17, 'learning_rate': 0.5271650472380931, 'subsample': 0.6, 'colsample_bytree': 0.6000000000000001, 'n_estimators': 6700}. Best is trial 14 with value: 0.19731123450093316.\u001b[0m\n",
      "\u001b[32m[I 2022-11-29 03:19:57,550]\u001b[0m Trial 16 finished with value: 0.19789811862594128 and parameters: {'max_depth': 17, 'learning_rate': 0.007562330613295254, 'subsample': 0.7, 'colsample_bytree': 0.6000000000000001, 'n_estimators': 4300}. Best is trial 14 with value: 0.19731123450093316.\u001b[0m\n",
      "\u001b[32m[I 2022-11-29 03:22:49,524]\u001b[0m Trial 17 finished with value: 0.3156216105128433 and parameters: {'max_depth': 18, 'learning_rate': 0.23672108348868376, 'subsample': 0.7, 'colsample_bytree': 0.6000000000000001, 'n_estimators': 4100}. Best is trial 14 with value: 0.19731123450093316.\u001b[0m\n",
      "\u001b[32m[I 2022-11-29 03:24:45,337]\u001b[0m Trial 18 finished with value: 0.3673878274770046 and parameters: {'max_depth': 11, 'learning_rate': 0.5265193729741824, 'subsample': 0.8, 'colsample_bytree': 0.7, 'n_estimators': 2700}. Best is trial 14 with value: 0.19731123450093316.\u001b[0m\n",
      "\u001b[32m[I 2022-11-29 03:26:22,499]\u001b[0m Trial 19 finished with value: 0.3318311642550193 and parameters: {'max_depth': 15, 'learning_rate': 0.342442087906324, 'subsample': 0.8, 'colsample_bytree': 0.4, 'n_estimators': 4800}. Best is trial 14 with value: 0.19731123450093316.\u001b[0m\n",
      "\u001b[32m[I 2022-11-29 03:29:33,153]\u001b[0m Trial 20 finished with value: 0.2845220171876768 and parameters: {'max_depth': 17, 'learning_rate': 0.13340166753416274, 'subsample': 0.7, 'colsample_bytree': 0.6000000000000001, 'n_estimators': 6300}. Best is trial 14 with value: 0.19731123450093316.\u001b[0m\n",
      "\u001b[32m[I 2022-11-29 03:34:18,268]\u001b[0m Trial 21 finished with value: 0.20622101274625604 and parameters: {'max_depth': 16, 'learning_rate': 0.01768549993400231, 'subsample': 0.6, 'colsample_bytree': 0.4, 'n_estimators': 7100}. Best is trial 14 with value: 0.19731123450093316.\u001b[0m\n",
      "\u001b[32m[I 2022-11-29 03:37:28,407]\u001b[0m Trial 22 finished with value: 0.26568627914819576 and parameters: {'max_depth': 18, 'learning_rate': 0.10083514838263237, 'subsample': 0.6, 'colsample_bytree': 0.4, 'n_estimators': 5000}. Best is trial 14 with value: 0.19731123450093316.\u001b[0m\n",
      "\u001b[32m[I 2022-11-29 03:38:55,903]\u001b[0m Trial 23 finished with value: 0.19945550812512972 and parameters: {'max_depth': 15, 'learning_rate': 0.004049916240160173, 'subsample': 0.7, 'colsample_bytree': 0.7, 'n_estimators': 7200}. Best is trial 14 with value: 0.19731123450093316.\u001b[0m\n",
      "\u001b[32m[I 2022-11-29 03:39:03,863]\u001b[0m Trial 24 finished with value: 0.3216906495475089 and parameters: {'max_depth': 15, 'learning_rate': 0.24246402793433808, 'subsample': 0.7, 'colsample_bytree': 0.7, 'n_estimators': 7200}. Best is trial 14 with value: 0.19731123450093316.\u001b[0m\n",
      "\u001b[32m[I 2022-11-29 03:40:11,267]\u001b[0m Trial 25 finished with value: 0.2687662256588311 and parameters: {'max_depth': 18, 'learning_rate': 0.08883761557035114, 'subsample': 0.7, 'colsample_bytree': 0.6000000000000001, 'n_estimators': 8500}. Best is trial 14 with value: 0.19731123450093316.\u001b[0m\n",
      "\u001b[32m[I 2022-11-29 03:41:13,536]\u001b[0m Trial 26 finished with value: 0.3574448892249605 and parameters: {'max_depth': 11, 'learning_rate': 0.4616220896035146, 'subsample': 0.8, 'colsample_bytree': 0.6000000000000001, 'n_estimators': 3100}. Best is trial 14 with value: 0.19731123450093316.\u001b[0m\n",
      "\u001b[32m[I 2022-11-29 03:44:57,207]\u001b[0m Trial 27 finished with value: 0.3050747434882442 and parameters: {'max_depth': 19, 'learning_rate': 0.1676249888116201, 'subsample': 0.7, 'colsample_bytree': 0.9, 'n_estimators': 5000}. Best is trial 14 with value: 0.19731123450093316.\u001b[0m\n",
      "\u001b[32m[I 2022-11-29 03:46:34,247]\u001b[0m Trial 28 finished with value: 0.4121320157794966 and parameters: {'max_depth': 16, 'learning_rate': 0.9648510651404824, 'subsample': 0.8, 'colsample_bytree': 0.7, 'n_estimators': 5700}. Best is trial 14 with value: 0.19731123450093316.\u001b[0m\n",
      "\u001b[32m[I 2022-11-29 03:49:45,164]\u001b[0m Trial 29 finished with value: 0.314857891131716 and parameters: {'max_depth': 14, 'learning_rate': 0.19828773578351463, 'subsample': 0.9, 'colsample_bytree': 0.8, 'n_estimators': 1800}. Best is trial 14 with value: 0.19731123450093316.\u001b[0m\n",
      "\u001b[32m[I 2022-11-29 03:52:47,842]\u001b[0m Trial 30 finished with value: 0.32684589864252717 and parameters: {'max_depth': 12, 'learning_rate': 0.2850933654064774, 'subsample': 1.0, 'colsample_bytree': 0.6000000000000001, 'n_estimators': 1200}. Best is trial 14 with value: 0.19731123450093316.\u001b[0m\n",
      "\u001b[32m[I 2022-11-29 03:56:12,131]\u001b[0m Trial 31 finished with value: 0.20705389815623984 and parameters: {'max_depth': 16, 'learning_rate': 0.01880175183671405, 'subsample': 0.6, 'colsample_bytree': 0.4, 'n_estimators': 7300}. Best is trial 14 with value: 0.19731123450093316.\u001b[0m\n",
      "\u001b[32m[I 2022-11-29 03:59:26,177]\u001b[0m Trial 32 finished with value: 0.2644864024422573 and parameters: {'max_depth': 14, 'learning_rate': 0.07963601692576854, 'subsample': 0.6, 'colsample_bytree': 0.7, 'n_estimators': 6700}. Best is trial 14 with value: 0.19731123450093316.\u001b[0m\n",
      "\u001b[32m[I 2022-11-29 04:05:51,667]\u001b[0m Trial 33 finished with value: 0.1973282963722064 and parameters: {'max_depth': 19, 'learning_rate': 0.007668357816371537, 'subsample': 0.6, 'colsample_bytree': 0.8, 'n_estimators': 7400}. Best is trial 14 with value: 0.19731123450093316.\u001b[0m\n",
      "\u001b[32m[I 2022-11-29 04:09:04,618]\u001b[0m Trial 34 finished with value: 0.2965194254823502 and parameters: {'max_depth': 19, 'learning_rate': 0.15258143126417226, 'subsample': 0.7, 'colsample_bytree': 0.8, 'n_estimators': 7900}. Best is trial 14 with value: 0.19731123450093316.\u001b[0m\n",
      "\u001b[32m[I 2022-11-29 04:12:20,116]\u001b[0m Trial 35 finished with value: 0.2705400183812116 and parameters: {'max_depth': 19, 'learning_rate': 0.07934525861501807, 'subsample': 0.7, 'colsample_bytree': 0.9, 'n_estimators': 8100}. Best is trial 14 with value: 0.19731123450093316.\u001b[0m\n",
      "\u001b[32m[I 2022-11-29 04:15:17,059]\u001b[0m Trial 36 finished with value: 0.5111817570944679 and parameters: {'max_depth': 17, 'learning_rate': 0.0003294073989322018, 'subsample': 0.6, 'colsample_bytree': 0.7, 'n_estimators': 9200}. Best is trial 14 with value: 0.19731123450093316.\u001b[0m\n",
      "\u001b[32m[I 2022-11-29 04:15:26,256]\u001b[0m Trial 37 finished with value: 0.30619328749911995 and parameters: {'max_depth': 18, 'learning_rate': 0.18760844027835888, 'subsample': 0.7, 'colsample_bytree': 0.8, 'n_estimators': 6400}. Best is trial 14 with value: 0.19731123450093316.\u001b[0m\n",
      "\u001b[32m[I 2022-11-29 04:16:32,138]\u001b[0m Trial 38 finished with value: 0.2598907166862527 and parameters: {'max_depth': 15, 'learning_rate': 0.06831356457602378, 'subsample': 0.6, 'colsample_bytree': 0.8, 'n_estimators': 5400}. Best is trial 14 with value: 0.19731123450093316.\u001b[0m\n",
      "\u001b[32m[I 2022-11-29 04:17:36,505]\u001b[0m Trial 39 finished with value: 0.2864874766809131 and parameters: {'max_depth': 20, 'learning_rate': 0.12259087048441063, 'subsample': 0.7, 'colsample_bytree': 0.6000000000000001, 'n_estimators': 4500}. Best is trial 14 with value: 0.19731123450093316.\u001b[0m\n",
      "\u001b[32m[I 2022-11-29 04:20:39,340]\u001b[0m Trial 40 finished with value: 0.3715706089695442 and parameters: {'max_depth': 18, 'learning_rate': 0.5980408720997976, 'subsample': 0.9, 'colsample_bytree': 0.7, 'n_estimators': 7600}. Best is trial 14 with value: 0.19731123450093316.\u001b[0m\n",
      "\u001b[32m[I 2022-11-29 04:25:03,037]\u001b[0m Trial 41 finished with value: 0.22641981326747446 and parameters: {'max_depth': 16, 'learning_rate': 0.042585677689893686, 'subsample': 0.6, 'colsample_bytree': 0.3, 'n_estimators': 7200}. Best is trial 14 with value: 0.19731123450093316.\u001b[0m\n",
      "\u001b[32m[I 2022-11-29 04:29:27,181]\u001b[0m Trial 42 finished with value: 0.2386011665327959 and parameters: {'max_depth': 13, 'learning_rate': 0.0026896717405930125, 'subsample': 0.6, 'colsample_bytree': 0.3, 'n_estimators': 7000}. Best is trial 14 with value: 0.19731123450093316.\u001b[0m\n",
      "\u001b[32m[I 2022-11-29 04:35:05,569]\u001b[0m Trial 43 finished with value: 0.24939729509911915 and parameters: {'max_depth': 17, 'learning_rate': 0.052847854282413405, 'subsample': 0.6, 'colsample_bytree': 0.8, 'n_estimators': 9000}. Best is trial 14 with value: 0.19731123450093316.\u001b[0m\n",
      "\u001b[32m[I 2022-11-29 04:38:14,532]\u001b[0m Trial 44 finished with value: 0.2873447202243879 and parameters: {'max_depth': 14, 'learning_rate': 0.12489927687690584, 'subsample': 0.6, 'colsample_bytree': 0.7, 'n_estimators': 8200}. Best is trial 14 with value: 0.19731123450093316.\u001b[0m\n",
      "\u001b[32m[I 2022-11-29 04:40:26,176]\u001b[0m Trial 45 finished with value: 0.4059576293583617 and parameters: {'max_depth': 16, 'learning_rate': 0.7947373073096206, 'subsample': 0.7, 'colsample_bytree': 0.5, 'n_estimators': 6000}. Best is trial 14 with value: 0.19731123450093316.\u001b[0m\n",
      "\u001b[32m[I 2022-11-29 04:44:51,969]\u001b[0m Trial 46 finished with value: 0.24834368473659954 and parameters: {'max_depth': 15, 'learning_rate': 0.05041901525449524, 'subsample': 0.6, 'colsample_bytree': 0.9, 'n_estimators': 7600}. Best is trial 14 with value: 0.19731123450093316.\u001b[0m\n",
      "\u001b[32m[I 2022-11-29 04:49:13,068]\u001b[0m Trial 47 finished with value: 0.3156002808494169 and parameters: {'max_depth': 19, 'learning_rate': 0.23361628921636124, 'subsample': 0.7, 'colsample_bytree': 0.5, 'n_estimators': 6600}. Best is trial 14 with value: 0.19731123450093316.\u001b[0m\n",
      "\u001b[32m[I 2022-11-29 04:49:18,354]\u001b[0m Trial 48 finished with value: 0.28264445762142926 and parameters: {'max_depth': 8, 'learning_rate': 0.15771363362716226, 'subsample': 0.6, 'colsample_bytree': 0.4, 'n_estimators': 8800}. Best is trial 14 with value: 0.19731123450093316.\u001b[0m\n",
      "\u001b[32m[I 2022-11-29 04:55:37,547]\u001b[0m Trial 49 finished with value: 0.2368129722198462 and parameters: {'max_depth': 17, 'learning_rate': 0.040135418680331186, 'subsample': 0.6, 'colsample_bytree': 0.7, 'n_estimators': 5900}. Best is trial 14 with value: 0.19731123450093316.\u001b[0m\n"
     ]
    },
    {
     "data": {
      "text/plain": [
       "{'max_depth': 17,\n",
       " 'learning_rate': 0.005347693647565231,\n",
       " 'subsample': 0.6,\n",
       " 'colsample_bytree': 0.6000000000000001,\n",
       " 'n_estimators': 7200}"
      ]
     },
     "execution_count": 20,
     "metadata": {},
     "output_type": "execute_result"
    }
   ],
   "source": [
    "study = optuna.create_study(direction='minimize')\n",
    "study.optimize(objective, n_trials=50)\n",
    "study.best_params"
   ]
  },
  {
   "cell_type": "code",
   "execution_count": 21,
   "metadata": {},
   "outputs": [],
   "source": [
    "# Accuracy 함수 구현\n",
    "from sklearn.metrics import accuracy_score\n",
    "\n",
    "def calculate_accuracy(model, x_test, y_test):\n",
    "    # make predictions\n",
    "    y_pred = model.predict(x_test)\n",
    "    predictions = [round(value) for value in y_pred]\n",
    "    \n",
    "    # evaluations\n",
    "    accuracy = accuracy_score(y_test, predictions)\n",
    "    print('Accuracy: %.2f%%' % (accuracy * 100.0))\n",
    "    return accuracy"
   ]
  },
  {
   "cell_type": "code",
   "execution_count": 22,
   "metadata": {},
   "outputs": [],
   "source": [
    "# target 설정\n",
    "X_test=test_dataset.drop('TARGET',axis=1)\n",
    "y_test=test_dataset['TARGET']"
   ]
  },
  {
   "cell_type": "code",
   "execution_count": 23,
   "metadata": {},
   "outputs": [
    {
     "name": "stdout",
     "output_type": "stream",
     "text": [
      "Accuracy: 92.36%\n"
     ]
    },
    {
     "data": {
      "text/plain": [
       "0.9235911029157543"
      ]
     },
     "execution_count": 23,
     "metadata": {},
     "output_type": "execute_result"
    }
   ],
   "source": [
    "# test 진행\n",
    "model=XGBClassifier(**study.best_params)\n",
    "model.fit(X,y)\n",
    "# print(model.evals_result)\n",
    "calculate_accuracy(model, X_test, y_test)"
   ]
  },
  {
   "cell_type": "code",
   "execution_count": 33,
   "metadata": {},
   "outputs": [],
   "source": [
    "from sklearn.metrics import roc_curve, auc, roc_auc_score"
   ]
  },
  {
   "cell_type": "code",
   "execution_count": 27,
   "metadata": {},
   "outputs": [],
   "source": [
    "y_pred = model.predict_proba(X_test)[:,1]"
   ]
  },
  {
   "cell_type": "code",
   "execution_count": 31,
   "metadata": {},
   "outputs": [],
   "source": [
    "false_positive_rate, true_positive_rate, threshold = roc_curve(y_test, y_pred)\n"
   ]
  },
  {
   "cell_type": "code",
   "execution_count": 34,
   "metadata": {},
   "outputs": [
    {
     "data": {
      "image/png": "[encoded data removed]",
      "text/plain": [
       "<Figure size 720x720 with 1 Axes>"
      ]
     },
     "metadata": {
      "needs_background": "light"
     },
     "output_type": "display_data"
    },
    {
     "name": "stdout",
     "output_type": "stream",
     "text": [
      "roc_auc_score for XGBoost:  0.9089308801198039\n"
     ]
    }
   ],
   "source": [
    "plt.subplots(1, figsize=(10,10))\n",
    "plt.title('Receiver Operating Characteristic - XGBoost')\n",
    "plt.plot(false_positive_rate, true_positive_rate)\n",
    "plt.plot([0, 1], ls=\"--\")\n",
    "plt.plot([0, 0], [1, 0] , c=\".7\"), plt.plot([1, 1] , c=\".7\")\n",
    "plt.ylabel('True Positive Rate')\n",
    "plt.xlabel('False Positive Rate')\n",
    "plt.show()\n",
    "print('roc_auc_score for XGBoost: ', roc_auc_score(y_test, y_pred))"
   ]
  },
  {
   "cell_type": "markdown",
   "metadata": {},
   "source": [
    "# 실험결과\n",
    "\n",
    "optuna library를 활용하여 max_depth, learning_rate, subsample, colsample_bytree, n_estimators에 대한 최적화를 진행하였습니다. 각각의 하이퍼파라미터에 대한 최적화 결과는 {'max_depth': 17, 'learning_rate': 0.005347693647565231,\n",
    "'subsample': 0.6, 'colsample_bytree': 0.6000000000000001, 'n_estimators': 7200} 입니다. 해당 하이퍼파라미터 집합을 통해 test result를 산출한 결과 92.36%의 정확도를 달성하였습니다. 또한 AUC score 역시 0.91을 기록하여 상당히 높은 값을 산출한 것을 알 수 있었습니다. 즉 주어진 loan dataset은 XGBoost가 굉장히 높은 수준의 예측을 진행하고 있음을 알 수 있었습니다.  \n",
    "이러한 XGBoost의 가장 큰 장점 중 하나는 XAI 즉 어떤 부분으로 인해 model이 이러한 결과를 산출했는지에 대한 시각적인 지표를 제공한다는 점 입니다.  \n",
    "XGBoost가 제공하는 feature importance, shaply 변수를 통해 사후분석을 진행하도록 하겠습니다.  "
   ]
  },
  {
   "cell_type": "code",
   "execution_count": 35,
   "metadata": {},
   "outputs": [
    {
     "data": {
      "text/plain": [
       "<AxesSubplot:title={'center':'Feature importance'}, xlabel='F score', ylabel='Features'>"
      ]
     },
     "execution_count": 35,
     "metadata": {},
     "output_type": "execute_result"
    },
    {
     "data": {
      "image/png": "[encoded data removed]",
      "text/plain": [
       "<Figure size 720x864 with 1 Axes>"
      ]
     },
     "metadata": {
      "needs_background": "light"
     },
     "output_type": "display_data"
    }
   ],
   "source": [
    "from xgboost import plot_importance\n",
    "fig, ax=plt.subplots(figsize=(10,12))\n",
    "plot_importance(model, ax=ax)"
   ]
  },
  {
   "cell_type": "markdown",
   "metadata": {},
   "source": [
    "### Feature importance 분석\n",
    "Feature importance 산출 결과 CALL_TIME(월별 통화시간), INS_MON_MAX(월납입보험료), LATE_RATE(보험료 연체율)이 높은 importance를 기록하였습니다. 다만 XGBoost에서 제공하는 feature importance의 경우 각 feature가 양의 방향으로 영향을 주었는지, 음의 방향으로 영향을 주었는지에 대한 부분은 정보를 제공하지 못합니다. 이러한 부분을 보완할 수 있는 shaply 지표를 통해 해당 내용에 대한 분석을 진행하고자 합니다."
   ]
  },
  {
   "cell_type": "code",
   "execution_count": 36,
   "metadata": {},
   "outputs": [
    {
     "name": "stdout",
     "output_type": "stream",
     "text": [
      "Requirement already satisfied: shap in /usr/local/lib/python3.8/dist-packages (0.41.0)\n",
      "Requirement already satisfied: slicer==0.0.7 in /usr/local/lib/python3.8/dist-packages (from shap) (0.0.7)\n",
      "Requirement already satisfied: scikit-learn in /usr/local/lib/python3.8/dist-packages (from shap) (1.1.1)\n",
      "Requirement already satisfied: scipy in /usr/local/lib/python3.8/dist-packages (from shap) (1.8.1)\n",
      "Requirement already satisfied: numba in /usr/local/lib/python3.8/dist-packages (from shap) (0.55.2)\n",
      "Requirement already satisfied: cloudpickle in /usr/local/lib/python3.8/dist-packages (from shap) (2.1.0)\n",
      "Requirement already satisfied: pandas in /usr/local/lib/python3.8/dist-packages (from shap) (1.4.3)\n",
      "Requirement already satisfied: tqdm>4.25.0 in /usr/local/lib/python3.8/dist-packages (from shap) (4.64.0)\n",
      "Requirement already satisfied: packaging>20.9 in /usr/local/lib/python3.8/dist-packages (from shap) (21.3)\n",
      "Requirement already satisfied: numpy in /usr/local/lib/python3.8/dist-packages (from shap) (1.22.4)\n",
      "Requirement already satisfied: joblib>=1.0.0 in /usr/local/lib/python3.8/dist-packages (from scikit-learn->shap) (1.1.0)\n",
      "Requirement already satisfied: threadpoolctl>=2.0.0 in /usr/local/lib/python3.8/dist-packages (from scikit-learn->shap) (3.1.0)\n",
      "Requirement already satisfied: setuptools in /usr/lib/python3/dist-packages (from numba->shap) (45.2.0)\n",
      "Requirement already satisfied: llvmlite<0.39,>=0.38.0rc1 in /usr/local/lib/python3.8/dist-packages (from numba->shap) (0.38.1)\n",
      "Requirement already satisfied: python-dateutil>=2.8.1 in /usr/local/lib/python3.8/dist-packages (from pandas->shap) (2.8.2)\n",
      "Requirement already satisfied: pytz>=2020.1 in /usr/local/lib/python3.8/dist-packages (from pandas->shap) (2022.1)\n",
      "Requirement already satisfied: pyparsing!=3.0.5,>=2.0.2 in /usr/local/lib/python3.8/dist-packages (from packaging>20.9->shap) (3.0.9)\n",
      "Requirement already satisfied: six>=1.5 in /usr/local/lib/python3.8/dist-packages (from python-dateutil>=2.8.1->pandas->shap) (1.16.0)\n"
     ]
    }
   ],
   "source": [
    "!pip install shap"
   ]
  },
  {
   "cell_type": "code",
   "execution_count": 38,
   "metadata": {},
   "outputs": [
    {
     "data": {
      "image/png": "[encoded data removed]",
      "text/plain": [
       "<Figure size 576x468 with 3 Axes>"
      ]
     },
     "metadata": {},
     "output_type": "display_data"
    }
   ],
   "source": [
    "# SHAP 진행\n",
    "import shap\n",
    "explainer = shap.Explainer(model)\n",
    "shap_values = explainer(X)\n",
    "\n",
    "# 예측 설명의 시각화 진행\n",
    "shap.plots.waterfall(shap_values[0])"
   ]
  },
  {
   "cell_type": "markdown",
   "metadata": {},
   "source": [
    "### Shaply 해석\n",
    "SHAP의 경우 feature importance와 다른 결과를 보였습니다. 두개의 방법론 모두 feature의 importance를 산출해주는 방법론이지만, SHAP의 경우 음의 방향인지, 양의 방향인지에 대한 결과도 함께 재공합니다. SHAP에서 가장 높은 중요도를 보였던 상위 3개의 feature는 LOAN_BNK(은행권에서 발생한 대출 총액), MOBILE_PRICE(사용중인 휴대폰 단말기 가격), LATE_TEL(핸드폰 요금 연체 금액) 이었습니다. 상위로 선발된 3개의 변수 모두 음의 값을 가졌으며, TARGET이 0인 경우는 미발생, TARGET이 1인 경우는 발생이므로 해당 변수들이 높은 값을 가질수록 대출 연체가 발생하지 않는 경향을 보인다고 해석할 수 있습니다. 3가지 변수 모두 큰 값을 가질수록 더 많은 돈을 사용하는 것으로 판단할 수 있으며 어느 정도 돈을 보유하고 있는 사람으로 해석할 수 있기 때문에 값이 클수록 대출의 연체가 더 발생하지 않았다고 사후분석 하였습니다.  \n",
    "다만, 타 변수들도 고객의 재력을 판단할 수 있는 경우가 많으나 왜 LOAN_BNK, MOBILE_PRICE, LATE_TEL이 더 높은 영향을 주었는지에 대한 해석은 불가합니다. 이는 학습에 사용된 데이터의 특성으로 간주할수도 있으나, 정확히 왜 그런지에 대한 해석은 불가합니다. 조금 더 고도화 된 방법론을 통해 해당 변수들이 선택된 이유에 대한 해석도 궁금합니다."
   ]
  },
  {
   "cell_type": "markdown",
   "metadata": {},
   "source": []
  }
 ],
 "metadata": {
  "kernelspec": {
   "display_name": "Python 3.6.9 64-bit",
   "language": "python",
   "name": "python3"
  },
  "language_info": {
   "codemirror_mode": {
    "name": "ipython",
    "version": 3
   },
   "file_extension": ".py",
   "mimetype": "text/x-python",
   "name": "python",
   "nbconvert_exporter": "python",
   "pygments_lexer": "ipython3",
   "version": "3.8.10"
  },
  "orig_nbformat": 4,
  "vscode": {
   "interpreter": {
    "hash": "31f2aee4e71d21fbe5cf8b01ff0e069b9275f58929596ceb00d14d90e3e16cd6"
   }
  }
 },
 "nbformat": 4,
 "nbformat_minor": 2
}
