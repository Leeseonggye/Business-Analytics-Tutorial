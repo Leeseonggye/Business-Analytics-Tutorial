{
 "cells": [
  {
   "attachments": {},
   "cell_type": "markdown",
   "metadata": {},
   "source": [
    "## ※ Business analytics tutorial- Semi-supervised Learning\n",
    "---\n",
    "본 튜토리얼은 고려대학교 강필성 교수님의 Business analytics 수업의 내용을 정리한 튜토리얼 코드 입니다.  \n",
    "튜토리얼에서는 Semi-supervised Learning의 대표적인 방법론에 대한 코드와 간단한 설명을 다룹니다.  \n",
    "또한 튜토리얼은 코드는 microsoft에서 구현한 Semi-supervised Learning tutorial code를 활용하여 작성하였습니다.\n",
    "\n",
    "출처: https://github.com/microsoft/Semi-supervised-learning"
   ]
  },
  {
   "attachments": {},
   "cell_type": "markdown",
   "metadata": {},
   "source": [
    "## ※ Microsoft tutorial code 설명\n",
    "---\n",
    "Microsoft에서 재공하는 tutorial code의 경우 Pi-Model, Mean-Teacher, FixMatch, FlexMatch, AdaMatch 등 총 14가지의 Semi-supervised learning 알고리즘과 Superviesd, Fully-supervised learning을 제공합니다.  \n",
    "또한 yaml 파일을 통해 각 알고리즘, 데이터셋 별로 하이퍼파라미터를 저장해 놓았습니다.  \n",
    "본 튜토리얼에서는 Microsoft에서 재공하는 tutorial을 통해 각각의 Semi-supervised 방법론 별로 labeled data의 비율을 변경하였을 때의 성능에 대한 차이를 분석하고자 합니다. "
   ]
  },
  {
   "cell_type": "code",
   "execution_count": 1,
   "metadata": {},
   "outputs": [
    {
     "name": "stdout",
     "output_type": "stream",
     "text": [
      "Requirement already satisfied: semilearn==0.3.8a in /usr/local/lib/python3.8/dist-packages (0.3.8a0)\n",
      "Requirement already satisfied: Pillow==9.0.0 in /usr/local/lib/python3.8/dist-packages (from semilearn==0.3.8a) (9.0.0)\n",
      "Requirement already satisfied: huggingface-hub==0.8.1 in /usr/local/lib/python3.8/dist-packages (from semilearn==0.3.8a) (0.8.1)\n",
      "Requirement already satisfied: networkx==2.6.3 in /usr/local/lib/python3.8/dist-packages (from semilearn==0.3.8a) (2.6.3)\n",
      "Requirement already satisfied: scipy==1.7.3 in /usr/local/lib/python3.8/dist-packages (from semilearn==0.3.8a) (1.7.3)\n",
      "Requirement already satisfied: Markdown==3.3.7 in /usr/local/lib/python3.8/dist-packages (from semilearn==0.3.8a) (3.3.7)\n",
      "Requirement already satisfied: idna==3.3 in /usr/local/lib/python3.8/dist-packages (from semilearn==0.3.8a) (3.3)\n",
      "Requirement already satisfied: mkl-random==1.2.2 in /usr/local/lib/python3.8/dist-packages (from semilearn==0.3.8a) (1.2.2)\n",
      "Requirement already satisfied: pyasn1==0.4.8 in /usr/local/lib/python3.8/dist-packages (from semilearn==0.3.8a) (0.4.8)\n",
      "Requirement already satisfied: pyasn1-modules==0.2.8 in /usr/local/lib/python3.8/dist-packages (from semilearn==0.3.8a) (0.2.8)\n",
      "Requirement already satisfied: six==1.16.0 in /usr/local/lib/python3.8/dist-packages (from semilearn==0.3.8a) (1.16.0)\n",
      "Requirement already satisfied: tifffile==2021.11.2 in /usr/local/lib/python3.8/dist-packages (from semilearn==0.3.8a) (2021.11.2)\n",
      "Requirement already satisfied: kiwisolver==1.4.3 in /usr/local/lib/python3.8/dist-packages (from semilearn==0.3.8a) (1.4.3)\n",
      "Requirement already satisfied: ruamel.yaml==0.17.21 in /usr/local/lib/python3.8/dist-packages (from semilearn==0.3.8a) (0.17.21)\n",
      "Requirement already satisfied: progress==1.6 in /usr/local/lib/python3.8/dist-packages (from semilearn==0.3.8a) (1.6)\n",
      "Requirement already satisfied: scikit-learn==1.0.2 in /usr/local/lib/python3.8/dist-packages (from semilearn==0.3.8a) (1.0.2)\n",
      "Requirement already satisfied: protobuf==3.19.5 in /usr/local/lib/python3.8/dist-packages (from semilearn==0.3.8a) (3.19.5)\n",
      "Requirement already satisfied: torchvision>=0.13.0 in /usr/local/lib/python3.8/dist-packages (from semilearn==0.3.8a) (0.13.0+cu113)\n",
      "Requirement already satisfied: charset-normalizer==2.1.0 in /usr/local/lib/python3.8/dist-packages (from semilearn==0.3.8a) (2.1.0)\n",
      "Requirement already satisfied: tensorboard==2.9.1 in /usr/local/lib/python3.8/dist-packages (from semilearn==0.3.8a) (2.9.1)\n",
      "Requirement already satisfied: tqdm==4.64.0 in /usr/local/lib/python3.8/dist-packages (from semilearn==0.3.8a) (4.64.0)\n",
      "Requirement already satisfied: numpy in /usr/local/lib/python3.8/dist-packages (from semilearn==0.3.8a) (1.22.4)\n",
      "Requirement already satisfied: regex==2022.6.2 in /usr/local/lib/python3.8/dist-packages (from semilearn==0.3.8a) (2022.6.2)\n",
      "Requirement already satisfied: google-auth==2.9.0 in /usr/local/lib/python3.8/dist-packages (from semilearn==0.3.8a) (2.9.0)\n",
      "Requirement already satisfied: tensorboard-plugin-wit==1.8.1 in /usr/local/lib/python3.8/dist-packages (from semilearn==0.3.8a) (1.8.1)\n",
      "Requirement already satisfied: transformers==4.20.1 in /usr/local/lib/python3.8/dist-packages (from semilearn==0.3.8a) (4.20.1)\n",
      "Requirement already satisfied: google-auth-oauthlib==0.4.6 in /usr/local/lib/python3.8/dist-packages (from semilearn==0.3.8a) (0.4.6)\n",
      "Requirement already satisfied: cachetools==5.2.0 in /usr/local/lib/python3.8/dist-packages (from semilearn==0.3.8a) (5.2.0)\n",
      "Requirement already satisfied: oauthlib==3.2.1 in /usr/local/lib/python3.8/dist-packages (from semilearn==0.3.8a) (3.2.1)\n",
      "Requirement already satisfied: joblib==1.2.0 in /usr/local/lib/python3.8/dist-packages (from semilearn==0.3.8a) (1.2.0)\n",
      "Requirement already satisfied: olefile==0.46 in /usr/local/lib/python3.8/dist-packages (from semilearn==0.3.8a) (0.46)\n",
      "Requirement already satisfied: requests==2.28.1 in /usr/local/lib/python3.8/dist-packages (from semilearn==0.3.8a) (2.28.1)\n",
      "Requirement already satisfied: tokenizers==0.12.1 in /usr/local/lib/python3.8/dist-packages (from semilearn==0.3.8a) (0.12.1)\n",
      "Requirement already satisfied: python-dateutil==2.8.2 in /usr/local/lib/python3.8/dist-packages (from semilearn==0.3.8a) (2.8.2)\n",
      "Requirement already satisfied: imageio==2.19.3 in /usr/local/lib/python3.8/dist-packages (from semilearn==0.3.8a) (2.19.3)\n",
      "Requirement already satisfied: scikit-image==0.19.3 in /usr/local/lib/python3.8/dist-packages (from semilearn==0.3.8a) (0.19.3)\n",
      "Requirement already satisfied: absl-py==1.1.0 in /usr/local/lib/python3.8/dist-packages (from semilearn==0.3.8a) (1.1.0)\n",
      "Requirement already satisfied: tensorboard-data-server==0.6.1 in /usr/local/lib/python3.8/dist-packages (from semilearn==0.3.8a) (0.6.1)\n",
      "Requirement already satisfied: pyparsing==3.0.9 in /usr/local/lib/python3.8/dist-packages (from semilearn==0.3.8a) (3.0.9)\n",
      "Requirement already satisfied: threadpoolctl==3.1.0 in /usr/local/lib/python3.8/dist-packages (from semilearn==0.3.8a) (3.1.0)\n",
      "Requirement already satisfied: wandb in /usr/local/lib/python3.8/dist-packages (from semilearn==0.3.8a) (0.13.7)\n",
      "Requirement already satisfied: rsa==4.8 in /usr/local/lib/python3.8/dist-packages (from semilearn==0.3.8a) (4.8)\n",
      "Requirement already satisfied: PyWavelets==1.3.0 in /usr/local/lib/python3.8/dist-packages (from semilearn==0.3.8a) (1.3.0)\n",
      "Requirement already satisfied: pynacl in /usr/local/lib/python3.8/dist-packages (from semilearn==0.3.8a) (1.5.0)\n",
      "Requirement already satisfied: requests-oauthlib==1.3.1 in /usr/local/lib/python3.8/dist-packages (from semilearn==0.3.8a) (1.3.1)\n",
      "Requirement already satisfied: Werkzeug==2.1.2 in /usr/local/lib/python3.8/dist-packages (from semilearn==0.3.8a) (2.1.2)\n",
      "Requirement already satisfied: packaging==21.3 in /usr/local/lib/python3.8/dist-packages (from semilearn==0.3.8a) (21.3)\n",
      "Requirement already satisfied: certifi==2021.5.30 in /usr/local/lib/python3.8/dist-packages (from semilearn==0.3.8a) (2021.5.30)\n",
      "Requirement already satisfied: urllib3==1.26.9 in /usr/local/lib/python3.8/dist-packages (from semilearn==0.3.8a) (1.26.9)\n",
      "Requirement already satisfied: mkl-fft==1.3.0 in /usr/local/lib/python3.8/dist-packages (from semilearn==0.3.8a) (1.3.0)\n",
      "Requirement already satisfied: typing-extensions==4.3.0 in /usr/local/lib/python3.8/dist-packages (from semilearn==0.3.8a) (4.3.0)\n",
      "Requirement already satisfied: torch>=1.12.0 in /usr/local/lib/python3.8/dist-packages (from semilearn==0.3.8a) (1.12.0+cu113)\n",
      "Requirement already satisfied: aimstack in /usr/local/lib/python3.8/dist-packages (from semilearn==0.3.8a) (2.0.0)\n",
      "Requirement already satisfied: fonttools==4.33.3 in /usr/local/lib/python3.8/dist-packages (from semilearn==0.3.8a) (4.33.3)\n",
      "Requirement already satisfied: cycler==0.11.0 in /usr/local/lib/python3.8/dist-packages (from semilearn==0.3.8a) (0.11.0)\n",
      "Requirement already satisfied: PyYAML==6.0 in /usr/local/lib/python3.8/dist-packages (from semilearn==0.3.8a) (6.0)\n",
      "Requirement already satisfied: torchaudio==0.12.0 in /usr/local/lib/python3.8/dist-packages (from semilearn==0.3.8a) (0.12.0+cu113)\n",
      "Requirement already satisfied: grpcio==1.47.0 in /usr/local/lib/python3.8/dist-packages (from semilearn==0.3.8a) (1.47.0)\n",
      "Requirement already satisfied: matplotlib==3.5.2 in /usr/local/lib/python3.8/dist-packages (from semilearn==0.3.8a) (3.5.2)\n",
      "Requirement already satisfied: zipp==3.8.0 in /usr/local/lib/python3.8/dist-packages (from semilearn==0.3.8a) (3.8.0)\n",
      "Requirement already satisfied: ruamel.yaml.clib==0.2.6 in /usr/local/lib/python3.8/dist-packages (from semilearn==0.3.8a) (0.2.6)\n",
      "Requirement already satisfied: mkl-service==2.4.0 in /usr/local/lib/python3.8/dist-packages (from semilearn==0.3.8a) (2.4.0)\n",
      "Requirement already satisfied: filelock==3.7.1 in /usr/local/lib/python3.8/dist-packages (from semilearn==0.3.8a) (3.7.1)\n",
      "Requirement already satisfied: timm==0.5.4 in /usr/local/lib/python3.8/dist-packages (from semilearn==0.3.8a) (0.5.4)\n",
      "Requirement already satisfied: importlib-metadata==4.12.0 in /usr/local/lib/python3.8/dist-packages (from semilearn==0.3.8a) (4.12.0)\n",
      "Requirement already satisfied: mkl in /usr/local/lib/python3.8/dist-packages (from mkl-random==1.2.2->semilearn==0.3.8a) (2023.0.0)\n",
      "Requirement already satisfied: dpcpp_cpp_rt in /usr/local/lib/python3.8/dist-packages (from mkl-random==1.2.2->semilearn==0.3.8a) (2023.0.0)\n",
      "Requirement already satisfied: setuptools>=41.0.0 in /usr/lib/python3/dist-packages (from tensorboard==2.9.1->semilearn==0.3.8a) (45.2.0)\n",
      "Requirement already satisfied: wheel>=0.26 in /usr/lib/python3/dist-packages (from tensorboard==2.9.1->semilearn==0.3.8a) (0.34.2)\n",
      "Requirement already satisfied: psutil>=5.0.0 in /usr/local/lib/python3.8/dist-packages (from wandb->semilearn==0.3.8a) (5.9.1)\n",
      "Requirement already satisfied: promise<3,>=2.0 in /usr/local/lib/python3.8/dist-packages (from wandb->semilearn==0.3.8a) (2.3)\n",
      "Requirement already satisfied: setproctitle in /usr/local/lib/python3.8/dist-packages (from wandb->semilearn==0.3.8a) (1.3.2)\n",
      "Requirement already satisfied: sentry-sdk>=1.0.0 in /usr/local/lib/python3.8/dist-packages (from wandb->semilearn==0.3.8a) (1.12.1)\n",
      "Requirement already satisfied: docker-pycreds>=0.4.0 in /usr/local/lib/python3.8/dist-packages (from wandb->semilearn==0.3.8a) (0.4.0)\n",
      "Requirement already satisfied: Click!=8.0.0,>=7.0 in /usr/local/lib/python3.8/dist-packages (from wandb->semilearn==0.3.8a) (8.0.4)\n",
      "Requirement already satisfied: GitPython>=1.0.0 in /usr/local/lib/python3.8/dist-packages (from wandb->semilearn==0.3.8a) (3.1.18)\n",
      "Requirement already satisfied: pathtools in /usr/local/lib/python3.8/dist-packages (from wandb->semilearn==0.3.8a) (0.1.2)\n",
      "Requirement already satisfied: shortuuid>=0.5.0 in /usr/local/lib/python3.8/dist-packages (from wandb->semilearn==0.3.8a) (1.0.11)\n",
      "Requirement already satisfied: cffi>=1.4.1 in /usr/local/lib/python3.8/dist-packages (from pynacl->semilearn==0.3.8a) (1.15.1)\n",
      "Requirement already satisfied: aimrecords>=0.0.3 in /usr/local/lib/python3.8/dist-packages (from aimstack->semilearn==0.3.8a) (0.0.7)\n",
      "Requirement already satisfied: paramiko>=2.6.0 in /usr/local/lib/python3.8/dist-packages (from aimstack->semilearn==0.3.8a) (2.12.0)\n",
      "Requirement already satisfied: docker>=4.1.0 in /usr/local/lib/python3.8/dist-packages (from aimstack->semilearn==0.3.8a) (4.4.4)\n",
      "Requirement already satisfied: py3nvml>=0.2.5 in /usr/local/lib/python3.8/dist-packages (from aimstack->semilearn==0.3.8a) (0.2.7)\n",
      "Requirement already satisfied: intel-openmp==2023.* in /usr/local/lib/python3.8/dist-packages (from mkl->mkl-random==1.2.2->semilearn==0.3.8a) (2023.0.0)\n",
      "Requirement already satisfied: tbb==2021.* in /usr/local/lib/python3.8/dist-packages (from mkl->mkl-random==1.2.2->semilearn==0.3.8a) (2021.8.0)\n",
      "Requirement already satisfied: intel-cmplr-lic-rt==2023.0.0 in /usr/local/lib/python3.8/dist-packages (from dpcpp_cpp_rt->mkl-random==1.2.2->semilearn==0.3.8a) (2023.0.0)\n",
      "Requirement already satisfied: intel-cmplr-lib-rt==2023.0.0 in /usr/local/lib/python3.8/dist-packages (from dpcpp_cpp_rt->mkl-random==1.2.2->semilearn==0.3.8a) (2023.0.0)\n",
      "Requirement already satisfied: intel-opencl-rt==2023.0.0 in /usr/local/lib/python3.8/dist-packages (from dpcpp_cpp_rt->mkl-random==1.2.2->semilearn==0.3.8a) (2023.0.0)\n",
      "Requirement already satisfied: gitdb<5,>=4.0.1 in /usr/local/lib/python3.8/dist-packages (from GitPython>=1.0.0->wandb->semilearn==0.3.8a) (4.0.9)\n",
      "Requirement already satisfied: pycparser in /usr/local/lib/python3.8/dist-packages (from cffi>=1.4.1->pynacl->semilearn==0.3.8a) (2.21)\n",
      "Requirement already satisfied: base58==2.0.1 in /usr/local/lib/python3.8/dist-packages (from aimrecords>=0.0.3->aimstack->semilearn==0.3.8a) (2.0.1)\n",
      "Requirement already satisfied: cryptography>=2.5 in /usr/local/lib/python3.8/dist-packages (from paramiko>=2.6.0->aimstack->semilearn==0.3.8a) (37.0.4)\n",
      "Requirement already satisfied: bcrypt>=3.1.3 in /usr/local/lib/python3.8/dist-packages (from paramiko>=2.6.0->aimstack->semilearn==0.3.8a) (4.0.1)\n",
      "Requirement already satisfied: websocket-client>=0.32.0 in /usr/local/lib/python3.8/dist-packages (from docker>=4.1.0->aimstack->semilearn==0.3.8a) (1.3.3)\n",
      "Requirement already satisfied: xmltodict in /usr/local/lib/python3.8/dist-packages (from py3nvml>=0.2.5->aimstack->semilearn==0.3.8a) (0.13.0)\n",
      "Requirement already satisfied: smmap<6,>=3.0.1 in /usr/local/lib/python3.8/dist-packages (from gitdb<5,>=4.0.1->GitPython>=1.0.0->wandb->semilearn==0.3.8a) (5.0.0)\n"
     ]
    }
   ],
   "source": [
    "# Microsoft Semi Supervised learning 라이브러리 설치\n",
    "\n",
    "!pip install semilearn==0.3.8a\n"
   ]
  },
  {
   "cell_type": "code",
   "execution_count": 1,
   "metadata": {},
   "outputs": [
    {
     "name": "stdout",
     "output_type": "stream",
     "text": [
      "Tue Dec 27 08:16:55 2022       \n",
      "+-----------------------------------------------------------------------------+\n",
      "| NVIDIA-SMI 515.86.01    Driver Version: 515.86.01    CUDA Version: 11.7     |\n",
      "|-------------------------------+----------------------+----------------------+\n",
      "| GPU  Name        Persistence-M| Bus-Id        Disp.A | Volatile Uncorr. ECC |\n",
      "| Fan  Temp  Perf  Pwr:Usage/Cap|         Memory-Usage | GPU-Util  Compute M. |\n",
      "|                               |                      |               MIG M. |\n",
      "|===============================+======================+======================|\n",
      "|   0  NVIDIA GeForce ...  Off  | 00000000:01:00.0 Off |                  N/A |\n",
      "| 35%   30C    P8     3W / 260W |    101MiB / 11264MiB |      0%      Default |\n",
      "|                               |                      |                  N/A |\n",
      "+-------------------------------+----------------------+----------------------+\n",
      "                                                                               \n",
      "+-----------------------------------------------------------------------------+\n",
      "| Processes:                                                                  |\n",
      "|  GPU   GI   CI        PID   Type   Process name                  GPU Memory |\n",
      "|        ID   ID                                                   Usage      |\n",
      "|=============================================================================|\n",
      "+-----------------------------------------------------------------------------+\n"
     ]
    }
   ],
   "source": [
    "# GPU 메모리 상태 확인\n",
    "\n",
    "!nvidia-smi"
   ]
  },
  {
   "cell_type": "code",
   "execution_count": 2,
   "metadata": {},
   "outputs": [
    {
     "name": "stderr",
     "output_type": "stream",
     "text": [
      "/usr/local/lib/python3.8/dist-packages/tqdm/auto.py:22: TqdmWarning: IProgress not found. Please update jupyter and ipywidgets. See https://ipywidgets.readthedocs.io/en/stable/user_install.html\n",
      "  from .autonotebook import tqdm as notebook_tqdm\n"
     ]
    }
   ],
   "source": [
    "# 라이브러리 호출\n",
    "\n",
    "import semilearn\n",
    "from semilearn import get_dataset, get_data_loader, get_net_builder, get_algorithm, get_config, Trainer"
   ]
  },
  {
   "attachments": {},
   "cell_type": "markdown",
   "metadata": {},
   "source": [
    "## 원하는 알고리즘의 config 구성\n",
    "Microsoft Semi-supervised-learning 패키지의 경우 github code에 각 알고리즘 별 parameter를 yaml 파일로 제공합니다. 각 알고리즘의 parameter를 최대한 그대로 사용하지만, 개인 pc와 시간으로 인해 각 모델별 epoch을 10, batch size를 16(FixMatch, FlexMacth의 경우 8)으로 변경하였습니다. \n",
    "\n",
    "또한 pretrain model을 vit_tiny_patch2_32를 사용하였습니다. \n"
   ]
  },
  {
   "cell_type": "code",
   "execution_count": 7,
   "metadata": {},
   "outputs": [],
   "source": [
    "import yaml\n",
    "\n",
    "def set_config(algorithm, num_labels ,epochs = 10):\n",
    "    legislators = yaml.safe_load(open(f\"config/{algorithm}/{algorithm}_cifar10_{num_labels}_0.yaml\",encoding='UTF-8'))\n",
    "    # 실험 시 0번 gpu 사용, 분산 사용 X\n",
    "    \n",
    "    legislators['gpu'] = 0\n",
    "    legislators['use_pretrain'] = True\n",
    "    legislators['pretrain_path'] = 'https://github.com/microsoft/Semi-supervised-learning/releases/download/v.0.0.0/vit_tiny_patch2_32_mlp_im_1k_32.pth'\n",
    "    legislators['distributed'] = False\n",
    "    legislators['epoch'] = epochs\n",
    "    legislators['batch_size'] = 16\n",
    "    legislators['num_workers'] = 4\n",
    "    legislators['net'] = 'vit_tiny_patch2_32'\n",
    "    legislators['num_labels'] = num_labels\n",
    "    legislators['num_train_iter'] = int(50000/legislators['batch_size'] * epochs) # len(data) = 50,000\n",
    "    \n",
    "    config = get_config(legislators)\n",
    "    \n",
    "    return config"
   ]
  },
  {
   "attachments": {},
   "cell_type": "markdown",
   "metadata": {},
   "source": [
    "### 알고리즘 설명\n",
    "\n",
    "본 튜토리얼에서는 강의 내용에서 다룬 consitency regularization 방법론인 Pi-model, Mean teacher와 holistic 방법론인 MixMatch, ReMixMatch, FixMatch, FlexMatch에 대한 실험을 진행하였습니다. 각 방법론에 대한 설명은 다음과 같습니다.  \n",
    "\n",
    "- Consitency regularization\n",
    "\n",
    "    - Pi-model  \n",
    "      \n",
    "      <img src=\"ssl_pictures/pi_model.png\" width=\"1213px\" height=\"200px\" title=\"pi model\">  \n",
    "      \n",
    "      Pi-model의 경우 위의 그림과 같이 하나의 FFN에 두 번의 perturbation을 적용합니다.  \n",
    "      또한 Ladder network와는 다르게 latent vector가 아닌 ouput vector가 유사하게 산출되도록 학습을 진행합니다.  \n",
    "      즉 labeled data를 통해 cross entropy를 활용한 supervised loss를 산출하고, unlabeled data를 통해 mean squared error(MSE)를 통해 consistency loss를 산출합니다.  \n",
    "      최종적으로 두개의 loss를 일차결합하여 최종 loss function을 산출하고, loss가 최소화 되도록 학습을 진행합니다.\n",
    "      \n",
    "        \n",
    "    - Mean Teacher   \n",
    "      \n",
    "      <img src=\"ssl_pictures/mean_teacher.png\" width=\"1213px\" height=\"547px\" title=\"mean teacher\">  \n",
    "\n",
    "      Mean Teacher의 경우 teacher model과 student model을 구분하고, student model은 labeled data와 unlabeled data를 모두 사용하고, teacher model은 unlabeled data만을 사용합니다. 따라서, student model은 cross entropy 기반의 supervised loss, MSE 기반의 consistency loss 산출에 사용되고, teacher model은 consistency loss에만 사용됩니다. 또한 batch 단위로 EMA를 진행하여 Teacher model의 가중치를 student model의 가중치로 보정합니다.  \n",
    "      \n",
    "\n",
    "- Holistic method\n",
    "\n",
    "    - MixMatch  \n",
    "\n",
    "      <img src=\"ssl_pictures/MixMatch.png\" width=\"1213px\" height=\"433px\" title=\"MixMatch\">  \n",
    "        \n",
    "      MixMatch의 경우 unlabeled data를 Augmentation을 활용하여 semi-supervised learning을 진행합니다. Augmentation을 진행한 sample들의 output의 평균을 활용하여 label을 guessing하고 나서 softmax temperature를 적용하여 Entropy minimization을 수행하고 Mixup을 적용합니다.  \n",
    "  \n",
    "\n",
    "    - ReMixMatch  \n",
    "\n",
    "      <img src=\"ssl_pictures/RemixMatch.png\" width=\"1213px\" height=\"818px\" title=\"ReMixMatch\">  \n",
    "        \n",
    "      ReMixMatch 역시 전반적인 진행방식은 MixMatch와 매우 유사합니다. ReMixMatch의 경우 MixMatch에서는 진행하지 않은 unlabeled data와 labeled data의 분포를 유사하게 만드는 distribution alignment와 strong augmentation이 추가됩니다. Strong augmentation을 통해 얻은 sample의 경우 신뢰도가 weak augmentation에 비해 낮을 확률이 높기 때문에 label을 guessing하는 과정에서는 사용하지 않습니다.  \n",
    "\n",
    "    - FixMatch  \n",
    "\n",
    "      <img src=\"ssl_pictures/Fixmatch.png\" width=\"1213px\" height=\"490px\" title=\"FixMatch\">  \n",
    "        \n",
    "      FixMatch의 경우도 전반적인 진행방식은 위에서 언급한 MixMatch, ReMixMatch와 유사합니다. 차이점은 weak augmentation sample의 prediction의 신뢰도가 충분히 높을 경우 해당 pseudo-label을 strong augmentation sample의 pseudo-label로 사용하여 학습을 진행하는 것 입니다.  \n",
    "        \n",
    "\n",
    "    - FlexMatch  \n",
    "\n",
    "      <img src=\"ssl_pictures/FlexMatch.png\" width=\"1213px\" height=\"308px\" title=\"ReMixMatch\">  \n",
    "        \n",
    "      FlexMatch의 경우 FixMatch를 조금 더 개선하여 만든 알고리즘입니다. Fixmatch의 경우 모든 class에 동일한 confidence 기준을 설정하였으나, FlexMatch의 경우 각 class마다 고유의 confidence 기준을 설정하여 학습을 진행합니다. 즉, 예측이 어려운 class의 경우 조금 더 낮은 confidence를 적용하고 예측이 쉬운 class의 경우 더 높은 confidence를 적용하여 학습을 진행합니다.  \n",
    "     "
   ]
  },
  {
   "cell_type": "code",
   "execution_count": 4,
   "metadata": {},
   "outputs": [],
   "source": [
    "# 알고리즘 및 num_label 설정\n",
    "\n",
    "algorithm_list = ['pimodel','meanteacher','mixmatch','remixmatch','fixmatch','flexmatch']\n",
    "\n",
    "num_labels_list = [40] # cifar 10 dataset은 각각의 class가 train 5,000개, test 1,000개로 구성 -> class당 4개의 label data 사용"
   ]
  },
  {
   "cell_type": "code",
   "execution_count": 4,
   "metadata": {},
   "outputs": [],
   "source": [
    "# 지정한 config에 맞는 dataset, train_lb_loader, train_ulb_loader, eval_loader를 생성하는 함수\n",
    "\n",
    "def dataloader(algorithm, num_labels):\n",
    "    config = set_config(algorithm,num_labels)\n",
    "    dataset_dict = get_dataset(config, config.algorithm, config.dataset, config.num_labels, config.num_classes, data_dir=config.data_dir)\n",
    "    train_lb_loader = get_data_loader(config, dataset_dict['train_lb'], config.batch_size)\n",
    "    train_ulb_loader = get_data_loader(config, dataset_dict['train_ulb'], int(config.batch_size * config.uratio))\n",
    "    eval_loader = get_data_loader(config, dataset_dict['eval'], config.eval_batch_size)\n",
    "    \n",
    "    return train_lb_loader, train_ulb_loader, eval_loader"
   ]
  },
  {
   "cell_type": "code",
   "execution_count": 5,
   "metadata": {},
   "outputs": [],
   "source": [
    "# 지정한 config에 대해 train을 진행하는 함수 설정\n",
    "import gc\n",
    "import torch\n",
    "\n",
    "def train(algorithm, num_labels, train_lb_loader, train_ulb_loader, eval_loader, epochs):\n",
    "    # Cache 제거를 통해 메모리 최적화\n",
    "    gc.collect()\n",
    "    torch.cuda.empty_cache()\n",
    "    \n",
    "    config = set_config(algorithm,num_labels,epochs)\n",
    "    \n",
    "    algorithm = get_algorithm(config,  get_net_builder(config.net, from_name=False), tb_log=None, logger=None)\n",
    "    \n",
    "    trainer = Trainer(config, algorithm)\n",
    "    trainer.fit(train_lb_loader, train_ulb_loader, eval_loader)\n",
    "    \n",
    "    return trainer"
   ]
  },
  {
   "cell_type": "code",
   "execution_count": 16,
   "metadata": {},
   "outputs": [
    {
     "name": "stderr",
     "output_type": "stream",
     "text": [
      "/bin/sh: 1: netstat: not found\n"
     ]
    },
    {
     "name": "stdout",
     "output_type": "stream",
     "text": [
      "Files already downloaded and verified\n",
      "lb count: [4, 4, 4, 4, 4, 4, 4, 4, 4, 4]\n",
      "ulb count: [5000, 5000, 5000, 5000, 5000, 5000, 5000, 5000, 5000, 5000]\n",
      "Files already downloaded and verified\n"
     ]
    },
    {
     "name": "stderr",
     "output_type": "stream",
     "text": [
      "/bin/sh: 1: netstat: not found\n"
     ]
    },
    {
     "name": "stdout",
     "output_type": "stream",
     "text": [
      "Files already downloaded and verified\n",
      "lb count: [4, 4, 4, 4, 4, 4, 4, 4, 4, 4]\n",
      "ulb count: [5000, 5000, 5000, 5000, 5000, 5000, 5000, 5000, 5000, 5000]\n",
      "Files already downloaded and verified\n",
      "unlabeled data number: 50000, labeled data number 40\n",
      "Create train and test data loaders\n",
      "[!] data loader keys: dict_keys(['train_lb', 'train_ulb', 'eval'])\n",
      "_IncompatibleKeys(missing_keys=['head.weight', 'head.bias'], unexpected_keys=[])\n",
      "Create optimizer and scheduler\n",
      "Epoch: 0\n"
     ]
    },
    {
     "name": "stderr",
     "output_type": "stream",
     "text": [
      "[2022-12-25 09:50:36,934 INFO] confusion matrix\n",
      "[2022-12-25 09:50:36,935 INFO] [[0.201 0.068 0.119 0.116 0.017 0.038 0.082 0.028 0.197 0.134]\n",
      " [0.068 0.161 0.012 0.073 0.008 0.021 0.203 0.009 0.114 0.331]\n",
      " [0.047 0.074 0.089 0.075 0.124 0.094 0.161 0.152 0.083 0.101]\n",
      " [0.013 0.101 0.048 0.066 0.073 0.071 0.348 0.146 0.035 0.099]\n",
      " [0.015 0.061 0.066 0.077 0.277 0.082 0.118 0.187 0.057 0.06 ]\n",
      " [0.012 0.063 0.046 0.072 0.074 0.054 0.36  0.164 0.046 0.109]\n",
      " [0.004 0.048 0.043 0.053 0.308 0.043 0.217 0.229 0.027 0.028]\n",
      " [0.021 0.11  0.038 0.096 0.038 0.068 0.305 0.106 0.057 0.161]\n",
      " [0.133 0.093 0.077 0.103 0.004 0.025 0.102 0.013 0.205 0.245]\n",
      " [0.082 0.134 0.011 0.067 0.011 0.034 0.196 0.019 0.107 0.339]]\n",
      "[2022-12-25 09:50:36,937 INFO] evaluation metric\n",
      "[2022-12-25 09:50:36,937 INFO] acc: 0.1715\n",
      "[2022-12-25 09:50:36,938 INFO] precision: 0.1793\n",
      "[2022-12-25 09:50:36,938 INFO] recall: 0.1715\n",
      "[2022-12-25 09:50:36,938 INFO] f1: 0.1682\n"
     ]
    },
    {
     "name": "stdout",
     "output_type": "stream",
     "text": [
      "model saved: ./saved_models/classic_cv/pimodel_cifar10_40_0/latest_model.pth\n",
      "model saved: ./saved_models/classic_cv/pimodel_cifar10_40_0/model_best.pth\n",
      "Epoch: 1\n"
     ]
    },
    {
     "name": "stderr",
     "output_type": "stream",
     "text": [
      "[2022-12-25 10:02:39,069 INFO] confusion matrix\n",
      "[2022-12-25 10:02:39,070 INFO] [[0.236 0.029 0.232 0.065 0.019 0.024 0.016 0.06  0.136 0.183]\n",
      " [0.035 0.097 0.064 0.135 0.015 0.058 0.054 0.179 0.061 0.302]\n",
      " [0.054 0.033 0.176 0.092 0.132 0.04  0.096 0.206 0.064 0.107]\n",
      " [0.019 0.055 0.115 0.151 0.067 0.059 0.099 0.311 0.019 0.105]\n",
      " [0.018 0.017 0.112 0.09  0.271 0.031 0.116 0.257 0.019 0.069]\n",
      " [0.019 0.031 0.117 0.185 0.065 0.051 0.064 0.348 0.023 0.097]\n",
      " [0.006 0.025 0.085 0.073 0.288 0.035 0.132 0.306 0.007 0.043]\n",
      " [0.009 0.077 0.094 0.173 0.038 0.042 0.05  0.286 0.038 0.193]\n",
      " [0.13  0.039 0.167 0.107 0.003 0.015 0.015 0.078 0.113 0.333]\n",
      " [0.03  0.124 0.057 0.123 0.011 0.011 0.016 0.17  0.075 0.383]]\n",
      "[2022-12-25 10:02:39,071 INFO] evaluation metric\n",
      "[2022-12-25 10:02:39,072 INFO] acc: 0.1896\n",
      "[2022-12-25 10:02:39,072 INFO] precision: 0.2062\n",
      "[2022-12-25 10:02:39,073 INFO] recall: 0.1896\n",
      "[2022-12-25 10:02:39,073 INFO] f1: 0.1841\n"
     ]
    },
    {
     "name": "stdout",
     "output_type": "stream",
     "text": [
      "model saved: ./saved_models/classic_cv/pimodel_cifar10_40_0/latest_model.pth\n",
      "model saved: ./saved_models/classic_cv/pimodel_cifar10_40_0/model_best.pth\n",
      "Epoch: 2\n"
     ]
    },
    {
     "name": "stderr",
     "output_type": "stream",
     "text": [
      "[2022-12-25 10:14:40,355 INFO] confusion matrix\n",
      "[2022-12-25 10:14:40,356 INFO] [[0.061 0.025 0.103 0.    0.002 0.    0.372 0.236 0.193 0.008]\n",
      " [0.015 0.056 0.006 0.    0.008 0.    0.415 0.368 0.11  0.022]\n",
      " [0.072 0.022 0.108 0.    0.019 0.001 0.267 0.382 0.121 0.008]\n",
      " [0.052 0.034 0.065 0.001 0.015 0.    0.282 0.436 0.094 0.021]\n",
      " [0.065 0.02  0.154 0.    0.043 0.    0.194 0.432 0.085 0.007]\n",
      " [0.048 0.029 0.057 0.001 0.017 0.    0.271 0.471 0.095 0.011]\n",
      " [0.034 0.037 0.041 0.002 0.021 0.    0.219 0.574 0.06  0.012]\n",
      " [0.033 0.047 0.047 0.003 0.014 0.    0.331 0.428 0.076 0.021]\n",
      " [0.039 0.043 0.052 0.001 0.001 0.    0.44  0.219 0.19  0.015]\n",
      " [0.006 0.039 0.008 0.001 0.001 0.    0.413 0.411 0.096 0.025]]\n",
      "[2022-12-25 10:14:40,357 INFO] evaluation metric\n",
      "[2022-12-25 10:14:40,358 INFO] acc: 0.1131\n",
      "[2022-12-25 10:14:40,358 INFO] precision: 0.1400\n",
      "[2022-12-25 10:14:40,358 INFO] recall: 0.1131\n",
      "[2022-12-25 10:14:40,359 INFO] f1: 0.0877\n"
     ]
    },
    {
     "name": "stdout",
     "output_type": "stream",
     "text": [
      "model saved: ./saved_models/classic_cv/pimodel_cifar10_40_0/latest_model.pth\n",
      "Epoch: 3\n"
     ]
    },
    {
     "name": "stderr",
     "output_type": "stream",
     "text": [
      "[2022-12-25 10:26:41,188 INFO] confusion matrix\n",
      "[2022-12-25 10:26:41,189 INFO] [[0.254 0.098 0.079 0.023 0.04  0.087 0.061 0.039 0.021 0.298]\n",
      " [0.099 0.119 0.017 0.018 0.079 0.045 0.087 0.126 0.013 0.397]\n",
      " [0.109 0.046 0.083 0.016 0.156 0.314 0.072 0.072 0.022 0.11 ]\n",
      " [0.054 0.079 0.07  0.011 0.157 0.263 0.093 0.108 0.017 0.148]\n",
      " [0.059 0.041 0.088 0.011 0.272 0.338 0.051 0.072 0.007 0.061]\n",
      " [0.049 0.064 0.062 0.013 0.183 0.311 0.079 0.1   0.013 0.126]\n",
      " [0.022 0.032 0.028 0.008 0.392 0.257 0.069 0.116 0.004 0.072]\n",
      " [0.056 0.075 0.064 0.012 0.136 0.242 0.089 0.137 0.006 0.183]\n",
      " [0.179 0.13  0.055 0.014 0.029 0.08  0.082 0.061 0.017 0.353]\n",
      " [0.08  0.106 0.01  0.01  0.103 0.048 0.096 0.149 0.009 0.389]]\n",
      "[2022-12-25 10:26:41,191 INFO] evaluation metric\n",
      "[2022-12-25 10:26:41,191 INFO] acc: 0.1662\n",
      "[2022-12-25 10:26:41,192 INFO] precision: 0.1520\n",
      "[2022-12-25 10:26:41,192 INFO] recall: 0.1662\n",
      "[2022-12-25 10:26:41,192 INFO] f1: 0.1434\n"
     ]
    },
    {
     "name": "stdout",
     "output_type": "stream",
     "text": [
      "model saved: ./saved_models/classic_cv/pimodel_cifar10_40_0/latest_model.pth\n",
      "Epoch: 4\n"
     ]
    },
    {
     "name": "stderr",
     "output_type": "stream",
     "text": [
      "/usr/local/lib/python3.8/dist-packages/sklearn/metrics/_classification.py:1318: UndefinedMetricWarning: Precision is ill-defined and being set to 0.0 in labels with no predicted samples. Use `zero_division` parameter to control this behavior.\n",
      "  _warn_prf(average, modifier, msg_start, len(result))\n",
      "[2022-12-25 10:38:40,582 INFO] confusion matrix\n",
      "[2022-12-25 10:38:40,583 INFO] [[0.019 0.568 0.    0.    0.068 0.    0.114 0.073 0.    0.158]\n",
      " [0.01  0.589 0.    0.    0.063 0.    0.102 0.085 0.    0.151]\n",
      " [0.011 0.304 0.    0.    0.284 0.    0.098 0.197 0.    0.106]\n",
      " [0.014 0.245 0.    0.    0.287 0.    0.11  0.235 0.    0.109]\n",
      " [0.008 0.166 0.    0.    0.475 0.    0.084 0.187 0.    0.08 ]\n",
      " [0.009 0.228 0.    0.    0.29  0.    0.128 0.233 0.    0.112]\n",
      " [0.004 0.133 0.    0.    0.518 0.    0.066 0.205 0.    0.074]\n",
      " [0.014 0.332 0.    0.    0.207 0.    0.101 0.196 0.    0.15 ]\n",
      " [0.007 0.559 0.    0.    0.045 0.    0.141 0.087 0.    0.161]\n",
      " [0.012 0.516 0.    0.    0.057 0.    0.127 0.135 0.    0.153]]\n",
      "[2022-12-25 10:38:40,584 INFO] evaluation metric\n",
      "[2022-12-25 10:38:40,585 INFO] acc: 0.1498\n",
      "[2022-12-25 10:38:40,585 INFO] precision: 0.0848\n",
      "[2022-12-25 10:38:40,585 INFO] recall: 0.1498\n",
      "[2022-12-25 10:38:40,586 INFO] f1: 0.0925\n"
     ]
    },
    {
     "name": "stdout",
     "output_type": "stream",
     "text": [
      "model saved: ./saved_models/classic_cv/pimodel_cifar10_40_0/latest_model.pth\n",
      "Epoch: 5\n"
     ]
    },
    {
     "name": "stderr",
     "output_type": "stream",
     "text": [
      "[2022-12-25 10:50:39,332 INFO] confusion matrix\n",
      "[2022-12-25 10:50:39,333 INFO] [[0.192 0.058 0.059 0.112 0.015 0.022 0.045 0.126 0.178 0.193]\n",
      " [0.13  0.069 0.075 0.091 0.013 0.025 0.053 0.14  0.16  0.244]\n",
      " [0.099 0.02  0.048 0.079 0.132 0.09  0.12  0.275 0.056 0.081]\n",
      " [0.032 0.026 0.083 0.06  0.073 0.096 0.136 0.346 0.031 0.117]\n",
      " [0.047 0.02  0.032 0.062 0.3   0.096 0.143 0.228 0.013 0.059]\n",
      " [0.031 0.021 0.065 0.075 0.074 0.092 0.103 0.394 0.036 0.109]\n",
      " [0.009 0.015 0.032 0.033 0.339 0.112 0.122 0.28  0.013 0.045]\n",
      " [0.05  0.035 0.07  0.071 0.049 0.069 0.064 0.332 0.066 0.194]\n",
      " [0.17  0.071 0.072 0.14  0.004 0.023 0.055 0.095 0.151 0.219]\n",
      " [0.124 0.067 0.066 0.086 0.01  0.038 0.036 0.21  0.149 0.214]]\n",
      "[2022-12-25 10:50:39,335 INFO] evaluation metric\n",
      "[2022-12-25 10:50:39,335 INFO] acc: 0.1580\n",
      "[2022-12-25 10:50:39,335 INFO] precision: 0.1577\n",
      "[2022-12-25 10:50:39,336 INFO] recall: 0.1580\n",
      "[2022-12-25 10:50:39,336 INFO] f1: 0.1498\n"
     ]
    },
    {
     "name": "stdout",
     "output_type": "stream",
     "text": [
      "model saved: ./saved_models/classic_cv/pimodel_cifar10_40_0/latest_model.pth\n",
      "Epoch: 6\n"
     ]
    },
    {
     "name": "stderr",
     "output_type": "stream",
     "text": [
      "/usr/local/lib/python3.8/dist-packages/sklearn/metrics/_classification.py:1318: UndefinedMetricWarning: Precision is ill-defined and being set to 0.0 in labels with no predicted samples. Use `zero_division` parameter to control this behavior.\n",
      "  _warn_prf(average, modifier, msg_start, len(result))\n",
      "[2022-12-25 11:02:38,250 INFO] confusion matrix\n",
      "[2022-12-25 11:02:38,250 INFO] [[0.    0.    0.    0.    0.    0.    0.    0.    0.969 0.031]\n",
      " [0.    0.    0.    0.    0.    0.    0.    0.    0.947 0.053]\n",
      " [0.    0.    0.    0.    0.    0.    0.    0.    0.984 0.016]\n",
      " [0.    0.    0.    0.    0.    0.    0.    0.    0.97  0.03 ]\n",
      " [0.    0.    0.    0.    0.    0.    0.    0.    0.992 0.008]\n",
      " [0.    0.    0.    0.    0.    0.    0.    0.    0.989 0.011]\n",
      " [0.    0.    0.    0.    0.    0.    0.    0.    0.989 0.011]\n",
      " [0.    0.    0.    0.    0.    0.    0.    0.    0.972 0.028]\n",
      " [0.    0.    0.    0.    0.    0.    0.    0.    0.96  0.04 ]\n",
      " [0.    0.    0.    0.    0.    0.    0.    0.    0.952 0.048]]\n",
      "[2022-12-25 11:02:38,252 INFO] evaluation metric\n",
      "[2022-12-25 11:02:38,252 INFO] acc: 0.1008\n",
      "[2022-12-25 11:02:38,252 INFO] precision: 0.0273\n",
      "[2022-12-25 11:02:38,253 INFO] recall: 0.1008\n",
      "[2022-12-25 11:02:38,253 INFO] f1: 0.0254\n"
     ]
    },
    {
     "name": "stdout",
     "output_type": "stream",
     "text": [
      "model saved: ./saved_models/classic_cv/pimodel_cifar10_40_0/latest_model.pth\n",
      "Epoch: 7\n"
     ]
    },
    {
     "name": "stderr",
     "output_type": "stream",
     "text": [
      "/usr/local/lib/python3.8/dist-packages/sklearn/metrics/_classification.py:1318: UndefinedMetricWarning: Precision is ill-defined and being set to 0.0 in labels with no predicted samples. Use `zero_division` parameter to control this behavior.\n",
      "  _warn_prf(average, modifier, msg_start, len(result))\n",
      "[2022-12-25 11:14:37,449 INFO] confusion matrix\n",
      "[2022-12-25 11:14:37,450 INFO] [[0.65  0.    0.    0.    0.001 0.    0.    0.    0.348 0.001]\n",
      " [0.304 0.    0.    0.    0.    0.    0.    0.    0.696 0.   ]\n",
      " [0.56  0.    0.    0.    0.    0.    0.    0.    0.44  0.   ]\n",
      " [0.485 0.    0.    0.    0.    0.    0.    0.    0.512 0.003]\n",
      " [0.631 0.    0.    0.    0.    0.    0.    0.    0.369 0.   ]\n",
      " [0.513 0.    0.    0.    0.    0.    0.    0.    0.487 0.   ]\n",
      " [0.427 0.    0.    0.    0.    0.    0.    0.    0.572 0.001]\n",
      " [0.422 0.    0.    0.    0.    0.    0.    0.    0.578 0.   ]\n",
      " [0.647 0.    0.    0.    0.    0.    0.    0.    0.351 0.002]\n",
      " [0.353 0.    0.    0.    0.    0.    0.    0.    0.646 0.001]]\n",
      "[2022-12-25 11:14:37,451 INFO] evaluation metric\n",
      "[2022-12-25 11:14:37,452 INFO] acc: 0.1002\n",
      "[2022-12-25 11:14:37,452 INFO] precision: 0.0325\n",
      "[2022-12-25 11:14:37,453 INFO] recall: 0.1002\n",
      "[2022-12-25 11:14:37,453 INFO] f1: 0.0336\n"
     ]
    },
    {
     "name": "stdout",
     "output_type": "stream",
     "text": [
      "model saved: ./saved_models/classic_cv/pimodel_cifar10_40_0/latest_model.pth\n",
      "Epoch: 8\n"
     ]
    },
    {
     "name": "stderr",
     "output_type": "stream",
     "text": [
      "/usr/local/lib/python3.8/dist-packages/sklearn/metrics/_classification.py:1318: UndefinedMetricWarning: Precision is ill-defined and being set to 0.0 in labels with no predicted samples. Use `zero_division` parameter to control this behavior.\n",
      "  _warn_prf(average, modifier, msg_start, len(result))\n",
      "[2022-12-25 11:26:36,436 INFO] confusion matrix\n",
      "[2022-12-25 11:26:36,436 INFO] [[0.273 0.044 0.    0.    0.122 0.    0.    0.515 0.046 0.   ]\n",
      " [0.04  0.034 0.    0.    0.064 0.    0.    0.831 0.031 0.   ]\n",
      " [0.184 0.05  0.    0.    0.132 0.    0.    0.577 0.057 0.   ]\n",
      " [0.123 0.033 0.    0.    0.138 0.    0.    0.656 0.05  0.   ]\n",
      " [0.174 0.051 0.    0.    0.159 0.    0.    0.534 0.082 0.   ]\n",
      " [0.126 0.052 0.    0.    0.112 0.    0.    0.655 0.055 0.   ]\n",
      " [0.083 0.043 0.    0.    0.106 0.    0.    0.724 0.044 0.   ]\n",
      " [0.078 0.044 0.    0.    0.081 0.    0.    0.757 0.04  0.   ]\n",
      " [0.261 0.045 0.    0.    0.123 0.    0.    0.512 0.059 0.   ]\n",
      " [0.07  0.04  0.    0.    0.081 0.    0.    0.779 0.03  0.   ]]\n",
      "[2022-12-25 11:26:36,438 INFO] evaluation metric\n",
      "[2022-12-25 11:26:36,438 INFO] acc: 0.1282\n",
      "[2022-12-25 11:26:36,439 INFO] precision: 0.0649\n",
      "[2022-12-25 11:26:36,439 INFO] recall: 0.1282\n",
      "[2022-12-25 11:26:36,439 INFO] f1: 0.0704\n"
     ]
    },
    {
     "name": "stdout",
     "output_type": "stream",
     "text": [
      "model saved: ./saved_models/classic_cv/pimodel_cifar10_40_0/latest_model.pth\n",
      "Epoch: 9\n"
     ]
    },
    {
     "name": "stderr",
     "output_type": "stream",
     "text": [
      "/usr/local/lib/python3.8/dist-packages/sklearn/metrics/_classification.py:1318: UndefinedMetricWarning: Precision is ill-defined and being set to 0.0 in labels with no predicted samples. Use `zero_division` parameter to control this behavior.\n",
      "  _warn_prf(average, modifier, msg_start, len(result))\n",
      "[2022-12-25 11:38:34,974 INFO] confusion matrix\n",
      "[2022-12-25 11:38:34,974 INFO] [[0.291 0.137 0.037 0.201 0.    0.    0.334 0.    0.    0.   ]\n",
      " [0.049 0.289 0.012 0.162 0.    0.    0.488 0.    0.    0.   ]\n",
      " [0.246 0.124 0.025 0.241 0.    0.    0.364 0.    0.    0.   ]\n",
      " [0.177 0.126 0.033 0.249 0.    0.    0.415 0.    0.    0.   ]\n",
      " [0.269 0.091 0.035 0.254 0.    0.    0.351 0.    0.    0.   ]\n",
      " [0.16  0.147 0.036 0.218 0.    0.    0.439 0.    0.    0.   ]\n",
      " [0.126 0.145 0.02  0.225 0.    0.    0.484 0.    0.    0.   ]\n",
      " [0.115 0.203 0.011 0.208 0.    0.    0.463 0.    0.    0.   ]\n",
      " [0.33  0.084 0.03  0.22  0.    0.    0.336 0.    0.    0.   ]\n",
      " [0.097 0.195 0.01  0.23  0.    0.    0.468 0.    0.    0.   ]]\n",
      "[2022-12-25 11:38:34,976 INFO] evaluation metric\n",
      "[2022-12-25 11:38:34,976 INFO] acc: 0.1338\n",
      "[2022-12-25 11:38:34,977 INFO] precision: 0.0674\n",
      "[2022-12-25 11:38:34,977 INFO] recall: 0.1338\n",
      "[2022-12-25 11:38:34,977 INFO] f1: 0.0814\n",
      "[2022-12-25 11:38:35,172 INFO] Best acc 0.1896 at epoch 1\n",
      "[2022-12-25 11:38:35,174 INFO] Training finished.\n"
     ]
    },
    {
     "name": "stdout",
     "output_type": "stream",
     "text": [
      "model saved: ./saved_models/classic_cv/pimodel_cifar10_40_0/latest_model.pth\n"
     ]
    },
    {
     "name": "stderr",
     "output_type": "stream",
     "text": [
      "/usr/local/lib/python3.8/dist-packages/sklearn/metrics/_classification.py:1318: UndefinedMetricWarning: Precision is ill-defined and being set to 0.0 in labels with no predicted samples. Use `zero_division` parameter to control this behavior.\n",
      "  _warn_prf(average, modifier, msg_start, len(result))\n",
      "[2022-12-25 11:46:42,218 INFO] confusion matrix\n",
      "[2022-12-25 11:46:42,219 INFO] [[0.291 0.137 0.037 0.201 0.    0.    0.334 0.    0.    0.   ]\n",
      " [0.049 0.289 0.012 0.162 0.    0.    0.488 0.    0.    0.   ]\n",
      " [0.246 0.124 0.025 0.241 0.    0.    0.364 0.    0.    0.   ]\n",
      " [0.177 0.126 0.033 0.249 0.    0.    0.415 0.    0.    0.   ]\n",
      " [0.269 0.091 0.035 0.254 0.    0.    0.351 0.    0.    0.   ]\n",
      " [0.16  0.147 0.036 0.218 0.    0.    0.439 0.    0.    0.   ]\n",
      " [0.126 0.145 0.02  0.225 0.    0.    0.484 0.    0.    0.   ]\n",
      " [0.115 0.203 0.011 0.208 0.    0.    0.463 0.    0.    0.   ]\n",
      " [0.33  0.084 0.03  0.22  0.    0.    0.336 0.    0.    0.   ]\n",
      " [0.097 0.195 0.01  0.23  0.    0.    0.468 0.    0.    0.   ]]\n",
      "[2022-12-25 11:46:42,220 INFO] evaluation metric\n",
      "[2022-12-25 11:46:42,221 INFO] acc: 0.1338\n",
      "[2022-12-25 11:46:42,221 INFO] precision: 0.0674\n",
      "[2022-12-25 11:46:42,221 INFO] recall: 0.1338\n",
      "[2022-12-25 11:46:42,222 INFO] f1: 0.0814\n",
      "/bin/sh: 1: netstat: not found\n"
     ]
    },
    {
     "name": "stdout",
     "output_type": "stream",
     "text": [
      "Files already downloaded and verified\n",
      "lb count: [4, 4, 4, 4, 4, 4, 4, 4, 4, 4]\n",
      "ulb count: [5000, 5000, 5000, 5000, 5000, 5000, 5000, 5000, 5000, 5000]\n",
      "Files already downloaded and verified\n"
     ]
    },
    {
     "name": "stderr",
     "output_type": "stream",
     "text": [
      "/bin/sh: 1: netstat: not found\n"
     ]
    },
    {
     "name": "stdout",
     "output_type": "stream",
     "text": [
      "Files already downloaded and verified\n",
      "lb count: [4, 4, 4, 4, 4, 4, 4, 4, 4, 4]\n",
      "ulb count: [5000, 5000, 5000, 5000, 5000, 5000, 5000, 5000, 5000, 5000]\n",
      "Files already downloaded and verified\n",
      "unlabeled data number: 50000, labeled data number 40\n",
      "Create train and test data loaders\n",
      "[!] data loader keys: dict_keys(['train_lb', 'train_ulb', 'eval'])\n",
      "_IncompatibleKeys(missing_keys=['head.weight', 'head.bias'], unexpected_keys=[])\n",
      "Create optimizer and scheduler\n",
      "Epoch: 0\n"
     ]
    },
    {
     "name": "stderr",
     "output_type": "stream",
     "text": [
      "[2022-12-25 12:05:52,053 INFO] confusion matrix\n",
      "[2022-12-25 12:05:52,054 INFO] [[0.056 0.062 0.025 0.097 0.006 0.079 0.017 0.033 0.405 0.22 ]\n",
      " [0.081 0.174 0.02  0.051 0.001 0.106 0.012 0.033 0.289 0.233]\n",
      " [0.026 0.062 0.021 0.202 0.038 0.147 0.125 0.18  0.16  0.039]\n",
      " [0.025 0.054 0.03  0.248 0.051 0.149 0.091 0.158 0.167 0.027]\n",
      " [0.017 0.025 0.018 0.204 0.052 0.124 0.26  0.203 0.076 0.021]\n",
      " [0.011 0.058 0.032 0.242 0.054 0.16  0.108 0.163 0.151 0.021]\n",
      " [0.01  0.021 0.012 0.171 0.055 0.103 0.35  0.224 0.046 0.008]\n",
      " [0.037 0.063 0.021 0.204 0.044 0.203 0.07  0.161 0.163 0.034]\n",
      " [0.053 0.073 0.027 0.127 0.007 0.083 0.009 0.017 0.394 0.21 ]\n",
      " [0.057 0.143 0.026 0.073 0.006 0.133 0.018 0.06  0.287 0.197]]\n",
      "[2022-12-25 12:05:52,055 INFO] evaluation metric\n",
      "[2022-12-25 12:05:52,056 INFO] acc: 0.1813\n",
      "[2022-12-25 12:05:52,056 INFO] precision: 0.1761\n",
      "[2022-12-25 12:05:52,056 INFO] recall: 0.1813\n",
      "[2022-12-25 12:05:52,057 INFO] f1: 0.1656\n"
     ]
    },
    {
     "name": "stdout",
     "output_type": "stream",
     "text": [
      "model saved: ./saved_models/classic_cv/meanteacher_cifar10_40_0/latest_model.pth\n",
      "model saved: ./saved_models/classic_cv/meanteacher_cifar10_40_0/model_best.pth\n",
      "Epoch: 1\n"
     ]
    },
    {
     "name": "stderr",
     "output_type": "stream",
     "text": [
      "[2022-12-25 12:16:53,462 INFO] confusion matrix\n",
      "[2022-12-25 12:16:53,463 INFO] [[0.075 0.    0.055 0.065 0.054 0.029 0.044 0.042 0.513 0.123]\n",
      " [0.028 0.001 0.046 0.118 0.028 0.051 0.119 0.064 0.37  0.175]\n",
      " [0.031 0.    0.085 0.11  0.084 0.097 0.119 0.114 0.232 0.128]\n",
      " [0.024 0.    0.094 0.176 0.051 0.065 0.133 0.115 0.236 0.106]\n",
      " [0.028 0.    0.088 0.134 0.084 0.071 0.151 0.148 0.195 0.101]\n",
      " [0.029 0.001 0.064 0.177 0.057 0.055 0.144 0.116 0.22  0.137]\n",
      " [0.019 0.002 0.046 0.176 0.041 0.074 0.262 0.164 0.128 0.088]\n",
      " [0.013 0.    0.074 0.179 0.047 0.075 0.142 0.129 0.23  0.111]\n",
      " [0.042 0.    0.049 0.103 0.029 0.037 0.037 0.035 0.518 0.15 ]\n",
      " [0.029 0.    0.045 0.118 0.038 0.046 0.115 0.079 0.313 0.217]]\n",
      "[2022-12-25 12:16:53,464 INFO] evaluation metric\n",
      "[2022-12-25 12:16:53,465 INFO] acc: 0.1602\n",
      "[2022-12-25 12:16:53,465 INFO] precision: 0.1676\n",
      "[2022-12-25 12:16:53,465 INFO] recall: 0.1602\n",
      "[2022-12-25 12:16:53,466 INFO] f1: 0.1356\n"
     ]
    },
    {
     "name": "stdout",
     "output_type": "stream",
     "text": [
      "model saved: ./saved_models/classic_cv/meanteacher_cifar10_40_0/latest_model.pth\n",
      "Epoch: 2\n"
     ]
    },
    {
     "name": "stderr",
     "output_type": "stream",
     "text": [
      "[2022-12-25 12:27:55,356 INFO] confusion matrix\n",
      "[2022-12-25 12:27:55,357 INFO] [[0.157 0.077 0.069 0.01  0.014 0.024 0.053 0.072 0.202 0.322]\n",
      " [0.043 0.12  0.083 0.003 0.005 0.024 0.015 0.076 0.162 0.469]\n",
      " [0.043 0.081 0.031 0.016 0.035 0.047 0.19  0.098 0.219 0.24 ]\n",
      " [0.02  0.135 0.049 0.016 0.027 0.055 0.122 0.099 0.213 0.264]\n",
      " [0.024 0.076 0.033 0.017 0.029 0.071 0.229 0.101 0.249 0.171]\n",
      " [0.014 0.116 0.046 0.025 0.029 0.064 0.119 0.119 0.189 0.279]\n",
      " [0.009 0.059 0.022 0.02  0.044 0.07  0.242 0.139 0.246 0.149]\n",
      " [0.012 0.151 0.043 0.017 0.025 0.053 0.068 0.142 0.15  0.339]\n",
      " [0.118 0.081 0.051 0.007 0.012 0.021 0.041 0.083 0.291 0.295]\n",
      " [0.055 0.158 0.075 0.009 0.009 0.027 0.018 0.083 0.164 0.402]]\n",
      "[2022-12-25 12:27:55,358 INFO] evaluation metric\n",
      "[2022-12-25 12:27:55,358 INFO] acc: 0.1494\n",
      "[2022-12-25 12:27:55,359 INFO] precision: 0.1512\n",
      "[2022-12-25 12:27:55,359 INFO] recall: 0.1494\n",
      "[2022-12-25 12:27:55,359 INFO] f1: 0.1297\n"
     ]
    },
    {
     "name": "stdout",
     "output_type": "stream",
     "text": [
      "model saved: ./saved_models/classic_cv/meanteacher_cifar10_40_0/latest_model.pth\n",
      "Epoch: 3\n"
     ]
    },
    {
     "name": "stderr",
     "output_type": "stream",
     "text": [
      "[2022-12-25 12:38:58,119 INFO] confusion matrix\n",
      "[2022-12-25 12:38:58,119 INFO] [[0.189 0.068 0.076 0.067 0.011 0.028 0.033 0.014 0.108 0.406]\n",
      " [0.032 0.042 0.094 0.062 0.012 0.054 0.043 0.017 0.053 0.591]\n",
      " [0.034 0.03  0.086 0.137 0.044 0.031 0.234 0.108 0.045 0.251]\n",
      " [0.023 0.027 0.159 0.149 0.032 0.06  0.196 0.086 0.034 0.234]\n",
      " [0.024 0.013 0.083 0.122 0.071 0.021 0.387 0.102 0.019 0.158]\n",
      " [0.016 0.023 0.153 0.162 0.03  0.058 0.218 0.075 0.036 0.229]\n",
      " [0.008 0.006 0.085 0.124 0.05  0.031 0.489 0.096 0.009 0.102]\n",
      " [0.007 0.031 0.168 0.161 0.016 0.077 0.118 0.054 0.041 0.327]\n",
      " [0.146 0.056 0.1   0.073 0.016 0.031 0.034 0.015 0.091 0.438]\n",
      " [0.042 0.05  0.108 0.093 0.012 0.059 0.033 0.013 0.048 0.542]]\n",
      "[2022-12-25 12:38:58,121 INFO] evaluation metric\n",
      "[2022-12-25 12:38:58,121 INFO] acc: 0.1771\n",
      "[2022-12-25 12:38:58,121 INFO] precision: 0.1782\n",
      "[2022-12-25 12:38:58,122 INFO] recall: 0.1771\n",
      "[2022-12-25 12:38:58,122 INFO] f1: 0.1516\n"
     ]
    },
    {
     "name": "stdout",
     "output_type": "stream",
     "text": [
      "model saved: ./saved_models/classic_cv/meanteacher_cifar10_40_0/latest_model.pth\n",
      "Epoch: 4\n"
     ]
    },
    {
     "name": "stderr",
     "output_type": "stream",
     "text": [
      "[2022-12-25 12:50:00,210 INFO] confusion matrix\n",
      "[2022-12-25 12:50:00,210 INFO] [[0.113 0.227 0.073 0.064 0.02  0.069 0.041 0.005 0.237 0.151]\n",
      " [0.017 0.284 0.064 0.061 0.01  0.122 0.071 0.013 0.143 0.215]\n",
      " [0.013 0.145 0.12  0.12  0.057 0.071 0.297 0.021 0.095 0.061]\n",
      " [0.008 0.087 0.166 0.166 0.047 0.1   0.231 0.018 0.129 0.048]\n",
      " [0.014 0.06  0.112 0.115 0.07  0.061 0.462 0.011 0.063 0.032]\n",
      " [0.001 0.08  0.205 0.124 0.037 0.105 0.264 0.017 0.1   0.067]\n",
      " [0.002 0.025 0.117 0.096 0.039 0.049 0.594 0.008 0.045 0.025]\n",
      " [0.001 0.157 0.148 0.13  0.019 0.164 0.163 0.009 0.124 0.085]\n",
      " [0.087 0.174 0.087 0.081 0.031 0.078 0.035 0.008 0.27  0.149]\n",
      " [0.016 0.252 0.083 0.071 0.007 0.127 0.048 0.006 0.187 0.203]]\n",
      "[2022-12-25 12:50:00,212 INFO] evaluation metric\n",
      "[2022-12-25 12:50:00,212 INFO] acc: 0.1934\n",
      "[2022-12-25 12:50:00,212 INFO] precision: 0.1925\n",
      "[2022-12-25 12:50:00,213 INFO] recall: 0.1934\n",
      "[2022-12-25 12:50:00,213 INFO] f1: 0.1704\n"
     ]
    },
    {
     "name": "stdout",
     "output_type": "stream",
     "text": [
      "model saved: ./saved_models/classic_cv/meanteacher_cifar10_40_0/latest_model.pth\n",
      "model saved: ./saved_models/classic_cv/meanteacher_cifar10_40_0/model_best.pth\n",
      "Epoch: 5\n"
     ]
    },
    {
     "name": "stderr",
     "output_type": "stream",
     "text": [
      "[2022-12-25 13:01:01,703 INFO] confusion matrix\n",
      "[2022-12-25 13:01:01,704 INFO] [[0.069 0.024 0.057 0.004 0.029 0.181 0.048 0.022 0.204 0.362]\n",
      " [0.023 0.016 0.025 0.004 0.016 0.357 0.074 0.022 0.099 0.364]\n",
      " [0.024 0.014 0.012 0.028 0.137 0.388 0.176 0.023 0.036 0.162]\n",
      " [0.025 0.016 0.001 0.011 0.087 0.478 0.13  0.016 0.024 0.212]\n",
      " [0.01  0.012 0.007 0.023 0.235 0.395 0.188 0.014 0.012 0.104]\n",
      " [0.023 0.009 0.006 0.015 0.081 0.487 0.12  0.012 0.031 0.216]\n",
      " [0.021 0.003 0.001 0.021 0.188 0.385 0.309 0.016 0.006 0.05 ]\n",
      " [0.035 0.009 0.005 0.027 0.093 0.506 0.13  0.012 0.019 0.164]\n",
      " [0.038 0.014 0.029 0.004 0.024 0.238 0.037 0.027 0.2   0.389]\n",
      " [0.036 0.015 0.026 0.006 0.036 0.387 0.083 0.022 0.084 0.305]]\n",
      "[2022-12-25 13:01:01,705 INFO] evaluation metric\n",
      "[2022-12-25 13:01:01,705 INFO] acc: 0.1656\n",
      "[2022-12-25 13:01:01,706 INFO] precision: 0.1592\n",
      "[2022-12-25 13:01:01,706 INFO] recall: 0.1656\n",
      "[2022-12-25 13:01:01,707 INFO] f1: 0.1327\n"
     ]
    },
    {
     "name": "stdout",
     "output_type": "stream",
     "text": [
      "model saved: ./saved_models/classic_cv/meanteacher_cifar10_40_0/latest_model.pth\n",
      "Epoch: 6\n"
     ]
    },
    {
     "name": "stderr",
     "output_type": "stream",
     "text": [
      "[2022-12-25 13:12:03,099 INFO] confusion matrix\n",
      "[2022-12-25 13:12:03,100 INFO] [[0.052 0.118 0.073 0.002 0.007 0.124 0.078 0.088 0.054 0.404]\n",
      " [0.005 0.061 0.027 0.    0.007 0.201 0.101 0.134 0.011 0.453]\n",
      " [0.004 0.056 0.018 0.001 0.027 0.214 0.231 0.199 0.005 0.245]\n",
      " [0.001 0.025 0.003 0.004 0.011 0.282 0.171 0.204 0.007 0.292]\n",
      " [0.002 0.018 0.005 0.007 0.031 0.234 0.219 0.271 0.001 0.212]\n",
      " [0.007 0.019 0.001 0.003 0.009 0.266 0.201 0.175 0.007 0.312]\n",
      " [0.    0.003 0.001 0.012 0.019 0.224 0.283 0.315 0.001 0.142]\n",
      " [0.001 0.051 0.003 0.006 0.006 0.325 0.173 0.197 0.003 0.235]\n",
      " [0.033 0.07  0.037 0.    0.005 0.136 0.075 0.077 0.065 0.502]\n",
      " [0.004 0.096 0.033 0.    0.002 0.248 0.119 0.118 0.002 0.378]]\n",
      "[2022-12-25 13:12:03,101 INFO] evaluation metric\n",
      "[2022-12-25 13:12:03,102 INFO] acc: 0.1355\n",
      "[2022-12-25 13:12:03,102 INFO] precision: 0.1985\n",
      "[2022-12-25 13:12:03,103 INFO] recall: 0.1355\n",
      "[2022-12-25 13:12:03,103 INFO] f1: 0.1079\n"
     ]
    },
    {
     "name": "stdout",
     "output_type": "stream",
     "text": [
      "model saved: ./saved_models/classic_cv/meanteacher_cifar10_40_0/latest_model.pth\n",
      "Epoch: 7\n"
     ]
    },
    {
     "name": "stderr",
     "output_type": "stream",
     "text": [
      "[2022-12-25 13:23:04,306 INFO] confusion matrix\n",
      "[2022-12-25 13:23:04,307 INFO] [[0.086 0.101 0.05  0.006 0.037 0.069 0.109 0.016 0.174 0.352]\n",
      " [0.036 0.121 0.056 0.018 0.03  0.102 0.096 0.018 0.158 0.365]\n",
      " [0.038 0.035 0.026 0.074 0.104 0.156 0.263 0.006 0.044 0.254]\n",
      " [0.038 0.049 0.031 0.056 0.056 0.167 0.256 0.009 0.033 0.305]\n",
      " [0.023 0.02  0.019 0.106 0.174 0.157 0.291 0.01  0.017 0.183]\n",
      " [0.038 0.05  0.032 0.048 0.055 0.21  0.214 0.009 0.038 0.306]\n",
      " [0.011 0.023 0.011 0.097 0.164 0.164 0.349 0.011 0.007 0.163]\n",
      " [0.025 0.058 0.039 0.035 0.046 0.235 0.228 0.015 0.031 0.288]\n",
      " [0.106 0.082 0.049 0.014 0.042 0.096 0.104 0.009 0.175 0.323]\n",
      " [0.045 0.101 0.055 0.022 0.026 0.13  0.132 0.015 0.092 0.382]]\n",
      "[2022-12-25 13:23:04,308 INFO] evaluation metric\n",
      "[2022-12-25 13:23:04,309 INFO] acc: 0.1594\n",
      "[2022-12-25 13:23:04,309 INFO] precision: 0.1605\n",
      "[2022-12-25 13:23:04,309 INFO] recall: 0.1594\n",
      "[2022-12-25 13:23:04,310 INFO] f1: 0.1399\n"
     ]
    },
    {
     "name": "stdout",
     "output_type": "stream",
     "text": [
      "model saved: ./saved_models/classic_cv/meanteacher_cifar10_40_0/latest_model.pth\n",
      "Epoch: 8\n"
     ]
    },
    {
     "name": "stderr",
     "output_type": "stream",
     "text": [
      "[2022-12-25 13:34:06,661 INFO] confusion matrix\n",
      "[2022-12-25 13:34:06,662 INFO] [[0.065 0.064 0.008 0.098 0.009 0.001 0.019 0.433 0.26  0.043]\n",
      " [0.068 0.067 0.009 0.109 0.019 0.001 0.026 0.387 0.264 0.05 ]\n",
      " [0.069 0.044 0.006 0.113 0.013 0.001 0.036 0.488 0.191 0.039]\n",
      " [0.064 0.046 0.008 0.128 0.009 0.002 0.036 0.508 0.16  0.039]\n",
      " [0.094 0.046 0.011 0.122 0.013 0.003 0.053 0.382 0.242 0.034]\n",
      " [0.042 0.035 0.001 0.139 0.003 0.001 0.028 0.571 0.149 0.031]\n",
      " [0.069 0.035 0.013 0.107 0.018 0.002 0.052 0.473 0.177 0.054]\n",
      " [0.061 0.051 0.006 0.123 0.006 0.    0.026 0.531 0.163 0.033]\n",
      " [0.092 0.064 0.012 0.091 0.011 0.001 0.014 0.283 0.396 0.036]\n",
      " [0.068 0.062 0.006 0.108 0.021 0.    0.037 0.459 0.198 0.041]]\n",
      "[2022-12-25 13:34:06,663 INFO] evaluation metric\n",
      "[2022-12-25 13:34:06,664 INFO] acc: 0.1300\n",
      "[2022-12-25 13:34:06,664 INFO] precision: 0.1161\n",
      "[2022-12-25 13:34:06,664 INFO] recall: 0.1300\n",
      "[2022-12-25 13:34:06,665 INFO] f1: 0.0898\n"
     ]
    },
    {
     "name": "stdout",
     "output_type": "stream",
     "text": [
      "model saved: ./saved_models/classic_cv/meanteacher_cifar10_40_0/latest_model.pth\n",
      "Epoch: 9\n"
     ]
    },
    {
     "name": "stderr",
     "output_type": "stream",
     "text": [
      "[2022-12-25 13:45:08,958 INFO] confusion matrix\n",
      "[2022-12-25 13:45:08,958 INFO] [[0.08  0.02  0.053 0.003 0.052 0.026 0.021 0.174 0.226 0.345]\n",
      " [0.065 0.032 0.064 0.016 0.092 0.049 0.052 0.217 0.211 0.202]\n",
      " [0.019 0.028 0.039 0.043 0.206 0.046 0.065 0.223 0.126 0.205]\n",
      " [0.028 0.021 0.038 0.021 0.223 0.047 0.063 0.262 0.112 0.185]\n",
      " [0.015 0.023 0.02  0.051 0.26  0.058 0.084 0.199 0.15  0.14 ]\n",
      " [0.032 0.035 0.042 0.025 0.185 0.05  0.054 0.282 0.106 0.189]\n",
      " [0.017 0.011 0.04  0.048 0.306 0.045 0.088 0.261 0.086 0.098]\n",
      " [0.039 0.025 0.038 0.019 0.198 0.052 0.07  0.261 0.113 0.185]\n",
      " [0.08  0.023 0.06  0.008 0.062 0.057 0.024 0.108 0.339 0.239]\n",
      " [0.053 0.024 0.06  0.021 0.127 0.047 0.033 0.234 0.182 0.219]]\n",
      "[2022-12-25 13:45:08,960 INFO] evaluation metric\n",
      "[2022-12-25 13:45:08,960 INFO] acc: 0.1389\n",
      "[2022-12-25 13:45:08,960 INFO] precision: 0.1335\n",
      "[2022-12-25 13:45:08,961 INFO] recall: 0.1389\n",
      "[2022-12-25 13:45:08,961 INFO] f1: 0.1187\n",
      "[2022-12-25 13:45:09,155 INFO] Best acc 0.1934 at epoch 4\n",
      "[2022-12-25 13:45:09,157 INFO] Training finished.\n"
     ]
    },
    {
     "name": "stdout",
     "output_type": "stream",
     "text": [
      "model saved: ./saved_models/classic_cv/meanteacher_cifar10_40_0/latest_model.pth\n"
     ]
    },
    {
     "name": "stderr",
     "output_type": "stream",
     "text": [
      "[2022-12-25 13:53:17,925 INFO] confusion matrix\n",
      "[2022-12-25 13:53:17,926 INFO] [[0.08  0.02  0.053 0.003 0.052 0.026 0.021 0.174 0.226 0.345]\n",
      " [0.065 0.032 0.064 0.016 0.092 0.049 0.052 0.217 0.211 0.202]\n",
      " [0.019 0.028 0.039 0.043 0.206 0.046 0.065 0.223 0.126 0.205]\n",
      " [0.028 0.021 0.038 0.021 0.223 0.047 0.063 0.262 0.112 0.185]\n",
      " [0.015 0.023 0.02  0.051 0.26  0.058 0.084 0.199 0.15  0.14 ]\n",
      " [0.032 0.035 0.042 0.025 0.185 0.05  0.054 0.282 0.106 0.189]\n",
      " [0.017 0.011 0.04  0.048 0.306 0.045 0.088 0.261 0.086 0.098]\n",
      " [0.039 0.025 0.038 0.019 0.198 0.052 0.07  0.261 0.113 0.185]\n",
      " [0.08  0.023 0.06  0.008 0.062 0.057 0.024 0.108 0.339 0.239]\n",
      " [0.053 0.024 0.06  0.021 0.127 0.047 0.033 0.234 0.182 0.219]]\n",
      "[2022-12-25 13:53:17,927 INFO] evaluation metric\n",
      "[2022-12-25 13:53:17,927 INFO] acc: 0.1389\n",
      "[2022-12-25 13:53:17,928 INFO] precision: 0.1335\n",
      "[2022-12-25 13:53:17,928 INFO] recall: 0.1389\n",
      "[2022-12-25 13:53:17,928 INFO] f1: 0.1187\n",
      "/bin/sh: 1: netstat: not found\n"
     ]
    },
    {
     "name": "stdout",
     "output_type": "stream",
     "text": [
      "Files already downloaded and verified\n",
      "lb count: [4, 4, 4, 4, 4, 4, 4, 4, 4, 4]\n",
      "ulb count: [5000, 5000, 5000, 5000, 5000, 5000, 5000, 5000, 5000, 5000]\n",
      "Files already downloaded and verified\n"
     ]
    },
    {
     "name": "stderr",
     "output_type": "stream",
     "text": [
      "/bin/sh: 1: netstat: not found\n"
     ]
    },
    {
     "name": "stdout",
     "output_type": "stream",
     "text": [
      "Files already downloaded and verified\n",
      "lb count: [4, 4, 4, 4, 4, 4, 4, 4, 4, 4]\n",
      "ulb count: [5000, 5000, 5000, 5000, 5000, 5000, 5000, 5000, 5000, 5000]\n",
      "Files already downloaded and verified\n",
      "unlabeled data number: 50000, labeled data number 40\n",
      "Create train and test data loaders\n",
      "[!] data loader keys: dict_keys(['train_lb', 'train_ulb', 'eval'])\n",
      "_IncompatibleKeys(missing_keys=['head.weight', 'head.bias'], unexpected_keys=[])\n",
      "Create optimizer and scheduler\n",
      "Epoch: 0\n"
     ]
    },
    {
     "name": "stderr",
     "output_type": "stream",
     "text": [
      "[2022-12-25 14:16:11,169 INFO] confusion matrix\n",
      "[2022-12-25 14:16:11,170 INFO] [[0.197 0.027 0.009 0.028 0.039 0.11  0.011 0.105 0.257 0.217]\n",
      " [0.011 0.048 0.01  0.113 0.02  0.187 0.005 0.179 0.073 0.354]\n",
      " [0.101 0.025 0.016 0.172 0.053 0.201 0.092 0.161 0.067 0.112]\n",
      " [0.05  0.028 0.034 0.131 0.055 0.386 0.05  0.093 0.035 0.138]\n",
      " [0.051 0.031 0.025 0.221 0.063 0.141 0.214 0.128 0.045 0.081]\n",
      " [0.047 0.017 0.019 0.101 0.046 0.435 0.047 0.087 0.039 0.162]\n",
      " [0.033 0.027 0.021 0.237 0.068 0.209 0.253 0.078 0.019 0.055]\n",
      " [0.037 0.023 0.019 0.104 0.025 0.387 0.032 0.175 0.03  0.168]\n",
      " [0.074 0.011 0.004 0.029 0.025 0.102 0.002 0.089 0.27  0.394]\n",
      " [0.035 0.022 0.004 0.051 0.011 0.233 0.008 0.15  0.085 0.401]]\n",
      "[2022-12-25 14:16:11,171 INFO] evaluation metric\n",
      "[2022-12-25 14:16:11,171 INFO] acc: 0.1989\n",
      "[2022-12-25 14:16:11,172 INFO] precision: 0.2023\n",
      "[2022-12-25 14:16:11,172 INFO] recall: 0.1989\n",
      "[2022-12-25 14:16:11,173 INFO] f1: 0.1803\n"
     ]
    },
    {
     "name": "stdout",
     "output_type": "stream",
     "text": [
      "model saved: ./saved_models/classic_cv/mixmatch_cifar10_40_0/latest_model.pth\n",
      "model saved: ./saved_models/classic_cv/mixmatch_cifar10_40_0/model_best.pth\n",
      "Epoch: 1\n"
     ]
    },
    {
     "name": "stderr",
     "output_type": "stream",
     "text": [
      "[2022-12-25 14:30:54,830 INFO] confusion matrix\n",
      "[2022-12-25 14:30:54,831 INFO] [[0.093 0.062 0.111 0.021 0.048 0.056 0.021 0.049 0.256 0.283]\n",
      " [0.012 0.163 0.149 0.108 0.01  0.06  0.013 0.056 0.056 0.373]\n",
      " [0.051 0.028 0.158 0.078 0.123 0.118 0.128 0.101 0.067 0.148]\n",
      " [0.024 0.053 0.145 0.059 0.109 0.255 0.051 0.077 0.044 0.183]\n",
      " [0.016 0.053 0.143 0.047 0.131 0.087 0.243 0.137 0.042 0.101]\n",
      " [0.026 0.057 0.127 0.043 0.116 0.265 0.048 0.094 0.056 0.168]\n",
      " [0.011 0.027 0.138 0.063 0.123 0.18  0.279 0.089 0.021 0.069]\n",
      " [0.011 0.064 0.098 0.018 0.04  0.224 0.046 0.222 0.033 0.244]\n",
      " [0.052 0.059 0.067 0.029 0.021 0.018 0.004 0.02  0.247 0.483]\n",
      " [0.01  0.138 0.047 0.049 0.017 0.08  0.009 0.032 0.04  0.578]]\n",
      "[2022-12-25 14:30:54,832 INFO] evaluation metric\n",
      "[2022-12-25 14:30:54,833 INFO] acc: 0.2195\n",
      "[2022-12-25 14:30:54,833 INFO] precision: 0.2249\n",
      "[2022-12-25 14:30:54,833 INFO] recall: 0.2195\n",
      "[2022-12-25 14:30:54,834 INFO] f1: 0.2057\n"
     ]
    },
    {
     "name": "stdout",
     "output_type": "stream",
     "text": [
      "model saved: ./saved_models/classic_cv/mixmatch_cifar10_40_0/latest_model.pth\n",
      "model saved: ./saved_models/classic_cv/mixmatch_cifar10_40_0/model_best.pth\n",
      "Epoch: 2\n"
     ]
    },
    {
     "name": "stderr",
     "output_type": "stream",
     "text": [
      "[2022-12-25 14:45:39,982 INFO] confusion matrix\n",
      "[2022-12-25 14:45:39,983 INFO] [[0.228 0.053 0.202 0.019 0.071 0.057 0.039 0.027 0.089 0.215]\n",
      " [0.041 0.17  0.198 0.127 0.015 0.093 0.021 0.044 0.031 0.26 ]\n",
      " [0.099 0.022 0.19  0.097 0.112 0.145 0.185 0.056 0.023 0.071]\n",
      " [0.047 0.039 0.152 0.11  0.111 0.292 0.088 0.048 0.022 0.091]\n",
      " [0.049 0.017 0.154 0.101 0.097 0.106 0.312 0.084 0.012 0.068]\n",
      " [0.053 0.04  0.149 0.061 0.103 0.328 0.1   0.058 0.034 0.074]\n",
      " [0.022 0.019 0.12  0.152 0.103 0.178 0.339 0.035 0.006 0.026]\n",
      " [0.044 0.04  0.117 0.034 0.043 0.28  0.09  0.139 0.014 0.199]\n",
      " [0.114 0.055 0.155 0.037 0.029 0.037 0.017 0.006 0.108 0.442]\n",
      " [0.039 0.139 0.081 0.081 0.017 0.113 0.023 0.022 0.019 0.466]]\n",
      "[2022-12-25 14:45:39,984 INFO] evaluation metric\n",
      "[2022-12-25 14:45:39,985 INFO] acc: 0.2175\n",
      "[2022-12-25 14:45:39,985 INFO] precision: 0.2288\n",
      "[2022-12-25 14:45:39,985 INFO] recall: 0.2175\n",
      "[2022-12-25 14:45:39,986 INFO] f1: 0.2080\n"
     ]
    },
    {
     "name": "stdout",
     "output_type": "stream",
     "text": [
      "model saved: ./saved_models/classic_cv/mixmatch_cifar10_40_0/latest_model.pth\n",
      "Epoch: 3\n"
     ]
    },
    {
     "name": "stderr",
     "output_type": "stream",
     "text": [
      "[2022-12-25 15:00:24,101 INFO] confusion matrix\n",
      "[2022-12-25 15:00:24,101 INFO] [[0.192 0.121 0.063 0.009 0.034 0.042 0.025 0.025 0.209 0.28 ]\n",
      " [0.024 0.289 0.106 0.037 0.008 0.063 0.019 0.053 0.079 0.322]\n",
      " [0.087 0.073 0.11  0.05  0.062 0.137 0.209 0.081 0.057 0.134]\n",
      " [0.038 0.138 0.099 0.05  0.075 0.264 0.099 0.066 0.058 0.113]\n",
      " [0.045 0.1   0.085 0.027 0.045 0.101 0.347 0.118 0.038 0.094]\n",
      " [0.047 0.144 0.098 0.026 0.061 0.304 0.092 0.056 0.058 0.114]\n",
      " [0.018 0.103 0.08  0.056 0.054 0.146 0.399 0.065 0.021 0.058]\n",
      " [0.045 0.134 0.078 0.011 0.02  0.227 0.073 0.14  0.02  0.252]\n",
      " [0.075 0.113 0.036 0.008 0.009 0.023 0.011 0.007 0.244 0.474]\n",
      " [0.025 0.265 0.033 0.018 0.006 0.046 0.016 0.027 0.037 0.527]]\n",
      "[2022-12-25 15:00:24,103 INFO] evaluation metric\n",
      "[2022-12-25 15:00:24,103 INFO] acc: 0.2300\n",
      "[2022-12-25 15:00:24,103 INFO] precision: 0.2222\n",
      "[2022-12-25 15:00:24,104 INFO] recall: 0.2300\n",
      "[2022-12-25 15:00:24,104 INFO] f1: 0.2098\n"
     ]
    },
    {
     "name": "stdout",
     "output_type": "stream",
     "text": [
      "model saved: ./saved_models/classic_cv/mixmatch_cifar10_40_0/latest_model.pth\n",
      "model saved: ./saved_models/classic_cv/mixmatch_cifar10_40_0/model_best.pth\n",
      "Epoch: 4\n"
     ]
    },
    {
     "name": "stderr",
     "output_type": "stream",
     "text": [
      "[2022-12-25 15:15:09,329 INFO] confusion matrix\n",
      "[2022-12-25 15:15:09,330 INFO] [[0.252 0.192 0.036 0.027 0.031 0.039 0.025 0.031 0.135 0.232]\n",
      " [0.042 0.252 0.076 0.116 0.005 0.068 0.019 0.055 0.052 0.315]\n",
      " [0.117 0.061 0.086 0.123 0.074 0.149 0.203 0.062 0.026 0.099]\n",
      " [0.061 0.088 0.079 0.122 0.089 0.317 0.076 0.043 0.033 0.092]\n",
      " [0.057 0.059 0.08  0.107 0.058 0.123 0.348 0.068 0.025 0.075]\n",
      " [0.063 0.094 0.089 0.077 0.063 0.345 0.08  0.044 0.043 0.102]\n",
      " [0.023 0.063 0.047 0.171 0.071 0.186 0.362 0.025 0.016 0.036]\n",
      " [0.058 0.079 0.088 0.05  0.02  0.268 0.061 0.152 0.006 0.218]\n",
      " [0.1   0.13  0.031 0.023 0.011 0.041 0.006 0.007 0.218 0.433]\n",
      " [0.054 0.214 0.025 0.079 0.002 0.06  0.014 0.025 0.022 0.505]]\n",
      "[2022-12-25 15:15:09,331 INFO] evaluation metric\n",
      "[2022-12-25 15:15:09,332 INFO] acc: 0.2352\n",
      "[2022-12-25 15:15:09,332 INFO] precision: 0.2352\n",
      "[2022-12-25 15:15:09,332 INFO] recall: 0.2352\n",
      "[2022-12-25 15:15:09,333 INFO] f1: 0.2216\n"
     ]
    },
    {
     "name": "stdout",
     "output_type": "stream",
     "text": [
      "model saved: ./saved_models/classic_cv/mixmatch_cifar10_40_0/latest_model.pth\n",
      "model saved: ./saved_models/classic_cv/mixmatch_cifar10_40_0/model_best.pth\n",
      "Epoch: 5\n"
     ]
    },
    {
     "name": "stderr",
     "output_type": "stream",
     "text": [
      "[2022-12-25 15:29:54,243 INFO] confusion matrix\n",
      "[2022-12-25 15:29:54,244 INFO] [[0.221 0.168 0.044 0.017 0.044 0.057 0.033 0.015 0.172 0.229]\n",
      " [0.027 0.302 0.092 0.073 0.009 0.093 0.025 0.027 0.055 0.297]\n",
      " [0.097 0.059 0.122 0.072 0.075 0.191 0.209 0.033 0.052 0.09 ]\n",
      " [0.044 0.104 0.108 0.08  0.071 0.329 0.094 0.024 0.059 0.087]\n",
      " [0.035 0.062 0.103 0.044 0.054 0.165 0.347 0.058 0.049 0.083]\n",
      " [0.034 0.11  0.118 0.039 0.046 0.367 0.098 0.033 0.063 0.092]\n",
      " [0.012 0.069 0.088 0.071 0.054 0.214 0.391 0.025 0.037 0.039]\n",
      " [0.031 0.109 0.108 0.026 0.014 0.294 0.077 0.079 0.021 0.241]\n",
      " [0.074 0.132 0.034 0.013 0.012 0.041 0.005 0.002 0.257 0.43 ]\n",
      " [0.02  0.273 0.037 0.036 0.006 0.083 0.019 0.016 0.036 0.474]]\n",
      "[2022-12-25 15:29:54,246 INFO] evaluation metric\n",
      "[2022-12-25 15:29:54,246 INFO] acc: 0.2347\n",
      "[2022-12-25 15:29:54,246 INFO] precision: 0.2347\n",
      "[2022-12-25 15:29:54,247 INFO] recall: 0.2347\n",
      "[2022-12-25 15:29:54,247 INFO] f1: 0.2163\n"
     ]
    },
    {
     "name": "stdout",
     "output_type": "stream",
     "text": [
      "model saved: ./saved_models/classic_cv/mixmatch_cifar10_40_0/latest_model.pth\n",
      "Epoch: 6\n"
     ]
    },
    {
     "name": "stderr",
     "output_type": "stream",
     "text": [
      "[2022-12-25 15:44:37,697 INFO] confusion matrix\n",
      "[2022-12-25 15:44:37,698 INFO] [[0.279 0.181 0.065 0.011 0.041 0.072 0.062 0.031 0.101 0.157]\n",
      " [0.061 0.31  0.105 0.045 0.002 0.151 0.049 0.048 0.023 0.206]\n",
      " [0.124 0.053 0.08  0.04  0.068 0.241 0.272 0.052 0.016 0.054]\n",
      " [0.044 0.112 0.062 0.043 0.051 0.402 0.192 0.026 0.024 0.044]\n",
      " [0.043 0.044 0.064 0.023 0.034 0.238 0.422 0.064 0.017 0.051]\n",
      " [0.048 0.101 0.065 0.026 0.043 0.466 0.147 0.037 0.027 0.04 ]\n",
      " [0.017 0.057 0.035 0.025 0.054 0.278 0.489 0.02  0.007 0.018]\n",
      " [0.031 0.087 0.068 0.013 0.009 0.386 0.141 0.12  0.014 0.131]\n",
      " [0.117 0.179 0.033 0.008 0.017 0.069 0.032 0.013 0.182 0.35 ]\n",
      " [0.042 0.317 0.035 0.019 0.007 0.136 0.049 0.029 0.018 0.348]]\n",
      "[2022-12-25 15:44:37,699 INFO] evaluation metric\n",
      "[2022-12-25 15:44:37,700 INFO] acc: 0.2351\n",
      "[2022-12-25 15:44:37,700 INFO] precision: 0.2367\n",
      "[2022-12-25 15:44:37,700 INFO] recall: 0.2351\n",
      "[2022-12-25 15:44:37,701 INFO] f1: 0.2107\n"
     ]
    },
    {
     "name": "stdout",
     "output_type": "stream",
     "text": [
      "model saved: ./saved_models/classic_cv/mixmatch_cifar10_40_0/latest_model.pth\n",
      "Epoch: 7\n"
     ]
    },
    {
     "name": "stderr",
     "output_type": "stream",
     "text": [
      "[2022-12-25 15:59:21,510 INFO] confusion matrix\n",
      "[2022-12-25 15:59:21,511 INFO] [[0.31  0.137 0.132 0.009 0.12  0.032 0.031 0.019 0.026 0.184]\n",
      " [0.068 0.284 0.161 0.057 0.024 0.087 0.027 0.032 0.008 0.252]\n",
      " [0.111 0.045 0.144 0.046 0.164 0.147 0.231 0.03  0.009 0.073]\n",
      " [0.052 0.127 0.132 0.051 0.151 0.277 0.111 0.022 0.016 0.061]\n",
      " [0.036 0.055 0.148 0.027 0.139 0.108 0.382 0.036 0.012 0.057]\n",
      " [0.056 0.112 0.145 0.029 0.121 0.321 0.104 0.023 0.018 0.071]\n",
      " [0.018 0.072 0.09  0.047 0.142 0.149 0.436 0.013 0.008 0.025]\n",
      " [0.04  0.117 0.144 0.011 0.059 0.252 0.086 0.097 0.005 0.189]\n",
      " [0.186 0.15  0.113 0.01  0.04  0.038 0.016 0.004 0.064 0.379]\n",
      " [0.039 0.298 0.074 0.027 0.024 0.078 0.02  0.023 0.005 0.412]]\n",
      "[2022-12-25 15:59:21,512 INFO] evaluation metric\n",
      "[2022-12-25 15:59:21,513 INFO] acc: 0.2258\n",
      "[2022-12-25 15:59:21,513 INFO] precision: 0.2416\n",
      "[2022-12-25 15:59:21,514 INFO] recall: 0.2258\n",
      "[2022-12-25 15:59:21,514 INFO] f1: 0.2083\n"
     ]
    },
    {
     "name": "stdout",
     "output_type": "stream",
     "text": [
      "model saved: ./saved_models/classic_cv/mixmatch_cifar10_40_0/latest_model.pth\n",
      "Epoch: 8\n"
     ]
    },
    {
     "name": "stderr",
     "output_type": "stream",
     "text": [
      "[2022-12-25 16:14:05,817 INFO] confusion matrix\n",
      "[2022-12-25 16:14:05,818 INFO] [[0.231 0.177 0.019 0.009 0.054 0.027 0.027 0.02  0.081 0.355]\n",
      " [0.041 0.282 0.043 0.06  0.017 0.069 0.018 0.038 0.029 0.403]\n",
      " [0.083 0.068 0.051 0.047 0.12  0.16  0.219 0.048 0.042 0.162]\n",
      " [0.043 0.129 0.028 0.07  0.092 0.338 0.088 0.031 0.04  0.141]\n",
      " [0.036 0.054 0.041 0.027 0.09  0.16  0.36  0.06  0.047 0.125]\n",
      " [0.035 0.128 0.043 0.037 0.07  0.364 0.082 0.032 0.057 0.152]\n",
      " [0.015 0.072 0.037 0.055 0.087 0.212 0.403 0.019 0.027 0.073]\n",
      " [0.033 0.12  0.05  0.016 0.028 0.231 0.068 0.116 0.017 0.321]\n",
      " [0.072 0.127 0.004 0.015 0.02  0.027 0.008 0.007 0.14  0.58 ]\n",
      " [0.022 0.276 0.011 0.037 0.012 0.049 0.013 0.027 0.018 0.535]]\n",
      "[2022-12-25 16:14:05,819 INFO] evaluation metric\n",
      "[2022-12-25 16:14:05,819 INFO] acc: 0.2282\n",
      "[2022-12-25 16:14:05,820 INFO] precision: 0.2367\n",
      "[2022-12-25 16:14:05,820 INFO] recall: 0.2282\n",
      "[2022-12-25 16:14:05,820 INFO] f1: 0.2070\n"
     ]
    },
    {
     "name": "stdout",
     "output_type": "stream",
     "text": [
      "model saved: ./saved_models/classic_cv/mixmatch_cifar10_40_0/latest_model.pth\n",
      "Epoch: 9\n"
     ]
    },
    {
     "name": "stderr",
     "output_type": "stream",
     "text": [
      "[2022-12-25 16:28:44,964 INFO] confusion matrix\n",
      "[2022-12-25 16:28:44,965 INFO] [[0.219 0.166 0.032 0.004 0.062 0.082 0.035 0.009 0.124 0.267]\n",
      " [0.039 0.291 0.071 0.036 0.013 0.175 0.026 0.016 0.046 0.287]\n",
      " [0.088 0.05  0.059 0.03  0.112 0.257 0.247 0.02  0.034 0.103]\n",
      " [0.032 0.106 0.04  0.042 0.084 0.473 0.11  0.011 0.035 0.067]\n",
      " [0.024 0.044 0.057 0.026 0.076 0.231 0.394 0.026 0.033 0.089]\n",
      " [0.033 0.106 0.044 0.031 0.072 0.49  0.098 0.016 0.046 0.064]\n",
      " [0.007 0.047 0.029 0.05  0.073 0.271 0.449 0.014 0.013 0.047]\n",
      " [0.026 0.081 0.061 0.013 0.016 0.448 0.08  0.038 0.019 0.218]\n",
      " [0.082 0.154 0.01  0.005 0.018 0.079 0.013 0.003 0.208 0.428]\n",
      " [0.024 0.272 0.016 0.013 0.01  0.134 0.02  0.009 0.034 0.468]]\n",
      "[2022-12-25 16:28:44,966 INFO] evaluation metric\n",
      "[2022-12-25 16:28:44,967 INFO] acc: 0.2340\n",
      "[2022-12-25 16:28:44,967 INFO] precision: 0.2359\n",
      "[2022-12-25 16:28:44,968 INFO] recall: 0.2340\n",
      "[2022-12-25 16:28:44,968 INFO] f1: 0.2046\n",
      "[2022-12-25 16:28:45,163 INFO] Best acc 0.2352 at epoch 4\n",
      "[2022-12-25 16:28:45,166 INFO] Training finished.\n"
     ]
    },
    {
     "name": "stdout",
     "output_type": "stream",
     "text": [
      "model saved: ./saved_models/classic_cv/mixmatch_cifar10_40_0/latest_model.pth\n"
     ]
    },
    {
     "name": "stderr",
     "output_type": "stream",
     "text": [
      "[2022-12-25 16:36:51,649 INFO] confusion matrix\n",
      "[2022-12-25 16:36:51,649 INFO] [[0.219 0.166 0.032 0.004 0.062 0.082 0.035 0.009 0.124 0.267]\n",
      " [0.039 0.291 0.071 0.036 0.013 0.175 0.026 0.016 0.046 0.287]\n",
      " [0.088 0.05  0.059 0.03  0.112 0.257 0.247 0.02  0.034 0.103]\n",
      " [0.032 0.106 0.04  0.042 0.084 0.473 0.11  0.011 0.035 0.067]\n",
      " [0.024 0.044 0.057 0.026 0.076 0.231 0.394 0.026 0.033 0.089]\n",
      " [0.033 0.106 0.044 0.031 0.072 0.49  0.098 0.016 0.046 0.064]\n",
      " [0.007 0.047 0.029 0.05  0.073 0.271 0.449 0.014 0.013 0.047]\n",
      " [0.026 0.081 0.061 0.013 0.016 0.448 0.08  0.038 0.019 0.218]\n",
      " [0.082 0.154 0.01  0.005 0.018 0.079 0.013 0.003 0.208 0.428]\n",
      " [0.024 0.272 0.016 0.013 0.01  0.134 0.02  0.009 0.034 0.468]]\n",
      "[2022-12-25 16:36:51,651 INFO] evaluation metric\n",
      "[2022-12-25 16:36:51,651 INFO] acc: 0.2340\n",
      "[2022-12-25 16:36:51,651 INFO] precision: 0.2359\n",
      "[2022-12-25 16:36:51,652 INFO] recall: 0.2340\n",
      "[2022-12-25 16:36:51,652 INFO] f1: 0.2046\n",
      "/bin/sh: 1: netstat: not found\n"
     ]
    },
    {
     "name": "stdout",
     "output_type": "stream",
     "text": [
      "Files already downloaded and verified\n",
      "lb count: [4, 4, 4, 4, 4, 4, 4, 4, 4, 4]\n",
      "ulb count: [5000, 5000, 5000, 5000, 5000, 5000, 5000, 5000, 5000, 5000]\n",
      "Files already downloaded and verified\n"
     ]
    },
    {
     "name": "stderr",
     "output_type": "stream",
     "text": [
      "/bin/sh: 1: netstat: not found\n"
     ]
    },
    {
     "name": "stdout",
     "output_type": "stream",
     "text": [
      "Files already downloaded and verified\n",
      "lb count: [4, 4, 4, 4, 4, 4, 4, 4, 4, 4]\n",
      "ulb count: [5000, 5000, 5000, 5000, 5000, 5000, 5000, 5000, 5000, 5000]\n",
      "Files already downloaded and verified\n",
      "unlabeled data number: 50000, labeled data number 40\n",
      "Create train and test data loaders\n",
      "[!] data loader keys: dict_keys(['train_lb', 'train_ulb', 'eval'])\n",
      "_IncompatibleKeys(missing_keys=['head.weight', 'head.bias'], unexpected_keys=[])\n",
      "Create optimizer and scheduler\n",
      "distribution alignment p_target: tensor([0.1000, 0.1000, 0.1000, 0.1000, 0.1000, 0.1000, 0.1000, 0.1000, 0.1000,\n",
      "        0.1000], dtype=torch.float64)\n",
      "Epoch: 0\n"
     ]
    },
    {
     "name": "stderr",
     "output_type": "stream",
     "text": [
      "/usr/local/lib/python3.8/dist-packages/sklearn/metrics/_classification.py:1318: UndefinedMetricWarning: Precision is ill-defined and being set to 0.0 in labels with no predicted samples. Use `zero_division` parameter to control this behavior.\n",
      "  _warn_prf(average, modifier, msg_start, len(result))\n",
      "[2022-12-25 17:04:14,163 INFO] confusion matrix\n",
      "[2022-12-25 17:04:14,164 INFO] [[0.007 0.    0.383 0.    0.    0.    0.    0.037 0.    0.573]\n",
      " [0.    0.    0.545 0.    0.    0.    0.    0.054 0.    0.401]\n",
      " [0.001 0.    0.661 0.    0.    0.    0.    0.066 0.    0.272]\n",
      " [0.003 0.    0.716 0.    0.001 0.    0.    0.062 0.    0.218]\n",
      " [0.    0.    0.735 0.    0.001 0.    0.    0.075 0.    0.189]\n",
      " [0.001 0.    0.697 0.    0.    0.    0.    0.068 0.    0.234]\n",
      " [0.001 0.    0.748 0.    0.001 0.    0.    0.087 0.    0.163]\n",
      " [0.    0.    0.736 0.    0.    0.    0.    0.061 0.    0.203]\n",
      " [0.003 0.    0.453 0.    0.    0.    0.    0.038 0.    0.506]\n",
      " [0.    0.    0.616 0.    0.    0.    0.    0.04  0.    0.344]]\n",
      "[2022-12-25 17:04:14,165 INFO] evaluation metric\n",
      "[2022-12-25 17:04:14,165 INFO] acc: 0.1074\n",
      "[2022-12-25 17:04:14,166 INFO] precision: 0.1091\n",
      "[2022-12-25 17:04:14,166 INFO] recall: 0.1074\n",
      "[2022-12-25 17:04:14,167 INFO] f1: 0.0442\n"
     ]
    },
    {
     "name": "stdout",
     "output_type": "stream",
     "text": [
      "model saved: ./saved_models/classic_cv/remixmatch_cifar10_40_0/latest_model.pth\n",
      "model saved: ./saved_models/classic_cv/remixmatch_cifar10_40_0/model_best.pth\n",
      "Epoch: 1\n"
     ]
    },
    {
     "name": "stderr",
     "output_type": "stream",
     "text": [
      "[2022-12-25 17:23:32,011 INFO] confusion matrix\n",
      "[2022-12-25 17:23:32,012 INFO] [[0.301 0.    0.006 0.103 0.084 0.003 0.023 0.17  0.001 0.309]\n",
      " [0.235 0.    0.001 0.182 0.12  0.    0.034 0.266 0.007 0.155]\n",
      " [0.092 0.001 0.002 0.373 0.143 0.    0.07  0.216 0.001 0.102]\n",
      " [0.097 0.001 0.002 0.304 0.148 0.    0.06  0.298 0.003 0.087]\n",
      " [0.046 0.    0.008 0.504 0.093 0.002 0.085 0.213 0.002 0.047]\n",
      " [0.103 0.    0.004 0.304 0.138 0.    0.055 0.313 0.002 0.081]\n",
      " [0.018 0.    0.    0.585 0.089 0.    0.116 0.177 0.    0.015]\n",
      " [0.077 0.    0.001 0.311 0.146 0.001 0.051 0.348 0.002 0.063]\n",
      " [0.326 0.001 0.001 0.107 0.079 0.002 0.014 0.226 0.007 0.237]\n",
      " [0.204 0.001 0.    0.185 0.117 0.    0.042 0.296 0.002 0.153]]\n",
      "[2022-12-25 17:23:32,014 INFO] evaluation metric\n",
      "[2022-12-25 17:23:32,014 INFO] acc: 0.1324\n",
      "[2022-12-25 17:23:32,014 INFO] precision: 0.1195\n",
      "[2022-12-25 17:23:32,015 INFO] recall: 0.1324\n",
      "[2022-12-25 17:23:32,015 INFO] f1: 0.0982\n"
     ]
    },
    {
     "name": "stdout",
     "output_type": "stream",
     "text": [
      "model saved: ./saved_models/classic_cv/remixmatch_cifar10_40_0/latest_model.pth\n",
      "model saved: ./saved_models/classic_cv/remixmatch_cifar10_40_0/model_best.pth\n",
      "Epoch: 2\n"
     ]
    },
    {
     "name": "stderr",
     "output_type": "stream",
     "text": [
      "/usr/local/lib/python3.8/dist-packages/sklearn/metrics/_classification.py:1318: UndefinedMetricWarning: Precision is ill-defined and being set to 0.0 in labels with no predicted samples. Use `zero_division` parameter to control this behavior.\n",
      "  _warn_prf(average, modifier, msg_start, len(result))\n",
      "[2022-12-25 17:42:50,845 INFO] confusion matrix\n",
      "[2022-12-25 17:42:50,845 INFO] [[0.568 0.121 0.037 0.001 0.    0.081 0.023 0.032 0.    0.137]\n",
      " [0.692 0.082 0.014 0.001 0.    0.067 0.014 0.032 0.    0.098]\n",
      " [0.412 0.114 0.118 0.001 0.    0.129 0.097 0.016 0.    0.113]\n",
      " [0.558 0.08  0.049 0.    0.001 0.127 0.041 0.023 0.    0.121]\n",
      " [0.295 0.114 0.191 0.001 0.    0.164 0.098 0.009 0.    0.128]\n",
      " [0.569 0.088 0.036 0.    0.    0.146 0.03  0.021 0.    0.11 ]\n",
      " [0.333 0.106 0.178 0.    0.    0.14  0.111 0.007 0.    0.125]\n",
      " [0.518 0.131 0.035 0.    0.001 0.119 0.037 0.023 0.    0.136]\n",
      " [0.539 0.148 0.009 0.002 0.    0.1   0.035 0.025 0.    0.142]\n",
      " [0.558 0.132 0.019 0.    0.    0.094 0.014 0.036 0.    0.147]]\n",
      "[2022-12-25 17:42:50,846 INFO] evaluation metric\n",
      "[2022-12-25 17:42:50,847 INFO] acc: 0.1195\n",
      "[2022-12-25 17:42:50,847 INFO] precision: 0.0925\n",
      "[2022-12-25 17:42:50,848 INFO] recall: 0.1195\n",
      "[2022-12-25 17:42:50,848 INFO] f1: 0.0856\n"
     ]
    },
    {
     "name": "stdout",
     "output_type": "stream",
     "text": [
      "model saved: ./saved_models/classic_cv/remixmatch_cifar10_40_0/latest_model.pth\n",
      "Epoch: 3\n"
     ]
    },
    {
     "name": "stderr",
     "output_type": "stream",
     "text": [
      "/usr/local/lib/python3.8/dist-packages/sklearn/metrics/_classification.py:1318: UndefinedMetricWarning: Precision is ill-defined and being set to 0.0 in labels with no predicted samples. Use `zero_division` parameter to control this behavior.\n",
      "  _warn_prf(average, modifier, msg_start, len(result))\n",
      "[2022-12-25 18:02:10,030 INFO] confusion matrix\n",
      "[2022-12-25 18:02:10,031 INFO] [[0.004 0.004 0.058 0.05  0.    0.007 0.008 0.001 0.165 0.703]\n",
      " [0.    0.002 0.023 0.022 0.    0.008 0.006 0.    0.166 0.773]\n",
      " [0.002 0.006 0.164 0.101 0.    0.025 0.031 0.001 0.225 0.445]\n",
      " [0.006 0.002 0.076 0.052 0.    0.031 0.006 0.    0.25  0.577]\n",
      " [0.002 0.005 0.258 0.118 0.    0.031 0.021 0.    0.241 0.324]\n",
      " [0.005 0.002 0.057 0.039 0.    0.017 0.01  0.001 0.284 0.585]\n",
      " [0.    0.006 0.243 0.128 0.    0.036 0.035 0.001 0.226 0.325]\n",
      " [0.    0.002 0.051 0.053 0.    0.008 0.006 0.    0.238 0.642]\n",
      " [0.    0.001 0.018 0.046 0.    0.011 0.008 0.    0.181 0.735]\n",
      " [0.001 0.003 0.025 0.032 0.    0.001 0.002 0.    0.189 0.747]]\n",
      "[2022-12-25 18:02:10,032 INFO] evaluation metric\n",
      "[2022-12-25 18:02:10,032 INFO] acc: 0.1202\n",
      "[2022-12-25 18:02:10,033 INFO] precision: 0.1082\n",
      "[2022-12-25 18:02:10,033 INFO] recall: 0.1202\n",
      "[2022-12-25 18:02:10,034 INFO] f1: 0.0664\n"
     ]
    },
    {
     "name": "stdout",
     "output_type": "stream",
     "text": [
      "model saved: ./saved_models/classic_cv/remixmatch_cifar10_40_0/latest_model.pth\n",
      "Epoch: 4\n"
     ]
    },
    {
     "name": "stderr",
     "output_type": "stream",
     "text": [
      "[2022-12-25 18:21:33,436 INFO] confusion matrix\n",
      "[2022-12-25 18:21:33,437 INFO] [[0.087 0.042 0.009 0.245 0.    0.007 0.098 0.032 0.458 0.022]\n",
      " [0.046 0.039 0.011 0.403 0.002 0.004 0.142 0.058 0.27  0.025]\n",
      " [0.034 0.017 0.01  0.499 0.    0.011 0.126 0.039 0.247 0.017]\n",
      " [0.024 0.021 0.01  0.513 0.001 0.004 0.142 0.032 0.235 0.018]\n",
      " [0.017 0.018 0.014 0.621 0.002 0.004 0.123 0.027 0.16  0.014]\n",
      " [0.015 0.018 0.008 0.53  0.002 0.004 0.131 0.041 0.234 0.017]\n",
      " [0.012 0.018 0.013 0.643 0.    0.003 0.126 0.025 0.15  0.01 ]\n",
      " [0.023 0.018 0.003 0.546 0.002 0.005 0.14  0.04  0.206 0.017]\n",
      " [0.101 0.06  0.008 0.276 0.003 0.019 0.104 0.026 0.375 0.028]\n",
      " [0.046 0.022 0.011 0.447 0.    0.005 0.129 0.041 0.275 0.024]]\n",
      "[2022-12-25 18:21:33,438 INFO] evaluation metric\n",
      "[2022-12-25 18:21:33,439 INFO] acc: 0.1220\n",
      "[2022-12-25 18:21:33,439 INFO] precision: 0.1276\n",
      "[2022-12-25 18:21:33,440 INFO] recall: 0.1220\n",
      "[2022-12-25 18:21:33,440 INFO] f1: 0.0812\n"
     ]
    },
    {
     "name": "stdout",
     "output_type": "stream",
     "text": [
      "model saved: ./saved_models/classic_cv/remixmatch_cifar10_40_0/latest_model.pth\n",
      "Epoch: 5\n"
     ]
    },
    {
     "name": "stderr",
     "output_type": "stream",
     "text": [
      "/usr/local/lib/python3.8/dist-packages/sklearn/metrics/_classification.py:1318: UndefinedMetricWarning: Precision is ill-defined and being set to 0.0 in labels with no predicted samples. Use `zero_division` parameter to control this behavior.\n",
      "  _warn_prf(average, modifier, msg_start, len(result))\n",
      "[2022-12-25 18:40:58,122 INFO] confusion matrix\n",
      "[2022-12-25 18:40:58,122 INFO] [[0.586 0.008 0.048 0.255 0.043 0.    0.03  0.03  0.    0.   ]\n",
      " [0.342 0.007 0.069 0.415 0.057 0.    0.051 0.059 0.    0.   ]\n",
      " [0.321 0.009 0.052 0.448 0.053 0.    0.041 0.076 0.    0.   ]\n",
      " [0.286 0.016 0.068 0.446 0.058 0.    0.062 0.064 0.    0.   ]\n",
      " [0.221 0.009 0.07  0.535 0.048 0.    0.041 0.076 0.    0.   ]\n",
      " [0.316 0.013 0.067 0.428 0.045 0.    0.051 0.08  0.    0.   ]\n",
      " [0.138 0.011 0.049 0.613 0.047 0.    0.045 0.097 0.    0.   ]\n",
      " [0.247 0.018 0.072 0.47  0.054 0.    0.046 0.093 0.    0.   ]\n",
      " [0.524 0.01  0.057 0.251 0.047 0.    0.04  0.071 0.    0.   ]\n",
      " [0.351 0.01  0.068 0.406 0.055 0.    0.044 0.066 0.    0.   ]]\n",
      "[2022-12-25 18:40:58,124 INFO] evaluation metric\n",
      "[2022-12-25 18:40:58,124 INFO] acc: 0.1277\n",
      "[2022-12-25 18:40:58,124 INFO] precision: 0.0752\n",
      "[2022-12-25 18:40:58,125 INFO] recall: 0.1277\n",
      "[2022-12-25 18:40:58,125 INFO] f1: 0.0751\n"
     ]
    },
    {
     "name": "stdout",
     "output_type": "stream",
     "text": [
      "model saved: ./saved_models/classic_cv/remixmatch_cifar10_40_0/latest_model.pth\n",
      "Epoch: 6\n"
     ]
    },
    {
     "name": "stderr",
     "output_type": "stream",
     "text": [
      "/usr/local/lib/python3.8/dist-packages/sklearn/metrics/_classification.py:1318: UndefinedMetricWarning: Precision is ill-defined and being set to 0.0 in labels with no predicted samples. Use `zero_division` parameter to control this behavior.\n",
      "  _warn_prf(average, modifier, msg_start, len(result))\n",
      "[2022-12-25 19:00:23,174 INFO] confusion matrix\n",
      "[2022-12-25 19:00:23,174 INFO] [[0.565 0.002 0.11  0.254 0.    0.007 0.02  0.001 0.041 0.   ]\n",
      " [0.344 0.006 0.123 0.428 0.    0.016 0.036 0.002 0.045 0.   ]\n",
      " [0.309 0.004 0.136 0.476 0.    0.008 0.031 0.    0.036 0.   ]\n",
      " [0.299 0.001 0.128 0.499 0.    0.013 0.023 0.    0.037 0.   ]\n",
      " [0.227 0.003 0.153 0.563 0.    0.011 0.016 0.001 0.026 0.   ]\n",
      " [0.304 0.003 0.15  0.462 0.    0.008 0.032 0.001 0.04  0.   ]\n",
      " [0.147 0.002 0.112 0.67  0.    0.01  0.031 0.    0.028 0.   ]\n",
      " [0.211 0.004 0.138 0.564 0.    0.015 0.029 0.001 0.038 0.   ]\n",
      " [0.51  0.004 0.115 0.278 0.    0.01  0.025 0.    0.058 0.   ]\n",
      " [0.319 0.005 0.115 0.469 0.    0.014 0.035 0.003 0.04  0.   ]]\n",
      "[2022-12-25 19:00:23,176 INFO] evaluation metric\n",
      "[2022-12-25 19:00:23,176 INFO] acc: 0.1304\n",
      "[2022-12-25 19:00:23,177 INFO] precision: 0.1008\n",
      "[2022-12-25 19:00:23,177 INFO] recall: 0.1304\n",
      "[2022-12-25 19:00:23,177 INFO] f1: 0.0722\n"
     ]
    },
    {
     "name": "stdout",
     "output_type": "stream",
     "text": [
      "model saved: ./saved_models/classic_cv/remixmatch_cifar10_40_0/latest_model.pth\n",
      "Epoch: 7\n"
     ]
    },
    {
     "name": "stderr",
     "output_type": "stream",
     "text": [
      "/usr/local/lib/python3.8/dist-packages/sklearn/metrics/_classification.py:1318: UndefinedMetricWarning: Precision is ill-defined and being set to 0.0 in labels with no predicted samples. Use `zero_division` parameter to control this behavior.\n",
      "  _warn_prf(average, modifier, msg_start, len(result))\n",
      "[2022-12-25 19:19:48,321 INFO] confusion matrix\n",
      "[2022-12-25 19:19:48,321 INFO] [[0.438 0.091 0.032 0.042 0.001 0.    0.242 0.    0.145 0.009]\n",
      " [0.224 0.137 0.058 0.044 0.    0.    0.317 0.    0.21  0.01 ]\n",
      " [0.19  0.141 0.046 0.043 0.    0.    0.348 0.    0.225 0.007]\n",
      " [0.187 0.144 0.079 0.031 0.    0.    0.289 0.    0.268 0.002]\n",
      " [0.146 0.173 0.058 0.036 0.    0.    0.372 0.    0.203 0.012]\n",
      " [0.179 0.15  0.077 0.042 0.    0.    0.283 0.    0.262 0.007]\n",
      " [0.075 0.197 0.035 0.035 0.    0.    0.463 0.    0.188 0.007]\n",
      " [0.132 0.142 0.057 0.038 0.    0.    0.378 0.    0.248 0.005]\n",
      " [0.362 0.106 0.042 0.041 0.    0.    0.233 0.    0.208 0.008]\n",
      " [0.177 0.148 0.041 0.052 0.    0.    0.329 0.    0.248 0.005]]\n",
      "[2022-12-25 19:19:48,323 INFO] evaluation metric\n",
      "[2022-12-25 19:19:48,323 INFO] acc: 0.1328\n",
      "[2022-12-25 19:19:48,323 INFO] precision: 0.0774\n",
      "[2022-12-25 19:19:48,324 INFO] recall: 0.1328\n",
      "[2022-12-25 19:19:48,324 INFO] f1: 0.0856\n"
     ]
    },
    {
     "name": "stdout",
     "output_type": "stream",
     "text": [
      "model saved: ./saved_models/classic_cv/remixmatch_cifar10_40_0/latest_model.pth\n",
      "model saved: ./saved_models/classic_cv/remixmatch_cifar10_40_0/model_best.pth\n",
      "Epoch: 8\n"
     ]
    },
    {
     "name": "stderr",
     "output_type": "stream",
     "text": [
      "/usr/local/lib/python3.8/dist-packages/sklearn/metrics/_classification.py:1318: UndefinedMetricWarning: Precision is ill-defined and being set to 0.0 in labels with no predicted samples. Use `zero_division` parameter to control this behavior.\n",
      "  _warn_prf(average, modifier, msg_start, len(result))\n",
      "[2022-12-25 19:39:13,999 INFO] confusion matrix\n",
      "[2022-12-25 19:39:14,000 INFO] [[0.407 0.003 0.123 0.044 0.008 0.    0.21  0.055 0.023 0.127]\n",
      " [0.156 0.007 0.094 0.109 0.011 0.    0.364 0.085 0.024 0.15 ]\n",
      " [0.146 0.005 0.15  0.107 0.009 0.    0.401 0.085 0.012 0.085]\n",
      " [0.127 0.004 0.165 0.143 0.018 0.    0.315 0.142 0.013 0.073]\n",
      " [0.109 0.006 0.161 0.137 0.013 0.    0.405 0.102 0.01  0.057]\n",
      " [0.128 0.007 0.169 0.156 0.012 0.    0.314 0.127 0.018 0.069]\n",
      " [0.038 0.003 0.07  0.147 0.015 0.    0.581 0.091 0.01  0.045]\n",
      " [0.084 0.002 0.153 0.16  0.024 0.    0.376 0.124 0.015 0.062]\n",
      " [0.3   0.012 0.13  0.069 0.017 0.    0.251 0.069 0.027 0.125]\n",
      " [0.128 0.    0.107 0.108 0.019 0.    0.396 0.108 0.019 0.115]]\n",
      "[2022-12-25 19:39:14,001 INFO] evaluation metric\n",
      "[2022-12-25 19:39:14,001 INFO] acc: 0.1567\n",
      "[2022-12-25 19:39:14,002 INFO] precision: 0.1288\n",
      "[2022-12-25 19:39:14,002 INFO] recall: 0.1567\n",
      "[2022-12-25 19:39:14,002 INFO] f1: 0.1150\n"
     ]
    },
    {
     "name": "stdout",
     "output_type": "stream",
     "text": [
      "model saved: ./saved_models/classic_cv/remixmatch_cifar10_40_0/latest_model.pth\n",
      "model saved: ./saved_models/classic_cv/remixmatch_cifar10_40_0/model_best.pth\n",
      "Epoch: 9\n"
     ]
    },
    {
     "name": "stderr",
     "output_type": "stream",
     "text": [
      "/usr/local/lib/python3.8/dist-packages/sklearn/metrics/_classification.py:1318: UndefinedMetricWarning: Precision is ill-defined and being set to 0.0 in labels with no predicted samples. Use `zero_division` parameter to control this behavior.\n",
      "  _warn_prf(average, modifier, msg_start, len(result))\n",
      "[2022-12-25 19:58:39,865 INFO] confusion matrix\n",
      "[2022-12-25 19:58:39,866 INFO] [[0.461 0.    0.033 0.009 0.011 0.029 0.194 0.003 0.1   0.16 ]\n",
      " [0.236 0.    0.032 0.023 0.025 0.037 0.262 0.008 0.155 0.222]\n",
      " [0.234 0.    0.058 0.029 0.033 0.05  0.338 0.003 0.105 0.15 ]\n",
      " [0.242 0.    0.09  0.032 0.052 0.071 0.262 0.005 0.104 0.142]\n",
      " [0.184 0.    0.076 0.032 0.044 0.038 0.387 0.003 0.088 0.148]\n",
      " [0.258 0.    0.094 0.026 0.05  0.049 0.273 0.003 0.085 0.162]\n",
      " [0.068 0.    0.043 0.031 0.041 0.04  0.547 0.006 0.068 0.156]\n",
      " [0.151 0.    0.073 0.026 0.038 0.06  0.346 0.008 0.107 0.191]\n",
      " [0.403 0.    0.038 0.019 0.011 0.031 0.186 0.003 0.125 0.184]\n",
      " [0.191 0.    0.037 0.023 0.027 0.036 0.281 0.004 0.152 0.249]]\n",
      "[2022-12-25 19:58:39,867 INFO] evaluation metric\n",
      "[2022-12-25 19:58:39,868 INFO] acc: 0.1573\n",
      "[2022-12-25 19:58:39,868 INFO] precision: 0.1270\n",
      "[2022-12-25 19:58:39,868 INFO] recall: 0.1573\n",
      "[2022-12-25 19:58:39,869 INFO] f1: 0.1111\n",
      "[2022-12-25 19:58:40,256 INFO] Best acc 0.1573 at epoch 9\n"
     ]
    },
    {
     "name": "stdout",
     "output_type": "stream",
     "text": [
      "model saved: ./saved_models/classic_cv/remixmatch_cifar10_40_0/latest_model.pth\n",
      "model saved: ./saved_models/classic_cv/remixmatch_cifar10_40_0/model_best.pth\n"
     ]
    },
    {
     "name": "stderr",
     "output_type": "stream",
     "text": [
      "[2022-12-25 19:58:40,258 INFO] Training finished.\n",
      "/usr/local/lib/python3.8/dist-packages/sklearn/metrics/_classification.py:1318: UndefinedMetricWarning: Precision is ill-defined and being set to 0.0 in labels with no predicted samples. Use `zero_division` parameter to control this behavior.\n",
      "  _warn_prf(average, modifier, msg_start, len(result))\n",
      "[2022-12-25 20:06:49,224 INFO] confusion matrix\n",
      "[2022-12-25 20:06:49,224 INFO] [[0.461 0.    0.033 0.009 0.011 0.029 0.194 0.003 0.1   0.16 ]\n",
      " [0.236 0.    0.032 0.023 0.025 0.037 0.262 0.008 0.155 0.222]\n",
      " [0.234 0.    0.058 0.029 0.033 0.05  0.338 0.003 0.105 0.15 ]\n",
      " [0.242 0.    0.09  0.032 0.052 0.071 0.262 0.005 0.104 0.142]\n",
      " [0.184 0.    0.076 0.032 0.044 0.038 0.387 0.003 0.088 0.148]\n",
      " [0.258 0.    0.094 0.026 0.05  0.049 0.273 0.003 0.085 0.162]\n",
      " [0.068 0.    0.043 0.031 0.041 0.04  0.547 0.006 0.068 0.156]\n",
      " [0.151 0.    0.073 0.026 0.038 0.06  0.346 0.008 0.107 0.191]\n",
      " [0.403 0.    0.038 0.019 0.011 0.031 0.186 0.003 0.125 0.184]\n",
      " [0.191 0.    0.037 0.023 0.027 0.036 0.281 0.004 0.152 0.249]]\n",
      "[2022-12-25 20:06:49,226 INFO] evaluation metric\n",
      "[2022-12-25 20:06:49,226 INFO] acc: 0.1573\n",
      "[2022-12-25 20:06:49,226 INFO] precision: 0.1270\n",
      "[2022-12-25 20:06:49,227 INFO] recall: 0.1573\n",
      "[2022-12-25 20:06:49,227 INFO] f1: 0.1111\n",
      "/bin/sh: 1: netstat: not found\n"
     ]
    },
    {
     "name": "stdout",
     "output_type": "stream",
     "text": [
      "Files already downloaded and verified\n",
      "lb count: [4, 4, 4, 4, 4, 4, 4, 4, 4, 4]\n",
      "ulb count: [5000, 5000, 5000, 5000, 5000, 5000, 5000, 5000, 5000, 5000]\n",
      "Files already downloaded and verified\n"
     ]
    },
    {
     "name": "stderr",
     "output_type": "stream",
     "text": [
      "/bin/sh: 1: netstat: not found\n"
     ]
    },
    {
     "name": "stdout",
     "output_type": "stream",
     "text": [
      "Files already downloaded and verified\n",
      "lb count: [4, 4, 4, 4, 4, 4, 4, 4, 4, 4]\n",
      "ulb count: [5000, 5000, 5000, 5000, 5000, 5000, 5000, 5000, 5000, 5000]\n",
      "Files already downloaded and verified\n",
      "unlabeled data number: 50000, labeled data number 40\n",
      "Create train and test data loaders\n",
      "[!] data loader keys: dict_keys(['train_lb', 'train_ulb', 'eval'])\n",
      "_IncompatibleKeys(missing_keys=['head.weight', 'head.bias'], unexpected_keys=[])\n",
      "Create optimizer and scheduler\n",
      "Epoch: 0\n"
     ]
    },
    {
     "name": "stderr",
     "output_type": "stream",
     "text": [
      "/root/Semi-supervised-learning/semilearn/nets/vit/vit.py:36: SyntaxWarning: assertion is always true, perhaps remove parentheses?\n",
      "  assert(H == self.img_size[0], f\"Input image height ({H}) doesn't match model ({self.img_size[0]}).\")\n",
      "/root/Semi-supervised-learning/semilearn/nets/vit/vit.py:37: SyntaxWarning: assertion is always true, perhaps remove parentheses?\n",
      "  assert(W == self.img_size[1], f\"Input image width ({W}) doesn't match model ({self.img_size[1]}).\")\n",
      "/root/Semi-supervised-learning/semilearn/nets/vit/vit.py:36: SyntaxWarning: assertion is always true, perhaps remove parentheses?\n",
      "  assert(H == self.img_size[0], f\"Input image height ({H}) doesn't match model ({self.img_size[0]}).\")\n",
      "/root/Semi-supervised-learning/semilearn/nets/vit/vit.py:37: SyntaxWarning: assertion is always true, perhaps remove parentheses?\n",
      "  assert(W == self.img_size[1], f\"Input image width ({W}) doesn't match model ({self.img_size[1]}).\")\n"
     ]
    },
    {
     "ename": "RuntimeError",
     "evalue": "CUDA out of memory. Tried to allocate 182.00 MiB (GPU 0; 10.75 GiB total capacity; 9.19 GiB already allocated; 168.12 MiB free; 9.33 GiB reserved in total by PyTorch) If reserved memory is >> allocated memory try setting max_split_size_mb to avoid fragmentation.  See documentation for Memory Management and PYTORCH_CUDA_ALLOC_CONF",
     "output_type": "error",
     "traceback": [
      "\u001b[0;31m---------------------------------------------------------------------------\u001b[0m",
      "\u001b[0;31mRuntimeError\u001b[0m                              Traceback (most recent call last)",
      "\u001b[1;32m/root/Semi-supervised-learning/tutorial.ipynb Cell 9\u001b[0m in \u001b[0;36m<cell line: 5>\u001b[0;34m()\u001b[0m\n\u001b[1;32m      <a href='vscode-notebook-cell://attached-container%2B7b22636f6e7461696e65724e616d65223a222f73736c222c2273657474696e6773223a7b22686f7374223a227373683a2f2f3136332e3135322e3138352e313737227d7d/root/Semi-supervised-learning/tutorial.ipynb#X24sdnNjb2RlLXJlbW90ZQ%3D%3D?line=5'>6</a>\u001b[0m \u001b[39mfor\u001b[39;00m num_labels \u001b[39min\u001b[39;00m num_labels_list:\n\u001b[1;32m      <a href='vscode-notebook-cell://attached-container%2B7b22636f6e7461696e65724e616d65223a222f73736c222c2273657474696e6773223a7b22686f7374223a227373683a2f2f3136332e3135322e3138352e313737227d7d/root/Semi-supervised-learning/tutorial.ipynb#X24sdnNjb2RlLXJlbW90ZQ%3D%3D?line=6'>7</a>\u001b[0m     train_lb_loader, train_ulb_loader, eval_loader \u001b[39m=\u001b[39m dataloader(algorithm, num_labels)\n\u001b[0;32m----> <a href='vscode-notebook-cell://attached-container%2B7b22636f6e7461696e65724e616d65223a222f73736c222c2273657474696e6773223a7b22686f7374223a227373683a2f2f3136332e3135322e3138352e313737227d7d/root/Semi-supervised-learning/tutorial.ipynb#X24sdnNjb2RlLXJlbW90ZQ%3D%3D?line=7'>8</a>\u001b[0m     trainer \u001b[39m=\u001b[39m train(algorithm, num_labels, train_lb_loader, train_ulb_loader, eval_loader, epochs)\n\u001b[1;32m      <a href='vscode-notebook-cell://attached-container%2B7b22636f6e7461696e65724e616d65223a222f73736c222c2273657474696e6773223a7b22686f7374223a227373683a2f2f3136332e3135322e3138352e313737227d7d/root/Semi-supervised-learning/tutorial.ipynb#X24sdnNjb2RlLXJlbW90ZQ%3D%3D?line=8'>9</a>\u001b[0m     \u001b[39mglobals\u001b[39m()[\u001b[39m\"\u001b[39m\u001b[39meval_dict_\u001b[39m\u001b[39m{}\u001b[39;00m\u001b[39m_\u001b[39m\u001b[39m{}\u001b[39;00m\u001b[39m\"\u001b[39m\u001b[39m.\u001b[39mformat(algorithm, num_labels)] \u001b[39m=\u001b[39m trainer\u001b[39m.\u001b[39mevaluate(eval_loader)\n\u001b[1;32m     <a href='vscode-notebook-cell://attached-container%2B7b22636f6e7461696e65724e616d65223a222f73736c222c2273657474696e6773223a7b22686f7374223a227373683a2f2f3136332e3135322e3138352e313737227d7d/root/Semi-supervised-learning/tutorial.ipynb#X24sdnNjb2RlLXJlbW90ZQ%3D%3D?line=9'>10</a>\u001b[0m     \u001b[39mglobals\u001b[39m()[\u001b[39m\"\u001b[39m\u001b[39my_pred_\u001b[39m\u001b[39m{}\u001b[39;00m\u001b[39m_\u001b[39m\u001b[39m{}\u001b[39;00m\u001b[39m\"\u001b[39m\u001b[39m.\u001b[39mformat(algorithm, num_labels)], \u001b[39mglobals\u001b[39m()[\u001b[39m\"\u001b[39m\u001b[39my_logit_\u001b[39m\u001b[39m{}\u001b[39;00m\u001b[39m_\u001b[39m\u001b[39m{}\u001b[39;00m\u001b[39m\"\u001b[39m\u001b[39m.\u001b[39mformat(algorithm, num_labels)]\u001b[39m=\u001b[39m trainer\u001b[39m.\u001b[39mpredict(eval_loader)\n",
      "\u001b[1;32m/root/Semi-supervised-learning/tutorial.ipynb Cell 9\u001b[0m in \u001b[0;36mtrain\u001b[0;34m(algorithm, num_labels, train_lb_loader, train_ulb_loader, eval_loader, epochs)\u001b[0m\n\u001b[1;32m     <a href='vscode-notebook-cell://attached-container%2B7b22636f6e7461696e65724e616d65223a222f73736c222c2273657474696e6773223a7b22686f7374223a227373683a2f2f3136332e3135322e3138352e313737227d7d/root/Semi-supervised-learning/tutorial.ipynb#X24sdnNjb2RlLXJlbW90ZQ%3D%3D?line=11'>12</a>\u001b[0m algorithm \u001b[39m=\u001b[39m get_algorithm(config,  get_net_builder(config\u001b[39m.\u001b[39mnet, from_name\u001b[39m=\u001b[39m\u001b[39mFalse\u001b[39;00m), tb_log\u001b[39m=\u001b[39m\u001b[39mNone\u001b[39;00m, logger\u001b[39m=\u001b[39m\u001b[39mNone\u001b[39;00m)\n\u001b[1;32m     <a href='vscode-notebook-cell://attached-container%2B7b22636f6e7461696e65724e616d65223a222f73736c222c2273657474696e6773223a7b22686f7374223a227373683a2f2f3136332e3135322e3138352e313737227d7d/root/Semi-supervised-learning/tutorial.ipynb#X24sdnNjb2RlLXJlbW90ZQ%3D%3D?line=13'>14</a>\u001b[0m trainer \u001b[39m=\u001b[39m Trainer(config, algorithm)\n\u001b[0;32m---> <a href='vscode-notebook-cell://attached-container%2B7b22636f6e7461696e65724e616d65223a222f73736c222c2273657474696e6773223a7b22686f7374223a227373683a2f2f3136332e3135322e3138352e313737227d7d/root/Semi-supervised-learning/tutorial.ipynb#X24sdnNjb2RlLXJlbW90ZQ%3D%3D?line=14'>15</a>\u001b[0m trainer\u001b[39m.\u001b[39;49mfit(train_lb_loader, train_ulb_loader, eval_loader)\n\u001b[1;32m     <a href='vscode-notebook-cell://attached-container%2B7b22636f6e7461696e65724e616d65223a222f73736c222c2273657474696e6773223a7b22686f7374223a227373683a2f2f3136332e3135322e3138352e313737227d7d/root/Semi-supervised-learning/tutorial.ipynb#X24sdnNjb2RlLXJlbW90ZQ%3D%3D?line=16'>17</a>\u001b[0m \u001b[39mreturn\u001b[39;00m trainer\n",
      "File \u001b[0;32m~/Semi-supervised-learning/semilearn/lighting/trainer.py:56\u001b[0m, in \u001b[0;36mTrainer.fit\u001b[0;34m(self, train_lb_loader, train_ulb_loader, eval_loader)\u001b[0m\n\u001b[1;32m     53\u001b[0m \u001b[39mif\u001b[39;00m it \u001b[39m>\u001b[39m \u001b[39mself\u001b[39m\u001b[39m.\u001b[39mconfig\u001b[39m.\u001b[39mnum_train_iter:\n\u001b[1;32m     54\u001b[0m     \u001b[39mbreak\u001b[39;00m\n\u001b[0;32m---> 56\u001b[0m result \u001b[39m=\u001b[39m \u001b[39mself\u001b[39;49m\u001b[39m.\u001b[39;49malgorithm\u001b[39m.\u001b[39;49mtrain_step(\u001b[39m*\u001b[39;49m\u001b[39m*\u001b[39;49m\u001b[39mself\u001b[39;49m\u001b[39m.\u001b[39;49malgorithm\u001b[39m.\u001b[39;49mprocess_batch(\u001b[39m*\u001b[39;49m\u001b[39m*\u001b[39;49mdata_lb, \u001b[39m*\u001b[39;49m\u001b[39m*\u001b[39;49mdata_ulb))\n\u001b[1;32m     58\u001b[0m bar\u001b[39m.\u001b[39msuffix \u001b[39m=\u001b[39m (\u001b[39m\"\u001b[39m\u001b[39mIter: \u001b[39m\u001b[39m{batch:4}\u001b[39;00m\u001b[39m/\u001b[39m\u001b[39m{iter:4}\u001b[39;00m\u001b[39m.\u001b[39m\u001b[39m\"\u001b[39m\u001b[39m.\u001b[39mformat(batch\u001b[39m=\u001b[39mit, \u001b[39miter\u001b[39m\u001b[39m=\u001b[39m\u001b[39mlen\u001b[39m(train_lb_loader)))\n\u001b[1;32m     59\u001b[0m bar\u001b[39m.\u001b[39mnext()\n",
      "File \u001b[0;32m~/Semi-supervised-learning/semilearn/algorithms/fixmatch/fixmatch.py:54\u001b[0m, in \u001b[0;36mFixMatch.train_step\u001b[0;34m(self, x_lb, y_lb, x_ulb_w, x_ulb_s)\u001b[0m\n\u001b[1;32m     52\u001b[0m \u001b[39mif\u001b[39;00m \u001b[39mself\u001b[39m\u001b[39m.\u001b[39muse_cat:\n\u001b[1;32m     53\u001b[0m     inputs \u001b[39m=\u001b[39m torch\u001b[39m.\u001b[39mcat((x_lb, x_ulb_w, x_ulb_s))\n\u001b[0;32m---> 54\u001b[0m     outputs \u001b[39m=\u001b[39m \u001b[39mself\u001b[39;49m\u001b[39m.\u001b[39;49mmodel(inputs)\n\u001b[1;32m     55\u001b[0m     logits_x_lb \u001b[39m=\u001b[39m outputs[\u001b[39m'\u001b[39m\u001b[39mlogits\u001b[39m\u001b[39m'\u001b[39m][:num_lb]\n\u001b[1;32m     56\u001b[0m     logits_x_ulb_w, logits_x_ulb_s \u001b[39m=\u001b[39m outputs[\u001b[39m'\u001b[39m\u001b[39mlogits\u001b[39m\u001b[39m'\u001b[39m][num_lb:]\u001b[39m.\u001b[39mchunk(\u001b[39m2\u001b[39m)\n",
      "File \u001b[0;32m/usr/local/lib/python3.8/dist-packages/torch/nn/modules/module.py:1130\u001b[0m, in \u001b[0;36mModule._call_impl\u001b[0;34m(self, *input, **kwargs)\u001b[0m\n\u001b[1;32m   1126\u001b[0m \u001b[39m# If we don't have any hooks, we want to skip the rest of the logic in\u001b[39;00m\n\u001b[1;32m   1127\u001b[0m \u001b[39m# this function, and just call forward.\u001b[39;00m\n\u001b[1;32m   1128\u001b[0m \u001b[39mif\u001b[39;00m \u001b[39mnot\u001b[39;00m (\u001b[39mself\u001b[39m\u001b[39m.\u001b[39m_backward_hooks \u001b[39mor\u001b[39;00m \u001b[39mself\u001b[39m\u001b[39m.\u001b[39m_forward_hooks \u001b[39mor\u001b[39;00m \u001b[39mself\u001b[39m\u001b[39m.\u001b[39m_forward_pre_hooks \u001b[39mor\u001b[39;00m _global_backward_hooks\n\u001b[1;32m   1129\u001b[0m         \u001b[39mor\u001b[39;00m _global_forward_hooks \u001b[39mor\u001b[39;00m _global_forward_pre_hooks):\n\u001b[0;32m-> 1130\u001b[0m     \u001b[39mreturn\u001b[39;00m forward_call(\u001b[39m*\u001b[39;49m\u001b[39minput\u001b[39;49m, \u001b[39m*\u001b[39;49m\u001b[39m*\u001b[39;49mkwargs)\n\u001b[1;32m   1131\u001b[0m \u001b[39m# Do not call functions when jit is used\u001b[39;00m\n\u001b[1;32m   1132\u001b[0m full_backward_hooks, non_full_backward_hooks \u001b[39m=\u001b[39m [], []\n",
      "File \u001b[0;32m~/Semi-supervised-learning/semilearn/nets/vit/vit.py:220\u001b[0m, in \u001b[0;36mVisionTransformer.forward\u001b[0;34m(self, x, only_fc, only_feat, **kwargs)\u001b[0m\n\u001b[1;32m    217\u001b[0m \u001b[39mif\u001b[39;00m only_fc:\n\u001b[1;32m    218\u001b[0m     \u001b[39mreturn\u001b[39;00m \u001b[39mself\u001b[39m\u001b[39m.\u001b[39mhead(x)\n\u001b[0;32m--> 220\u001b[0m x \u001b[39m=\u001b[39m \u001b[39mself\u001b[39;49m\u001b[39m.\u001b[39;49mextract(x)\n\u001b[1;32m    221\u001b[0m \u001b[39mif\u001b[39;00m \u001b[39mself\u001b[39m\u001b[39m.\u001b[39mglobal_pool:\n\u001b[1;32m    222\u001b[0m     x \u001b[39m=\u001b[39m x[:, \u001b[39m1\u001b[39m:]\u001b[39m.\u001b[39mmean(dim\u001b[39m=\u001b[39m\u001b[39m1\u001b[39m) \u001b[39mif\u001b[39;00m \u001b[39mself\u001b[39m\u001b[39m.\u001b[39mglobal_pool \u001b[39m==\u001b[39m \u001b[39m'\u001b[39m\u001b[39mavg\u001b[39m\u001b[39m'\u001b[39m \u001b[39melse\u001b[39;00m x[:, \u001b[39m0\u001b[39m]\n",
      "File \u001b[0;32m~/Semi-supervised-learning/semilearn/nets/vit/vit.py:204\u001b[0m, in \u001b[0;36mVisionTransformer.extract\u001b[0;34m(self, x)\u001b[0m\n\u001b[1;32m    202\u001b[0m x \u001b[39m=\u001b[39m torch\u001b[39m.\u001b[39mcat((\u001b[39mself\u001b[39m\u001b[39m.\u001b[39mcls_token\u001b[39m.\u001b[39mexpand(x\u001b[39m.\u001b[39mshape[\u001b[39m0\u001b[39m], \u001b[39m-\u001b[39m\u001b[39m1\u001b[39m, \u001b[39m-\u001b[39m\u001b[39m1\u001b[39m), x), dim\u001b[39m=\u001b[39m\u001b[39m1\u001b[39m)\n\u001b[1;32m    203\u001b[0m x \u001b[39m=\u001b[39m \u001b[39mself\u001b[39m\u001b[39m.\u001b[39mpos_drop(x \u001b[39m+\u001b[39m \u001b[39mself\u001b[39m\u001b[39m.\u001b[39mpos_embed)\n\u001b[0;32m--> 204\u001b[0m x \u001b[39m=\u001b[39m \u001b[39mself\u001b[39;49m\u001b[39m.\u001b[39;49mblocks(x)\n\u001b[1;32m    205\u001b[0m x \u001b[39m=\u001b[39m \u001b[39mself\u001b[39m\u001b[39m.\u001b[39mnorm(x)\n\u001b[1;32m    206\u001b[0m \u001b[39mreturn\u001b[39;00m x\n",
      "File \u001b[0;32m/usr/local/lib/python3.8/dist-packages/torch/nn/modules/module.py:1130\u001b[0m, in \u001b[0;36mModule._call_impl\u001b[0;34m(self, *input, **kwargs)\u001b[0m\n\u001b[1;32m   1126\u001b[0m \u001b[39m# If we don't have any hooks, we want to skip the rest of the logic in\u001b[39;00m\n\u001b[1;32m   1127\u001b[0m \u001b[39m# this function, and just call forward.\u001b[39;00m\n\u001b[1;32m   1128\u001b[0m \u001b[39mif\u001b[39;00m \u001b[39mnot\u001b[39;00m (\u001b[39mself\u001b[39m\u001b[39m.\u001b[39m_backward_hooks \u001b[39mor\u001b[39;00m \u001b[39mself\u001b[39m\u001b[39m.\u001b[39m_forward_hooks \u001b[39mor\u001b[39;00m \u001b[39mself\u001b[39m\u001b[39m.\u001b[39m_forward_pre_hooks \u001b[39mor\u001b[39;00m _global_backward_hooks\n\u001b[1;32m   1129\u001b[0m         \u001b[39mor\u001b[39;00m _global_forward_hooks \u001b[39mor\u001b[39;00m _global_forward_pre_hooks):\n\u001b[0;32m-> 1130\u001b[0m     \u001b[39mreturn\u001b[39;00m forward_call(\u001b[39m*\u001b[39;49m\u001b[39minput\u001b[39;49m, \u001b[39m*\u001b[39;49m\u001b[39m*\u001b[39;49mkwargs)\n\u001b[1;32m   1131\u001b[0m \u001b[39m# Do not call functions when jit is used\u001b[39;00m\n\u001b[1;32m   1132\u001b[0m full_backward_hooks, non_full_backward_hooks \u001b[39m=\u001b[39m [], []\n",
      "File \u001b[0;32m/usr/local/lib/python3.8/dist-packages/torch/nn/modules/container.py:139\u001b[0m, in \u001b[0;36mSequential.forward\u001b[0;34m(self, input)\u001b[0m\n\u001b[1;32m    137\u001b[0m \u001b[39mdef\u001b[39;00m \u001b[39mforward\u001b[39m(\u001b[39mself\u001b[39m, \u001b[39minput\u001b[39m):\n\u001b[1;32m    138\u001b[0m     \u001b[39mfor\u001b[39;00m module \u001b[39min\u001b[39;00m \u001b[39mself\u001b[39m:\n\u001b[0;32m--> 139\u001b[0m         \u001b[39minput\u001b[39m \u001b[39m=\u001b[39m module(\u001b[39minput\u001b[39;49m)\n\u001b[1;32m    140\u001b[0m     \u001b[39mreturn\u001b[39;00m \u001b[39minput\u001b[39m\n",
      "File \u001b[0;32m/usr/local/lib/python3.8/dist-packages/torch/nn/modules/module.py:1130\u001b[0m, in \u001b[0;36mModule._call_impl\u001b[0;34m(self, *input, **kwargs)\u001b[0m\n\u001b[1;32m   1126\u001b[0m \u001b[39m# If we don't have any hooks, we want to skip the rest of the logic in\u001b[39;00m\n\u001b[1;32m   1127\u001b[0m \u001b[39m# this function, and just call forward.\u001b[39;00m\n\u001b[1;32m   1128\u001b[0m \u001b[39mif\u001b[39;00m \u001b[39mnot\u001b[39;00m (\u001b[39mself\u001b[39m\u001b[39m.\u001b[39m_backward_hooks \u001b[39mor\u001b[39;00m \u001b[39mself\u001b[39m\u001b[39m.\u001b[39m_forward_hooks \u001b[39mor\u001b[39;00m \u001b[39mself\u001b[39m\u001b[39m.\u001b[39m_forward_pre_hooks \u001b[39mor\u001b[39;00m _global_backward_hooks\n\u001b[1;32m   1129\u001b[0m         \u001b[39mor\u001b[39;00m _global_forward_hooks \u001b[39mor\u001b[39;00m _global_forward_pre_hooks):\n\u001b[0;32m-> 1130\u001b[0m     \u001b[39mreturn\u001b[39;00m forward_call(\u001b[39m*\u001b[39;49m\u001b[39minput\u001b[39;49m, \u001b[39m*\u001b[39;49m\u001b[39m*\u001b[39;49mkwargs)\n\u001b[1;32m   1131\u001b[0m \u001b[39m# Do not call functions when jit is used\u001b[39;00m\n\u001b[1;32m   1132\u001b[0m full_backward_hooks, non_full_backward_hooks \u001b[39m=\u001b[39m [], []\n",
      "File \u001b[0;32m~/Semi-supervised-learning/semilearn/nets/vit/vit.py:126\u001b[0m, in \u001b[0;36mBlock.forward\u001b[0;34m(self, x)\u001b[0m\n\u001b[1;32m    125\u001b[0m \u001b[39mdef\u001b[39;00m \u001b[39mforward\u001b[39m(\u001b[39mself\u001b[39m, x):\n\u001b[0;32m--> 126\u001b[0m     x \u001b[39m=\u001b[39m x \u001b[39m+\u001b[39m \u001b[39mself\u001b[39m\u001b[39m.\u001b[39mdrop_path1(\u001b[39mself\u001b[39m\u001b[39m.\u001b[39mls1(\u001b[39mself\u001b[39;49m\u001b[39m.\u001b[39;49mattn(\u001b[39mself\u001b[39;49m\u001b[39m.\u001b[39;49mnorm1(x))))\n\u001b[1;32m    127\u001b[0m     x \u001b[39m=\u001b[39m x \u001b[39m+\u001b[39m \u001b[39mself\u001b[39m\u001b[39m.\u001b[39mdrop_path2(\u001b[39mself\u001b[39m\u001b[39m.\u001b[39mls2(\u001b[39mself\u001b[39m\u001b[39m.\u001b[39mmlp(\u001b[39mself\u001b[39m\u001b[39m.\u001b[39mnorm2(x))))\n\u001b[1;32m    128\u001b[0m     \u001b[39mreturn\u001b[39;00m x\n",
      "File \u001b[0;32m/usr/local/lib/python3.8/dist-packages/torch/nn/modules/module.py:1130\u001b[0m, in \u001b[0;36mModule._call_impl\u001b[0;34m(self, *input, **kwargs)\u001b[0m\n\u001b[1;32m   1126\u001b[0m \u001b[39m# If we don't have any hooks, we want to skip the rest of the logic in\u001b[39;00m\n\u001b[1;32m   1127\u001b[0m \u001b[39m# this function, and just call forward.\u001b[39;00m\n\u001b[1;32m   1128\u001b[0m \u001b[39mif\u001b[39;00m \u001b[39mnot\u001b[39;00m (\u001b[39mself\u001b[39m\u001b[39m.\u001b[39m_backward_hooks \u001b[39mor\u001b[39;00m \u001b[39mself\u001b[39m\u001b[39m.\u001b[39m_forward_hooks \u001b[39mor\u001b[39;00m \u001b[39mself\u001b[39m\u001b[39m.\u001b[39m_forward_pre_hooks \u001b[39mor\u001b[39;00m _global_backward_hooks\n\u001b[1;32m   1129\u001b[0m         \u001b[39mor\u001b[39;00m _global_forward_hooks \u001b[39mor\u001b[39;00m _global_forward_pre_hooks):\n\u001b[0;32m-> 1130\u001b[0m     \u001b[39mreturn\u001b[39;00m forward_call(\u001b[39m*\u001b[39;49m\u001b[39minput\u001b[39;49m, \u001b[39m*\u001b[39;49m\u001b[39m*\u001b[39;49mkwargs)\n\u001b[1;32m   1131\u001b[0m \u001b[39m# Do not call functions when jit is used\u001b[39;00m\n\u001b[1;32m   1132\u001b[0m full_backward_hooks, non_full_backward_hooks \u001b[39m=\u001b[39m [], []\n",
      "File \u001b[0;32m~/Semi-supervised-learning/semilearn/nets/vit/vit.py:87\u001b[0m, in \u001b[0;36mAttention.forward\u001b[0;34m(self, x)\u001b[0m\n\u001b[1;32m     84\u001b[0m qkv \u001b[39m=\u001b[39m \u001b[39mself\u001b[39m\u001b[39m.\u001b[39mqkv(x)\u001b[39m.\u001b[39mreshape(B, N, \u001b[39m3\u001b[39m, \u001b[39mself\u001b[39m\u001b[39m.\u001b[39mnum_heads, C \u001b[39m/\u001b[39m\u001b[39m/\u001b[39m \u001b[39mself\u001b[39m\u001b[39m.\u001b[39mnum_heads)\u001b[39m.\u001b[39mpermute(\u001b[39m2\u001b[39m, \u001b[39m0\u001b[39m, \u001b[39m3\u001b[39m, \u001b[39m1\u001b[39m, \u001b[39m4\u001b[39m)\n\u001b[1;32m     85\u001b[0m q, k, v \u001b[39m=\u001b[39m qkv\u001b[39m.\u001b[39munbind(\u001b[39m0\u001b[39m)   \u001b[39m# make torchscript happy (cannot use tensor as tuple)\u001b[39;00m\n\u001b[0;32m---> 87\u001b[0m attn \u001b[39m=\u001b[39m (q \u001b[39m@\u001b[39;49m k\u001b[39m.\u001b[39;49mtranspose(\u001b[39m-\u001b[39;49m\u001b[39m2\u001b[39;49m, \u001b[39m-\u001b[39;49m\u001b[39m1\u001b[39;49m)) \u001b[39m*\u001b[39;49m \u001b[39mself\u001b[39;49m\u001b[39m.\u001b[39;49mscale\n\u001b[1;32m     88\u001b[0m attn \u001b[39m=\u001b[39m attn\u001b[39m.\u001b[39msoftmax(dim\u001b[39m=\u001b[39m\u001b[39m-\u001b[39m\u001b[39m1\u001b[39m)\n\u001b[1;32m     89\u001b[0m attn \u001b[39m=\u001b[39m \u001b[39mself\u001b[39m\u001b[39m.\u001b[39mattn_drop(attn)\n",
      "\u001b[0;31mRuntimeError\u001b[0m: CUDA out of memory. Tried to allocate 182.00 MiB (GPU 0; 10.75 GiB total capacity; 9.19 GiB already allocated; 168.12 MiB free; 9.33 GiB reserved in total by PyTorch) If reserved memory is >> allocated memory try setting max_split_size_mb to avoid fragmentation.  See documentation for Memory Management and PYTORCH_CUDA_ALLOC_CONF"
     ]
    }
   ],
   "source": [
    "# 10 epcoh으로 실험 진행\n",
    "\n",
    "epochs = 10\n",
    "\n",
    "for algorithm in algorithm_list:\n",
    "    for num_labels in num_labels_list:\n",
    "        train_lb_loader, train_ulb_loader, eval_loader = dataloader(algorithm, num_labels)\n",
    "        trainer = train(algorithm, num_labels, train_lb_loader, train_ulb_loader, eval_loader, epochs)\n",
    "        globals()[\"eval_dict_{}_{}\".format(algorithm, num_labels)] = trainer.evaluate(eval_loader)\n",
    "        globals()[\"y_pred_{}_{}\".format(algorithm, num_labels)], globals()[\"y_logit_{}_{}\".format(algorithm, num_labels)]= trainer.predict(eval_loader)"
   ]
  },
  {
   "attachments": {},
   "cell_type": "markdown",
   "metadata": {},
   "source": [
    "### 중간 경과\n",
    "Remixmatch를 진행하며 runtime error가 발생하여 remixmatch, fixmatch, flexmatch에 대한 코드를 gpu 메모리를 비우고 다시 진행하였습니다."
   ]
  },
  {
   "cell_type": "code",
   "execution_count": 10,
   "metadata": {},
   "outputs": [
    {
     "name": "stderr",
     "output_type": "stream",
     "text": [
      "/bin/sh: 1: netstat: not found\n"
     ]
    },
    {
     "name": "stdout",
     "output_type": "stream",
     "text": [
      "Files already downloaded and verified\n",
      "lb count: [4, 4, 4, 4, 4, 4, 4, 4, 4, 4]\n",
      "ulb count: [5000, 5000, 5000, 5000, 5000, 5000, 5000, 5000, 5000, 5000]\n",
      "Files already downloaded and verified\n"
     ]
    },
    {
     "name": "stderr",
     "output_type": "stream",
     "text": [
      "/bin/sh: 1: netstat: not found\n"
     ]
    },
    {
     "name": "stdout",
     "output_type": "stream",
     "text": [
      "Files already downloaded and verified\n",
      "lb count: [4, 4, 4, 4, 4, 4, 4, 4, 4, 4]\n",
      "ulb count: [5000, 5000, 5000, 5000, 5000, 5000, 5000, 5000, 5000, 5000]\n",
      "Files already downloaded and verified\n",
      "unlabeled data number: 50000, labeled data number 40\n",
      "Create train and test data loaders\n",
      "[!] data loader keys: dict_keys(['train_lb', 'train_ulb', 'eval'])\n",
      "_IncompatibleKeys(missing_keys=['head.weight', 'head.bias'], unexpected_keys=[])\n",
      "Create optimizer and scheduler\n",
      "distribution alignment p_target: tensor([0.1000, 0.1000, 0.1000, 0.1000, 0.1000, 0.1000, 0.1000, 0.1000, 0.1000,\n",
      "        0.1000], dtype=torch.float64)\n",
      "Epoch: 0\n"
     ]
    },
    {
     "name": "stderr",
     "output_type": "stream",
     "text": [
      "/usr/local/lib/python3.8/dist-packages/sklearn/metrics/_classification.py:1318: UndefinedMetricWarning: Precision is ill-defined and being set to 0.0 in labels with no predicted samples. Use `zero_division` parameter to control this behavior.\n",
      "  _warn_prf(average, modifier, msg_start, len(result))\n",
      "[2022-12-26 09:38:39,320 INFO] confusion matrix\n",
      "[2022-12-26 09:38:39,321 INFO] [[0. 0. 0. 0. 1. 0. 0. 0. 0. 0.]\n",
      " [0. 0. 0. 0. 1. 0. 0. 0. 0. 0.]\n",
      " [0. 0. 0. 0. 1. 0. 0. 0. 0. 0.]\n",
      " [0. 0. 0. 0. 1. 0. 0. 0. 0. 0.]\n",
      " [0. 0. 0. 0. 1. 0. 0. 0. 0. 0.]\n",
      " [0. 0. 0. 0. 1. 0. 0. 0. 0. 0.]\n",
      " [0. 0. 0. 0. 1. 0. 0. 0. 0. 0.]\n",
      " [0. 0. 0. 0. 1. 0. 0. 0. 0. 0.]\n",
      " [0. 0. 0. 0. 1. 0. 0. 0. 0. 0.]\n",
      " [0. 0. 0. 0. 1. 0. 0. 0. 0. 0.]]\n",
      "[2022-12-26 09:38:39,322 INFO] evaluation metric\n",
      "[2022-12-26 09:38:39,322 INFO] acc: 0.1000\n",
      "[2022-12-26 09:38:39,323 INFO] precision: 0.0100\n",
      "[2022-12-26 09:38:39,323 INFO] recall: 0.1000\n",
      "[2022-12-26 09:38:39,323 INFO] f1: 0.0182\n"
     ]
    },
    {
     "name": "stdout",
     "output_type": "stream",
     "text": [
      "model saved: ./saved_models/classic_cv/remixmatch_cifar10_40_0/latest_model.pth\n",
      "model saved: ./saved_models/classic_cv/remixmatch_cifar10_40_0/model_best.pth\n",
      "Epoch: 1\n"
     ]
    },
    {
     "name": "stderr",
     "output_type": "stream",
     "text": [
      "/usr/local/lib/python3.8/dist-packages/sklearn/metrics/_classification.py:1318: UndefinedMetricWarning: Precision is ill-defined and being set to 0.0 in labels with no predicted samples. Use `zero_division` parameter to control this behavior.\n",
      "  _warn_prf(average, modifier, msg_start, len(result))\n",
      "[2022-12-26 09:58:01,406 INFO] confusion matrix\n",
      "[2022-12-26 09:58:01,406 INFO] [[0.52  0.456 0.    0.024 0.    0.    0.    0.    0.    0.   ]\n",
      " [0.101 0.864 0.    0.035 0.    0.    0.    0.    0.    0.   ]\n",
      " [0.363 0.587 0.    0.05  0.    0.    0.    0.    0.    0.   ]\n",
      " [0.209 0.747 0.    0.044 0.    0.    0.    0.    0.    0.   ]\n",
      " [0.319 0.59  0.    0.091 0.    0.    0.    0.    0.    0.   ]\n",
      " [0.217 0.74  0.    0.043 0.    0.    0.    0.    0.    0.   ]\n",
      " [0.205 0.739 0.    0.056 0.    0.    0.    0.    0.    0.   ]\n",
      " [0.235 0.71  0.    0.055 0.    0.    0.    0.    0.    0.   ]\n",
      " [0.359 0.596 0.    0.045 0.    0.    0.    0.    0.    0.   ]\n",
      " [0.15  0.808 0.    0.042 0.    0.    0.    0.    0.    0.   ]]\n",
      "[2022-12-26 09:58:01,408 INFO] evaluation metric\n",
      "[2022-12-26 09:58:01,408 INFO] acc: 0.1428\n",
      "[2022-12-26 09:58:01,408 INFO] precision: 0.0411\n",
      "[2022-12-26 09:58:01,409 INFO] recall: 0.1428\n",
      "[2022-12-26 09:58:01,409 INFO] f1: 0.0563\n"
     ]
    },
    {
     "name": "stdout",
     "output_type": "stream",
     "text": [
      "model saved: ./saved_models/classic_cv/remixmatch_cifar10_40_0/latest_model.pth\n",
      "model saved: ./saved_models/classic_cv/remixmatch_cifar10_40_0/model_best.pth\n",
      "Epoch: 2\n"
     ]
    },
    {
     "name": "stderr",
     "output_type": "stream",
     "text": [
      "/usr/local/lib/python3.8/dist-packages/sklearn/metrics/_classification.py:1318: UndefinedMetricWarning: Precision is ill-defined and being set to 0.0 in labels with no predicted samples. Use `zero_division` parameter to control this behavior.\n",
      "  _warn_prf(average, modifier, msg_start, len(result))\n",
      "[2022-12-26 10:17:23,359 INFO] confusion matrix\n",
      "[2022-12-26 10:17:23,360 INFO] [[0.    0.    0.052 0.    0.158 0.    0.011 0.    0.779 0.   ]\n",
      " [0.    0.    0.05  0.    0.078 0.    0.004 0.    0.868 0.   ]\n",
      " [0.    0.    0.08  0.    0.338 0.    0.018 0.    0.564 0.   ]\n",
      " [0.    0.    0.064 0.    0.174 0.    0.01  0.    0.752 0.   ]\n",
      " [0.    0.    0.085 0.    0.451 0.    0.019 0.    0.445 0.   ]\n",
      " [0.    0.    0.052 0.    0.14  0.    0.01  0.    0.798 0.   ]\n",
      " [0.    0.    0.081 0.    0.457 0.    0.022 0.    0.44  0.   ]\n",
      " [0.    0.    0.053 0.    0.114 0.    0.011 0.    0.822 0.   ]\n",
      " [0.    0.    0.044 0.    0.095 0.    0.01  0.    0.851 0.   ]\n",
      " [0.    0.    0.035 0.    0.061 0.    0.006 0.    0.898 0.   ]]\n",
      "[2022-12-26 10:17:23,361 INFO] evaluation metric\n",
      "[2022-12-26 10:17:23,362 INFO] acc: 0.1404\n",
      "[2022-12-26 10:17:23,362 INFO] precision: 0.0652\n",
      "[2022-12-26 10:17:23,362 INFO] recall: 0.1404\n",
      "[2022-12-26 10:17:23,363 INFO] f1: 0.0641\n"
     ]
    },
    {
     "name": "stdout",
     "output_type": "stream",
     "text": [
      "model saved: ./saved_models/classic_cv/remixmatch_cifar10_40_0/latest_model.pth\n",
      "Epoch: 3\n"
     ]
    },
    {
     "name": "stderr",
     "output_type": "stream",
     "text": [
      "/usr/local/lib/python3.8/dist-packages/sklearn/metrics/_classification.py:1318: UndefinedMetricWarning: Precision is ill-defined and being set to 0.0 in labels with no predicted samples. Use `zero_division` parameter to control this behavior.\n",
      "  _warn_prf(average, modifier, msg_start, len(result))\n",
      "[2022-12-26 10:36:46,073 INFO] confusion matrix\n",
      "[2022-12-26 10:36:46,073 INFO] [[0.433 0.005 0.134 0.025 0.054 0.051 0.    0.008 0.215 0.075]\n",
      " [0.255 0.    0.164 0.032 0.052 0.078 0.    0.011 0.267 0.141]\n",
      " [0.123 0.    0.121 0.036 0.295 0.193 0.    0.007 0.119 0.106]\n",
      " [0.062 0.    0.131 0.072 0.213 0.213 0.    0.005 0.121 0.183]\n",
      " [0.047 0.    0.09  0.039 0.473 0.172 0.    0.002 0.076 0.101]\n",
      " [0.059 0.    0.112 0.067 0.232 0.254 0.    0.006 0.094 0.176]\n",
      " [0.012 0.    0.055 0.037 0.57  0.199 0.    0.002 0.043 0.082]\n",
      " [0.06  0.    0.181 0.071 0.166 0.197 0.    0.003 0.13  0.192]\n",
      " [0.424 0.001 0.146 0.016 0.017 0.043 0.    0.011 0.251 0.091]\n",
      " [0.251 0.    0.19  0.032 0.045 0.087 0.    0.013 0.227 0.155]]\n",
      "[2022-12-26 10:36:46,074 INFO] evaluation metric\n",
      "[2022-12-26 10:36:46,075 INFO] acc: 0.1762\n",
      "[2022-12-26 10:36:46,075 INFO] precision: 0.1231\n",
      "[2022-12-26 10:36:46,075 INFO] recall: 0.1762\n",
      "[2022-12-26 10:36:46,076 INFO] f1: 0.1368\n"
     ]
    },
    {
     "name": "stdout",
     "output_type": "stream",
     "text": [
      "model saved: ./saved_models/classic_cv/remixmatch_cifar10_40_0/latest_model.pth\n",
      "model saved: ./saved_models/classic_cv/remixmatch_cifar10_40_0/model_best.pth\n",
      "Epoch: 4\n"
     ]
    },
    {
     "name": "stderr",
     "output_type": "stream",
     "text": [
      "/usr/local/lib/python3.8/dist-packages/sklearn/metrics/_classification.py:1318: UndefinedMetricWarning: Precision is ill-defined and being set to 0.0 in labels with no predicted samples. Use `zero_division` parameter to control this behavior.\n",
      "  _warn_prf(average, modifier, msg_start, len(result))\n",
      "[2022-12-26 10:56:07,839 INFO] confusion matrix\n",
      "[2022-12-26 10:56:07,840 INFO] [[0.17  0.488 0.    0.    0.    0.    0.    0.    0.    0.342]\n",
      " [0.01  0.864 0.    0.    0.    0.    0.    0.    0.    0.126]\n",
      " [0.09  0.607 0.    0.    0.    0.    0.    0.    0.    0.303]\n",
      " [0.046 0.772 0.    0.    0.001 0.    0.    0.    0.    0.181]\n",
      " [0.056 0.619 0.    0.    0.    0.    0.    0.    0.    0.325]\n",
      " [0.054 0.76  0.    0.    0.    0.    0.    0.    0.    0.186]\n",
      " [0.035 0.786 0.    0.    0.    0.    0.    0.    0.    0.179]\n",
      " [0.027 0.778 0.    0.    0.    0.    0.    0.    0.    0.195]\n",
      " [0.113 0.602 0.    0.    0.    0.    0.    0.    0.    0.285]\n",
      " [0.014 0.842 0.    0.    0.    0.    0.    0.    0.    0.144]]\n",
      "[2022-12-26 10:56:07,841 INFO] evaluation metric\n",
      "[2022-12-26 10:56:07,841 INFO] acc: 0.1178\n",
      "[2022-12-26 10:56:07,841 INFO] precision: 0.0461\n",
      "[2022-12-26 10:56:07,842 INFO] recall: 0.1178\n",
      "[2022-12-26 10:56:07,842 INFO] f1: 0.0512\n"
     ]
    },
    {
     "name": "stdout",
     "output_type": "stream",
     "text": [
      "model saved: ./saved_models/classic_cv/remixmatch_cifar10_40_0/latest_model.pth\n",
      "Epoch: 5\n"
     ]
    },
    {
     "name": "stderr",
     "output_type": "stream",
     "text": [
      "/usr/local/lib/python3.8/dist-packages/sklearn/metrics/_classification.py:1318: UndefinedMetricWarning: Precision is ill-defined and being set to 0.0 in labels with no predicted samples. Use `zero_division` parameter to control this behavior.\n",
      "  _warn_prf(average, modifier, msg_start, len(result))\n",
      "[2022-12-26 11:15:29,923 INFO] confusion matrix\n",
      "[2022-12-26 11:15:29,924 INFO] [[0.962 0.003 0.021 0.01  0.004 0.    0.    0.    0.    0.   ]\n",
      " [0.937 0.    0.063 0.    0.    0.    0.    0.    0.    0.   ]\n",
      " [0.958 0.    0.039 0.001 0.002 0.    0.    0.    0.    0.   ]\n",
      " [0.933 0.    0.062 0.004 0.001 0.    0.    0.    0.    0.   ]\n",
      " [0.934 0.    0.064 0.001 0.001 0.    0.    0.    0.    0.   ]\n",
      " [0.934 0.    0.064 0.001 0.001 0.    0.    0.    0.    0.   ]\n",
      " [0.9   0.    0.098 0.    0.002 0.    0.    0.    0.    0.   ]\n",
      " [0.922 0.    0.076 0.    0.002 0.    0.    0.    0.    0.   ]\n",
      " [0.973 0.    0.018 0.007 0.002 0.    0.    0.    0.    0.   ]\n",
      " [0.955 0.    0.045 0.    0.    0.    0.    0.    0.    0.   ]]\n",
      "[2022-12-26 11:15:29,925 INFO] evaluation metric\n",
      "[2022-12-26 11:15:29,925 INFO] acc: 0.1006\n",
      "[2022-12-26 11:15:29,925 INFO] precision: 0.0406\n",
      "[2022-12-26 11:15:29,926 INFO] recall: 0.1006\n",
      "[2022-12-26 11:15:29,926 INFO] f1: 0.0245\n"
     ]
    },
    {
     "name": "stdout",
     "output_type": "stream",
     "text": [
      "model saved: ./saved_models/classic_cv/remixmatch_cifar10_40_0/latest_model.pth\n",
      "Epoch: 6\n"
     ]
    },
    {
     "name": "stderr",
     "output_type": "stream",
     "text": [
      "/usr/local/lib/python3.8/dist-packages/sklearn/metrics/_classification.py:1318: UndefinedMetricWarning: Precision is ill-defined and being set to 0.0 in labels with no predicted samples. Use `zero_division` parameter to control this behavior.\n",
      "  _warn_prf(average, modifier, msg_start, len(result))\n",
      "[2022-12-26 11:34:51,515 INFO] confusion matrix\n",
      "[2022-12-26 11:34:51,516 INFO] [[0.    0.999 0.    0.    0.    0.    0.    0.    0.001 0.   ]\n",
      " [0.    1.    0.    0.    0.    0.    0.    0.    0.    0.   ]\n",
      " [0.    0.999 0.    0.    0.    0.    0.    0.    0.001 0.   ]\n",
      " [0.    1.    0.    0.    0.    0.    0.    0.    0.    0.   ]\n",
      " [0.    0.996 0.    0.    0.    0.    0.    0.    0.004 0.   ]\n",
      " [0.    1.    0.    0.    0.    0.    0.    0.    0.    0.   ]\n",
      " [0.    0.999 0.    0.    0.    0.    0.    0.    0.001 0.   ]\n",
      " [0.    1.    0.    0.    0.    0.    0.    0.    0.    0.   ]\n",
      " [0.    1.    0.    0.    0.    0.    0.    0.    0.    0.   ]\n",
      " [0.    1.    0.    0.    0.    0.    0.    0.    0.    0.   ]]\n",
      "[2022-12-26 11:34:51,517 INFO] evaluation metric\n",
      "[2022-12-26 11:34:51,518 INFO] acc: 0.1000\n",
      "[2022-12-26 11:34:51,518 INFO] precision: 0.0100\n",
      "[2022-12-26 11:34:51,518 INFO] recall: 0.1000\n",
      "[2022-12-26 11:34:51,519 INFO] f1: 0.0182\n"
     ]
    },
    {
     "name": "stdout",
     "output_type": "stream",
     "text": [
      "model saved: ./saved_models/classic_cv/remixmatch_cifar10_40_0/latest_model.pth\n",
      "Epoch: 7\n"
     ]
    },
    {
     "name": "stderr",
     "output_type": "stream",
     "text": [
      "/usr/local/lib/python3.8/dist-packages/sklearn/metrics/_classification.py:1318: UndefinedMetricWarning: Precision is ill-defined and being set to 0.0 in labels with no predicted samples. Use `zero_division` parameter to control this behavior.\n",
      "  _warn_prf(average, modifier, msg_start, len(result))\n",
      "[2022-12-26 11:54:13,645 INFO] confusion matrix\n",
      "[2022-12-26 11:54:13,646 INFO] [[0.    0.    0.    0.    0.    0.    0.996 0.    0.004 0.   ]\n",
      " [0.    0.    0.    0.    0.    0.    0.999 0.    0.001 0.   ]\n",
      " [0.    0.    0.    0.    0.    0.    0.999 0.    0.001 0.   ]\n",
      " [0.    0.    0.    0.    0.    0.    1.    0.    0.    0.   ]\n",
      " [0.    0.    0.    0.    0.    0.    0.996 0.    0.004 0.   ]\n",
      " [0.    0.    0.    0.    0.    0.    1.    0.    0.    0.   ]\n",
      " [0.    0.    0.    0.    0.    0.    0.999 0.    0.001 0.   ]\n",
      " [0.    0.    0.    0.    0.    0.    0.999 0.    0.001 0.   ]\n",
      " [0.    0.    0.    0.    0.    0.    0.999 0.    0.001 0.   ]\n",
      " [0.    0.    0.    0.    0.    0.    1.    0.    0.    0.   ]]\n",
      "[2022-12-26 11:54:13,647 INFO] evaluation metric\n",
      "[2022-12-26 11:54:13,647 INFO] acc: 0.1000\n",
      "[2022-12-26 11:54:13,648 INFO] precision: 0.0177\n",
      "[2022-12-26 11:54:13,648 INFO] recall: 0.1000\n",
      "[2022-12-26 11:54:13,648 INFO] f1: 0.0184\n"
     ]
    },
    {
     "name": "stdout",
     "output_type": "stream",
     "text": [
      "model saved: ./saved_models/classic_cv/remixmatch_cifar10_40_0/latest_model.pth\n",
      "Epoch: 8\n"
     ]
    },
    {
     "name": "stderr",
     "output_type": "stream",
     "text": [
      "/usr/local/lib/python3.8/dist-packages/sklearn/metrics/_classification.py:1318: UndefinedMetricWarning: Precision is ill-defined and being set to 0.0 in labels with no predicted samples. Use `zero_division` parameter to control this behavior.\n",
      "  _warn_prf(average, modifier, msg_start, len(result))\n",
      "[2022-12-26 12:13:36,340 INFO] confusion matrix\n",
      "[2022-12-26 12:13:36,341 INFO] [[0.015 0.    0.    0.    0.    0.066 0.    0.    0.    0.919]\n",
      " [0.    0.    0.    0.    0.    0.106 0.    0.    0.    0.894]\n",
      " [0.004 0.    0.    0.    0.    0.101 0.    0.    0.    0.895]\n",
      " [0.001 0.    0.    0.    0.    0.15  0.    0.    0.    0.849]\n",
      " [0.001 0.    0.    0.    0.    0.119 0.    0.    0.001 0.879]\n",
      " [0.002 0.    0.    0.    0.    0.165 0.    0.    0.    0.833]\n",
      " [0.001 0.    0.    0.    0.    0.182 0.    0.    0.    0.817]\n",
      " [0.    0.    0.    0.    0.    0.205 0.    0.    0.    0.795]\n",
      " [0.01  0.    0.    0.    0.    0.038 0.    0.    0.    0.952]\n",
      " [0.    0.    0.    0.    0.    0.1   0.    0.    0.    0.9  ]]\n",
      "[2022-12-26 12:13:36,342 INFO] evaluation metric\n",
      "[2022-12-26 12:13:36,342 INFO] acc: 0.1080\n",
      "[2022-12-26 12:13:36,343 INFO] precision: 0.0678\n",
      "[2022-12-26 12:13:36,343 INFO] recall: 0.1080\n",
      "[2022-12-26 12:13:36,343 INFO] f1: 0.0362\n"
     ]
    },
    {
     "name": "stdout",
     "output_type": "stream",
     "text": [
      "model saved: ./saved_models/classic_cv/remixmatch_cifar10_40_0/latest_model.pth\n",
      "Epoch: 9\n"
     ]
    },
    {
     "name": "stderr",
     "output_type": "stream",
     "text": [
      "/usr/local/lib/python3.8/dist-packages/sklearn/metrics/_classification.py:1318: UndefinedMetricWarning: Precision is ill-defined and being set to 0.0 in labels with no predicted samples. Use `zero_division` parameter to control this behavior.\n",
      "  _warn_prf(average, modifier, msg_start, len(result))\n",
      "[2022-12-26 12:32:58,771 INFO] confusion matrix\n",
      "[2022-12-26 12:32:58,771 INFO] [[0.515 0.    0.    0.    0.003 0.332 0.    0.    0.011 0.139]\n",
      " [0.081 0.    0.    0.    0.    0.818 0.    0.    0.002 0.099]\n",
      " [0.325 0.    0.    0.    0.002 0.527 0.    0.    0.008 0.138]\n",
      " [0.153 0.    0.    0.    0.    0.751 0.    0.    0.004 0.092]\n",
      " [0.212 0.    0.    0.    0.    0.646 0.    0.    0.008 0.134]\n",
      " [0.173 0.    0.    0.    0.    0.695 0.    0.    0.005 0.127]\n",
      " [0.136 0.    0.    0.    0.    0.75  0.    0.    0.005 0.109]\n",
      " [0.099 0.    0.    0.    0.001 0.788 0.    0.    0.001 0.111]\n",
      " [0.332 0.    0.    0.    0.    0.484 0.    0.    0.014 0.17 ]\n",
      " [0.074 0.    0.    0.    0.    0.809 0.    0.    0.001 0.116]]\n",
      "[2022-12-26 12:32:58,772 INFO] evaluation metric\n",
      "[2022-12-26 12:32:58,773 INFO] acc: 0.1340\n",
      "[2022-12-26 12:32:58,773 INFO] precision: 0.0682\n",
      "[2022-12-26 12:32:58,773 INFO] recall: 0.1340\n",
      "[2022-12-26 12:32:58,774 INFO] f1: 0.0645\n",
      "[2022-12-26 12:32:58,968 INFO] Best acc 0.1762 at epoch 3\n",
      "[2022-12-26 12:32:58,970 INFO] Training finished.\n"
     ]
    },
    {
     "name": "stdout",
     "output_type": "stream",
     "text": [
      "model saved: ./saved_models/classic_cv/remixmatch_cifar10_40_0/latest_model.pth\n"
     ]
    },
    {
     "name": "stderr",
     "output_type": "stream",
     "text": [
      "/usr/local/lib/python3.8/dist-packages/sklearn/metrics/_classification.py:1318: UndefinedMetricWarning: Precision is ill-defined and being set to 0.0 in labels with no predicted samples. Use `zero_division` parameter to control this behavior.\n",
      "  _warn_prf(average, modifier, msg_start, len(result))\n",
      "[2022-12-26 12:41:06,368 INFO] confusion matrix\n",
      "[2022-12-26 12:41:06,368 INFO] [[0.515 0.    0.    0.    0.003 0.332 0.    0.    0.011 0.139]\n",
      " [0.081 0.    0.    0.    0.    0.818 0.    0.    0.002 0.099]\n",
      " [0.325 0.    0.    0.    0.002 0.527 0.    0.    0.008 0.138]\n",
      " [0.153 0.    0.    0.    0.    0.751 0.    0.    0.004 0.092]\n",
      " [0.212 0.    0.    0.    0.    0.646 0.    0.    0.008 0.134]\n",
      " [0.173 0.    0.    0.    0.    0.695 0.    0.    0.005 0.127]\n",
      " [0.136 0.    0.    0.    0.    0.75  0.    0.    0.005 0.109]\n",
      " [0.099 0.    0.    0.    0.001 0.788 0.    0.    0.001 0.111]\n",
      " [0.332 0.    0.    0.    0.    0.484 0.    0.    0.014 0.17 ]\n",
      " [0.074 0.    0.    0.    0.    0.809 0.    0.    0.001 0.116]]\n",
      "[2022-12-26 12:41:06,370 INFO] evaluation metric\n",
      "[2022-12-26 12:41:06,370 INFO] acc: 0.1340\n",
      "[2022-12-26 12:41:06,370 INFO] precision: 0.0682\n",
      "[2022-12-26 12:41:06,371 INFO] recall: 0.1340\n",
      "[2022-12-26 12:41:06,371 INFO] f1: 0.0645\n",
      "/bin/sh: 1: netstat: not found\n"
     ]
    },
    {
     "name": "stdout",
     "output_type": "stream",
     "text": [
      "Files already downloaded and verified\n",
      "lb count: [4, 4, 4, 4, 4, 4, 4, 4, 4, 4]\n",
      "ulb count: [5000, 5000, 5000, 5000, 5000, 5000, 5000, 5000, 5000, 5000]\n",
      "Files already downloaded and verified\n"
     ]
    },
    {
     "name": "stderr",
     "output_type": "stream",
     "text": [
      "/bin/sh: 1: netstat: not found\n"
     ]
    },
    {
     "name": "stdout",
     "output_type": "stream",
     "text": [
      "Files already downloaded and verified\n",
      "lb count: [4, 4, 4, 4, 4, 4, 4, 4, 4, 4]\n",
      "ulb count: [5000, 5000, 5000, 5000, 5000, 5000, 5000, 5000, 5000, 5000]\n",
      "Files already downloaded and verified\n",
      "unlabeled data number: 50000, labeled data number 40\n",
      "Create train and test data loaders\n",
      "[!] data loader keys: dict_keys(['train_lb', 'train_ulb', 'eval'])\n",
      "_IncompatibleKeys(missing_keys=['head.weight', 'head.bias'], unexpected_keys=[])\n",
      "Create optimizer and scheduler\n",
      "Epoch: 0\n"
     ]
    },
    {
     "name": "stderr",
     "output_type": "stream",
     "text": [
      "/root/Semi-supervised-learning/semilearn/nets/vit/vit.py:36: SyntaxWarning: assertion is always true, perhaps remove parentheses?\n",
      "  assert(H == self.img_size[0], f\"Input image height ({H}) doesn't match model ({self.img_size[0]}).\")\n",
      "/root/Semi-supervised-learning/semilearn/nets/vit/vit.py:37: SyntaxWarning: assertion is always true, perhaps remove parentheses?\n",
      "  assert(W == self.img_size[1], f\"Input image width ({W}) doesn't match model ({self.img_size[1]}).\")\n",
      "/root/Semi-supervised-learning/semilearn/nets/vit/vit.py:36: SyntaxWarning: assertion is always true, perhaps remove parentheses?\n",
      "  assert(H == self.img_size[0], f\"Input image height ({H}) doesn't match model ({self.img_size[0]}).\")\n",
      "/root/Semi-supervised-learning/semilearn/nets/vit/vit.py:37: SyntaxWarning: assertion is always true, perhaps remove parentheses?\n",
      "  assert(W == self.img_size[1], f\"Input image width ({W}) doesn't match model ({self.img_size[1]}).\")\n",
      "/root/Semi-supervised-learning/semilearn/nets/vit/vit.py:36: SyntaxWarning: assertion is always true, perhaps remove parentheses?\n",
      "  assert(H == self.img_size[0], f\"Input image height ({H}) doesn't match model ({self.img_size[0]}).\")\n",
      "/root/Semi-supervised-learning/semilearn/nets/vit/vit.py:37: SyntaxWarning: assertion is always true, perhaps remove parentheses?\n",
      "  assert(W == self.img_size[1], f\"Input image width ({W}) doesn't match model ({self.img_size[1]}).\")\n",
      "/root/Semi-supervised-learning/semilearn/nets/vit/vit.py:36: SyntaxWarning: assertion is always true, perhaps remove parentheses?\n",
      "  assert(H == self.img_size[0], f\"Input image height ({H}) doesn't match model ({self.img_size[0]}).\")\n",
      "/root/Semi-supervised-learning/semilearn/nets/vit/vit.py:37: SyntaxWarning: assertion is always true, perhaps remove parentheses?\n",
      "  assert(W == self.img_size[1], f\"Input image width ({W}) doesn't match model ({self.img_size[1]}).\")\n",
      "/root/Semi-supervised-learning/semilearn/nets/vit/vit.py:36: SyntaxWarning: assertion is always true, perhaps remove parentheses?\n",
      "  assert(H == self.img_size[0], f\"Input image height ({H}) doesn't match model ({self.img_size[0]}).\")\n",
      "/root/Semi-supervised-learning/semilearn/nets/vit/vit.py:37: SyntaxWarning: assertion is always true, perhaps remove parentheses?\n",
      "  assert(W == self.img_size[1], f\"Input image width ({W}) doesn't match model ({self.img_size[1]}).\")\n",
      "/root/Semi-supervised-learning/semilearn/nets/vit/vit.py:36: SyntaxWarning: assertion is always true, perhaps remove parentheses?\n",
      "  assert(H == self.img_size[0], f\"Input image height ({H}) doesn't match model ({self.img_size[0]}).\")\n",
      "/root/Semi-supervised-learning/semilearn/nets/vit/vit.py:37: SyntaxWarning: assertion is always true, perhaps remove parentheses?\n",
      "  assert(W == self.img_size[1], f\"Input image width ({W}) doesn't match model ({self.img_size[1]}).\")\n",
      "/root/Semi-supervised-learning/semilearn/nets/vit/vit.py:36: SyntaxWarning: assertion is always true, perhaps remove parentheses?\n",
      "  assert(H == self.img_size[0], f\"Input image height ({H}) doesn't match model ({self.img_size[0]}).\")\n",
      "/root/Semi-supervised-learning/semilearn/nets/vit/vit.py:37: SyntaxWarning: assertion is always true, perhaps remove parentheses?\n",
      "  assert(W == self.img_size[1], f\"Input image width ({W}) doesn't match model ({self.img_size[1]}).\")\n",
      "/root/Semi-supervised-learning/semilearn/nets/vit/vit.py:36: SyntaxWarning: assertion is always true, perhaps remove parentheses?\n",
      "  assert(H == self.img_size[0], f\"Input image height ({H}) doesn't match model ({self.img_size[0]}).\")\n",
      "/root/Semi-supervised-learning/semilearn/nets/vit/vit.py:37: SyntaxWarning: assertion is always true, perhaps remove parentheses?\n",
      "  assert(W == self.img_size[1], f\"Input image width ({W}) doesn't match model ({self.img_size[1]}).\")\n",
      "/root/Semi-supervised-learning/semilearn/nets/vit/vit.py:36: SyntaxWarning: assertion is always true, perhaps remove parentheses?\n",
      "  assert(H == self.img_size[0], f\"Input image height ({H}) doesn't match model ({self.img_size[0]}).\")\n",
      "/root/Semi-supervised-learning/semilearn/nets/vit/vit.py:37: SyntaxWarning: assertion is always true, perhaps remove parentheses?\n",
      "  assert(W == self.img_size[1], f\"Input image width ({W}) doesn't match model ({self.img_size[1]}).\")\n",
      "/root/Semi-supervised-learning/semilearn/nets/vit/vit.py:36: SyntaxWarning: assertion is always true, perhaps remove parentheses?\n",
      "  assert(H == self.img_size[0], f\"Input image height ({H}) doesn't match model ({self.img_size[0]}).\")\n",
      "/root/Semi-supervised-learning/semilearn/nets/vit/vit.py:37: SyntaxWarning: assertion is always true, perhaps remove parentheses?\n",
      "  assert(W == self.img_size[1], f\"Input image width ({W}) doesn't match model ({self.img_size[1]}).\")\n",
      "/root/Semi-supervised-learning/semilearn/nets/vit/vit.py:36: SyntaxWarning: assertion is always true, perhaps remove parentheses?\n",
      "  assert(H == self.img_size[0], f\"Input image height ({H}) doesn't match model ({self.img_size[0]}).\")\n",
      "/root/Semi-supervised-learning/semilearn/nets/vit/vit.py:37: SyntaxWarning: assertion is always true, perhaps remove parentheses?\n",
      "  assert(W == self.img_size[1], f\"Input image width ({W}) doesn't match model ({self.img_size[1]}).\")\n"
     ]
    },
    {
     "ename": "RuntimeError",
     "evalue": "CUDA out of memory. Tried to allocate 182.00 MiB (GPU 0; 10.75 GiB total capacity; 9.30 GiB already allocated; 139.75 MiB free; 9.35 GiB reserved in total by PyTorch) If reserved memory is >> allocated memory try setting max_split_size_mb to avoid fragmentation.  See documentation for Memory Management and PYTORCH_CUDA_ALLOC_CONF",
     "output_type": "error",
     "traceback": [
      "\u001b[0;31m---------------------------------------------------------------------------\u001b[0m",
      "\u001b[0;31mRuntimeError\u001b[0m                              Traceback (most recent call last)",
      "\u001b[1;32m/root/Semi-supervised-learning/tutorial.ipynb Cell 14\u001b[0m in \u001b[0;36m<cell line: 6>\u001b[0;34m()\u001b[0m\n\u001b[1;32m      <a href='vscode-notebook-cell://attached-container%2B7b22636f6e7461696e65724e616d65223a222f73736c222c2273657474696e6773223a7b22686f7374223a227373683a2f2f3136332e3135322e3138352e313737227d7d/root/Semi-supervised-learning/tutorial.ipynb#X25sdnNjb2RlLXJlbW90ZQ%3D%3D?line=6'>7</a>\u001b[0m \u001b[39mfor\u001b[39;00m num_labels \u001b[39min\u001b[39;00m num_labels_list:\n\u001b[1;32m      <a href='vscode-notebook-cell://attached-container%2B7b22636f6e7461696e65724e616d65223a222f73736c222c2273657474696e6773223a7b22686f7374223a227373683a2f2f3136332e3135322e3138352e313737227d7d/root/Semi-supervised-learning/tutorial.ipynb#X25sdnNjb2RlLXJlbW90ZQ%3D%3D?line=7'>8</a>\u001b[0m     train_lb_loader, train_ulb_loader, eval_loader \u001b[39m=\u001b[39m dataloader(algorithm, num_labels)\n\u001b[0;32m----> <a href='vscode-notebook-cell://attached-container%2B7b22636f6e7461696e65724e616d65223a222f73736c222c2273657474696e6773223a7b22686f7374223a227373683a2f2f3136332e3135322e3138352e313737227d7d/root/Semi-supervised-learning/tutorial.ipynb#X25sdnNjb2RlLXJlbW90ZQ%3D%3D?line=8'>9</a>\u001b[0m     trainer \u001b[39m=\u001b[39m train(algorithm, num_labels, train_lb_loader, train_ulb_loader, eval_loader, epochs)\n\u001b[1;32m     <a href='vscode-notebook-cell://attached-container%2B7b22636f6e7461696e65724e616d65223a222f73736c222c2273657474696e6773223a7b22686f7374223a227373683a2f2f3136332e3135322e3138352e313737227d7d/root/Semi-supervised-learning/tutorial.ipynb#X25sdnNjb2RlLXJlbW90ZQ%3D%3D?line=9'>10</a>\u001b[0m     \u001b[39mglobals\u001b[39m()[\u001b[39m\"\u001b[39m\u001b[39meval_dict_\u001b[39m\u001b[39m{}\u001b[39;00m\u001b[39m_\u001b[39m\u001b[39m{}\u001b[39;00m\u001b[39m\"\u001b[39m\u001b[39m.\u001b[39mformat(algorithm, num_labels)] \u001b[39m=\u001b[39m trainer\u001b[39m.\u001b[39mevaluate(eval_loader)\n\u001b[1;32m     <a href='vscode-notebook-cell://attached-container%2B7b22636f6e7461696e65724e616d65223a222f73736c222c2273657474696e6773223a7b22686f7374223a227373683a2f2f3136332e3135322e3138352e313737227d7d/root/Semi-supervised-learning/tutorial.ipynb#X25sdnNjb2RlLXJlbW90ZQ%3D%3D?line=10'>11</a>\u001b[0m     \u001b[39mglobals\u001b[39m()[\u001b[39m\"\u001b[39m\u001b[39my_pred_\u001b[39m\u001b[39m{}\u001b[39;00m\u001b[39m_\u001b[39m\u001b[39m{}\u001b[39;00m\u001b[39m\"\u001b[39m\u001b[39m.\u001b[39mformat(algorithm, num_labels)], \u001b[39mglobals\u001b[39m()[\u001b[39m\"\u001b[39m\u001b[39my_logit_\u001b[39m\u001b[39m{}\u001b[39;00m\u001b[39m_\u001b[39m\u001b[39m{}\u001b[39;00m\u001b[39m\"\u001b[39m\u001b[39m.\u001b[39mformat(algorithm, num_labels)]\u001b[39m=\u001b[39m trainer\u001b[39m.\u001b[39mpredict(eval_loader)\n",
      "\u001b[1;32m/root/Semi-supervised-learning/tutorial.ipynb Cell 14\u001b[0m in \u001b[0;36mtrain\u001b[0;34m(algorithm, num_labels, train_lb_loader, train_ulb_loader, eval_loader, epochs)\u001b[0m\n\u001b[1;32m     <a href='vscode-notebook-cell://attached-container%2B7b22636f6e7461696e65724e616d65223a222f73736c222c2273657474696e6773223a7b22686f7374223a227373683a2f2f3136332e3135322e3138352e313737227d7d/root/Semi-supervised-learning/tutorial.ipynb#X25sdnNjb2RlLXJlbW90ZQ%3D%3D?line=11'>12</a>\u001b[0m algorithm \u001b[39m=\u001b[39m get_algorithm(config,  get_net_builder(config\u001b[39m.\u001b[39mnet, from_name\u001b[39m=\u001b[39m\u001b[39mFalse\u001b[39;00m), tb_log\u001b[39m=\u001b[39m\u001b[39mNone\u001b[39;00m, logger\u001b[39m=\u001b[39m\u001b[39mNone\u001b[39;00m)\n\u001b[1;32m     <a href='vscode-notebook-cell://attached-container%2B7b22636f6e7461696e65724e616d65223a222f73736c222c2273657474696e6773223a7b22686f7374223a227373683a2f2f3136332e3135322e3138352e313737227d7d/root/Semi-supervised-learning/tutorial.ipynb#X25sdnNjb2RlLXJlbW90ZQ%3D%3D?line=13'>14</a>\u001b[0m trainer \u001b[39m=\u001b[39m Trainer(config, algorithm)\n\u001b[0;32m---> <a href='vscode-notebook-cell://attached-container%2B7b22636f6e7461696e65724e616d65223a222f73736c222c2273657474696e6773223a7b22686f7374223a227373683a2f2f3136332e3135322e3138352e313737227d7d/root/Semi-supervised-learning/tutorial.ipynb#X25sdnNjb2RlLXJlbW90ZQ%3D%3D?line=14'>15</a>\u001b[0m trainer\u001b[39m.\u001b[39;49mfit(train_lb_loader, train_ulb_loader, eval_loader)\n\u001b[1;32m     <a href='vscode-notebook-cell://attached-container%2B7b22636f6e7461696e65724e616d65223a222f73736c222c2273657474696e6773223a7b22686f7374223a227373683a2f2f3136332e3135322e3138352e313737227d7d/root/Semi-supervised-learning/tutorial.ipynb#X25sdnNjb2RlLXJlbW90ZQ%3D%3D?line=16'>17</a>\u001b[0m \u001b[39mreturn\u001b[39;00m trainer\n",
      "File \u001b[0;32m~/Semi-supervised-learning/semilearn/lighting/trainer.py:56\u001b[0m, in \u001b[0;36mTrainer.fit\u001b[0;34m(self, train_lb_loader, train_ulb_loader, eval_loader)\u001b[0m\n\u001b[1;32m     53\u001b[0m \u001b[39mif\u001b[39;00m it \u001b[39m>\u001b[39m \u001b[39mself\u001b[39m\u001b[39m.\u001b[39mconfig\u001b[39m.\u001b[39mnum_train_iter:\n\u001b[1;32m     54\u001b[0m     \u001b[39mbreak\u001b[39;00m\n\u001b[0;32m---> 56\u001b[0m result \u001b[39m=\u001b[39m \u001b[39mself\u001b[39;49m\u001b[39m.\u001b[39;49malgorithm\u001b[39m.\u001b[39;49mtrain_step(\u001b[39m*\u001b[39;49m\u001b[39m*\u001b[39;49m\u001b[39mself\u001b[39;49m\u001b[39m.\u001b[39;49malgorithm\u001b[39m.\u001b[39;49mprocess_batch(\u001b[39m*\u001b[39;49m\u001b[39m*\u001b[39;49mdata_lb, \u001b[39m*\u001b[39;49m\u001b[39m*\u001b[39;49mdata_ulb))\n\u001b[1;32m     58\u001b[0m bar\u001b[39m.\u001b[39msuffix \u001b[39m=\u001b[39m (\u001b[39m\"\u001b[39m\u001b[39mIter: \u001b[39m\u001b[39m{batch:4}\u001b[39;00m\u001b[39m/\u001b[39m\u001b[39m{iter:4}\u001b[39;00m\u001b[39m.\u001b[39m\u001b[39m\"\u001b[39m\u001b[39m.\u001b[39mformat(batch\u001b[39m=\u001b[39mit, \u001b[39miter\u001b[39m\u001b[39m=\u001b[39m\u001b[39mlen\u001b[39m(train_lb_loader)))\n\u001b[1;32m     59\u001b[0m bar\u001b[39m.\u001b[39mnext()\n",
      "File \u001b[0;32m~/Semi-supervised-learning/semilearn/algorithms/fixmatch/fixmatch.py:54\u001b[0m, in \u001b[0;36mFixMatch.train_step\u001b[0;34m(self, x_lb, y_lb, x_ulb_w, x_ulb_s)\u001b[0m\n\u001b[1;32m     52\u001b[0m \u001b[39mif\u001b[39;00m \u001b[39mself\u001b[39m\u001b[39m.\u001b[39muse_cat:\n\u001b[1;32m     53\u001b[0m     inputs \u001b[39m=\u001b[39m torch\u001b[39m.\u001b[39mcat((x_lb, x_ulb_w, x_ulb_s))\n\u001b[0;32m---> 54\u001b[0m     outputs \u001b[39m=\u001b[39m \u001b[39mself\u001b[39;49m\u001b[39m.\u001b[39;49mmodel(inputs)\n\u001b[1;32m     55\u001b[0m     logits_x_lb \u001b[39m=\u001b[39m outputs[\u001b[39m'\u001b[39m\u001b[39mlogits\u001b[39m\u001b[39m'\u001b[39m][:num_lb]\n\u001b[1;32m     56\u001b[0m     logits_x_ulb_w, logits_x_ulb_s \u001b[39m=\u001b[39m outputs[\u001b[39m'\u001b[39m\u001b[39mlogits\u001b[39m\u001b[39m'\u001b[39m][num_lb:]\u001b[39m.\u001b[39mchunk(\u001b[39m2\u001b[39m)\n",
      "File \u001b[0;32m/usr/local/lib/python3.8/dist-packages/torch/nn/modules/module.py:1130\u001b[0m, in \u001b[0;36mModule._call_impl\u001b[0;34m(self, *input, **kwargs)\u001b[0m\n\u001b[1;32m   1126\u001b[0m \u001b[39m# If we don't have any hooks, we want to skip the rest of the logic in\u001b[39;00m\n\u001b[1;32m   1127\u001b[0m \u001b[39m# this function, and just call forward.\u001b[39;00m\n\u001b[1;32m   1128\u001b[0m \u001b[39mif\u001b[39;00m \u001b[39mnot\u001b[39;00m (\u001b[39mself\u001b[39m\u001b[39m.\u001b[39m_backward_hooks \u001b[39mor\u001b[39;00m \u001b[39mself\u001b[39m\u001b[39m.\u001b[39m_forward_hooks \u001b[39mor\u001b[39;00m \u001b[39mself\u001b[39m\u001b[39m.\u001b[39m_forward_pre_hooks \u001b[39mor\u001b[39;00m _global_backward_hooks\n\u001b[1;32m   1129\u001b[0m         \u001b[39mor\u001b[39;00m _global_forward_hooks \u001b[39mor\u001b[39;00m _global_forward_pre_hooks):\n\u001b[0;32m-> 1130\u001b[0m     \u001b[39mreturn\u001b[39;00m forward_call(\u001b[39m*\u001b[39;49m\u001b[39minput\u001b[39;49m, \u001b[39m*\u001b[39;49m\u001b[39m*\u001b[39;49mkwargs)\n\u001b[1;32m   1131\u001b[0m \u001b[39m# Do not call functions when jit is used\u001b[39;00m\n\u001b[1;32m   1132\u001b[0m full_backward_hooks, non_full_backward_hooks \u001b[39m=\u001b[39m [], []\n",
      "File \u001b[0;32m~/Semi-supervised-learning/semilearn/nets/vit/vit.py:220\u001b[0m, in \u001b[0;36mVisionTransformer.forward\u001b[0;34m(self, x, only_fc, only_feat, **kwargs)\u001b[0m\n\u001b[1;32m    217\u001b[0m \u001b[39mif\u001b[39;00m only_fc:\n\u001b[1;32m    218\u001b[0m     \u001b[39mreturn\u001b[39;00m \u001b[39mself\u001b[39m\u001b[39m.\u001b[39mhead(x)\n\u001b[0;32m--> 220\u001b[0m x \u001b[39m=\u001b[39m \u001b[39mself\u001b[39;49m\u001b[39m.\u001b[39;49mextract(x)\n\u001b[1;32m    221\u001b[0m \u001b[39mif\u001b[39;00m \u001b[39mself\u001b[39m\u001b[39m.\u001b[39mglobal_pool:\n\u001b[1;32m    222\u001b[0m     x \u001b[39m=\u001b[39m x[:, \u001b[39m1\u001b[39m:]\u001b[39m.\u001b[39mmean(dim\u001b[39m=\u001b[39m\u001b[39m1\u001b[39m) \u001b[39mif\u001b[39;00m \u001b[39mself\u001b[39m\u001b[39m.\u001b[39mglobal_pool \u001b[39m==\u001b[39m \u001b[39m'\u001b[39m\u001b[39mavg\u001b[39m\u001b[39m'\u001b[39m \u001b[39melse\u001b[39;00m x[:, \u001b[39m0\u001b[39m]\n",
      "File \u001b[0;32m~/Semi-supervised-learning/semilearn/nets/vit/vit.py:204\u001b[0m, in \u001b[0;36mVisionTransformer.extract\u001b[0;34m(self, x)\u001b[0m\n\u001b[1;32m    202\u001b[0m x \u001b[39m=\u001b[39m torch\u001b[39m.\u001b[39mcat((\u001b[39mself\u001b[39m\u001b[39m.\u001b[39mcls_token\u001b[39m.\u001b[39mexpand(x\u001b[39m.\u001b[39mshape[\u001b[39m0\u001b[39m], \u001b[39m-\u001b[39m\u001b[39m1\u001b[39m, \u001b[39m-\u001b[39m\u001b[39m1\u001b[39m), x), dim\u001b[39m=\u001b[39m\u001b[39m1\u001b[39m)\n\u001b[1;32m    203\u001b[0m x \u001b[39m=\u001b[39m \u001b[39mself\u001b[39m\u001b[39m.\u001b[39mpos_drop(x \u001b[39m+\u001b[39m \u001b[39mself\u001b[39m\u001b[39m.\u001b[39mpos_embed)\n\u001b[0;32m--> 204\u001b[0m x \u001b[39m=\u001b[39m \u001b[39mself\u001b[39;49m\u001b[39m.\u001b[39;49mblocks(x)\n\u001b[1;32m    205\u001b[0m x \u001b[39m=\u001b[39m \u001b[39mself\u001b[39m\u001b[39m.\u001b[39mnorm(x)\n\u001b[1;32m    206\u001b[0m \u001b[39mreturn\u001b[39;00m x\n",
      "File \u001b[0;32m/usr/local/lib/python3.8/dist-packages/torch/nn/modules/module.py:1130\u001b[0m, in \u001b[0;36mModule._call_impl\u001b[0;34m(self, *input, **kwargs)\u001b[0m\n\u001b[1;32m   1126\u001b[0m \u001b[39m# If we don't have any hooks, we want to skip the rest of the logic in\u001b[39;00m\n\u001b[1;32m   1127\u001b[0m \u001b[39m# this function, and just call forward.\u001b[39;00m\n\u001b[1;32m   1128\u001b[0m \u001b[39mif\u001b[39;00m \u001b[39mnot\u001b[39;00m (\u001b[39mself\u001b[39m\u001b[39m.\u001b[39m_backward_hooks \u001b[39mor\u001b[39;00m \u001b[39mself\u001b[39m\u001b[39m.\u001b[39m_forward_hooks \u001b[39mor\u001b[39;00m \u001b[39mself\u001b[39m\u001b[39m.\u001b[39m_forward_pre_hooks \u001b[39mor\u001b[39;00m _global_backward_hooks\n\u001b[1;32m   1129\u001b[0m         \u001b[39mor\u001b[39;00m _global_forward_hooks \u001b[39mor\u001b[39;00m _global_forward_pre_hooks):\n\u001b[0;32m-> 1130\u001b[0m     \u001b[39mreturn\u001b[39;00m forward_call(\u001b[39m*\u001b[39;49m\u001b[39minput\u001b[39;49m, \u001b[39m*\u001b[39;49m\u001b[39m*\u001b[39;49mkwargs)\n\u001b[1;32m   1131\u001b[0m \u001b[39m# Do not call functions when jit is used\u001b[39;00m\n\u001b[1;32m   1132\u001b[0m full_backward_hooks, non_full_backward_hooks \u001b[39m=\u001b[39m [], []\n",
      "File \u001b[0;32m/usr/local/lib/python3.8/dist-packages/torch/nn/modules/container.py:139\u001b[0m, in \u001b[0;36mSequential.forward\u001b[0;34m(self, input)\u001b[0m\n\u001b[1;32m    137\u001b[0m \u001b[39mdef\u001b[39;00m \u001b[39mforward\u001b[39m(\u001b[39mself\u001b[39m, \u001b[39minput\u001b[39m):\n\u001b[1;32m    138\u001b[0m     \u001b[39mfor\u001b[39;00m module \u001b[39min\u001b[39;00m \u001b[39mself\u001b[39m:\n\u001b[0;32m--> 139\u001b[0m         \u001b[39minput\u001b[39m \u001b[39m=\u001b[39m module(\u001b[39minput\u001b[39;49m)\n\u001b[1;32m    140\u001b[0m     \u001b[39mreturn\u001b[39;00m \u001b[39minput\u001b[39m\n",
      "File \u001b[0;32m/usr/local/lib/python3.8/dist-packages/torch/nn/modules/module.py:1130\u001b[0m, in \u001b[0;36mModule._call_impl\u001b[0;34m(self, *input, **kwargs)\u001b[0m\n\u001b[1;32m   1126\u001b[0m \u001b[39m# If we don't have any hooks, we want to skip the rest of the logic in\u001b[39;00m\n\u001b[1;32m   1127\u001b[0m \u001b[39m# this function, and just call forward.\u001b[39;00m\n\u001b[1;32m   1128\u001b[0m \u001b[39mif\u001b[39;00m \u001b[39mnot\u001b[39;00m (\u001b[39mself\u001b[39m\u001b[39m.\u001b[39m_backward_hooks \u001b[39mor\u001b[39;00m \u001b[39mself\u001b[39m\u001b[39m.\u001b[39m_forward_hooks \u001b[39mor\u001b[39;00m \u001b[39mself\u001b[39m\u001b[39m.\u001b[39m_forward_pre_hooks \u001b[39mor\u001b[39;00m _global_backward_hooks\n\u001b[1;32m   1129\u001b[0m         \u001b[39mor\u001b[39;00m _global_forward_hooks \u001b[39mor\u001b[39;00m _global_forward_pre_hooks):\n\u001b[0;32m-> 1130\u001b[0m     \u001b[39mreturn\u001b[39;00m forward_call(\u001b[39m*\u001b[39;49m\u001b[39minput\u001b[39;49m, \u001b[39m*\u001b[39;49m\u001b[39m*\u001b[39;49mkwargs)\n\u001b[1;32m   1131\u001b[0m \u001b[39m# Do not call functions when jit is used\u001b[39;00m\n\u001b[1;32m   1132\u001b[0m full_backward_hooks, non_full_backward_hooks \u001b[39m=\u001b[39m [], []\n",
      "File \u001b[0;32m~/Semi-supervised-learning/semilearn/nets/vit/vit.py:126\u001b[0m, in \u001b[0;36mBlock.forward\u001b[0;34m(self, x)\u001b[0m\n\u001b[1;32m    125\u001b[0m \u001b[39mdef\u001b[39;00m \u001b[39mforward\u001b[39m(\u001b[39mself\u001b[39m, x):\n\u001b[0;32m--> 126\u001b[0m     x \u001b[39m=\u001b[39m x \u001b[39m+\u001b[39m \u001b[39mself\u001b[39m\u001b[39m.\u001b[39mdrop_path1(\u001b[39mself\u001b[39m\u001b[39m.\u001b[39mls1(\u001b[39mself\u001b[39;49m\u001b[39m.\u001b[39;49mattn(\u001b[39mself\u001b[39;49m\u001b[39m.\u001b[39;49mnorm1(x))))\n\u001b[1;32m    127\u001b[0m     x \u001b[39m=\u001b[39m x \u001b[39m+\u001b[39m \u001b[39mself\u001b[39m\u001b[39m.\u001b[39mdrop_path2(\u001b[39mself\u001b[39m\u001b[39m.\u001b[39mls2(\u001b[39mself\u001b[39m\u001b[39m.\u001b[39mmlp(\u001b[39mself\u001b[39m\u001b[39m.\u001b[39mnorm2(x))))\n\u001b[1;32m    128\u001b[0m     \u001b[39mreturn\u001b[39;00m x\n",
      "File \u001b[0;32m/usr/local/lib/python3.8/dist-packages/torch/nn/modules/module.py:1130\u001b[0m, in \u001b[0;36mModule._call_impl\u001b[0;34m(self, *input, **kwargs)\u001b[0m\n\u001b[1;32m   1126\u001b[0m \u001b[39m# If we don't have any hooks, we want to skip the rest of the logic in\u001b[39;00m\n\u001b[1;32m   1127\u001b[0m \u001b[39m# this function, and just call forward.\u001b[39;00m\n\u001b[1;32m   1128\u001b[0m \u001b[39mif\u001b[39;00m \u001b[39mnot\u001b[39;00m (\u001b[39mself\u001b[39m\u001b[39m.\u001b[39m_backward_hooks \u001b[39mor\u001b[39;00m \u001b[39mself\u001b[39m\u001b[39m.\u001b[39m_forward_hooks \u001b[39mor\u001b[39;00m \u001b[39mself\u001b[39m\u001b[39m.\u001b[39m_forward_pre_hooks \u001b[39mor\u001b[39;00m _global_backward_hooks\n\u001b[1;32m   1129\u001b[0m         \u001b[39mor\u001b[39;00m _global_forward_hooks \u001b[39mor\u001b[39;00m _global_forward_pre_hooks):\n\u001b[0;32m-> 1130\u001b[0m     \u001b[39mreturn\u001b[39;00m forward_call(\u001b[39m*\u001b[39;49m\u001b[39minput\u001b[39;49m, \u001b[39m*\u001b[39;49m\u001b[39m*\u001b[39;49mkwargs)\n\u001b[1;32m   1131\u001b[0m \u001b[39m# Do not call functions when jit is used\u001b[39;00m\n\u001b[1;32m   1132\u001b[0m full_backward_hooks, non_full_backward_hooks \u001b[39m=\u001b[39m [], []\n",
      "File \u001b[0;32m~/Semi-supervised-learning/semilearn/nets/vit/vit.py:87\u001b[0m, in \u001b[0;36mAttention.forward\u001b[0;34m(self, x)\u001b[0m\n\u001b[1;32m     84\u001b[0m qkv \u001b[39m=\u001b[39m \u001b[39mself\u001b[39m\u001b[39m.\u001b[39mqkv(x)\u001b[39m.\u001b[39mreshape(B, N, \u001b[39m3\u001b[39m, \u001b[39mself\u001b[39m\u001b[39m.\u001b[39mnum_heads, C \u001b[39m/\u001b[39m\u001b[39m/\u001b[39m \u001b[39mself\u001b[39m\u001b[39m.\u001b[39mnum_heads)\u001b[39m.\u001b[39mpermute(\u001b[39m2\u001b[39m, \u001b[39m0\u001b[39m, \u001b[39m3\u001b[39m, \u001b[39m1\u001b[39m, \u001b[39m4\u001b[39m)\n\u001b[1;32m     85\u001b[0m q, k, v \u001b[39m=\u001b[39m qkv\u001b[39m.\u001b[39munbind(\u001b[39m0\u001b[39m)   \u001b[39m# make torchscript happy (cannot use tensor as tuple)\u001b[39;00m\n\u001b[0;32m---> 87\u001b[0m attn \u001b[39m=\u001b[39m (q \u001b[39m@\u001b[39;49m k\u001b[39m.\u001b[39;49mtranspose(\u001b[39m-\u001b[39;49m\u001b[39m2\u001b[39;49m, \u001b[39m-\u001b[39;49m\u001b[39m1\u001b[39;49m)) \u001b[39m*\u001b[39m \u001b[39mself\u001b[39m\u001b[39m.\u001b[39mscale\n\u001b[1;32m     88\u001b[0m attn \u001b[39m=\u001b[39m attn\u001b[39m.\u001b[39msoftmax(dim\u001b[39m=\u001b[39m\u001b[39m-\u001b[39m\u001b[39m1\u001b[39m)\n\u001b[1;32m     89\u001b[0m attn \u001b[39m=\u001b[39m \u001b[39mself\u001b[39m\u001b[39m.\u001b[39mattn_drop(attn)\n",
      "\u001b[0;31mRuntimeError\u001b[0m: CUDA out of memory. Tried to allocate 182.00 MiB (GPU 0; 10.75 GiB total capacity; 9.30 GiB already allocated; 139.75 MiB free; 9.35 GiB reserved in total by PyTorch) If reserved memory is >> allocated memory try setting max_split_size_mb to avoid fragmentation.  See documentation for Memory Management and PYTORCH_CUDA_ALLOC_CONF"
     ]
    }
   ],
   "source": [
    "# 10 epcoh으로 실험 진행\n",
    "\n",
    "epochs = 10\n",
    "algorithm_list = ['remixmatch','fixmatch','flexmatch']\n",
    "num_labels_list = [40]\n",
    "for algorithm in algorithm_list:\n",
    "    for num_labels in num_labels_list:\n",
    "        train_lb_loader, train_ulb_loader, eval_loader = dataloader(algorithm, num_labels)\n",
    "        trainer = train(algorithm, num_labels, train_lb_loader, train_ulb_loader, eval_loader, epochs)\n",
    "        globals()[\"eval_dict_{}_{}\".format(algorithm, num_labels)] = trainer.evaluate(eval_loader)\n",
    "        globals()[\"y_pred_{}_{}\".format(algorithm, num_labels)], globals()[\"y_logit_{}_{}\".format(algorithm, num_labels)]= trainer.predict(eval_loader)"
   ]
  },
  {
   "attachments": {},
   "cell_type": "markdown",
   "metadata": {},
   "source": [
    "### 실험 중간 경과\n",
    "FixMatch와 FlexMatch의 경우 batch size를 16으로 진행하였을때 run out of memory error가 발생하여 batch size를 8로 수정하고 실험을 진행하겠습니다."
   ]
  },
  {
   "cell_type": "code",
   "execution_count": 19,
   "metadata": {},
   "outputs": [
    {
     "name": "stderr",
     "output_type": "stream",
     "text": [
      "/bin/sh: 1: netstat: not found\n"
     ]
    },
    {
     "name": "stdout",
     "output_type": "stream",
     "text": [
      "Files already downloaded and verified\n",
      "lb count: [4, 4, 4, 4, 4, 4, 4, 4, 4, 4]\n",
      "ulb count: [5000, 5000, 5000, 5000, 5000, 5000, 5000, 5000, 5000, 5000]\n",
      "Files already downloaded and verified\n"
     ]
    },
    {
     "name": "stderr",
     "output_type": "stream",
     "text": [
      "/bin/sh: 1: netstat: not found\n"
     ]
    },
    {
     "name": "stdout",
     "output_type": "stream",
     "text": [
      "Files already downloaded and verified\n",
      "lb count: [4, 4, 4, 4, 4, 4, 4, 4, 4, 4]\n",
      "ulb count: [5000, 5000, 5000, 5000, 5000, 5000, 5000, 5000, 5000, 5000]\n",
      "Files already downloaded and verified\n",
      "unlabeled data number: 50000, labeled data number 40\n",
      "Create train and test data loaders\n",
      "[!] data loader keys: dict_keys(['train_lb', 'train_ulb', 'eval'])\n",
      "_IncompatibleKeys(missing_keys=['head.weight', 'head.bias'], unexpected_keys=[])\n",
      "Create optimizer and scheduler\n",
      "Epoch: 0\n"
     ]
    },
    {
     "ename": "KeyboardInterrupt",
     "evalue": "",
     "output_type": "error",
     "traceback": [
      "\u001b[0;31m---------------------------------------------------------------------------\u001b[0m",
      "\u001b[0;31mKeyboardInterrupt\u001b[0m                         Traceback (most recent call last)",
      "\u001b[1;32m/root/Semi-supervised-learning/tutorial.ipynb Cell 16\u001b[0m in \u001b[0;36m<cell line: 6>\u001b[0;34m()\u001b[0m\n\u001b[1;32m      <a href='vscode-notebook-cell://attached-container%2B7b22636f6e7461696e65724e616d65223a222f73736c222c2273657474696e6773223a7b22686f7374223a227373683a2f2f3136332e3135322e3138352e313737227d7d/root/Semi-supervised-learning/tutorial.ipynb#X21sdnNjb2RlLXJlbW90ZQ%3D%3D?line=6'>7</a>\u001b[0m \u001b[39mfor\u001b[39;00m num_labels \u001b[39min\u001b[39;00m num_labels_list:\n\u001b[1;32m      <a href='vscode-notebook-cell://attached-container%2B7b22636f6e7461696e65724e616d65223a222f73736c222c2273657474696e6773223a7b22686f7374223a227373683a2f2f3136332e3135322e3138352e313737227d7d/root/Semi-supervised-learning/tutorial.ipynb#X21sdnNjb2RlLXJlbW90ZQ%3D%3D?line=7'>8</a>\u001b[0m     train_lb_loader, train_ulb_loader, eval_loader \u001b[39m=\u001b[39m dataloader(algorithm, num_labels)\n\u001b[0;32m----> <a href='vscode-notebook-cell://attached-container%2B7b22636f6e7461696e65724e616d65223a222f73736c222c2273657474696e6773223a7b22686f7374223a227373683a2f2f3136332e3135322e3138352e313737227d7d/root/Semi-supervised-learning/tutorial.ipynb#X21sdnNjb2RlLXJlbW90ZQ%3D%3D?line=8'>9</a>\u001b[0m     trainer \u001b[39m=\u001b[39m train(algorithm, num_labels, train_lb_loader, train_ulb_loader, eval_loader, epochs)\n\u001b[1;32m     <a href='vscode-notebook-cell://attached-container%2B7b22636f6e7461696e65724e616d65223a222f73736c222c2273657474696e6773223a7b22686f7374223a227373683a2f2f3136332e3135322e3138352e313737227d7d/root/Semi-supervised-learning/tutorial.ipynb#X21sdnNjb2RlLXJlbW90ZQ%3D%3D?line=9'>10</a>\u001b[0m     \u001b[39mglobals\u001b[39m()[\u001b[39m\"\u001b[39m\u001b[39meval_dict_\u001b[39m\u001b[39m{}\u001b[39;00m\u001b[39m_\u001b[39m\u001b[39m{}\u001b[39;00m\u001b[39m\"\u001b[39m\u001b[39m.\u001b[39mformat(algorithm, num_labels)] \u001b[39m=\u001b[39m trainer\u001b[39m.\u001b[39mevaluate(eval_loader)\n\u001b[1;32m     <a href='vscode-notebook-cell://attached-container%2B7b22636f6e7461696e65724e616d65223a222f73736c222c2273657474696e6773223a7b22686f7374223a227373683a2f2f3136332e3135322e3138352e313737227d7d/root/Semi-supervised-learning/tutorial.ipynb#X21sdnNjb2RlLXJlbW90ZQ%3D%3D?line=10'>11</a>\u001b[0m     \u001b[39mglobals\u001b[39m()[\u001b[39m\"\u001b[39m\u001b[39my_pred_\u001b[39m\u001b[39m{}\u001b[39;00m\u001b[39m_\u001b[39m\u001b[39m{}\u001b[39;00m\u001b[39m\"\u001b[39m\u001b[39m.\u001b[39mformat(algorithm, num_labels)], \u001b[39mglobals\u001b[39m()[\u001b[39m\"\u001b[39m\u001b[39my_logit_\u001b[39m\u001b[39m{}\u001b[39;00m\u001b[39m_\u001b[39m\u001b[39m{}\u001b[39;00m\u001b[39m\"\u001b[39m\u001b[39m.\u001b[39mformat(algorithm, num_labels)]\u001b[39m=\u001b[39m trainer\u001b[39m.\u001b[39mpredict(eval_loader)\n",
      "\u001b[1;32m/root/Semi-supervised-learning/tutorial.ipynb Cell 16\u001b[0m in \u001b[0;36mtrain\u001b[0;34m(algorithm, num_labels, train_lb_loader, train_ulb_loader, eval_loader, epochs)\u001b[0m\n\u001b[1;32m     <a href='vscode-notebook-cell://attached-container%2B7b22636f6e7461696e65724e616d65223a222f73736c222c2273657474696e6773223a7b22686f7374223a227373683a2f2f3136332e3135322e3138352e313737227d7d/root/Semi-supervised-learning/tutorial.ipynb#X21sdnNjb2RlLXJlbW90ZQ%3D%3D?line=11'>12</a>\u001b[0m algorithm \u001b[39m=\u001b[39m get_algorithm(config,  get_net_builder(config\u001b[39m.\u001b[39mnet, from_name\u001b[39m=\u001b[39m\u001b[39mFalse\u001b[39;00m), tb_log\u001b[39m=\u001b[39m\u001b[39mNone\u001b[39;00m, logger\u001b[39m=\u001b[39m\u001b[39mNone\u001b[39;00m)\n\u001b[1;32m     <a href='vscode-notebook-cell://attached-container%2B7b22636f6e7461696e65724e616d65223a222f73736c222c2273657474696e6773223a7b22686f7374223a227373683a2f2f3136332e3135322e3138352e313737227d7d/root/Semi-supervised-learning/tutorial.ipynb#X21sdnNjb2RlLXJlbW90ZQ%3D%3D?line=13'>14</a>\u001b[0m trainer \u001b[39m=\u001b[39m Trainer(config, algorithm)\n\u001b[0;32m---> <a href='vscode-notebook-cell://attached-container%2B7b22636f6e7461696e65724e616d65223a222f73736c222c2273657474696e6773223a7b22686f7374223a227373683a2f2f3136332e3135322e3138352e313737227d7d/root/Semi-supervised-learning/tutorial.ipynb#X21sdnNjb2RlLXJlbW90ZQ%3D%3D?line=14'>15</a>\u001b[0m trainer\u001b[39m.\u001b[39;49mfit(train_lb_loader, train_ulb_loader, eval_loader)\n\u001b[1;32m     <a href='vscode-notebook-cell://attached-container%2B7b22636f6e7461696e65724e616d65223a222f73736c222c2273657474696e6773223a7b22686f7374223a227373683a2f2f3136332e3135322e3138352e313737227d7d/root/Semi-supervised-learning/tutorial.ipynb#X21sdnNjb2RlLXJlbW90ZQ%3D%3D?line=16'>17</a>\u001b[0m \u001b[39mreturn\u001b[39;00m trainer\n",
      "File \u001b[0;32m~/Semi-supervised-learning/semilearn/lighting/trainer.py:56\u001b[0m, in \u001b[0;36mTrainer.fit\u001b[0;34m(self, train_lb_loader, train_ulb_loader, eval_loader)\u001b[0m\n\u001b[1;32m     53\u001b[0m \u001b[39mif\u001b[39;00m it \u001b[39m>\u001b[39m \u001b[39mself\u001b[39m\u001b[39m.\u001b[39mconfig\u001b[39m.\u001b[39mnum_train_iter:\n\u001b[1;32m     54\u001b[0m     \u001b[39mbreak\u001b[39;00m\n\u001b[0;32m---> 56\u001b[0m result \u001b[39m=\u001b[39m \u001b[39mself\u001b[39;49m\u001b[39m.\u001b[39;49malgorithm\u001b[39m.\u001b[39;49mtrain_step(\u001b[39m*\u001b[39;49m\u001b[39m*\u001b[39;49m\u001b[39mself\u001b[39;49m\u001b[39m.\u001b[39;49malgorithm\u001b[39m.\u001b[39;49mprocess_batch(\u001b[39m*\u001b[39;49m\u001b[39m*\u001b[39;49mdata_lb, \u001b[39m*\u001b[39;49m\u001b[39m*\u001b[39;49mdata_ulb))\n\u001b[1;32m     58\u001b[0m bar\u001b[39m.\u001b[39msuffix \u001b[39m=\u001b[39m (\u001b[39m\"\u001b[39m\u001b[39mIter: \u001b[39m\u001b[39m{batch:4}\u001b[39;00m\u001b[39m/\u001b[39m\u001b[39m{iter:4}\u001b[39;00m\u001b[39m.\u001b[39m\u001b[39m\"\u001b[39m\u001b[39m.\u001b[39mformat(batch\u001b[39m=\u001b[39mit, \u001b[39miter\u001b[39m\u001b[39m=\u001b[39m\u001b[39mlen\u001b[39m(train_lb_loader)))\n\u001b[1;32m     59\u001b[0m bar\u001b[39m.\u001b[39mnext()\n",
      "File \u001b[0;32m~/Semi-supervised-learning/semilearn/algorithms/fixmatch/fixmatch.py:91\u001b[0m, in \u001b[0;36mFixMatch.train_step\u001b[0;34m(self, x_lb, y_lb, x_ulb_w, x_ulb_s)\u001b[0m\n\u001b[1;32m     84\u001b[0m     unsup_loss \u001b[39m=\u001b[39m consistency_loss(logits_x_ulb_s,\n\u001b[1;32m     85\u001b[0m                                   pseudo_label,\n\u001b[1;32m     86\u001b[0m                                   \u001b[39m'\u001b[39m\u001b[39mce\u001b[39m\u001b[39m'\u001b[39m,\n\u001b[1;32m     87\u001b[0m                                   mask\u001b[39m=\u001b[39mmask)\n\u001b[1;32m     89\u001b[0m     total_loss \u001b[39m=\u001b[39m sup_loss \u001b[39m+\u001b[39m \u001b[39mself\u001b[39m\u001b[39m.\u001b[39mlambda_u \u001b[39m*\u001b[39m unsup_loss\n\u001b[0;32m---> 91\u001b[0m \u001b[39mself\u001b[39;49m\u001b[39m.\u001b[39;49mcall_hook(\u001b[39m\"\u001b[39;49m\u001b[39mparam_update\u001b[39;49m\u001b[39m\"\u001b[39;49m, \u001b[39m\"\u001b[39;49m\u001b[39mParamUpdateHook\u001b[39;49m\u001b[39m\"\u001b[39;49m, loss\u001b[39m=\u001b[39;49mtotal_loss)\n\u001b[1;32m     93\u001b[0m tb_dict \u001b[39m=\u001b[39m {}\n\u001b[1;32m     94\u001b[0m tb_dict[\u001b[39m'\u001b[39m\u001b[39mtrain/sup_loss\u001b[39m\u001b[39m'\u001b[39m] \u001b[39m=\u001b[39m sup_loss\u001b[39m.\u001b[39mitem()\n",
      "File \u001b[0;32m~/Semi-supervised-learning/semilearn/core/algorithmbase.py:419\u001b[0m, in \u001b[0;36mAlgorithmBase.call_hook\u001b[0;34m(self, fn_name, hook_name, *args, **kwargs)\u001b[0m\n\u001b[1;32m    410\u001b[0m \u001b[39m\"\"\"Call all hooks.\u001b[39;00m\n\u001b[1;32m    411\u001b[0m \u001b[39mArgs:\u001b[39;00m\n\u001b[1;32m    412\u001b[0m \u001b[39m    fn_name (str): The function name in each hook to be called, such as\u001b[39;00m\n\u001b[0;32m   (...)\u001b[0m\n\u001b[1;32m    415\u001b[0m \u001b[39m        \"param_update\" or \"dist_align\", uesed to call single hook in train_step.\u001b[39;00m\n\u001b[1;32m    416\u001b[0m \u001b[39m\"\"\"\u001b[39;00m\n\u001b[1;32m    418\u001b[0m \u001b[39mif\u001b[39;00m hook_name \u001b[39mis\u001b[39;00m \u001b[39mnot\u001b[39;00m \u001b[39mNone\u001b[39;00m:\n\u001b[0;32m--> 419\u001b[0m     \u001b[39mreturn\u001b[39;00m \u001b[39mgetattr\u001b[39;49m(\u001b[39mself\u001b[39;49m\u001b[39m.\u001b[39;49mhooks_dict[hook_name], fn_name)(\u001b[39mself\u001b[39;49m, \u001b[39m*\u001b[39;49margs, \u001b[39m*\u001b[39;49m\u001b[39m*\u001b[39;49mkwargs)\n\u001b[1;32m    421\u001b[0m \u001b[39mfor\u001b[39;00m hook \u001b[39min\u001b[39;00m \u001b[39mself\u001b[39m\u001b[39m.\u001b[39mhooks_dict\u001b[39m.\u001b[39mvalues():\n\u001b[1;32m    422\u001b[0m     \u001b[39mif\u001b[39;00m \u001b[39mhasattr\u001b[39m(hook, fn_name):\n",
      "File \u001b[0;32m~/Semi-supervised-learning/semilearn/core/hooks/param_update.py:28\u001b[0m, in \u001b[0;36mParamUpdateHook.param_update\u001b[0;34m(self, algorithm, loss)\u001b[0m\n\u001b[1;32m     26\u001b[0m     \u001b[39mif\u001b[39;00m (algorithm\u001b[39m.\u001b[39mclip_grad \u001b[39m>\u001b[39m \u001b[39m0\u001b[39m):\n\u001b[1;32m     27\u001b[0m         torch\u001b[39m.\u001b[39mnn\u001b[39m.\u001b[39mutils\u001b[39m.\u001b[39mclip_grad_norm_(algorithm\u001b[39m.\u001b[39mmodel\u001b[39m.\u001b[39mparameters(), algorithm\u001b[39m.\u001b[39mclip_grad)\n\u001b[0;32m---> 28\u001b[0m     algorithm\u001b[39m.\u001b[39;49moptimizer\u001b[39m.\u001b[39;49mstep()\n\u001b[1;32m     30\u001b[0m algorithm\u001b[39m.\u001b[39mscheduler\u001b[39m.\u001b[39mstep()\n\u001b[1;32m     31\u001b[0m algorithm\u001b[39m.\u001b[39mmodel\u001b[39m.\u001b[39mzero_grad()\n",
      "File \u001b[0;32m/usr/local/lib/python3.8/dist-packages/torch/optim/lr_scheduler.py:65\u001b[0m, in \u001b[0;36m_LRScheduler.__init__.<locals>.with_counter.<locals>.wrapper\u001b[0;34m(*args, **kwargs)\u001b[0m\n\u001b[1;32m     63\u001b[0m instance\u001b[39m.\u001b[39m_step_count \u001b[39m+\u001b[39m\u001b[39m=\u001b[39m \u001b[39m1\u001b[39m\n\u001b[1;32m     64\u001b[0m wrapped \u001b[39m=\u001b[39m func\u001b[39m.\u001b[39m\u001b[39m__get__\u001b[39m(instance, \u001b[39mcls\u001b[39m)\n\u001b[0;32m---> 65\u001b[0m \u001b[39mreturn\u001b[39;00m wrapped(\u001b[39m*\u001b[39;49margs, \u001b[39m*\u001b[39;49m\u001b[39m*\u001b[39;49mkwargs)\n",
      "File \u001b[0;32m/usr/local/lib/python3.8/dist-packages/torch/optim/optimizer.py:109\u001b[0m, in \u001b[0;36mOptimizer._hook_for_profile.<locals>.profile_hook_step.<locals>.wrapper\u001b[0;34m(*args, **kwargs)\u001b[0m\n\u001b[1;32m    107\u001b[0m profile_name \u001b[39m=\u001b[39m \u001b[39m\"\u001b[39m\u001b[39mOptimizer.step#\u001b[39m\u001b[39m{}\u001b[39;00m\u001b[39m.step\u001b[39m\u001b[39m\"\u001b[39m\u001b[39m.\u001b[39mformat(obj\u001b[39m.\u001b[39m\u001b[39m__class__\u001b[39m\u001b[39m.\u001b[39m\u001b[39m__name__\u001b[39m)\n\u001b[1;32m    108\u001b[0m \u001b[39mwith\u001b[39;00m torch\u001b[39m.\u001b[39mautograd\u001b[39m.\u001b[39mprofiler\u001b[39m.\u001b[39mrecord_function(profile_name):\n\u001b[0;32m--> 109\u001b[0m     \u001b[39mreturn\u001b[39;00m func(\u001b[39m*\u001b[39;49margs, \u001b[39m*\u001b[39;49m\u001b[39m*\u001b[39;49mkwargs)\n",
      "File \u001b[0;32m/usr/local/lib/python3.8/dist-packages/torch/autograd/grad_mode.py:27\u001b[0m, in \u001b[0;36m_DecoratorContextManager.__call__.<locals>.decorate_context\u001b[0;34m(*args, **kwargs)\u001b[0m\n\u001b[1;32m     24\u001b[0m \u001b[39m@functools\u001b[39m\u001b[39m.\u001b[39mwraps(func)\n\u001b[1;32m     25\u001b[0m \u001b[39mdef\u001b[39;00m \u001b[39mdecorate_context\u001b[39m(\u001b[39m*\u001b[39margs, \u001b[39m*\u001b[39m\u001b[39m*\u001b[39mkwargs):\n\u001b[1;32m     26\u001b[0m     \u001b[39mwith\u001b[39;00m \u001b[39mself\u001b[39m\u001b[39m.\u001b[39mclone():\n\u001b[0;32m---> 27\u001b[0m         \u001b[39mreturn\u001b[39;00m func(\u001b[39m*\u001b[39;49margs, \u001b[39m*\u001b[39;49m\u001b[39m*\u001b[39;49mkwargs)\n",
      "File \u001b[0;32m/usr/local/lib/python3.8/dist-packages/torch/optim/sgd.py:146\u001b[0m, in \u001b[0;36mSGD.step\u001b[0;34m(self, closure)\u001b[0m\n\u001b[1;32m    143\u001b[0m         \u001b[39melse\u001b[39;00m:\n\u001b[1;32m    144\u001b[0m             momentum_buffer_list\u001b[39m.\u001b[39mappend(state[\u001b[39m'\u001b[39m\u001b[39mmomentum_buffer\u001b[39m\u001b[39m'\u001b[39m])\n\u001b[0;32m--> 146\u001b[0m sgd(params_with_grad,\n\u001b[1;32m    147\u001b[0m     d_p_list,\n\u001b[1;32m    148\u001b[0m     momentum_buffer_list,\n\u001b[1;32m    149\u001b[0m     weight_decay\u001b[39m=\u001b[39;49mgroup[\u001b[39m'\u001b[39;49m\u001b[39mweight_decay\u001b[39;49m\u001b[39m'\u001b[39;49m],\n\u001b[1;32m    150\u001b[0m     momentum\u001b[39m=\u001b[39;49mgroup[\u001b[39m'\u001b[39;49m\u001b[39mmomentum\u001b[39;49m\u001b[39m'\u001b[39;49m],\n\u001b[1;32m    151\u001b[0m     lr\u001b[39m=\u001b[39;49mgroup[\u001b[39m'\u001b[39;49m\u001b[39mlr\u001b[39;49m\u001b[39m'\u001b[39;49m],\n\u001b[1;32m    152\u001b[0m     dampening\u001b[39m=\u001b[39;49mgroup[\u001b[39m'\u001b[39;49m\u001b[39mdampening\u001b[39;49m\u001b[39m'\u001b[39;49m],\n\u001b[1;32m    153\u001b[0m     nesterov\u001b[39m=\u001b[39;49mgroup[\u001b[39m'\u001b[39;49m\u001b[39mnesterov\u001b[39;49m\u001b[39m'\u001b[39;49m],\n\u001b[1;32m    154\u001b[0m     maximize\u001b[39m=\u001b[39;49mgroup[\u001b[39m'\u001b[39;49m\u001b[39mmaximize\u001b[39;49m\u001b[39m'\u001b[39;49m],\n\u001b[1;32m    155\u001b[0m     has_sparse_grad\u001b[39m=\u001b[39;49mhas_sparse_grad,\n\u001b[1;32m    156\u001b[0m     foreach\u001b[39m=\u001b[39;49mgroup[\u001b[39m'\u001b[39;49m\u001b[39mforeach\u001b[39;49m\u001b[39m'\u001b[39;49m])\n\u001b[1;32m    158\u001b[0m \u001b[39m# update momentum_buffers in state\u001b[39;00m\n\u001b[1;32m    159\u001b[0m \u001b[39mfor\u001b[39;00m p, momentum_buffer \u001b[39min\u001b[39;00m \u001b[39mzip\u001b[39m(params_with_grad, momentum_buffer_list):\n",
      "File \u001b[0;32m/usr/local/lib/python3.8/dist-packages/torch/optim/sgd.py:197\u001b[0m, in \u001b[0;36msgd\u001b[0;34m(params, d_p_list, momentum_buffer_list, has_sparse_grad, foreach, weight_decay, momentum, lr, dampening, nesterov, maximize)\u001b[0m\n\u001b[1;32m    194\u001b[0m \u001b[39melse\u001b[39;00m:\n\u001b[1;32m    195\u001b[0m     func \u001b[39m=\u001b[39m _single_tensor_sgd\n\u001b[0;32m--> 197\u001b[0m func(params,\n\u001b[1;32m    198\u001b[0m      d_p_list,\n\u001b[1;32m    199\u001b[0m      momentum_buffer_list,\n\u001b[1;32m    200\u001b[0m      weight_decay\u001b[39m=\u001b[39;49mweight_decay,\n\u001b[1;32m    201\u001b[0m      momentum\u001b[39m=\u001b[39;49mmomentum,\n\u001b[1;32m    202\u001b[0m      lr\u001b[39m=\u001b[39;49mlr,\n\u001b[1;32m    203\u001b[0m      dampening\u001b[39m=\u001b[39;49mdampening,\n\u001b[1;32m    204\u001b[0m      nesterov\u001b[39m=\u001b[39;49mnesterov,\n\u001b[1;32m    205\u001b[0m      has_sparse_grad\u001b[39m=\u001b[39;49mhas_sparse_grad,\n\u001b[1;32m    206\u001b[0m      maximize\u001b[39m=\u001b[39;49mmaximize)\n",
      "File \u001b[0;32m/usr/local/lib/python3.8/dist-packages/torch/optim/sgd.py:233\u001b[0m, in \u001b[0;36m_single_tensor_sgd\u001b[0;34m(params, d_p_list, momentum_buffer_list, weight_decay, momentum, lr, dampening, nesterov, maximize, has_sparse_grad)\u001b[0m\n\u001b[1;32m    231\u001b[0m     momentum_buffer_list[i] \u001b[39m=\u001b[39m buf\n\u001b[1;32m    232\u001b[0m \u001b[39melse\u001b[39;00m:\n\u001b[0;32m--> 233\u001b[0m     buf\u001b[39m.\u001b[39;49mmul_(momentum)\u001b[39m.\u001b[39madd_(d_p, alpha\u001b[39m=\u001b[39m\u001b[39m1\u001b[39m \u001b[39m-\u001b[39m dampening)\n\u001b[1;32m    235\u001b[0m \u001b[39mif\u001b[39;00m nesterov:\n\u001b[1;32m    236\u001b[0m     d_p \u001b[39m=\u001b[39m d_p\u001b[39m.\u001b[39madd(buf, alpha\u001b[39m=\u001b[39mmomentum)\n",
      "\u001b[0;31mKeyboardInterrupt\u001b[0m: "
     ]
    }
   ],
   "source": [
    "# 10 epcoh으로 실험 진행\n",
    "\n",
    "epochs = 10\n",
    "algorithm_list = ['fixmatch','flexmatch']\n",
    "num_labels_list = [40]\n",
    "for algorithm in algorithm_list:\n",
    "    for num_labels in num_labels_list:\n",
    "        train_lb_loader, train_ulb_loader, eval_loader = dataloader(algorithm, num_labels)\n",
    "        trainer = train(algorithm, num_labels, train_lb_loader, train_ulb_loader, eval_loader, epochs)\n",
    "        globals()[\"eval_dict_{}_{}\".format(algorithm, num_labels)] = trainer.evaluate(eval_loader)\n",
    "        globals()[\"y_pred_{}_{}\".format(algorithm, num_labels)], globals()[\"y_logit_{}_{}\".format(algorithm, num_labels)]= trainer.predict(eval_loader)"
   ]
  },
  {
   "attachments": {},
   "cell_type": "markdown",
   "metadata": {},
   "source": [
    "### 실험 결과 분석\n",
    "\n",
    "각 알고리즘의 labeled data를 class당 4개씩 사용하였을때의 semi-supervised learning의 결과는 다음과 같습니다.  \n",
    "\n",
    "<img src=\"ssl_pictures/results_all.png\" width=\"708px\" height=\"257px\" title=\"RESULT\">  \n",
    "\n",
    "위의 표에서 알 수 있듯이, MixMatch가 가장 높은 성능을 기록하였습니다. 다만 모든 알고리즘에서 성능이 상대적으로 낮은 것을 확인 할 수 있었습니다. 높은 확률로 학습 epoch이 작기 때문에 발생한 문제로 예상됩니다. 다만 시간적, 장치적 한계로 인해 Microsoft 코드 상에서 제안하는 학습 epoch을 진행하기에는 무리가 있었습니다. 조금 더 시간적, 장치적 여유를 갖고 실험을 진행하였다면 더 높은 성능을 얻을 수 있을 것 이라 판단됩니다.\n",
    "\n",
    "우선은 실험에서 가장 높은 성능을 보인 **MixMatch**에 대해 labeled data의 수를 바꿔가며 추가 실험을 진행하도록 하겠습니다.  \n",
    "\n",
    "\n",
    "\n"
   ]
  },
  {
   "cell_type": "code",
   "execution_count": 22,
   "metadata": {},
   "outputs": [
    {
     "name": "stderr",
     "output_type": "stream",
     "text": [
      "/bin/sh: 1: netstat: not found\n"
     ]
    },
    {
     "name": "stdout",
     "output_type": "stream",
     "text": [
      "Files already downloaded and verified\n",
      "lb count: [25, 25, 25, 25, 25, 25, 25, 25, 25, 25]\n",
      "ulb count: [5000, 5000, 5000, 5000, 5000, 5000, 5000, 5000, 5000, 5000]\n",
      "Files already downloaded and verified\n"
     ]
    },
    {
     "name": "stderr",
     "output_type": "stream",
     "text": [
      "/bin/sh: 1: netstat: not found\n"
     ]
    },
    {
     "name": "stdout",
     "output_type": "stream",
     "text": [
      "Files already downloaded and verified\n",
      "lb count: [25, 25, 25, 25, 25, 25, 25, 25, 25, 25]\n",
      "ulb count: [5000, 5000, 5000, 5000, 5000, 5000, 5000, 5000, 5000, 5000]\n",
      "Files already downloaded and verified\n",
      "unlabeled data number: 50000, labeled data number 250\n",
      "Create train and test data loaders\n",
      "[!] data loader keys: dict_keys(['train_lb', 'train_ulb', 'eval'])\n",
      "_IncompatibleKeys(missing_keys=['head.weight', 'head.bias'], unexpected_keys=[])\n",
      "Create optimizer and scheduler\n",
      "Epoch: 0\n"
     ]
    },
    {
     "name": "stderr",
     "output_type": "stream",
     "text": [
      "/usr/local/lib/python3.8/dist-packages/sklearn/metrics/_classification.py:1318: UndefinedMetricWarning: Precision is ill-defined and being set to 0.0 in labels with no predicted samples. Use `zero_division` parameter to control this behavior.\n",
      "  _warn_prf(average, modifier, msg_start, len(result))\n",
      "[2022-12-27 04:05:16,451 INFO] confusion matrix\n",
      "[2022-12-27 04:05:16,451 INFO] [[0.474 0.095 0.    0.305 0.038 0.    0.01  0.    0.078 0.   ]\n",
      " [0.17  0.303 0.    0.5   0.006 0.    0.015 0.    0.006 0.   ]\n",
      " [0.083 0.049 0.    0.63  0.065 0.    0.165 0.    0.008 0.   ]\n",
      " [0.029 0.045 0.    0.807 0.032 0.    0.087 0.    0.    0.   ]\n",
      " [0.07  0.022 0.    0.504 0.088 0.    0.312 0.    0.004 0.   ]\n",
      " [0.032 0.043 0.    0.834 0.024 0.    0.067 0.    0.    0.   ]\n",
      " [0.022 0.015 0.    0.563 0.033 0.    0.367 0.    0.    0.   ]\n",
      " [0.033 0.07  0.    0.829 0.017 0.    0.05  0.    0.001 0.   ]\n",
      " [0.465 0.15  0.    0.291 0.017 0.    0.004 0.    0.073 0.   ]\n",
      " [0.183 0.232 0.    0.561 0.007 0.    0.01  0.    0.007 0.   ]]\n",
      "[2022-12-27 04:05:16,453 INFO] evaluation metric\n",
      "[2022-12-27 04:05:16,453 INFO] acc: 0.2112\n",
      "[2022-12-27 04:05:16,453 INFO] precision: 0.1757\n",
      "[2022-12-27 04:05:16,454 INFO] recall: 0.2112\n",
      "[2022-12-27 04:05:16,454 INFO] f1: 0.1514\n"
     ]
    },
    {
     "name": "stdout",
     "output_type": "stream",
     "text": [
      "model saved: ./saved_models/classic_cv/mixmatch_cifar10_250_0/latest_model.pth\n",
      "model saved: ./saved_models/classic_cv/mixmatch_cifar10_250_0/model_best.pth\n",
      "Epoch: 1\n"
     ]
    },
    {
     "name": "stderr",
     "output_type": "stream",
     "text": [
      "[2022-12-27 04:19:59,986 INFO] confusion matrix\n",
      "[2022-12-27 04:19:59,987 INFO] [[0.189 0.263 0.036 0.066 0.039 0.08  0.026 0.02  0.234 0.047]\n",
      " [0.034 0.642 0.001 0.017 0.004 0.149 0.027 0.025 0.039 0.062]\n",
      " [0.027 0.108 0.029 0.141 0.122 0.189 0.241 0.061 0.058 0.024]\n",
      " [0.012 0.093 0.012 0.222 0.039 0.356 0.122 0.108 0.005 0.031]\n",
      " [0.024 0.055 0.011 0.126 0.14  0.122 0.415 0.066 0.03  0.011]\n",
      " [0.018 0.097 0.014 0.22  0.033 0.342 0.118 0.109 0.012 0.037]\n",
      " [0.008 0.037 0.004 0.1   0.05  0.099 0.539 0.116 0.013 0.034]\n",
      " [0.015 0.117 0.011 0.146 0.031 0.358 0.11  0.151 0.016 0.045]\n",
      " [0.09  0.368 0.023 0.031 0.015 0.077 0.018 0.015 0.281 0.082]\n",
      " [0.053 0.491 0.005 0.025 0.008 0.193 0.02  0.039 0.064 0.102]]\n",
      "[2022-12-27 04:19:59,988 INFO] evaluation metric\n",
      "[2022-12-27 04:19:59,988 INFO] acc: 0.2637\n",
      "[2022-12-27 04:19:59,989 INFO] precision: 0.2682\n",
      "[2022-12-27 04:19:59,989 INFO] recall: 0.2637\n",
      "[2022-12-27 04:19:59,989 INFO] f1: 0.2377\n"
     ]
    },
    {
     "name": "stdout",
     "output_type": "stream",
     "text": [
      "model saved: ./saved_models/classic_cv/mixmatch_cifar10_250_0/latest_model.pth\n",
      "model saved: ./saved_models/classic_cv/mixmatch_cifar10_250_0/model_best.pth\n",
      "Epoch: 2\n"
     ]
    },
    {
     "name": "stderr",
     "output_type": "stream",
     "text": [
      "[2022-12-27 04:34:43,786 INFO] confusion matrix\n",
      "[2022-12-27 04:34:43,787 INFO] [[0.285 0.103 0.131 0.025 0.02  0.007 0.009 0.079 0.065 0.276]\n",
      " [0.04  0.334 0.04  0.018 0.003 0.008 0.009 0.074 0.017 0.457]\n",
      " [0.059 0.111 0.195 0.043 0.107 0.031 0.111 0.208 0.015 0.12 ]\n",
      " [0.009 0.158 0.083 0.216 0.044 0.073 0.077 0.206 0.007 0.127]\n",
      " [0.053 0.068 0.092 0.052 0.226 0.018 0.19  0.231 0.008 0.062]\n",
      " [0.025 0.123 0.101 0.16  0.04  0.108 0.048 0.282 0.003 0.11 ]\n",
      " [0.032 0.064 0.077 0.093 0.073 0.024 0.397 0.159 0.004 0.077]\n",
      " [0.036 0.078 0.068 0.055 0.032 0.043 0.06  0.491 0.004 0.133]\n",
      " [0.201 0.131 0.058 0.014 0.013 0.004 0.016 0.05  0.161 0.352]\n",
      " [0.047 0.149 0.026 0.029 0.004 0.003 0.012 0.077 0.02  0.633]]\n",
      "[2022-12-27 04:34:43,788 INFO] evaluation metric\n",
      "[2022-12-27 04:34:43,789 INFO] acc: 0.3046\n",
      "[2022-12-27 04:34:43,789 INFO] precision: 0.3377\n",
      "[2022-12-27 04:34:43,789 INFO] recall: 0.3046\n",
      "[2022-12-27 04:34:43,790 INFO] f1: 0.2902\n"
     ]
    },
    {
     "name": "stdout",
     "output_type": "stream",
     "text": [
      "model saved: ./saved_models/classic_cv/mixmatch_cifar10_250_0/latest_model.pth\n",
      "model saved: ./saved_models/classic_cv/mixmatch_cifar10_250_0/model_best.pth\n",
      "Epoch: 3\n"
     ]
    },
    {
     "name": "stderr",
     "output_type": "stream",
     "text": [
      "[2022-12-27 04:49:24,964 INFO] confusion matrix\n",
      "[2022-12-27 04:49:24,964 INFO] [[0.378 0.135 0.02  0.096 0.009 0.018 0.012 0.09  0.121 0.121]\n",
      " [0.063 0.443 0.007 0.042 0.004 0.02  0.007 0.057 0.031 0.326]\n",
      " [0.128 0.12  0.069 0.154 0.063 0.102 0.121 0.143 0.025 0.075]\n",
      " [0.055 0.101 0.015 0.403 0.017 0.13  0.069 0.102 0.018 0.09 ]\n",
      " [0.072 0.054 0.032 0.149 0.214 0.073 0.169 0.188 0.018 0.031]\n",
      " [0.067 0.105 0.017 0.318 0.042 0.179 0.044 0.14  0.022 0.066]\n",
      " [0.05  0.052 0.032 0.213 0.074 0.062 0.401 0.061 0.009 0.046]\n",
      " [0.06  0.096 0.022 0.111 0.031 0.057 0.031 0.488 0.01  0.094]\n",
      " [0.2   0.186 0.007 0.078 0.008 0.022 0.007 0.08  0.248 0.164]\n",
      " [0.065 0.221 0.005 0.046 0.008 0.006 0.012 0.109 0.036 0.492]]\n",
      "[2022-12-27 04:49:24,966 INFO] evaluation metric\n",
      "[2022-12-27 04:49:24,966 INFO] acc: 0.3315\n",
      "[2022-12-27 04:49:24,967 INFO] precision: 0.3485\n",
      "[2022-12-27 04:49:24,967 INFO] recall: 0.3315\n",
      "[2022-12-27 04:49:24,967 INFO] f1: 0.3174\n"
     ]
    },
    {
     "name": "stdout",
     "output_type": "stream",
     "text": [
      "model saved: ./saved_models/classic_cv/mixmatch_cifar10_250_0/latest_model.pth\n",
      "model saved: ./saved_models/classic_cv/mixmatch_cifar10_250_0/model_best.pth\n",
      "Epoch: 4\n"
     ]
    },
    {
     "name": "stderr",
     "output_type": "stream",
     "text": [
      "[2022-12-27 05:04:08,224 INFO] confusion matrix\n",
      "[2022-12-27 05:04:08,225 INFO] [[0.328 0.096 0.065 0.079 0.03  0.034 0.003 0.055 0.168 0.142]\n",
      " [0.077 0.348 0.038 0.032 0.009 0.039 0.004 0.058 0.07  0.325]\n",
      " [0.106 0.069 0.222 0.095 0.124 0.114 0.04  0.121 0.05  0.059]\n",
      " [0.034 0.069 0.09  0.289 0.045 0.226 0.027 0.08  0.034 0.106]\n",
      " [0.052 0.029 0.11  0.075 0.339 0.095 0.066 0.151 0.041 0.042]\n",
      " [0.042 0.073 0.1   0.195 0.056 0.307 0.013 0.115 0.034 0.065]\n",
      " [0.045 0.035 0.102 0.186 0.162 0.091 0.22  0.079 0.031 0.049]\n",
      " [0.042 0.052 0.069 0.075 0.081 0.121 0.004 0.412 0.027 0.117]\n",
      " [0.182 0.106 0.018 0.041 0.018 0.036 0.006 0.034 0.383 0.176]\n",
      " [0.069 0.148 0.034 0.037 0.013 0.024 0.003 0.063 0.089 0.52 ]]\n",
      "[2022-12-27 05:04:08,226 INFO] evaluation metric\n",
      "[2022-12-27 05:04:08,226 INFO] acc: 0.3368\n",
      "[2022-12-27 05:04:08,227 INFO] precision: 0.3528\n",
      "[2022-12-27 05:04:08,227 INFO] recall: 0.3368\n",
      "[2022-12-27 05:04:08,227 INFO] f1: 0.3341\n"
     ]
    },
    {
     "name": "stdout",
     "output_type": "stream",
     "text": [
      "model saved: ./saved_models/classic_cv/mixmatch_cifar10_250_0/latest_model.pth\n",
      "model saved: ./saved_models/classic_cv/mixmatch_cifar10_250_0/model_best.pth\n",
      "Epoch: 5\n"
     ]
    },
    {
     "name": "stderr",
     "output_type": "stream",
     "text": [
      "[2022-12-27 05:18:51,913 INFO] confusion matrix\n",
      "[2022-12-27 05:18:51,913 INFO] [[0.401 0.115 0.062 0.08  0.011 0.025 0.01  0.047 0.127 0.122]\n",
      " [0.13  0.354 0.023 0.045 0.002 0.041 0.007 0.05  0.042 0.306]\n",
      " [0.127 0.087 0.16  0.153 0.056 0.138 0.084 0.094 0.042 0.059]\n",
      " [0.062 0.1   0.056 0.389 0.018 0.171 0.065 0.058 0.021 0.06 ]\n",
      " [0.117 0.04  0.083 0.157 0.165 0.087 0.155 0.13  0.032 0.034]\n",
      " [0.08  0.114 0.056 0.287 0.036 0.223 0.038 0.111 0.024 0.031]\n",
      " [0.058 0.044 0.065 0.208 0.044 0.079 0.383 0.052 0.019 0.048]\n",
      " [0.061 0.088 0.075 0.111 0.034 0.093 0.026 0.42  0.019 0.073]\n",
      " [0.241 0.13  0.04  0.046 0.004 0.03  0.007 0.034 0.321 0.147]\n",
      " [0.086 0.192 0.027 0.047 0.003 0.024 0.014 0.061 0.072 0.474]]\n",
      "[2022-12-27 05:18:51,915 INFO] evaluation metric\n",
      "[2022-12-27 05:18:51,915 INFO] acc: 0.3290\n",
      "[2022-12-27 05:18:51,915 INFO] precision: 0.3443\n",
      "[2022-12-27 05:18:51,916 INFO] recall: 0.3290\n",
      "[2022-12-27 05:18:51,916 INFO] f1: 0.3241\n"
     ]
    },
    {
     "name": "stdout",
     "output_type": "stream",
     "text": [
      "model saved: ./saved_models/classic_cv/mixmatch_cifar10_250_0/latest_model.pth\n",
      "Epoch: 6\n"
     ]
    },
    {
     "name": "stderr",
     "output_type": "stream",
     "text": [
      "[2022-12-27 05:33:35,736 INFO] confusion matrix\n",
      "[2022-12-27 05:33:35,737 INFO] [[0.563 0.046 0.063 0.049 0.013 0.019 0.01  0.049 0.051 0.137]\n",
      " [0.173 0.319 0.061 0.042 0.006 0.018 0.008 0.065 0.015 0.293]\n",
      " [0.218 0.054 0.214 0.098 0.058 0.091 0.089 0.109 0.011 0.058]\n",
      " [0.136 0.072 0.086 0.332 0.019 0.154 0.049 0.084 0.01  0.058]\n",
      " [0.19  0.022 0.105 0.084 0.159 0.076 0.147 0.175 0.008 0.034]\n",
      " [0.141 0.092 0.09  0.258 0.039 0.172 0.03  0.121 0.012 0.045]\n",
      " [0.121 0.044 0.076 0.146 0.043 0.073 0.398 0.058 0.005 0.036]\n",
      " [0.097 0.051 0.083 0.079 0.028 0.08  0.022 0.48  0.005 0.075]\n",
      " [0.311 0.072 0.041 0.048 0.006 0.017 0.006 0.044 0.202 0.253]\n",
      " [0.146 0.174 0.026 0.037 0.003 0.008 0.01  0.078 0.019 0.499]]\n",
      "[2022-12-27 05:33:35,738 INFO] evaluation metric\n",
      "[2022-12-27 05:33:35,739 INFO] acc: 0.3338\n",
      "[2022-12-27 05:33:35,739 INFO] precision: 0.3641\n",
      "[2022-12-27 05:33:35,739 INFO] recall: 0.3338\n",
      "[2022-12-27 05:33:35,740 INFO] f1: 0.3239\n"
     ]
    },
    {
     "name": "stdout",
     "output_type": "stream",
     "text": [
      "model saved: ./saved_models/classic_cv/mixmatch_cifar10_250_0/latest_model.pth\n",
      "Epoch: 7\n"
     ]
    },
    {
     "name": "stderr",
     "output_type": "stream",
     "text": [
      "[2022-12-27 05:48:19,828 INFO] confusion matrix\n",
      "[2022-12-27 05:48:19,829 INFO] [[0.347 0.136 0.038 0.046 0.042 0.02  0.012 0.012 0.187 0.16 ]\n",
      " [0.082 0.529 0.008 0.025 0.011 0.012 0.008 0.005 0.04  0.28 ]\n",
      " [0.151 0.137 0.109 0.1   0.126 0.101 0.086 0.035 0.061 0.094]\n",
      " [0.054 0.159 0.031 0.295 0.055 0.159 0.063 0.025 0.029 0.13 ]\n",
      " [0.088 0.07  0.051 0.084 0.354 0.067 0.114 0.056 0.048 0.068]\n",
      " [0.077 0.162 0.037 0.214 0.081 0.212 0.038 0.058 0.033 0.088]\n",
      " [0.058 0.073 0.047 0.139 0.138 0.062 0.346 0.012 0.026 0.099]\n",
      " [0.077 0.136 0.033 0.112 0.088 0.091 0.028 0.251 0.022 0.162]\n",
      " [0.17  0.165 0.012 0.029 0.027 0.021 0.009 0.002 0.395 0.17 ]\n",
      " [0.065 0.282 0.005 0.033 0.01  0.011 0.008 0.014 0.077 0.495]]\n",
      "[2022-12-27 05:48:19,830 INFO] evaluation metric\n",
      "[2022-12-27 05:48:19,831 INFO] acc: 0.3333\n",
      "[2022-12-27 05:48:19,831 INFO] precision: 0.3545\n",
      "[2022-12-27 05:48:19,831 INFO] recall: 0.3333\n",
      "[2022-12-27 05:48:19,831 INFO] f1: 0.3260\n"
     ]
    },
    {
     "name": "stdout",
     "output_type": "stream",
     "text": [
      "model saved: ./saved_models/classic_cv/mixmatch_cifar10_250_0/latest_model.pth\n",
      "Epoch: 8\n"
     ]
    },
    {
     "name": "stderr",
     "output_type": "stream",
     "text": [
      "[2022-12-27 06:03:04,493 INFO] confusion matrix\n",
      "[2022-12-27 06:03:04,494 INFO] [[0.381 0.082 0.048 0.067 0.011 0.024 0.011 0.05  0.192 0.134]\n",
      " [0.104 0.414 0.021 0.052 0.005 0.031 0.01  0.042 0.033 0.288]\n",
      " [0.112 0.096 0.193 0.132 0.069 0.117 0.087 0.085 0.056 0.053]\n",
      " [0.057 0.098 0.046 0.327 0.023 0.204 0.06  0.071 0.022 0.092]\n",
      " [0.086 0.047 0.088 0.137 0.205 0.088 0.138 0.146 0.035 0.03 ]\n",
      " [0.065 0.101 0.05  0.288 0.027 0.244 0.035 0.104 0.032 0.054]\n",
      " [0.043 0.036 0.091 0.218 0.059 0.084 0.356 0.04  0.026 0.047]\n",
      " [0.072 0.074 0.029 0.126 0.037 0.116 0.028 0.42  0.02  0.078]\n",
      " [0.21  0.103 0.018 0.046 0.004 0.03  0.01  0.033 0.393 0.153]\n",
      " [0.094 0.189 0.01  0.048 0.005 0.016 0.011 0.058 0.065 0.504]]\n",
      "[2022-12-27 06:03:04,495 INFO] evaluation metric\n",
      "[2022-12-27 06:03:04,496 INFO] acc: 0.3437\n",
      "[2022-12-27 06:03:04,496 INFO] precision: 0.3592\n",
      "[2022-12-27 06:03:04,496 INFO] recall: 0.3437\n",
      "[2022-12-27 06:03:04,497 INFO] f1: 0.3407\n"
     ]
    },
    {
     "name": "stdout",
     "output_type": "stream",
     "text": [
      "model saved: ./saved_models/classic_cv/mixmatch_cifar10_250_0/latest_model.pth\n",
      "model saved: ./saved_models/classic_cv/mixmatch_cifar10_250_0/model_best.pth\n",
      "Epoch: 9\n"
     ]
    },
    {
     "name": "stderr",
     "output_type": "stream",
     "text": [
      "[2022-12-27 06:17:48,525 INFO] confusion matrix\n",
      "[2022-12-27 06:17:48,525 INFO] [[0.35  0.081 0.02  0.131 0.032 0.024 0.009 0.028 0.165 0.16 ]\n",
      " [0.111 0.401 0.01  0.077 0.005 0.02  0.008 0.041 0.031 0.296]\n",
      " [0.129 0.081 0.091 0.208 0.106 0.144 0.06  0.073 0.035 0.073]\n",
      " [0.053 0.079 0.015 0.455 0.04  0.159 0.038 0.051 0.022 0.088]\n",
      " [0.083 0.032 0.027 0.184 0.316 0.085 0.085 0.116 0.034 0.038]\n",
      " [0.069 0.09  0.018 0.36  0.051 0.219 0.02  0.087 0.025 0.061]\n",
      " [0.053 0.033 0.023 0.309 0.11  0.072 0.29  0.041 0.013 0.056]\n",
      " [0.062 0.054 0.024 0.147 0.07  0.113 0.016 0.389 0.014 0.111]\n",
      " [0.184 0.097 0.004 0.078 0.021 0.027 0.008 0.017 0.376 0.188]\n",
      " [0.083 0.183 0.004 0.062 0.008 0.013 0.009 0.049 0.057 0.532]]\n",
      "[2022-12-27 06:17:48,527 INFO] evaluation metric\n",
      "[2022-12-27 06:17:48,527 INFO] acc: 0.3419\n",
      "[2022-12-27 06:17:48,527 INFO] precision: 0.3719\n",
      "[2022-12-27 06:17:48,528 INFO] recall: 0.3419\n",
      "[2022-12-27 06:17:48,528 INFO] f1: 0.3360\n",
      "[2022-12-27 06:17:48,716 INFO] Best acc 0.3437 at epoch 8\n",
      "[2022-12-27 06:17:48,718 INFO] Training finished.\n"
     ]
    },
    {
     "name": "stdout",
     "output_type": "stream",
     "text": [
      "model saved: ./saved_models/classic_cv/mixmatch_cifar10_250_0/latest_model.pth\n"
     ]
    },
    {
     "name": "stderr",
     "output_type": "stream",
     "text": [
      "[2022-12-27 06:25:57,486 INFO] confusion matrix\n",
      "[2022-12-27 06:25:57,487 INFO] [[0.35  0.081 0.02  0.131 0.032 0.024 0.009 0.028 0.165 0.16 ]\n",
      " [0.111 0.401 0.01  0.077 0.005 0.02  0.008 0.041 0.031 0.296]\n",
      " [0.129 0.081 0.091 0.208 0.106 0.144 0.06  0.073 0.035 0.073]\n",
      " [0.053 0.079 0.015 0.455 0.04  0.159 0.038 0.051 0.022 0.088]\n",
      " [0.083 0.032 0.027 0.184 0.316 0.085 0.085 0.116 0.034 0.038]\n",
      " [0.069 0.09  0.018 0.36  0.051 0.219 0.02  0.087 0.025 0.061]\n",
      " [0.053 0.033 0.023 0.309 0.11  0.072 0.29  0.041 0.013 0.056]\n",
      " [0.062 0.054 0.024 0.147 0.07  0.113 0.016 0.389 0.014 0.111]\n",
      " [0.184 0.097 0.004 0.078 0.021 0.027 0.008 0.017 0.376 0.188]\n",
      " [0.083 0.183 0.004 0.062 0.008 0.013 0.009 0.049 0.057 0.532]]\n",
      "[2022-12-27 06:25:57,488 INFO] evaluation metric\n",
      "[2022-12-27 06:25:57,489 INFO] acc: 0.3419\n",
      "[2022-12-27 06:25:57,489 INFO] precision: 0.3719\n",
      "[2022-12-27 06:25:57,490 INFO] recall: 0.3419\n",
      "[2022-12-27 06:25:57,490 INFO] f1: 0.3360\n"
     ]
    },
    {
     "ename": "KeyboardInterrupt",
     "evalue": "",
     "output_type": "error",
     "traceback": [
      "\u001b[0;31m---------------------------------------------------------------------------\u001b[0m",
      "\u001b[0;31mKeyboardInterrupt\u001b[0m                         Traceback (most recent call last)",
      "\u001b[1;32m/root/Semi-supervised-learning/tutorial.ipynb Cell 18\u001b[0m in \u001b[0;36m<cell line: 6>\u001b[0;34m()\u001b[0m\n\u001b[1;32m      <a href='vscode-notebook-cell://attached-container%2B7b22636f6e7461696e65724e616d65223a222f73736c222c2273657474696e6773223a7b22686f7374223a227373683a2f2f3136332e3135322e3138352e313737227d7d/root/Semi-supervised-learning/tutorial.ipynb#X23sdnNjb2RlLXJlbW90ZQ%3D%3D?line=8'>9</a>\u001b[0m trainer \u001b[39m=\u001b[39m train(algorithm, num_labels, train_lb_loader, train_ulb_loader, eval_loader, epochs)\n\u001b[1;32m     <a href='vscode-notebook-cell://attached-container%2B7b22636f6e7461696e65724e616d65223a222f73736c222c2273657474696e6773223a7b22686f7374223a227373683a2f2f3136332e3135322e3138352e313737227d7d/root/Semi-supervised-learning/tutorial.ipynb#X23sdnNjb2RlLXJlbW90ZQ%3D%3D?line=9'>10</a>\u001b[0m \u001b[39mglobals\u001b[39m()[\u001b[39m\"\u001b[39m\u001b[39meval_dict_\u001b[39m\u001b[39m{}\u001b[39;00m\u001b[39m_\u001b[39m\u001b[39m{}\u001b[39;00m\u001b[39m\"\u001b[39m\u001b[39m.\u001b[39mformat(algorithm, num_labels)] \u001b[39m=\u001b[39m trainer\u001b[39m.\u001b[39mevaluate(eval_loader)\n\u001b[0;32m---> <a href='vscode-notebook-cell://attached-container%2B7b22636f6e7461696e65724e616d65223a222f73736c222c2273657474696e6773223a7b22686f7374223a227373683a2f2f3136332e3135322e3138352e313737227d7d/root/Semi-supervised-learning/tutorial.ipynb#X23sdnNjb2RlLXJlbW90ZQ%3D%3D?line=10'>11</a>\u001b[0m \u001b[39mglobals\u001b[39m()[\u001b[39m\"\u001b[39m\u001b[39my_pred_\u001b[39m\u001b[39m{}\u001b[39;00m\u001b[39m_\u001b[39m\u001b[39m{}\u001b[39;00m\u001b[39m\"\u001b[39m\u001b[39m.\u001b[39mformat(algorithm, num_labels)], \u001b[39mglobals\u001b[39m()[\u001b[39m\"\u001b[39m\u001b[39my_logit_\u001b[39m\u001b[39m{}\u001b[39;00m\u001b[39m_\u001b[39m\u001b[39m{}\u001b[39;00m\u001b[39m\"\u001b[39m\u001b[39m.\u001b[39mformat(algorithm, num_labels)]\u001b[39m=\u001b[39m trainer\u001b[39m.\u001b[39;49mpredict(eval_loader)\n",
      "File \u001b[0;32m~/Semi-supervised-learning/semilearn/lighting/trainer.py:116\u001b[0m, in \u001b[0;36mTrainer.predict\u001b[0;34m(self, data_loader, use_ema_model, return_gt)\u001b[0m\n\u001b[1;32m    112\u001b[0m y \u001b[39m=\u001b[39m y\u001b[39m.\u001b[39mcuda(\u001b[39mself\u001b[39m\u001b[39m.\u001b[39mconfig\u001b[39m.\u001b[39mgpu)\n\u001b[1;32m    114\u001b[0m logits \u001b[39m=\u001b[39m \u001b[39mself\u001b[39m\u001b[39m.\u001b[39malgorithm\u001b[39m.\u001b[39mmodel(x)[\u001b[39m'\u001b[39m\u001b[39mlogits\u001b[39m\u001b[39m'\u001b[39m]\n\u001b[0;32m--> 116\u001b[0m y_true\u001b[39m.\u001b[39mextend(y\u001b[39m.\u001b[39;49mcpu()\u001b[39m.\u001b[39mtolist())\n\u001b[1;32m    117\u001b[0m y_pred\u001b[39m.\u001b[39mextend(torch\u001b[39m.\u001b[39mmax(logits, dim\u001b[39m=\u001b[39m\u001b[39m-\u001b[39m\u001b[39m1\u001b[39m)[\u001b[39m1\u001b[39m]\u001b[39m.\u001b[39mcpu()\u001b[39m.\u001b[39mtolist())\n\u001b[1;32m    118\u001b[0m y_logits\u001b[39m.\u001b[39mappend(torch\u001b[39m.\u001b[39msoftmax(logits, dim\u001b[39m=\u001b[39m\u001b[39m-\u001b[39m\u001b[39m1\u001b[39m)\u001b[39m.\u001b[39mcpu()\u001b[39m.\u001b[39mnumpy())\n",
      "\u001b[0;31mKeyboardInterrupt\u001b[0m: "
     ]
    }
   ],
   "source": [
    "# num_labels = 250\n",
    "\n",
    "epochs = 10\n",
    "algorithm_list = ['mixmatch']\n",
    "num_labels_list = [250]\n",
    "for algorithm in algorithm_list:\n",
    "    for num_labels in num_labels_list:\n",
    "        train_lb_loader, train_ulb_loader, eval_loader = dataloader(algorithm, num_labels)\n",
    "        trainer = train(algorithm, num_labels, train_lb_loader, train_ulb_loader, eval_loader, epochs)\n",
    "        globals()[\"eval_dict_{}_{}\".format(algorithm, num_labels)] = trainer.evaluate(eval_loader)\n",
    "        globals()[\"y_pred_{}_{}\".format(algorithm, num_labels)], globals()[\"y_logit_{}_{}\".format(algorithm, num_labels)]= trainer.predict(eval_loader)"
   ]
  },
  {
   "cell_type": "code",
   "execution_count": 8,
   "metadata": {},
   "outputs": [
    {
     "name": "stderr",
     "output_type": "stream",
     "text": [
      "/bin/sh: 1: netstat: not found\n"
     ]
    },
    {
     "name": "stdout",
     "output_type": "stream",
     "text": [
      "Files already downloaded and verified\n",
      "lb count: [400, 400, 400, 400, 400, 400, 400, 400, 400, 400]\n",
      "ulb count: [5000, 5000, 5000, 5000, 5000, 5000, 5000, 5000, 5000, 5000]\n",
      "Files already downloaded and verified\n"
     ]
    },
    {
     "name": "stderr",
     "output_type": "stream",
     "text": [
      "/bin/sh: 1: netstat: not found\n"
     ]
    },
    {
     "name": "stdout",
     "output_type": "stream",
     "text": [
      "Files already downloaded and verified\n",
      "lb count: [400, 400, 400, 400, 400, 400, 400, 400, 400, 400]\n",
      "ulb count: [5000, 5000, 5000, 5000, 5000, 5000, 5000, 5000, 5000, 5000]\n",
      "Files already downloaded and verified\n",
      "unlabeled data number: 50000, labeled data number 4000\n",
      "Create train and test data loaders\n",
      "[!] data loader keys: dict_keys(['train_lb', 'train_ulb', 'eval'])\n",
      "_IncompatibleKeys(missing_keys=['head.weight', 'head.bias'], unexpected_keys=[])\n",
      "Create optimizer and scheduler\n",
      "Epoch: 0\n"
     ]
    },
    {
     "name": "stderr",
     "output_type": "stream",
     "text": [
      "/usr/local/lib/python3.8/dist-packages/sklearn/metrics/_classification.py:1318: UndefinedMetricWarning: Precision is ill-defined and being set to 0.0 in labels with no predicted samples. Use `zero_division` parameter to control this behavior.\n",
      "  _warn_prf(average, modifier, msg_start, len(result))\n",
      "[2022-12-27 10:43:18,936 INFO] confusion matrix\n",
      "[2022-12-27 10:43:18,937 INFO] [[0. 1. 0. 0. 0. 0. 0. 0. 0. 0.]\n",
      " [0. 1. 0. 0. 0. 0. 0. 0. 0. 0.]\n",
      " [0. 1. 0. 0. 0. 0. 0. 0. 0. 0.]\n",
      " [0. 1. 0. 0. 0. 0. 0. 0. 0. 0.]\n",
      " [0. 1. 0. 0. 0. 0. 0. 0. 0. 0.]\n",
      " [0. 1. 0. 0. 0. 0. 0. 0. 0. 0.]\n",
      " [0. 1. 0. 0. 0. 0. 0. 0. 0. 0.]\n",
      " [0. 1. 0. 0. 0. 0. 0. 0. 0. 0.]\n",
      " [0. 1. 0. 0. 0. 0. 0. 0. 0. 0.]\n",
      " [0. 1. 0. 0. 0. 0. 0. 0. 0. 0.]]\n",
      "[2022-12-27 10:43:18,938 INFO] evaluation metric\n",
      "[2022-12-27 10:43:18,939 INFO] acc: 0.1000\n",
      "[2022-12-27 10:43:18,939 INFO] precision: 0.0100\n",
      "[2022-12-27 10:43:18,940 INFO] recall: 0.1000\n",
      "[2022-12-27 10:43:18,940 INFO] f1: 0.0182\n"
     ]
    },
    {
     "name": "stdout",
     "output_type": "stream",
     "text": [
      "model saved: ./saved_models/classic_cv/mixmatch_cifar10_4000_0/latest_model.pth\n",
      "model saved: ./saved_models/classic_cv/mixmatch_cifar10_4000_0/model_best.pth\n",
      "Epoch: 1\n"
     ]
    },
    {
     "name": "stderr",
     "output_type": "stream",
     "text": [
      "/usr/local/lib/python3.8/dist-packages/sklearn/metrics/_classification.py:1318: UndefinedMetricWarning: Precision is ill-defined and being set to 0.0 in labels with no predicted samples. Use `zero_division` parameter to control this behavior.\n",
      "  _warn_prf(average, modifier, msg_start, len(result))\n",
      "[2022-12-27 10:53:40,111 INFO] confusion matrix\n",
      "[2022-12-27 10:53:40,112 INFO] [[0. 0. 1. 0. 0. 0. 0. 0. 0. 0.]\n",
      " [0. 0. 1. 0. 0. 0. 0. 0. 0. 0.]\n",
      " [0. 0. 1. 0. 0. 0. 0. 0. 0. 0.]\n",
      " [0. 0. 1. 0. 0. 0. 0. 0. 0. 0.]\n",
      " [0. 0. 1. 0. 0. 0. 0. 0. 0. 0.]\n",
      " [0. 0. 1. 0. 0. 0. 0. 0. 0. 0.]\n",
      " [0. 0. 1. 0. 0. 0. 0. 0. 0. 0.]\n",
      " [0. 0. 1. 0. 0. 0. 0. 0. 0. 0.]\n",
      " [0. 0. 1. 0. 0. 0. 0. 0. 0. 0.]\n",
      " [0. 0. 1. 0. 0. 0. 0. 0. 0. 0.]]\n",
      "[2022-12-27 10:53:40,114 INFO] evaluation metric\n",
      "[2022-12-27 10:53:40,114 INFO] acc: 0.1000\n",
      "[2022-12-27 10:53:40,115 INFO] precision: 0.0100\n",
      "[2022-12-27 10:53:40,115 INFO] recall: 0.1000\n",
      "[2022-12-27 10:53:40,115 INFO] f1: 0.0182\n"
     ]
    },
    {
     "name": "stdout",
     "output_type": "stream",
     "text": [
      "model saved: ./saved_models/classic_cv/mixmatch_cifar10_4000_0/latest_model.pth\n",
      "Epoch: 2\n"
     ]
    },
    {
     "name": "stderr",
     "output_type": "stream",
     "text": [
      "/usr/local/lib/python3.8/dist-packages/sklearn/metrics/_classification.py:1318: UndefinedMetricWarning: Precision is ill-defined and being set to 0.0 in labels with no predicted samples. Use `zero_division` parameter to control this behavior.\n",
      "  _warn_prf(average, modifier, msg_start, len(result))\n",
      "[2022-12-27 11:04:01,408 INFO] confusion matrix\n",
      "[2022-12-27 11:04:01,409 INFO] [[1. 0. 0. 0. 0. 0. 0. 0. 0. 0.]\n",
      " [1. 0. 0. 0. 0. 0. 0. 0. 0. 0.]\n",
      " [1. 0. 0. 0. 0. 0. 0. 0. 0. 0.]\n",
      " [1. 0. 0. 0. 0. 0. 0. 0. 0. 0.]\n",
      " [1. 0. 0. 0. 0. 0. 0. 0. 0. 0.]\n",
      " [1. 0. 0. 0. 0. 0. 0. 0. 0. 0.]\n",
      " [1. 0. 0. 0. 0. 0. 0. 0. 0. 0.]\n",
      " [1. 0. 0. 0. 0. 0. 0. 0. 0. 0.]\n",
      " [1. 0. 0. 0. 0. 0. 0. 0. 0. 0.]\n",
      " [1. 0. 0. 0. 0. 0. 0. 0. 0. 0.]]\n",
      "[2022-12-27 11:04:01,411 INFO] evaluation metric\n",
      "[2022-12-27 11:04:01,411 INFO] acc: 0.1000\n",
      "[2022-12-27 11:04:01,411 INFO] precision: 0.0100\n",
      "[2022-12-27 11:04:01,411 INFO] recall: 0.1000\n",
      "[2022-12-27 11:04:01,412 INFO] f1: 0.0182\n"
     ]
    },
    {
     "name": "stdout",
     "output_type": "stream",
     "text": [
      "model saved: ./saved_models/classic_cv/mixmatch_cifar10_4000_0/latest_model.pth\n",
      "Epoch: 3\n"
     ]
    },
    {
     "name": "stderr",
     "output_type": "stream",
     "text": [
      "/usr/local/lib/python3.8/dist-packages/sklearn/metrics/_classification.py:1318: UndefinedMetricWarning: Precision is ill-defined and being set to 0.0 in labels with no predicted samples. Use `zero_division` parameter to control this behavior.\n",
      "  _warn_prf(average, modifier, msg_start, len(result))\n",
      "[2022-12-27 11:14:22,930 INFO] confusion matrix\n",
      "[2022-12-27 11:14:22,931 INFO] [[0. 0. 0. 0. 0. 0. 1. 0. 0. 0.]\n",
      " [0. 0. 0. 0. 0. 0. 1. 0. 0. 0.]\n",
      " [0. 0. 0. 0. 0. 0. 1. 0. 0. 0.]\n",
      " [0. 0. 0. 0. 0. 0. 1. 0. 0. 0.]\n",
      " [0. 0. 0. 0. 0. 0. 1. 0. 0. 0.]\n",
      " [0. 0. 0. 0. 0. 0. 1. 0. 0. 0.]\n",
      " [0. 0. 0. 0. 0. 0. 1. 0. 0. 0.]\n",
      " [0. 0. 0. 0. 0. 0. 1. 0. 0. 0.]\n",
      " [0. 0. 0. 0. 0. 0. 1. 0. 0. 0.]\n",
      " [0. 0. 0. 0. 0. 0. 1. 0. 0. 0.]]\n",
      "[2022-12-27 11:14:22,932 INFO] evaluation metric\n",
      "[2022-12-27 11:14:22,933 INFO] acc: 0.1000\n",
      "[2022-12-27 11:14:22,933 INFO] precision: 0.0100\n",
      "[2022-12-27 11:14:22,933 INFO] recall: 0.1000\n",
      "[2022-12-27 11:14:22,934 INFO] f1: 0.0182\n"
     ]
    },
    {
     "name": "stdout",
     "output_type": "stream",
     "text": [
      "model saved: ./saved_models/classic_cv/mixmatch_cifar10_4000_0/latest_model.pth\n",
      "model saved: ./saved_models/classic_cv/mixmatch_cifar10_4000_0/model_best.pth\n",
      "Epoch: 4\n"
     ]
    },
    {
     "name": "stderr",
     "output_type": "stream",
     "text": [
      "/usr/local/lib/python3.8/dist-packages/sklearn/metrics/_classification.py:1318: UndefinedMetricWarning: Precision is ill-defined and being set to 0.0 in labels with no predicted samples. Use `zero_division` parameter to control this behavior.\n",
      "  _warn_prf(average, modifier, msg_start, len(result))\n",
      "[2022-12-27 11:24:44,533 INFO] confusion matrix\n",
      "[2022-12-27 11:24:44,533 INFO] [[0.5800135  0.         0.         0.         0.         0.\n",
      "  0.4199865  0.         0.         0.        ]\n",
      " [0.42996474 0.         0.         0.         0.         0.\n",
      "  0.57003526 0.         0.         0.        ]\n",
      " [0.24703646 0.         0.         0.         0.         0.\n",
      "  0.75296354 0.         0.         0.        ]\n",
      " [0.26305653 0.         0.         0.         0.         0.\n",
      "  0.73694347 0.         0.         0.        ]\n",
      " [0.14002401 0.         0.         0.         0.         0.\n",
      "  0.85997599 0.         0.         0.        ]\n",
      " [0.1780034  0.         0.         0.         0.         0.\n",
      "  0.8219966  0.         0.         0.        ]\n",
      " [0.14900108 0.         0.         0.         0.         0.\n",
      "  0.85099892 0.         0.         0.        ]\n",
      " [0.45296089 0.         0.         0.         0.         0.\n",
      "  0.54703911 0.         0.         0.        ]\n",
      " [0.62606282 0.         0.         0.         0.         0.\n",
      "  0.37393718 0.         0.         0.        ]\n",
      " [0.71504664 0.         0.         0.         0.         0.\n",
      "  0.28495336 0.         0.         0.        ]]\n",
      "[2022-12-27 11:24:44,535 INFO] evaluation metric\n",
      "[2022-12-27 11:24:44,536 INFO] acc: 0.1431\n",
      "[2022-12-27 11:24:44,536 INFO] precision: 0.0290\n",
      "[2022-12-27 11:24:44,536 INFO] recall: 0.1431\n",
      "[2022-12-27 11:24:44,537 INFO] f1: 0.0478\n"
     ]
    },
    {
     "name": "stdout",
     "output_type": "stream",
     "text": [
      "model saved: ./saved_models/classic_cv/mixmatch_cifar10_4000_0/latest_model.pth\n",
      "model saved: ./saved_models/classic_cv/mixmatch_cifar10_4000_0/model_best.pth\n",
      "Epoch: 5\n"
     ]
    },
    {
     "name": "stderr",
     "output_type": "stream",
     "text": [
      "/usr/local/lib/python3.8/dist-packages/sklearn/metrics/_classification.py:1318: UndefinedMetricWarning: Precision is ill-defined and being set to 0.0 in labels with no predicted samples. Use `zero_division` parameter to control this behavior.\n",
      "  _warn_prf(average, modifier, msg_start, len(result))\n",
      "[2022-12-27 11:35:06,632 INFO] confusion matrix\n",
      "[2022-12-27 11:35:06,633 INFO] [[0.47788031 0.04201365 0.00300098 0.         0.05901918 0.\n",
      "  0.02300748 0.         0.3950784  0.        ]\n",
      " [0.59401806 0.07099807 0.01000325 0.         0.0599945  0.\n",
      "  0.02700878 0.         0.23797734 0.        ]\n",
      " [0.27894763 0.10498675 0.03901365 0.         0.22903016 0.\n",
      "  0.28700045 0.         0.06102136 0.        ]\n",
      " [0.312006   0.141996   0.02901451 0.         0.27198599 0.\n",
      "  0.22698849 0.         0.018009   0.        ]\n",
      " [0.17503626 0.0740009  0.02398339 0.         0.24090932 0.\n",
      "  0.46106137 0.         0.02500875 0.        ]\n",
      " [0.23296989 0.1149845  0.0369861  0.         0.32304691 0.\n",
      "  0.27203161 0.         0.01998099 0.        ]\n",
      " [0.14602555 0.08301453 0.03500613 0.         0.28194934 0.\n",
      "  0.44500288 0.         0.00900158 0.        ]\n",
      " [0.3979944  0.12096129 0.0520156  0.         0.22504251 0.\n",
      "  0.1469941  0.         0.0569921  0.        ]\n",
      " [0.44803441 0.0280084  0.01397919 0.         0.02498249 0.\n",
      "  0.010003   0.         0.4749925  0.        ]\n",
      " [0.46397759 0.03798545 0.00600165 0.         0.03896071 0.\n",
      "  0.0080022  0.         0.44507239 0.        ]]\n",
      "[2022-12-27 11:35:06,635 INFO] evaluation metric\n",
      "[2022-12-27 11:35:06,635 INFO] acc: 0.1749\n",
      "[2022-12-27 11:35:06,635 INFO] precision: 0.1022\n",
      "[2022-12-27 11:35:06,636 INFO] recall: 0.1749\n",
      "[2022-12-27 11:35:06,636 INFO] f1: 0.1179\n"
     ]
    },
    {
     "name": "stdout",
     "output_type": "stream",
     "text": [
      "model saved: ./saved_models/classic_cv/mixmatch_cifar10_4000_0/latest_model.pth\n",
      "model saved: ./saved_models/classic_cv/mixmatch_cifar10_4000_0/model_best.pth\n",
      "Epoch: 6\n"
     ]
    },
    {
     "name": "stderr",
     "output_type": "stream",
     "text": [
      "/usr/local/lib/python3.8/dist-packages/sklearn/metrics/_classification.py:1318: UndefinedMetricWarning: Precision is ill-defined and being set to 0.0 in labels with no predicted samples. Use `zero_division` parameter to control this behavior.\n",
      "  _warn_prf(average, modifier, msg_start, len(result))\n",
      "[2022-12-27 11:45:29,148 INFO] confusion matrix\n",
      "[2022-12-27 11:45:29,149 INFO] [[0.36001701 0.04301398 0.01300423 0.         0.02200715 0.\n",
      "  0.01500488 0.00300098 0.54395178 0.        ]\n",
      " [0.19896466 0.0880036  0.0160052  0.         0.02100683 0.\n",
      "  0.02200715 0.         0.65401255 0.        ]\n",
      " [0.30793278 0.1120142  0.09500825 0.         0.16598309 0.\n",
      "  0.22502876 0.00900315 0.08502976 0.        ]\n",
      " [0.36203102 0.12298649 0.1110055  0.         0.19797399 0.\n",
      "  0.141996   0.0170085  0.0469985  0.        ]\n",
      " [0.18006302 0.06097134 0.08197869 0.         0.2300055  0.\n",
      "  0.39801431 0.00997849 0.03898865 0.        ]\n",
      " [0.3029909  0.12096129 0.1360158  0.         0.25105032 0.\n",
      "  0.1279884  0.0130039  0.0479894  0.        ]\n",
      " [0.14502538 0.08601505 0.08498987 0.         0.1879829  0.\n",
      "  0.46698172 0.0080014  0.02100368 0.        ]\n",
      " [0.46894068 0.07602281 0.1020056  0.         0.15802241 0.\n",
      "  0.079999   0.0220066  0.0930029  0.        ]\n",
      " [0.280009   0.0320096  0.01297889 0.         0.0090027  0.\n",
      "  0.0030009  0.         0.6629989  0.        ]\n",
      " [0.26197204 0.03801045 0.01295356 0.         0.00997774 0.\n",
      "  0.01000275 0.00100028 0.66608317 0.        ]]\n",
      "[2022-12-27 11:45:29,151 INFO] evaluation metric\n",
      "[2022-12-27 11:45:29,151 INFO] acc: 0.1925\n",
      "[2022-12-27 11:45:29,151 INFO] precision: 0.1375\n",
      "[2022-12-27 11:45:29,151 INFO] recall: 0.1925\n",
      "[2022-12-27 11:45:29,152 INFO] f1: 0.1363\n"
     ]
    },
    {
     "name": "stdout",
     "output_type": "stream",
     "text": [
      "model saved: ./saved_models/classic_cv/mixmatch_cifar10_4000_0/latest_model.pth\n",
      "model saved: ./saved_models/classic_cv/mixmatch_cifar10_4000_0/model_best.pth\n",
      "Epoch: 7\n"
     ]
    },
    {
     "name": "stderr",
     "output_type": "stream",
     "text": [
      "/usr/local/lib/python3.8/dist-packages/sklearn/metrics/_classification.py:1318: UndefinedMetricWarning: Precision is ill-defined and being set to 0.0 in labels with no predicted samples. Use `zero_division` parameter to control this behavior.\n",
      "  _warn_prf(average, modifier, msg_start, len(result))\n",
      "[2022-12-27 11:55:51,853 INFO] confusion matrix\n",
      "[2022-12-27 11:55:51,854 INFO] [[0.18603546 0.04301398 0.         0.         0.00900293 0.01300423\n",
      "  0.00700228 0.02300748 0.71893365 0.        ]\n",
      " [0.0319854  0.12601596 0.00200065 0.         0.00600195 0.00200065\n",
      "  0.00600195 0.00200065 0.8239928  0.        ]\n",
      " [0.22197769 0.13902366 0.0180063  0.         0.17701195 0.07697694\n",
      "  0.10501175 0.1020107  0.15998099 0.        ]\n",
      " [0.24304652 0.14004502 0.01095548 0.         0.12096048 0.13104052\n",
      "  0.0570035  0.137994   0.15895448 0.        ]\n",
      " [0.13104587 0.12794478 0.01498024 0.         0.25701496 0.0980093\n",
      "  0.21702596 0.06397239 0.0900065  0.        ]\n",
      " [0.2209913  0.09497849 0.010003   0.0010003  0.1210113  0.2120136\n",
      "  0.0479894  0.14804441 0.14396819 0.        ]\n",
      " [0.06901208 0.20698622 0.00600105 0.         0.18300703 0.06796189\n",
      "  0.32600705 0.07001225 0.07101243 0.        ]\n",
      " [0.30696709 0.0779984  0.0080024  0.         0.0840002  0.1210113\n",
      "  0.0250075  0.1680004  0.2090127  0.        ]\n",
      " [0.0980044  0.0309843  0.0030009  0.         0.0040012  0.0030009\n",
      "  0.0020006  0.0090027  0.850005   0.        ]\n",
      " [0.05899122 0.04796319 0.         0.         0.00197554 0.00300083\n",
      "  0.00500138 0.00897747 0.87409037 0.        ]]\n",
      "[2022-12-27 11:55:51,856 INFO] evaluation metric\n",
      "[2022-12-27 11:55:51,856 INFO] acc: 0.2143\n",
      "[2022-12-27 11:55:51,856 INFO] precision: 0.1890\n",
      "[2022-12-27 11:55:51,857 INFO] recall: 0.2143\n",
      "[2022-12-27 11:55:51,857 INFO] f1: 0.1699\n"
     ]
    },
    {
     "name": "stdout",
     "output_type": "stream",
     "text": [
      "model saved: ./saved_models/classic_cv/mixmatch_cifar10_4000_0/latest_model.pth\n",
      "model saved: ./saved_models/classic_cv/mixmatch_cifar10_4000_0/model_best.pth\n",
      "Epoch: 8\n"
     ]
    },
    {
     "name": "stderr",
     "output_type": "stream",
     "text": [
      "[2022-12-27 12:06:14,996 INFO] confusion matrix\n",
      "[2022-12-27 12:06:14,997 INFO] [[0.12103934 0.14102083 0.00300098 0.00500163 0.0040013  0.0280091\n",
      "  0.01500488 0.01400455 0.44296896 0.22594843]\n",
      " [0.00600195 0.45202191 0.         0.00100033 0.         0.01700553\n",
      "  0.00500163 0.00300098 0.31797834 0.19798935]\n",
      " [0.0260091  0.18596509 0.0180063  0.02700945 0.039989   0.23898364\n",
      "  0.21002351 0.059996   0.03901365 0.15500425]\n",
      " [0.0050025  0.20195098 0.0030015  0.01698349 0.02301151 0.42896448\n",
      "  0.07201101 0.07103552 0.0190095  0.15902951]\n",
      " [0.0080028  0.14300005 0.00897814 0.0280098  0.08295403 0.25096284\n",
      "  0.31405992 0.04301506 0.0340119  0.08700545]\n",
      " [0.0030009  0.1150095  0.0030009  0.0160048  0.0250075  0.55706712\n",
      "  0.0549915  0.06694508 0.0180054  0.14096729]\n",
      " [0.00300053 0.2119871  0.00900158 0.03795664 0.05798515 0.20201035\n",
      "  0.38304203 0.02500438 0.0080014  0.06201085]\n",
      " [0.0140042  0.1189857  0.0010003  0.0190057  0.0220066  0.39501851\n",
      "  0.0370111  0.10998299 0.0250075  0.25797739]\n",
      " [0.0569921  0.13896669 0.0020006  0.0030009  0.0020006  0.010003\n",
      "  0.0070021  0.0070021  0.59597879 0.17705312]\n",
      " [0.03500963 0.19395334 0.         0.         0.00100028 0.00997774\n",
      "  0.00500138 0.00700193 0.3570732  0.39098252]]\n",
      "[2022-12-27 12:06:14,999 INFO] evaluation metric\n",
      "[2022-12-27 12:06:14,999 INFO] acc: 0.2728\n",
      "[2022-12-27 12:06:14,999 INFO] precision: 0.2890\n",
      "[2022-12-27 12:06:15,000 INFO] recall: 0.2728\n",
      "[2022-12-27 12:06:15,000 INFO] f1: 0.2263\n"
     ]
    },
    {
     "name": "stdout",
     "output_type": "stream",
     "text": [
      "model saved: ./saved_models/classic_cv/mixmatch_cifar10_4000_0/latest_model.pth\n",
      "model saved: ./saved_models/classic_cv/mixmatch_cifar10_4000_0/model_best.pth\n",
      "Epoch: 9\n"
     ]
    },
    {
     "name": "stderr",
     "output_type": "stream",
     "text": [
      "[2022-12-27 12:16:38,173 INFO] confusion matrix\n",
      "[2022-12-27 12:16:38,174 INFO] [[0.36501863 0.12599095 0.0080026  0.         0.01500488 0.02300748\n",
      "  0.02500813 0.02100683 0.25605822 0.16090229]\n",
      " [0.01000325 0.59711906 0.00100033 0.00097532 0.00100033 0.0200065\n",
      "  0.01700553 0.00100033 0.11996399 0.23192538]\n",
      " [0.08402941 0.11994198 0.01100385 0.0060021  0.0760016  0.26894413\n",
      "  0.25403891 0.05699495 0.02300805 0.10003501]\n",
      " [0.02701351 0.14394697 0.0050025  0.0070035  0.02101051 0.47396198\n",
      "  0.11203102 0.0809905  0.008004   0.12103552]\n",
      " [0.03701295 0.0760016  0.01100385 0.00997849 0.10296104 0.28197369\n",
      "  0.35604962 0.04601611 0.0140049  0.06499775]\n",
      " [0.0160048  0.0960038  0.0020006  0.0070021  0.0190057  0.6120086\n",
      "  0.0769981  0.0589927  0.0060018  0.10598179]\n",
      " [0.01400245 0.1120196  0.01000175 0.00697622 0.05901033 0.18500738\n",
      "  0.53396844 0.02200385 0.0040007  0.05300928]\n",
      " [0.0180054  0.0860008  0.0040012  0.0040012  0.0250075  0.48001901\n",
      "  0.06196859 0.12396219 0.0050015  0.19203261]\n",
      " [0.15802241 0.17497749 0.0030009  0.0010003  0.0030009  0.0140042\n",
      "  0.0060018  0.0070021  0.39396819 0.23902171]\n",
      " [0.0280077  0.25597039 0.         0.         0.         0.01395384\n",
      "  0.0120033  0.01100303 0.12903548 0.55002626]]\n",
      "[2022-12-27 12:16:38,175 INFO] evaluation metric\n",
      "[2022-12-27 12:16:38,176 INFO] acc: 0.3297\n",
      "[2022-12-27 12:16:38,176 INFO] precision: 0.3126\n",
      "[2022-12-27 12:16:38,177 INFO] recall: 0.3297\n",
      "[2022-12-27 12:16:38,177 INFO] f1: 0.2798\n",
      "[2022-12-27 12:16:38,561 INFO] Best acc 0.3297 at epoch 9\n",
      "[2022-12-27 12:16:38,562 INFO] Training finished.\n"
     ]
    },
    {
     "name": "stdout",
     "output_type": "stream",
     "text": [
      "model saved: ./saved_models/classic_cv/mixmatch_cifar10_4000_0/latest_model.pth\n",
      "model saved: ./saved_models/classic_cv/mixmatch_cifar10_4000_0/model_best.pth\n"
     ]
    },
    {
     "name": "stderr",
     "output_type": "stream",
     "text": [
      "[2022-12-27 12:20:42,870 INFO] confusion matrix\n",
      "[2022-12-27 12:20:42,871 INFO] [[0.36501863 0.12599095 0.0080026  0.         0.01500488 0.02300748\n",
      "  0.02500813 0.02100683 0.25605822 0.16090229]\n",
      " [0.01000325 0.59711906 0.00100033 0.00097532 0.00100033 0.0200065\n",
      "  0.01700553 0.00100033 0.11996399 0.23192538]\n",
      " [0.08402941 0.11994198 0.01100385 0.0060021  0.0760016  0.26894413\n",
      "  0.25403891 0.05699495 0.02300805 0.10003501]\n",
      " [0.02701351 0.14394697 0.0050025  0.0070035  0.02101051 0.47396198\n",
      "  0.11203102 0.0809905  0.008004   0.12103552]\n",
      " [0.03701295 0.0760016  0.01100385 0.00997849 0.10296104 0.28197369\n",
      "  0.35604962 0.04601611 0.0140049  0.06499775]\n",
      " [0.0160048  0.0960038  0.0020006  0.0070021  0.0190057  0.6120086\n",
      "  0.0769981  0.0589927  0.0060018  0.10598179]\n",
      " [0.01400245 0.1120196  0.01000175 0.00697622 0.05901033 0.18500738\n",
      "  0.53396844 0.02200385 0.0040007  0.05300928]\n",
      " [0.0180054  0.0860008  0.0040012  0.0040012  0.0250075  0.48001901\n",
      "  0.06196859 0.12396219 0.0050015  0.19203261]\n",
      " [0.15802241 0.17497749 0.0030009  0.0010003  0.0030009  0.0140042\n",
      "  0.0060018  0.0070021  0.39396819 0.23902171]\n",
      " [0.0280077  0.25597039 0.         0.         0.         0.01395384\n",
      "  0.0120033  0.01100303 0.12903548 0.55002626]]\n",
      "[2022-12-27 12:20:42,873 INFO] evaluation metric\n",
      "[2022-12-27 12:20:42,873 INFO] acc: 0.3297\n",
      "[2022-12-27 12:20:42,874 INFO] precision: 0.3126\n",
      "[2022-12-27 12:20:42,874 INFO] recall: 0.3297\n",
      "[2022-12-27 12:20:42,875 INFO] f1: 0.2798\n"
     ]
    }
   ],
   "source": [
    "# num_labels = 4,000\n",
    "\n",
    "epochs = 10\n",
    "algorithm_list = ['mixmatch']\n",
    "num_labels_list = [4000]\n",
    "for algorithm in algorithm_list:\n",
    "    for num_labels in num_labels_list:\n",
    "        train_lb_loader, train_ulb_loader, eval_loader = dataloader(algorithm, num_labels)\n",
    "        trainer = train(algorithm, num_labels, train_lb_loader, train_ulb_loader, eval_loader, epochs)\n",
    "        globals()[\"eval_dict_{}_{}\".format(algorithm, num_labels)] = trainer.evaluate(eval_loader)\n",
    "        globals()[\"y_pred_{}_{}\".format(algorithm, num_labels)], globals()[\"y_logit_{}_{}\".format(algorithm, num_labels)]= trainer.predict(eval_loader)"
   ]
  },
  {
   "attachments": {},
   "cell_type": "markdown",
   "metadata": {},
   "source": [
    "### Labeled data 수에 따른 MixMatch 성능 비교\n",
    "\n",
    "Epoch = 10 을 기준으로 num_labels = 40, 250, 4000 일때의 성능에 대한 비교를 진행하였고 결과는 다음과 같습니다.  \n",
    "\n",
    "<img src=\"ssl_pictures/num_labels_results.png\" width=\"708px\" height=\"153px\" title=\"NUM_Labels_RESULT\">  \n",
    "\n",
    "일반적으로 labeled data가 많을수록 Semi-supervised learning의 성능이 올라가지만, 본 실험의 경우 num_labels = 250인 경우가 4,000 인 경우보다 높게 성능이 측정되었습니다. 첫번째 실험 결과 분석에서도 언급했듯이, 학습 epoch이 충분하지 않기 때문에 발생한 현상이라고 판단됩니다. 실제로 num_labels = 4000 의 학습 log를 살펴보면 4 epoch까지는 모든 data를 1번 class로 예측하는 것을 확인 할 수 있습니다. 만약 학습 epoch을 상승 시켜 다시 실험을 진행한다면, 조금 더 높은 성능을 기록할 것이라고 예상됩니다.  \n",
    "\n"
   ]
  }
 ],
 "metadata": {
  "kernelspec": {
   "display_name": "Python 3",
   "language": "python",
   "name": "python3"
  },
  "language_info": {
   "codemirror_mode": {
    "name": "ipython",
    "version": 3
   },
   "file_extension": ".py",
   "mimetype": "text/x-python",
   "name": "python",
   "nbconvert_exporter": "python",
   "pygments_lexer": "ipython3",
   "version": "3.8.10"
  },
  "orig_nbformat": 4,
  "vscode": {
   "interpreter": {
    "hash": "31f2aee4e71d21fbe5cf8b01ff0e069b9275f58929596ceb00d14d90e3e16cd6"
   }
  }
 },
 "nbformat": 4,
 "nbformat_minor": 2
}
