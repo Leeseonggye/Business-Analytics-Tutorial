{
 "cells": [
  {
   "cell_type": "markdown",
   "metadata": {},
   "source": [
    "## ※ Business analytics tutorial- Dimensionality reduction\n",
    "---\n",
    "본 튜토리얼은 고려대학교 강필성 교수님의 Business analytics 수업의 내용을 정리한 튜토리얼 코드 입니다.  \n",
    "튜토리얼에서는 차원 축소의 대표적인 방법론인 **Genetic algorithm(GA)** 에 대한 코드와 간단한 설명을 다룹니다."
   ]
  },
  {
   "cell_type": "code",
   "execution_count": 39,
   "metadata": {},
   "outputs": [],
   "source": [
    "# 필요 library 호출\n",
    "import random\n",
    "import string\n",
    "from random import randint\n",
    "import math\n",
    "import numpy as np\n",
    "import pandas as pd\n",
    "import matplotlib.pyplot as plt"
   ]
  },
  {
   "cell_type": "markdown",
   "metadata": {},
   "source": [
    "### Genetic algorithm(GA)\n",
    "유전 알고리즘을 이용해 비밀번호를 찾는 알고리즘을 만들어 보도록 하겠습니다.  \n",
    "먼저 ramdom, string 함수를 통해 **<u>비밀번호를 생성하는 코드</u>** 를 만들겠습니다.  \n",
    "random.sample을 사용하여 비밀번호를 생성했기 때문에, 비밀번호는 중복이 허용되지 않습니다.  \n",
    "아래에서 작성할 코드는 하이퍼파라미터로 비밀번호의 길이를 입력해주어야합니다.  \n",
    "즉, 비밀번호의 길이는 알고있다고 가정하고 비밀번호를 찾는 알고리즘을 만들도록 하겠습니다.  "
   ]
  },
  {
   "cell_type": "code",
   "execution_count": 2,
   "metadata": {},
   "outputs": [],
   "source": [
    "def generate_password(length):\n",
    "    password = \"\".join(random.sample(string.ascii_letters + string.digits, k=length))\n",
    "    return password"
   ]
  },
  {
   "cell_type": "code",
   "execution_count": 3,
   "metadata": {},
   "outputs": [
    {
     "name": "stdout",
     "output_type": "stream",
     "text": [
      "auEG5908kf\n"
     ]
    }
   ],
   "source": [
    "# 길이가 10인 비밀번호 생성\n",
    "print(generate_password(length=10))"
   ]
  },
  {
   "cell_type": "markdown",
   "metadata": {},
   "source": [
    "Genetic algorithm의 순서는 아래의 그림과 같습니다.  \n",
    "\n",
    "<img src=\"/home/seonggye/Business analytics/images/ga_flow.png\" width=\"1202px\" height=\"378px\" title=\"GA flow\"/>  \n",
    "\n",
    "위의 그림의 순서를 따라 각각의 단계에 해당하는 내용을 함수화 하고 실습을 하는 코드를 작성하겠습니다.\n"
   ]
  },
  {
   "cell_type": "markdown",
   "metadata": {},
   "source": [
    "### ● 첫번째 세대를 만드는 함수"
   ]
  },
  {
   "cell_type": "code",
   "execution_count": 4,
   "metadata": {},
   "outputs": [],
   "source": [
    "def generate_population(size, min_len, max_len):\n",
    "    \"\"\"\n",
    "    size: 1세대에 몇개의 chromosome(염색체)을 포함할지\n",
    "    min_len/max_len: 염색체의 길이의 최소값과 최대값 -> 예측 비밀번호 길이의 범위\n",
    "    \"\"\"\n",
    "    population = [] \n",
    "    for i in range(size): # size만큼의 염색체를 생성\n",
    "        length = randint(min_len, max_len) # min_len ~ max_len에 해당하는 자연수를 임의로 추출\n",
    "        population.append(generate_password(length)) # 생성된 염색체를 population에 추가\n",
    "        \n",
    "    return population"
   ]
  },
  {
   "cell_type": "code",
   "execution_count": 5,
   "metadata": {},
   "outputs": [
    {
     "name": "stdout",
     "output_type": "stream",
     "text": [
      "['CGYFdBV76', 'A6EMNL1GJr', 'VHYb5Q', '5wsx', 'ZW48EO', 'SlXzIbWuJo', 'BnlvuwCp', 'RD2ir8kUQ', '2yYSOr9R14', 'msH4Pf', 'N6J', '6EN', 'jnf', 'DMJWt4', 'PAOt', 'Iz4mCp', 'xiK', 'NAVToJC', 'fOqI', 'LF8fswIBy', 'B0JkQhdm', 'NxMIErs', 'ta', 'Y5EdUjcQ6', 'sxSp8vqtc2', 'jW', 'TGEoM0dW', 'OGz', 'eu', 'Uyk4d1qEY8', 'zl1kwn9I', 'YZlV', 'qfsT7x', 'mSZ', 'TXOs', 'r2laO', 'aPEydq', 'NY7SC6UOIi', 'R9', 'Zf4kpt', 'qdEI', 'DO', 'eukZli', 'Z6Jl', 'urqHKO7YwT', 'TmpcxeuS2', '6VQT79X', 'KCafDd49xo', 'pf', 'vjsHZ6', 'oI3CYb4', 'rTe0cRHzF', 'mMT1gAbp', 'F3B', '75nh9gct', 'i2', 'SzlFD3hW', 'OyB8Y2rwtA', 'zUEat1', 'FO3XVzK', 'V8MIn4cat2', 'd7', 'jTFYBL8o', 'o0w', 'tYw8', 'KvXBqND2R', 'mOAs8jBt', 'CIB', 'rx6a0yw', 'XF', 'L5Qf', 'B57', 'RK', 'nfd', 'zEkb0VS', 'W7pzcwG', '9ZEx', 'PX2traw', 'AP9Ofy4', 'BzpPbMWkEq', 'S25OuCdN6', 'hj9Lmt8Fi', 'b4RztQE', 'lLMJ1tS', '0sS', 'H9eFWO', '9r3zjq', 'LT75n4WDmK', 'Mbo67vVfs1', 'KMtx', 'JXA0', 'xFHVj6c2', 'ez3uoXU', 'sB5JofMK8Y', 'wrO', 'f4T5mX9VB', 'PZ8K0gk7b', 'qE1cI', 'PVJGhbX', 'uA', 'S7h', 'nMzP', 'LZEWKy', 'eL8HUOwX', 'dEP', 'qbpomtlFLn', 'jRVl1q', 'g1LfrD', 'bQB', 'iYrAVpv9J', 'O3aMev', 'BIYuMK', 'vn0sJ', 'pcO94', 'EfjGh49', 'ub8eof', '14d8', 'Q3GPf0lzUk', 'yxk4O', 'kry', 'PFdf6s0', 'GDkhJ7Ui', 'rK', 'E9W0OG', 'Tp', 'ruReJ', 'EjVSf2v0', '4lCqd8jc0', 's0KTQu', 'iBS0PHET9', 'yigZ2U', 'on6Cx', 'KR5t4GZX', 'iKZmMSj', 'qwTdViG5', 'Eok1IwB', 'fswMH', 'Si0Cm', 'kXS5jpMGH', 'mYvxZ', 'Tq6B75S', 'UJVj', 'F7c', 'AUSGjhv9', 'CHy5uj', '8Ym4e0X3I', 'Nd3ro9iy', 'j4ImGe1W', 'ZC9GwJQfyO', 'XA7Z', 'Zc7xERhCF', 'gou4NDW', 'fDB', 'RaTB', 'NGmyZuTCp', '4d1QIEe3h', 'eZmM', 'TJsN', 'ig5S', 'Y3wrRMTzsD', 'cp', 'MGnI', 'i2c3Mq', 'zaHq6J', 'ovO', 'hrRO', 'ZTMRLs', 'wHXpysaCMK', 'AY', 'KjLZVze', 'L3e', '1YDa7XU0', 'sahQIiO3', 'Jh5zXF4r', '97y', 'S1LWEn8', 'OS1RFbAdf', 'YV3zE', 'TYFJ8XtgQ', 'MF2JvVueY', 'EX', 'yh1z', 'Btum7a5', 'xNfA', 'glQKdT', 'ZNI', '26', 's1vBwEWr', 'Rz3', '92AxNo', '7Ra', '1H6AGFB', 'N9', '3d5V6BFPh', 'vRa8gZ', 'zRIf', 'abl', 'ZF3PwOrxIJ', 'KZiSyz', 'zEQvixk', 'gvux5lSr', 'VlEh', 'jX2Ie', 'IGkjvmAMi', 'E3UXxl', 'f9', 'wGL', 'qj9', 'IHC2b', 'sSu', '4b', '9XwuG3Ug', 'CAL83mj', 'vcfRUJshPp', 'zxdqlJ', 'SRPVCen', '4m', '0TnoZO', 'J5DRQ', 'p1snZ', 'vDwRncQLfF', '2OFv1e0Ts7', 'MrQ', 'wiqy7WX', '6vmWGAlHn', 'm5jGyU', 'CZ', 'O4sbf', '5zsf8qF', 'DumgxbS', 'uDC0BQOZo', 'nlbmSxe', 'Vcp7q', 'CkWgqLX', 'aT7YDQHekL', 'eVP', 'rYeqG9TFz', 'sc1aGY', 'Dh', 'H9JdyYp1XG', '7u980rE', 'XrRAy', 'yHdbxXz', 'bfzuSt', 'PIAh9i5cx', 'vUcwJf75ak', '6X4N3o8F', 'xoHjqduV', 'uR13', '7ykNeO1Rr', 'Di', '49uamQ', '7Yv8A', 'OoV', 'ZVz', '2rt', 'TqlF', 'L3en', 'VGMT2746tC', 'kZqpeEg0wL', 'icnAVOMDgz', 'mDhvYqr', 'pwx6MPRHBn', 'OuVl9F1ET', 'PpQ', 'qCw1kbdfh', 'UXNAqLxtI', 'OldashnH', 'vPNexqKT8j', 'tgR', 'Rskm', '53eMIywh', 'Bj', '39xjWGM', 'XaulQjH8', '52WU0R', '91PXufCIxM', '89mP2', 'fm', 'DEH2vGg1k9', '6uF', 'C8ad', 'nmpiL', 'q6GVmNr', '4icXv', 'SnmuReTQ', 'CcovYm73e2', 'aM8qc', 'u1XGiZay', 'JEYb31Lgr', 'gqW9', 'Rkm7YL', 'ZSQ4xR', '3ARW5OTq', '18fB', 'mKVZHbT', 'pRh', 'jte674', 't1dU0DbJ', 'tlx']\n"
     ]
    }
   ],
   "source": [
    "# 첫번째 세대 생성 -> min_len = 2, max_len = 10, size = 300\n",
    "min_len = 2\n",
    "max_len = 10\n",
    "pop = generate_population(size=300, min_len=min_len, max_len=max_len) \n",
    "print(pop)"
   ]
  },
  {
   "cell_type": "markdown",
   "metadata": {},
   "source": [
    "### ● 적합도 함수(fitness evaluation)\n",
    "\n",
    "적합도 함수는 각각의 염색체가 얼마나 정답과 일치하는지를 측정하는 함수입니다.  \n",
    "본 튜토리얼인 비밀번호를 찾는 예제의 경우 염색체 각각의 비밀번호와의 일치 정도를 적합도 함수로 설정 할 수 있습니다.  \n",
    "한편, 비밀번호와 염색체의 일치 정도의 기준은 1) 길이, 2) 문자열 일치 개수 2가지로 나눌 수 있습니다.  \n",
    "1), 2)의 영향력을 얼마나 설정하는지에 따라 적합도가 바뀔 수 있으므로 본 튜토리얼에서는 1), 2)의 반영 비율을 하이퍼파라미터로 설정하여 다음과 같이 적합도 함수를 설정하고자 합니다.  \n",
    "\n",
    "- 적합도 함수 산출 방식  \n",
    "  \n",
    "    - 길이(L)  \n",
    "    염색체와 정답 비밀번호의 길이가 같은 경우 +1, 다른 경우 0  \n",
    "\n",
    "    - 문자열 일치 점수(C)    \n",
    "    case 1: 앞에서부터 문자열을 count 했을 때 문자열의 값과 위치가 일치하는 경우 -> +3\n",
    "    case 2: 문자열의 위치는 다르지만 문자열의 값이 같은 경우 -> +1\n",
    "\n",
    "길이(L), 문자열 일치 점수(C)와 하이퍼파라미터(alpha)를 통해 다음과 같은 적합도 함수를 산출  \n",
    "\n",
    "적합도(fitness) = (1 + alpha * C)/max_score * 100\n"
   ]
  },
  {
   "cell_type": "code",
   "execution_count": 6,
   "metadata": {},
   "outputs": [],
   "source": [
    "def fitness_function(password, chromosome, alpha):\n",
    "    score = 0 # 초기 fitness 점수는 0으로 설정\n",
    "    len_score = 0\n",
    "    letter_score = 0\n",
    "\n",
    "    if len(password) == len(chromosome):\n",
    "        len_score = 1\n",
    "    \n",
    "    for i in range(len(password)):\n",
    "        if password[i] in chromosome:\n",
    "            letter_score+=1 # 문자열이 같은 값을 갖는 경우 +1\n",
    "            \n",
    "    for i in range(min(len(password),len(chromosome))):\n",
    "        if password[i] == chromosome[i]:\n",
    "            letter_score+=2 # 문자열이 같은 값을 갖는 경우에 점수인 1점은 위의 코드에서 반영\n",
    "    \n",
    "    score = len_score + alpha * letter_score\n",
    "    fitness = score/(1+alpha*3*len(password)) * 100 # 100점 scale로 score 변환하여 fitness 값 산출\n",
    "\n",
    "    return fitness\n"
   ]
  },
  {
   "cell_type": "code",
   "execution_count": 7,
   "metadata": {},
   "outputs": [
    {
     "name": "stdout",
     "output_type": "stream",
     "text": [
      "Alpha: 0.0 | fitness: 100.0\n",
      "Alpha: 0.5 | fitness: 35.294117647058826\n",
      "Alpha: 1.0 | fitness: 31.25\n",
      "Alpha: 1.5 | fitness: 29.78723404255319\n",
      "Alpha: 2.0 | fitness: 29.03225806451613\n",
      "Alpha: 2.5 | fitness: 28.57142857142857\n",
      "Alpha: 3.0 | fitness: 28.26086956521739\n",
      "Alpha: 3.5 | fitness: 28.037383177570092\n",
      "Alpha: 4.0 | fitness: 27.86885245901639\n",
      "Alpha: 4.5 | fitness: 27.73722627737226\n"
     ]
    }
   ],
   "source": [
    "# fitness 함수 test(alpha 값에 따른 비교)\n",
    "# alpha의 값이 커질수록 문자열의 일치 여부가 fitness에 기여하는 정도가 작아짐을 알 수 있음\n",
    "\n",
    "alpha_list = [0.5*i for i in range(10)]\n",
    "\n",
    "for alpha in alpha_list:\n",
    "    print(f\"Alpha: {alpha} | fitness: {fitness_function('12345', '34571',alpha)}\")"
   ]
  },
  {
   "cell_type": "markdown",
   "metadata": {},
   "source": [
    "### compute_performance 함수\n",
    "\n",
    "각각의 chromosome과 password를 비교하여 fitness를 측정하고 정렬하는 함수"
   ]
  },
  {
   "cell_type": "code",
   "execution_count": 8,
   "metadata": {},
   "outputs": [],
   "source": [
    "def compute_performance(population, password, alpha):\n",
    "    performance_list = [] \n",
    "    performance_dict = {}\n",
    "    for chromosome in population:\n",
    "        fitness = fitness_function(password, chromosome, alpha)\n",
    "\n",
    "        performance_list.append([chromosome, fitness])\n",
    "        performance_dict[chromosome] = fitness\n",
    "\n",
    "    # fitness 기준으로 내림차순 정령\n",
    "    population_sorted_list = sorted(performance_list, key=lambda x: x[1], reverse=True)\n",
    "    population_dict = performance_dict\n",
    "    return population_sorted_list, population_dict"
   ]
  },
  {
   "cell_type": "markdown",
   "metadata": {},
   "source": [
    "### Select 함수\n",
    "\n",
    "각각의 chromosome 중 어떤 것을 선택할지 결정하는 select 함수에 대한 코드입니다.  \n",
    "selection의 방법은 크게 deterministic method, probabilistic method로 나눌 수 있습니다.  \n",
    "deterministic method의 경우 chromosome 중 fitness 값이 높은 상위 N개를 선택하는 방법이며,  \n",
    "probabilistic method의 경우 fitness 값을 가중치로 주어 fitness 값이 높은 chromosome이 선택 될 확률을 높게 설정하는 방법론입니다.  \n",
    "본 튜토리얼에서는 사용자가 deterministic, probablistic을 정하여 실험을 진행할 수 있도록 코드를 작성하였습니다.\n"
   ]
  },
  {
   "cell_type": "code",
   "execution_count": 9,
   "metadata": {},
   "outputs": [],
   "source": [
    "def select_survivors(population_sorted_list, population_dict, num_best_sample, method):\n",
    "    next_generation = []\n",
    "\n",
    "    if method == 'deterministic':\n",
    "        \"\"\"\n",
    "        상위 n개(num_best_sample)만큼 next_generation으로 번식\n",
    "        \"\"\"\n",
    "        for i in range(num_best_sample):\n",
    "            next_generation.append(population_sorted_list[i][0])\n",
    "    \n",
    "    if method == 'probablistic':\n",
    "        \"\"\"\n",
    "        fitness값을 가중치로 하여 n개(num_best_sample)의 sample을 추출\n",
    "        \"\"\"\n",
    "    \n",
    "        next_generation_array = np.random.choice([key for key in population_dict], num_best_sample, p=[i/sum(population_dict.values()) for i in population_dict.values()])\n",
    "        next_generation = next_generation_array.tolist()\n",
    "\n",
    "    random.shuffle(next_generation)\n",
    "    return next_generation"
   ]
  },
  {
   "cell_type": "code",
   "execution_count": 27,
   "metadata": {},
   "outputs": [
    {
     "name": "stdout",
     "output_type": "stream",
     "text": [
      "password is  flzPX8tImr\n"
     ]
    }
   ],
   "source": [
    "# 임의의 password 출력 실습\n",
    "\n",
    "password = generate_password(length=10)\n",
    "print(\"password is \", password)\n",
    "min_len = 2\n",
    "max_len = 10\n",
    "pop = generate_population(size=100, min_len=min_len, max_len=max_len) \n",
    "pop_sorted, population_dict = compute_performance(pop, password, 5)"
   ]
  },
  {
   "cell_type": "markdown",
   "metadata": {},
   "source": [
    "### Crossover & Mutation 함수\n",
    "\n",
    "선택된 chromosome은 다음 세대의 부모가 됩니다. 선택된 chromosome을 통해 reproduction을 진행합니다.  \n",
    "Reproduction 과정에서 crossover(교차)와 mutation(돌연변이)이 진행됩니다.  \n",
    "Crossover의 경우 부모 세대의 유전자를 각각 50% 확률로 가져오는 것을 의미합니다.  \n",
    "Mutation의 경우 local optimal에 빠지지 않도록 임의의 값으로 물려 받은 gene을 대체 해주는 작업을 의미합니다.  \n",
    "Mutation의 정도를 mutation rate로 말하며 정답은 없지만 보통 0.01정도가 잘 작동하는 것으로 알려져있습니다.  \n",
    "본 튜토리얼에서는 mutation rate의 기본값을 0.01로 설정하고 진행하겠습니다. "
   ]
  },
  {
   "cell_type": "code",
   "execution_count": 15,
   "metadata": {},
   "outputs": [],
   "source": [
    "# Crossover, chidren 생성 함수\n",
    "\n",
    "def crossover(mother, father):\n",
    "    child = ''\n",
    "    # 코드의 편의를 위해 길이가 짧은 부모를 기준으로 유전자를 생성\n",
    "    min_len = min(len(mother), len(father))\n",
    "\n",
    "    for i in range(min_len):\n",
    "        if (int(random.random())<50):\n",
    "            child += mother[i] # 50%의 확률로 어머니의 유전자를 받음\n",
    "        else:\n",
    "            child += father[i] # 나머지 50%의 확률로 아버지의 유전자를 받음\n",
    "    \n",
    "    return child\n",
    "\n",
    "def create_children(parents, n_child):\n",
    "    next_population = []\n",
    "    for i in range(int(len(parents)/2)):\n",
    "        for j in range(n_child):\n",
    "            next_population.append(crossover(parents[i], parents[len(parents) -1 -i]))\n",
    "    return next_population"
   ]
  },
  {
   "cell_type": "code",
   "execution_count": 16,
   "metadata": {},
   "outputs": [],
   "source": [
    "# Mutation\n",
    "def mutate_word(word):\n",
    "    # 비밀번호 길이 안에 포함되는 임의의 index 추출\n",
    "    idx = int (random.random() * len(word)) \n",
    "    \n",
    "    # 추출한 index에 random한 값 삽입\n",
    "    if (idx == 0):\n",
    "        word = random.choice(string.ascii_letters + string.digits) + word[1:]\n",
    "    else:\n",
    "        word = word[:idx] + random.choice(string.ascii_letters + string.digits) + word[idx+1:]\n",
    "    return word\n",
    "\n",
    "def mutate_population(population, chance_of_mutation):\n",
    "    for i in range(len(population)):\n",
    "        if random.random() * 100 < chance_of_mutation:\n",
    "            population[i] = mutate_word(population[i])\n",
    "    return population"
   ]
  },
  {
   "cell_type": "markdown",
   "metadata": {},
   "source": [
    "## 실험 진행"
   ]
  },
  {
   "cell_type": "code",
   "execution_count": 97,
   "metadata": {},
   "outputs": [
    {
     "name": "stdout",
     "output_type": "stream",
     "text": [
      "method: deterministic, alpha :2, chance_of_mutation: 2은 비밀번호를 10000세대 안에 찾지 못하였습니다.\n"
     ]
    },
    {
     "name": "stderr",
     "output_type": "stream",
     "text": [
      "/home/seonggye/anaconda3/lib/python3.7/site-packages/ipykernel_launcher.py:45: SettingWithCopyWarning: \n",
      "A value is trying to be set on a copy of a slice from a DataFrame\n",
      "\n",
      "See the caveats in the documentation: http://pandas.pydata.org/pandas-docs/stable/indexing.html#indexing-view-versus-copy\n"
     ]
    },
    {
     "name": "stdout",
     "output_type": "stream",
     "text": [
      "method: deterministic, alpha :2, chance_of_mutation: 4은 비밀번호를 10000세대 안에 찾지 못하였습니다.\n",
      "method: deterministic, alpha :2, chance_of_mutation: 6은 비밀번호를 10000세대 안에 찾지 못하였습니다.\n",
      "method: deterministic, alpha :2, chance_of_mutation: 8은 비밀번호를 10000세대 안에 찾지 못하였습니다.\n",
      "method: deterministic, alpha :2, chance_of_mutation: 10은 비밀번호를 10000세대 안에 찾지 못하였습니다.\n"
     ]
    },
    {
     "name": "stderr",
     "output_type": "stream",
     "text": [
      "/home/seonggye/anaconda3/lib/python3.7/site-packages/pandas/core/indexing.py:189: SettingWithCopyWarning: \n",
      "A value is trying to be set on a copy of a slice from a DataFrame\n",
      "\n",
      "See the caveats in the documentation: http://pandas.pydata.org/pandas-docs/stable/indexing.html#indexing-view-versus-copy\n",
      "  self._setitem_with_indexer(indexer, value)\n"
     ]
    },
    {
     "name": "stdout",
     "output_type": "stream",
     "text": [
      "method: deterministic, alpha :4, chance_of_mutation: 2은 비밀번호를 10000세대 안에 찾지 못하였습니다.\n",
      "method: deterministic, alpha :4, chance_of_mutation: 4은 비밀번호를 10000세대 안에 찾지 못하였습니다.\n",
      "method: deterministic, alpha :4, chance_of_mutation: 6은 비밀번호를 10000세대 안에 찾지 못하였습니다.\n",
      "method: deterministic, alpha :4, chance_of_mutation: 8은 비밀번호를 10000세대 안에 찾지 못하였습니다.\n",
      "method: deterministic, alpha :4, chance_of_mutation: 10은 비밀번호를 10000세대 안에 찾지 못하였습니다.\n",
      "method: deterministic, alpha :6, chance_of_mutation: 2은 비밀번호를 10000세대 안에 찾지 못하였습니다.\n",
      "method: deterministic, alpha :6, chance_of_mutation: 4은 비밀번호를 10000세대 안에 찾지 못하였습니다.\n",
      "method: deterministic, alpha :6, chance_of_mutation: 6은 비밀번호를 10000세대 안에 찾지 못하였습니다.\n",
      "method: deterministic, alpha :6, chance_of_mutation: 8은 비밀번호를 10000세대 안에 찾지 못하였습니다.\n",
      "method: deterministic, alpha :6, chance_of_mutation: 10은 비밀번호를 10000세대 안에 찾지 못하였습니다.\n",
      "method: deterministic, alpha :8, chance_of_mutation: 2은 비밀번호를 10000세대 안에 찾지 못하였습니다.\n",
      "method: deterministic, alpha :8, chance_of_mutation: 4은 비밀번호를 10000세대 안에 찾지 못하였습니다.\n",
      "method: deterministic, alpha :8, chance_of_mutation: 6은 비밀번호를 10000세대 안에 찾지 못하였습니다.\n",
      "method: deterministic, alpha :8, chance_of_mutation: 8은 비밀번호를 10000세대 안에 찾지 못하였습니다.\n",
      "method: deterministic, alpha :8, chance_of_mutation: 10은 비밀번호를 10000세대 안에 찾지 못하였습니다.\n",
      "method: deterministic, alpha :10, chance_of_mutation: 2은 비밀번호를 10000세대 안에 찾지 못하였습니다.\n",
      "method: deterministic, alpha :10, chance_of_mutation: 4은 비밀번호를 10000세대 안에 찾지 못하였습니다.\n",
      "method: deterministic, alpha :10, chance_of_mutation: 6은 비밀번호를 10000세대 안에 찾지 못하였습니다.\n",
      "method: deterministic, alpha :10, chance_of_mutation: 8은 비밀번호를 10000세대 안에 찾지 못하였습니다.\n",
      "method: deterministic, alpha :10, chance_of_mutation: 10은 비밀번호를 10000세대 안에 찾지 못하였습니다.\n",
      "method: probablistic, alpha :2, chance_of_mutation: 2은 비밀번호를 10000세대 안에 찾지 못하였습니다.\n"
     ]
    },
    {
     "name": "stderr",
     "output_type": "stream",
     "text": [
      "/home/seonggye/anaconda3/lib/python3.7/site-packages/ipykernel_launcher.py:51: SettingWithCopyWarning: \n",
      "A value is trying to be set on a copy of a slice from a DataFrame\n",
      "\n",
      "See the caveats in the documentation: http://pandas.pydata.org/pandas-docs/stable/indexing.html#indexing-view-versus-copy\n"
     ]
    },
    {
     "name": "stdout",
     "output_type": "stream",
     "text": [
      "method: probablistic, alpha :2, chance_of_mutation: 4은 비밀번호를 10000세대 안에 찾지 못하였습니다.\n",
      "method: probablistic, alpha :2, chance_of_mutation: 6은 비밀번호를 10000세대 안에 찾지 못하였습니다.\n",
      "method: probablistic, alpha :2, chance_of_mutation: 8은 비밀번호를 10000세대 안에 찾지 못하였습니다.\n",
      "method: probablistic, alpha :2, chance_of_mutation: 10은 비밀번호를 10000세대 안에 찾지 못하였습니다.\n",
      "method: probablistic, alpha :4, chance_of_mutation: 2은 비밀번호를 10000세대 안에 찾지 못하였습니다.\n",
      "method: probablistic, alpha :4, chance_of_mutation: 4은 비밀번호를 10000세대 안에 찾지 못하였습니다.\n",
      "method: probablistic, alpha :4, chance_of_mutation: 6은 비밀번호를 10000세대 안에 찾지 못하였습니다.\n",
      "method: probablistic, alpha :4, chance_of_mutation: 8은 비밀번호를 10000세대 안에 찾지 못하였습니다.\n",
      "method: probablistic, alpha :4, chance_of_mutation: 10은 비밀번호를 10000세대 안에 찾지 못하였습니다.\n",
      "method: probablistic, alpha :6, chance_of_mutation: 2은 비밀번호를 10000세대 안에 찾지 못하였습니다.\n",
      "method: probablistic, alpha :6, chance_of_mutation: 4은 비밀번호를 10000세대 안에 찾지 못하였습니다.\n",
      "method: probablistic, alpha :6, chance_of_mutation: 6은 비밀번호를 10000세대 안에 찾지 못하였습니다.\n",
      "method: probablistic, alpha :6, chance_of_mutation: 8은 비밀번호를 10000세대 안에 찾지 못하였습니다.\n",
      "method: probablistic, alpha :6, chance_of_mutation: 10은 비밀번호를 10000세대 안에 찾지 못하였습니다.\n",
      "method: probablistic, alpha :8, chance_of_mutation: 2은 비밀번호를 10000세대 안에 찾지 못하였습니다.\n",
      "method: probablistic, alpha :8, chance_of_mutation: 4은 비밀번호를 10000세대 안에 찾지 못하였습니다.\n",
      "method: probablistic, alpha :8, chance_of_mutation: 6은 비밀번호를 10000세대 안에 찾지 못하였습니다.\n",
      "method: probablistic, alpha :8, chance_of_mutation: 8은 비밀번호를 10000세대 안에 찾지 못하였습니다.\n",
      "method: probablistic, alpha :8, chance_of_mutation: 10은 비밀번호를 10000세대 안에 찾지 못하였습니다.\n",
      "method: probablistic, alpha :10, chance_of_mutation: 2은 비밀번호를 10000세대 안에 찾지 못하였습니다.\n",
      "method: probablistic, alpha :10, chance_of_mutation: 4은 비밀번호를 10000세대 안에 찾지 못하였습니다.\n",
      "method: probablistic, alpha :10, chance_of_mutation: 6은 비밀번호를 10000세대 안에 찾지 못하였습니다.\n",
      "method: probablistic, alpha :10, chance_of_mutation: 8은 비밀번호를 10000세대 안에 찾지 못하였습니다.\n",
      "method: probablistic, alpha :10, chance_of_mutation: 10은 비밀번호를 10000세대 안에 찾지 못하였습니다.\n"
     ]
    }
   ],
   "source": [
    "if __name__ == \"__main__\":\n",
    "\n",
    "    # 비밀번호 길이 범위는 2~10\n",
    "    password = '56hiQqM2RZ'\n",
    "    min_len = 2\n",
    "    max_len = 10\n",
    "    alpha_list = [2*i for i in range(1,6)]\n",
    "    method_list = [\"deterministic\", \"probablistic\"]\n",
    "    n_generation = 10000\n",
    "    population = 100\n",
    "    best_sample = 20\n",
    "    n_child = 5\n",
    "    chance_of_mutation_list = [2*i for i in range(1,6)]\n",
    "    dict_alpha = {}\n",
    "    for i in range(1,6):\n",
    "        dict_alpha[f\"alpha: {2*i}\"] = 0\n",
    "    \n",
    "    deterministic_result = pd.DataFrame(dict_alpha, index = [f\"mutation_rate: {2*i}\" for i in range(1,6)])\n",
    "    probablistic_result = pd.DataFrame(dict_alpha, index = [f\"mutation_rate: {2*i}\" for i in range(1,6)])\n",
    "\n",
    "    # alpha = 2,4,6,8,10, 돌연변이 비율은 2,4,6,8,10, 총 300 세대를 생성하면서 반복한다.\n",
    "    for method in method_list:\n",
    "        for alpha in alpha_list:\n",
    "            for chance_of_mutation in chance_of_mutation_list:\n",
    "                pop = generate_population(size=population, min_len=min_len, max_len=max_len)\n",
    "                for g in range(n_generation):\n",
    "                    sucess_generation = n_generation\n",
    "                    pop_sorted, population_dict = compute_performance(population=pop, password=password, alpha=alpha)\n",
    "\n",
    "                    # pop_sorted에서 첫 번째의 점수가 100점이면 비밀번호 찾음.  \n",
    "                    if int(pop_sorted[0][1]) == 100:\n",
    "                        sucess_generation = g\n",
    "                        break\n",
    "                \n",
    "                    survivors = select_survivors(population_sorted_list=pop_sorted, population_dict = population_dict, num_best_sample = best_sample, method= method)\n",
    "\n",
    "                    children = create_children(parents=survivors, n_child=n_child)\n",
    "\n",
    "                    new_generation = mutate_population(population=children, chance_of_mutation=chance_of_mutation)\n",
    "\n",
    "                    pop = new_generation\n",
    "                    \n",
    "                if method == \"deterministic\":\n",
    "                    if sucess_generation == n_generation:\n",
    "                        deterministic_result[f'alpha: {alpha}'][f'mutation_rate: {chance_of_mutation}'] = 'fail'\n",
    "                    else:\n",
    "                        deterministic_result[f'alpha: {alpha}'][f'mutation_rate: {chance_of_mutation}'] = sucess_generation\n",
    "                    \n",
    "                elif method == \"probablistic\":\n",
    "                    if sucess_generation == n_generation:\n",
    "                        probablistic_result[f'alpha: {alpha}'][f'mutation_rate: {chance_of_mutation}'] = 'fail'\n",
    "                    else:\n",
    "                        probablistic_result[f'alpha: {alpha}'][f'mutation_rate: {chance_of_mutation}'] = sucess_generation\n",
    "                    \n",
    "                if sucess_generation == n_generation:\n",
    "                    print(f\"method: {method}, alpha :{alpha}, chance_of_mutation: {chance_of_mutation}은 비밀번호를 10000세대 안에 찾지 못하였습니다.\")\n",
    "                \n",
    "                else:\n",
    "                    print(f\"method: {method}, alpha :{alpha}, chance_of_mutation: {chance_of_mutation}은 비밀번호를 {sucess_generation}세대에서 찾았습니다.\")\n",
    "    "
   ]
  },
  {
   "cell_type": "code",
   "execution_count": 98,
   "metadata": {},
   "outputs": [
    {
     "name": "stdout",
     "output_type": "stream",
     "text": [
      "--------------------deterministic_result--------------------\n",
      "                  alpha: 2 alpha: 4 alpha: 6 alpha: 8 alpha: 10\n",
      "mutation_rate: 2      fail     fail     fail     fail      fail\n",
      "mutation_rate: 4      fail     fail     fail     fail      fail\n",
      "mutation_rate: 6      fail     fail     fail     fail      fail\n",
      "mutation_rate: 8      fail     fail     fail     fail      fail\n",
      "mutation_rate: 10     fail     fail     fail     fail      fail\n",
      "\n",
      "--------------------probablistic_result--------------------\n",
      "                  alpha: 2 alpha: 4 alpha: 6 alpha: 8 alpha: 10\n",
      "mutation_rate: 2      fail     fail     fail     fail      fail\n",
      "mutation_rate: 4      fail     fail     fail     fail      fail\n",
      "mutation_rate: 6      fail     fail     fail     fail      fail\n",
      "mutation_rate: 8      fail     fail     fail     fail      fail\n",
      "mutation_rate: 10     fail     fail     fail     fail      fail\n"
     ]
    }
   ],
   "source": [
    "print(f\"{'-'*20}deterministic_result{'-'*20}\")\n",
    "print(deterministic_result)\n",
    "print(f\"\\n{'-'*20}probablistic_result{'-'*20}\")\n",
    "print(probablistic_result)"
   ]
  },
  {
   "cell_type": "markdown",
   "metadata": {},
   "source": [
    "## 실험 결과 분석\n",
    "\n",
    "위의 실험을 통해 method 조합, alpha, chance of mutation에 관계 없이 모두 비밀번호를 10000세대 안에 찾지 못한 것을 확인하였습니다.  \n",
    "이는 적합도 설정에 문제가 있는 것으로 예상됩니다.  \n",
    "비밀번호 해결의 난이도를 조금 더 쉽게 조정하기 위해 적합도 함수를 아래와 같이 수정하고 다시 유전 알고리즘을 진행하려고 합니다.  \n",
    "\n",
    "- 적합도 수정  \n",
    "\n",
    "    - 길이(L)  \n",
    "    염색체와 정답 비밀번호의 길이가 같은 경우 +1점, 다른 경우는 문자열 일치 점수에 관계 없이 0점을 출력\n",
    "\n",
    "    - 문자열 일치 점수(C)    \n",
    "    case 1: 문자열의 값과 위치가 일치하는 경우 -> +3\n",
    "    case 2: 문자열의 위치는 다르지만 문자열의 값이 같은 경우 -> +1\n",
    "\n",
    "길이, 문자열 일치 점수(C)와 하이퍼파라미터(alpha)를 통해 다음과 같은 적합도를 산출  \n",
    "\n",
    "1) 길이가 다른 경우: 0\n",
    "\n",
    "2) 길이가 같은 경우 : (1 + alpha * C)/max_score * 100\n",
    "\n",
    "즉 길이에 대한 페널티를 더 강하게 주어서 길이를 더 쉽게 찾을 수 있도록 적합도를 수정하였습니다.\n"
   ]
  },
  {
   "cell_type": "code",
   "execution_count": 28,
   "metadata": {},
   "outputs": [],
   "source": [
    "def revised_fitness_function(password, chromosome, alpha):\n",
    "    score = 0 # 초기 fitness 점수는 0으로 설정\n",
    "    len_score = 0\n",
    "    letter_score = 0\n",
    "\n",
    "    if len(password) != len(chromosome):\n",
    "        return score\n",
    "    \n",
    "    else:\n",
    "        len_score = 1\n",
    "    \n",
    "    for i in range(len(password)):\n",
    "        if password[i] in chromosome:\n",
    "            letter_score+=1 # 문자열이 같은 값을 갖는 경우 +1\n",
    "            \n",
    "    for i in range(len(password)):\n",
    "        if password[i] == chromosome[i]:\n",
    "            letter_score+=2 # 문자열이 같은 값을 갖는 경우에 점수인 1점은 위의 코드에서 반영\n",
    "    \n",
    "    score = len_score + alpha * letter_score\n",
    "    fitness = score/(1+alpha*3*len(password)) * 100 # 100점 scale로 score 변환하여 fitness 값 산출\n",
    "\n",
    "    return fitness"
   ]
  },
  {
   "cell_type": "code",
   "execution_count": 30,
   "metadata": {},
   "outputs": [],
   "source": [
    "def revised_compute_performance(population, password, alpha):\n",
    "    performance_list = [] \n",
    "    performance_dict = {}\n",
    "    for chromosome in population:\n",
    "        fitness = revised_fitness_function(password, chromosome, alpha)\n",
    "\n",
    "        performance_list.append([chromosome, fitness])\n",
    "        performance_dict[chromosome] = fitness\n",
    "\n",
    "    # fitness 기준으로 내림차순 정령\n",
    "    population_sorted_list = sorted(performance_list, key=lambda x: x[1], reverse=True)\n",
    "    population_dict = performance_dict\n",
    "    return population_sorted_list, population_dict"
   ]
  },
  {
   "cell_type": "markdown",
   "metadata": {},
   "source": [
    "## 수정한 적합도 함수를 이용한 실험"
   ]
  },
  {
   "cell_type": "code",
   "execution_count": 92,
   "metadata": {},
   "outputs": [
    {
     "name": "stdout",
     "output_type": "stream",
     "text": [
      "method: deterministic, alpha :2, chance_of_mutation: 2은 비밀번호를 1928세대에서 찾았습니다.\n",
      "method: deterministic, alpha :2, chance_of_mutation: 4은 비밀번호를 894세대에서 찾았습니다.\n",
      "method: deterministic, alpha :2, chance_of_mutation: 6은 비밀번호를 10000세대 안에 찾지 못하였습니다.\n",
      "method: deterministic, alpha :2, chance_of_mutation: 8은 비밀번호를 663세대에서 찾았습니다.\n"
     ]
    },
    {
     "name": "stderr",
     "output_type": "stream",
     "text": [
      "/home/seonggye/anaconda3/lib/python3.7/site-packages/ipykernel_launcher.py:47: SettingWithCopyWarning: \n",
      "A value is trying to be set on a copy of a slice from a DataFrame\n",
      "\n",
      "See the caveats in the documentation: http://pandas.pydata.org/pandas-docs/stable/indexing.html#indexing-view-versus-copy\n",
      "/home/seonggye/anaconda3/lib/python3.7/site-packages/ipykernel_launcher.py:45: SettingWithCopyWarning: \n",
      "A value is trying to be set on a copy of a slice from a DataFrame\n",
      "\n",
      "See the caveats in the documentation: http://pandas.pydata.org/pandas-docs/stable/indexing.html#indexing-view-versus-copy\n"
     ]
    },
    {
     "name": "stdout",
     "output_type": "stream",
     "text": [
      "method: deterministic, alpha :2, chance_of_mutation: 10은 비밀번호를 10000세대 안에 찾지 못하였습니다.\n"
     ]
    },
    {
     "name": "stderr",
     "output_type": "stream",
     "text": [
      "/home/seonggye/anaconda3/lib/python3.7/site-packages/pandas/core/indexing.py:189: SettingWithCopyWarning: \n",
      "A value is trying to be set on a copy of a slice from a DataFrame\n",
      "\n",
      "See the caveats in the documentation: http://pandas.pydata.org/pandas-docs/stable/indexing.html#indexing-view-versus-copy\n",
      "  self._setitem_with_indexer(indexer, value)\n"
     ]
    },
    {
     "name": "stdout",
     "output_type": "stream",
     "text": [
      "method: deterministic, alpha :4, chance_of_mutation: 2은 비밀번호를 10000세대 안에 찾지 못하였습니다.\n",
      "method: deterministic, alpha :4, chance_of_mutation: 4은 비밀번호를 1168세대에서 찾았습니다.\n",
      "method: deterministic, alpha :4, chance_of_mutation: 6은 비밀번호를 812세대에서 찾았습니다.\n",
      "method: deterministic, alpha :4, chance_of_mutation: 8은 비밀번호를 392세대에서 찾았습니다.\n",
      "method: deterministic, alpha :4, chance_of_mutation: 10은 비밀번호를 457세대에서 찾았습니다.\n",
      "method: deterministic, alpha :6, chance_of_mutation: 2은 비밀번호를 1942세대에서 찾았습니다.\n",
      "method: deterministic, alpha :6, chance_of_mutation: 4은 비밀번호를 10000세대 안에 찾지 못하였습니다.\n",
      "method: deterministic, alpha :6, chance_of_mutation: 6은 비밀번호를 631세대에서 찾았습니다.\n",
      "method: deterministic, alpha :6, chance_of_mutation: 8은 비밀번호를 575세대에서 찾았습니다.\n",
      "method: deterministic, alpha :6, chance_of_mutation: 10은 비밀번호를 467세대에서 찾았습니다.\n",
      "method: deterministic, alpha :8, chance_of_mutation: 2은 비밀번호를 10000세대 안에 찾지 못하였습니다.\n",
      "method: deterministic, alpha :8, chance_of_mutation: 4은 비밀번호를 1709세대에서 찾았습니다.\n",
      "method: deterministic, alpha :8, chance_of_mutation: 6은 비밀번호를 954세대에서 찾았습니다.\n",
      "method: deterministic, alpha :8, chance_of_mutation: 8은 비밀번호를 10000세대 안에 찾지 못하였습니다.\n",
      "method: deterministic, alpha :8, chance_of_mutation: 10은 비밀번호를 879세대에서 찾았습니다.\n",
      "method: deterministic, alpha :10, chance_of_mutation: 2은 비밀번호를 10000세대 안에 찾지 못하였습니다.\n",
      "method: deterministic, alpha :10, chance_of_mutation: 4은 비밀번호를 1837세대에서 찾았습니다.\n",
      "method: deterministic, alpha :10, chance_of_mutation: 6은 비밀번호를 10000세대 안에 찾지 못하였습니다.\n",
      "method: deterministic, alpha :10, chance_of_mutation: 8은 비밀번호를 609세대에서 찾았습니다.\n",
      "method: deterministic, alpha :10, chance_of_mutation: 10은 비밀번호를 580세대에서 찾았습니다.\n",
      "method: probablistic, alpha :2, chance_of_mutation: 2은 비밀번호를 10000세대 안에 찾지 못하였습니다.\n"
     ]
    },
    {
     "name": "stderr",
     "output_type": "stream",
     "text": [
      "/home/seonggye/anaconda3/lib/python3.7/site-packages/ipykernel_launcher.py:51: SettingWithCopyWarning: \n",
      "A value is trying to be set on a copy of a slice from a DataFrame\n",
      "\n",
      "See the caveats in the documentation: http://pandas.pydata.org/pandas-docs/stable/indexing.html#indexing-view-versus-copy\n"
     ]
    },
    {
     "name": "stdout",
     "output_type": "stream",
     "text": [
      "method: probablistic, alpha :2, chance_of_mutation: 4은 비밀번호를 10000세대 안에 찾지 못하였습니다.\n",
      "method: probablistic, alpha :2, chance_of_mutation: 6은 비밀번호를 10000세대 안에 찾지 못하였습니다.\n",
      "method: probablistic, alpha :2, chance_of_mutation: 8은 비밀번호를 10000세대 안에 찾지 못하였습니다.\n",
      "method: probablistic, alpha :2, chance_of_mutation: 10은 비밀번호를 10000세대 안에 찾지 못하였습니다.\n",
      "method: probablistic, alpha :4, chance_of_mutation: 2은 비밀번호를 10000세대 안에 찾지 못하였습니다.\n",
      "method: probablistic, alpha :4, chance_of_mutation: 4은 비밀번호를 10000세대 안에 찾지 못하였습니다.\n",
      "method: probablistic, alpha :4, chance_of_mutation: 6은 비밀번호를 10000세대 안에 찾지 못하였습니다.\n",
      "method: probablistic, alpha :4, chance_of_mutation: 8은 비밀번호를 10000세대 안에 찾지 못하였습니다.\n",
      "method: probablistic, alpha :4, chance_of_mutation: 10은 비밀번호를 10000세대 안에 찾지 못하였습니다.\n",
      "method: probablistic, alpha :6, chance_of_mutation: 2은 비밀번호를 10000세대 안에 찾지 못하였습니다.\n",
      "method: probablistic, alpha :6, chance_of_mutation: 4은 비밀번호를 10000세대 안에 찾지 못하였습니다.\n",
      "method: probablistic, alpha :6, chance_of_mutation: 6은 비밀번호를 10000세대 안에 찾지 못하였습니다.\n",
      "method: probablistic, alpha :6, chance_of_mutation: 8은 비밀번호를 10000세대 안에 찾지 못하였습니다.\n",
      "method: probablistic, alpha :6, chance_of_mutation: 10은 비밀번호를 10000세대 안에 찾지 못하였습니다.\n",
      "method: probablistic, alpha :8, chance_of_mutation: 2은 비밀번호를 10000세대 안에 찾지 못하였습니다.\n",
      "method: probablistic, alpha :8, chance_of_mutation: 4은 비밀번호를 10000세대 안에 찾지 못하였습니다.\n",
      "method: probablistic, alpha :8, chance_of_mutation: 6은 비밀번호를 10000세대 안에 찾지 못하였습니다.\n",
      "method: probablistic, alpha :8, chance_of_mutation: 8은 비밀번호를 10000세대 안에 찾지 못하였습니다.\n",
      "method: probablistic, alpha :8, chance_of_mutation: 10은 비밀번호를 10000세대 안에 찾지 못하였습니다.\n",
      "method: probablistic, alpha :10, chance_of_mutation: 2은 비밀번호를 10000세대 안에 찾지 못하였습니다.\n",
      "method: probablistic, alpha :10, chance_of_mutation: 4은 비밀번호를 10000세대 안에 찾지 못하였습니다.\n",
      "method: probablistic, alpha :10, chance_of_mutation: 6은 비밀번호를 10000세대 안에 찾지 못하였습니다.\n",
      "method: probablistic, alpha :10, chance_of_mutation: 8은 비밀번호를 10000세대 안에 찾지 못하였습니다.\n",
      "method: probablistic, alpha :10, chance_of_mutation: 10은 비밀번호를 10000세대 안에 찾지 못하였습니다.\n"
     ]
    }
   ],
   "source": [
    "if __name__ == \"__main__\":\n",
    "\n",
    "    # 비밀번호 길이 범위는 2~10\n",
    "    password = '56hiQqM2RZ'\n",
    "    min_len = 2\n",
    "    max_len = 10\n",
    "    alpha_list = [2*i for i in range(1,6)]\n",
    "    method_list = [\"deterministic\", \"probablistic\"]\n",
    "    n_generation = 10000\n",
    "    population = 100\n",
    "    best_sample = 20\n",
    "    n_child = 5\n",
    "    chance_of_mutation_list = [2*i for i in range(1,6)]\n",
    "    dict_alpha = {}\n",
    "    for i in range(1,6):\n",
    "        dict_alpha[f\"alpha: {2*i}\"] = 0\n",
    "    \n",
    "    deterministic_result = pd.DataFrame(dict_alpha, index = [f\"mutation_rate: {2*i}\" for i in range(1,6)])\n",
    "    probablistic_result = pd.DataFrame(dict_alpha, index = [f\"mutation_rate: {2*i}\" for i in range(1,6)])\n",
    "\n",
    "    # alpha = 2,4,6,8,10, 돌연변이 비율은 2,4,6,8,10, 총 300 세대를 생성하면서 반복한다.\n",
    "    for method in method_list:\n",
    "        for alpha in alpha_list:\n",
    "            for chance_of_mutation in chance_of_mutation_list:\n",
    "                pop = generate_population(size=population, min_len=min_len, max_len=max_len)\n",
    "                for g in range(n_generation):\n",
    "                    sucess_generation = n_generation\n",
    "                    pop_sorted, population_dict = revised_compute_performance(population=pop, password=password, alpha=alpha)\n",
    "\n",
    "                    # pop_sorted에서 첫 번째의 점수가 100점이면 비밀번호 찾음.  \n",
    "                    if int(pop_sorted[0][1]) == 100:\n",
    "                        sucess_generation = g\n",
    "                        break\n",
    "                \n",
    "                    survivors = select_survivors(population_sorted_list=pop_sorted, population_dict = population_dict, num_best_sample = best_sample, method= method)\n",
    "\n",
    "                    children = create_children(parents=survivors, n_child=n_child)\n",
    "\n",
    "                    new_generation = mutate_population(population=children, chance_of_mutation=chance_of_mutation)\n",
    "\n",
    "                    pop = new_generation\n",
    "                    \n",
    "                if method == \"deterministic\":\n",
    "                    if sucess_generation == n_generation:\n",
    "                        deterministic_result[f'alpha: {alpha}'][f'mutation_rate: {chance_of_mutation}'] = 'fail'\n",
    "                    else:\n",
    "                        deterministic_result[f'alpha: {alpha}'][f'mutation_rate: {chance_of_mutation}'] = sucess_generation\n",
    "                    \n",
    "                elif method == \"probablistic\":\n",
    "                    if sucess_generation == n_generation:\n",
    "                        probablistic_result[f'alpha: {alpha}'][f'mutation_rate: {chance_of_mutation}'] = 'fail'\n",
    "                    else:\n",
    "                        probablistic_result[f'alpha: {alpha}'][f'mutation_rate: {chance_of_mutation}'] = sucess_generation\n",
    "                    \n",
    "                if sucess_generation == n_generation:\n",
    "                    print(f\"method: {method}, alpha :{alpha}, chance_of_mutation: {chance_of_mutation}은 비밀번호를 10000세대 안에 찾지 못하였습니다.\")\n",
    "                \n",
    "                else:\n",
    "                    print(f\"method: {method}, alpha :{alpha}, chance_of_mutation: {chance_of_mutation}은 비밀번호를 {sucess_generation}세대에서 찾았습니다.\")\n",
    "    "
   ]
  },
  {
   "cell_type": "code",
   "execution_count": 96,
   "metadata": {},
   "outputs": [
    {
     "name": "stdout",
     "output_type": "stream",
     "text": [
      "--------------------deterministic_result--------------------\n",
      "                  alpha: 2 alpha: 4 alpha: 6 alpha: 8 alpha: 10\n",
      "mutation_rate: 2      1928     fail     1942     fail      fail\n",
      "mutation_rate: 4       894     1168     fail     1709      1837\n",
      "mutation_rate: 6      fail      812      631      954      fail\n",
      "mutation_rate: 8       663      392      575     fail       609\n",
      "mutation_rate: 10     fail      457      467      879       580\n",
      "\n",
      "--------------------probablistic_result--------------------\n",
      "                  alpha: 2 alpha: 4 alpha: 6 alpha: 8 alpha: 10\n",
      "mutation_rate: 2      fail     fail     fail     fail      fail\n",
      "mutation_rate: 4      fail     fail     fail     fail      fail\n",
      "mutation_rate: 6      fail     fail     fail     fail      fail\n",
      "mutation_rate: 8      fail     fail     fail     fail      fail\n",
      "mutation_rate: 10     fail     fail     fail     fail      fail\n"
     ]
    }
   ],
   "source": [
    "print(f\"{'-'*20}deterministic_result{'-'*20}\")\n",
    "print(deterministic_result)\n",
    "print(f\"\\n{'-'*20}probablistic_result{'-'*20}\")\n",
    "print(probablistic_result)"
   ]
  },
  {
   "cell_type": "markdown",
   "metadata": {},
   "source": [
    "## 실험결과 분석  \n",
    "본 실험에서는 probablistic method는 잘 작동하지 않는 것을 확인하였습니다.  \n",
    "적합도 계산 방식을 수정하여 실험을 진행하였고, deterministic하게 유전자를 선택하는 경우에는 어느 정도 잘 작동하는 것을 확인하였습니다.  \n",
    "가장 빠른 세대에서 비밀번호를 찾았던 경우는 alpha = 4, mutation_rate = 10 인 경우였습니다.  \n",
    "일반적으로 mutation_rate가 1% 정도인 경우가 잘 작동하는 것으로 알려져 있으나, 본 예제에서는 세대수가 많지 않고 비교적 단순한 작업이었기 때문에 이와 같이 작동한 것으로 예상됩니다.  \n",
    "추가적인 하이퍼파라미터 탐색과 더 쉬운 난이도의 적합도 계산 방식을 통해 더 빠르게 비밀번호를 탐색 할 수 있을 것이라 예상됩니다.\n"
   ]
  }
 ],
 "metadata": {
  "kernelspec": {
   "display_name": "Python 3.7.0 ('base': conda)",
   "language": "python",
   "name": "python3"
  },
  "language_info": {
   "codemirror_mode": {
    "name": "ipython",
    "version": 3
   },
   "file_extension": ".py",
   "mimetype": "text/x-python",
   "name": "python",
   "nbconvert_exporter": "python",
   "pygments_lexer": "ipython3",
   "version": "3.7.0"
  },
  "orig_nbformat": 4,
  "vscode": {
   "interpreter": {
    "hash": "b45ecbb8e80b355e3deef69ddcdcfb2bbb117fcb11cd7d389b99c49babd160c0"
   }
  }
 },
 "nbformat": 4,
 "nbformat_minor": 2
}
